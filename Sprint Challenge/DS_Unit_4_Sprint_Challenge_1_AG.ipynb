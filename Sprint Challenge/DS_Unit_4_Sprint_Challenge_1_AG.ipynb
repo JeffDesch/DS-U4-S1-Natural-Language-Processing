{
 "cells": [
  {
   "cell_type": "markdown",
   "metadata": {
    "deletable": false,
    "editable": false,
    "nbgrader": {
     "cell_type": "markdown",
     "checksum": "b29cb9a438a53a188052be3a3371c6f7",
     "grade": false,
     "grade_id": "cell-e98be1092b48b377",
     "locked": true,
     "schema_version": 3,
     "solution": false,
     "task": false
    }
   },
   "source": [
    "# Sprint Challenge\n",
    "## *Data Science Unit 4 Sprint 1*\n",
    "\n",
    "After a week of Natural Language Processing, you've learned some cool new stuff: how to process text, how turn text into vectors, and how to model topics from documents. Apply your newly acquired skills to one of the most famous NLP datasets out there: [Yelp](https://www.yelp.com/dataset). As part of the job selection process, some of my friends have been asked to create analysis of this dataset, so I want to empower you to have a head start.  \n",
    "\n",
    "The real dataset is massive (almost 8 gigs uncompressed). The data is sampled for you to something more manageable for the Sprint Challenge. You can analyze the full dataset as a stretch goal or after the sprint challenge. As you work on the challenge, add comments and conclusions about your findings and describe anything you want to analyze in the future.\n",
    "\n",
    "## Challenge Objectives\n",
    "Successfully complete all these objectives to earn full credit. \n",
    "\n",
    "**Successful completion is defined as passing all the unit tests in each objective.**  \n",
    "\n",
    "Each unit test that you pass is 1 point. \n",
    "\n",
    "There are 5 total possible points in this sprint challenge. \n",
    "\n",
    "\n",
    "There are more details on each objective further down in the notebook.*\n",
    "* <a href=\"#p1\">Part 1</a>: Write a function to tokenize the yelp reviews\n",
    "* <a href=\"#p2\">Part 2</a>: Create a vector representation of those tokens\n",
    "* <a href=\"#p3\">Part 3</a>: Use your tokens in a classification model on Yelp rating\n",
    "* <a href=\"#p4\">Part 4</a>: Estimate & Interpret a topic model of the Yelp reviews\n",
    "\n",
    "____\n",
    "\n",
    "# Before you submit your notebook you must first\n",
    "\n",
    "1) Restart your notebook's Kernel\n",
    "\n",
    "2) Run all cells sequentially, from top to bottom, so that cell numbers are sequential numbers (i.e. 1,2,3,4,5...)\n",
    "- Easiest way to do this is to click on the **Cell** tab at the top of your notebook and select **Run All** from the drop down menu. \n",
    "\n",
    "3) **Comment out the cell that generates a pyLDAvis visual in objective 4 (see instructions in that section).** \n",
    "____"
   ]
  },
  {
   "cell_type": "markdown",
   "metadata": {
    "deletable": false,
    "editable": false,
    "nbgrader": {
     "cell_type": "markdown",
     "checksum": "a0fb09b9e122fc2f2a2baae91a22a818",
     "grade": false,
     "grade_id": "cell-e6c3d2173420a581",
     "locked": true,
     "schema_version": 3,
     "solution": false,
     "task": false
    }
   },
   "source": [
    "### Part 0: Import Necessary Packages\n",
    "For this section, you will need to import:\n",
    "- `spacy` \n",
    "- `Pandas`\n",
    "- `Seaborn`\n",
    "- `Matplotlib`\n",
    "- `NearestNeighbors`\n",
    "- `Pipeline` \n",
    "- `TfidfVectorizer`\n",
    "- `KneighborsClassifier`\n",
    "- `GridSearchCV`\n",
    "- `corpora`\n",
    "- `LdaModel`\n",
    "- `gensim`\n",
    "- `re`\n",
    "\n",
    "> **Note: This assignment is optimized to work with these specific packages. You can use import different packages, but note that this may affect how CodeGrade works, and may cause CodeGrade to fail.**"
   ]
  },
  {
   "cell_type": "code",
   "execution_count": 128,
   "metadata": {
    "deletable": false,
    "nbgrader": {
     "cell_type": "code",
     "checksum": "8d3d0719eecd5609256125d84cc4218a",
     "grade": false,
     "grade_id": "cell-b29df5c5bfb8c0d8",
     "locked": false,
     "schema_version": 3,
     "solution": true,
     "task": false
    }
   },
   "outputs": [],
   "source": [
    "# Import Block\n",
    "import re\n",
    "import pandas as pd\n",
    "import seaborn as sns\n",
    "import matplotlib.pyplot as plt\n",
    "\n",
    "from sklearn.model_selection import GridSearchCV\n",
    "from sklearn.ensemble import RandomForestClassifier\n",
    "from sklearn.feature_extraction.text import TfidfVectorizer\n",
    "from sklearn.pipeline import Pipeline\n",
    "from sklearn.neighbors import NearestNeighbors, KNeighborsClassifier\n",
    "\n",
    "import gensim\n",
    "import gensim.corpora as corpora\n",
    "import gensim.models.ldamodel as ldamodel\n",
    "\n",
    "#import spacy\n",
    "\n",
    "import warnings\n",
    "warnings.filterwarnings(\"ignore\", category=DeprecationWarning)\n",
    "warnings.filterwarnings(\"ignore\", category=FutureWarning)"
   ]
  },
  {
   "cell_type": "code",
   "execution_count": 129,
   "metadata": {
    "deletable": false,
    "editable": false,
    "nbgrader": {
     "cell_type": "code",
     "checksum": "6b8ad4a1ac317df7b82aced26eee406f",
     "grade": true,
     "grade_id": "cell-be1ef923d085ceb5",
     "locked": true,
     "points": 1,
     "schema_version": 3,
     "solution": false,
     "task": false
    }
   },
   "outputs": [],
   "source": [
    "# Visible Testing\n",
    "assert pd.__package__ == 'pandas'\n"
   ]
  },
  {
   "cell_type": "markdown",
   "metadata": {
    "deletable": false,
    "editable": false,
    "nbgrader": {
     "cell_type": "markdown",
     "checksum": "11b700564f5d76c1ec246d8fece821c1",
     "grade": false,
     "grade_id": "cell-c94bee05bece8c59",
     "locked": true,
     "schema_version": 3,
     "solution": false,
     "task": false
    }
   },
   "source": [
    "\n",
    "\n",
    "### Part 0: Import Data"
   ]
  },
  {
   "cell_type": "code",
   "execution_count": 130,
   "metadata": {
    "deletable": false,
    "nbgrader": {
     "cell_type": "code",
     "checksum": "150e28699f961709cb59be5e0f8ddbe0",
     "grade": false,
     "grade_id": "cell-395851cd95d17235",
     "locked": false,
     "schema_version": 3,
     "solution": true,
     "task": false
    }
   },
   "outputs": [
    {
     "data": {
      "text/html": [
       "<div>\n",
       "<style scoped>\n",
       "    .dataframe tbody tr th:only-of-type {\n",
       "        vertical-align: middle;\n",
       "    }\n",
       "\n",
       "    .dataframe tbody tr th {\n",
       "        vertical-align: top;\n",
       "    }\n",
       "\n",
       "    .dataframe thead th {\n",
       "        text-align: right;\n",
       "    }\n",
       "</style>\n",
       "<table border=\"1\" class=\"dataframe\">\n",
       "  <thead>\n",
       "    <tr style=\"text-align: right;\">\n",
       "      <th></th>\n",
       "      <th>business_id</th>\n",
       "      <th>cool</th>\n",
       "      <th>date</th>\n",
       "      <th>funny</th>\n",
       "      <th>review_id</th>\n",
       "      <th>stars</th>\n",
       "      <th>text</th>\n",
       "      <th>useful</th>\n",
       "      <th>user_id</th>\n",
       "    </tr>\n",
       "  </thead>\n",
       "  <tbody>\n",
       "    <tr>\n",
       "      <th>0</th>\n",
       "      <td>nDuEqIyRc8YKS1q1fX0CZg</td>\n",
       "      <td>1</td>\n",
       "      <td>2015-03-31 16:50:30</td>\n",
       "      <td>0</td>\n",
       "      <td>eZs2tpEJtXPwawvHnHZIgQ</td>\n",
       "      <td>1</td>\n",
       "      <td>BEWARE!!! FAKE, FAKE, FAKE....We also own a sm...</td>\n",
       "      <td>10</td>\n",
       "      <td>n1LM36qNg4rqGXIcvVXv8w</td>\n",
       "    </tr>\n",
       "    <tr>\n",
       "      <th>1</th>\n",
       "      <td>eMYeEapscbKNqUDCx705hg</td>\n",
       "      <td>0</td>\n",
       "      <td>2015-12-16 05:31:03</td>\n",
       "      <td>0</td>\n",
       "      <td>DoQDWJsNbU0KL1O29l_Xug</td>\n",
       "      <td>4</td>\n",
       "      <td>Came here for lunch Togo. Service was quick. S...</td>\n",
       "      <td>0</td>\n",
       "      <td>5CgjjDAic2-FAvCtiHpytA</td>\n",
       "    </tr>\n",
       "    <tr>\n",
       "      <th>2</th>\n",
       "      <td>6Q7-wkCPc1KF75jZLOTcMw</td>\n",
       "      <td>1</td>\n",
       "      <td>2010-06-20 19:14:48</td>\n",
       "      <td>1</td>\n",
       "      <td>DDOdGU7zh56yQHmUnL1idQ</td>\n",
       "      <td>3</td>\n",
       "      <td>I've been to Vegas dozens of times and had nev...</td>\n",
       "      <td>2</td>\n",
       "      <td>BdV-cf3LScmb8kZ7iiBcMA</td>\n",
       "    </tr>\n",
       "    <tr>\n",
       "      <th>3</th>\n",
       "      <td>k3zrItO4l9hwfLRwHBDc9w</td>\n",
       "      <td>3</td>\n",
       "      <td>2010-07-13 00:33:45</td>\n",
       "      <td>4</td>\n",
       "      <td>LfTMUWnfGFMOfOIyJcwLVA</td>\n",
       "      <td>1</td>\n",
       "      <td>We went here on a night where they closed off ...</td>\n",
       "      <td>5</td>\n",
       "      <td>cZZnBqh4gAEy4CdNvJailQ</td>\n",
       "    </tr>\n",
       "    <tr>\n",
       "      <th>4</th>\n",
       "      <td>6hpfRwGlOzbNv7k5eP9rsQ</td>\n",
       "      <td>1</td>\n",
       "      <td>2018-06-30 02:30:01</td>\n",
       "      <td>0</td>\n",
       "      <td>zJSUdI7bJ8PNJAg4lnl_Gg</td>\n",
       "      <td>4</td>\n",
       "      <td>3.5 to 4 stars\\n\\nNot bad for the price, $12.9...</td>\n",
       "      <td>5</td>\n",
       "      <td>n9QO4ClYAS7h9fpQwa5bhA</td>\n",
       "    </tr>\n",
       "  </tbody>\n",
       "</table>\n",
       "</div>"
      ],
      "text/plain": [
       "              business_id  cool                date  funny  \\\n",
       "0  nDuEqIyRc8YKS1q1fX0CZg     1 2015-03-31 16:50:30      0   \n",
       "1  eMYeEapscbKNqUDCx705hg     0 2015-12-16 05:31:03      0   \n",
       "2  6Q7-wkCPc1KF75jZLOTcMw     1 2010-06-20 19:14:48      1   \n",
       "3  k3zrItO4l9hwfLRwHBDc9w     3 2010-07-13 00:33:45      4   \n",
       "4  6hpfRwGlOzbNv7k5eP9rsQ     1 2018-06-30 02:30:01      0   \n",
       "\n",
       "                review_id  stars  \\\n",
       "0  eZs2tpEJtXPwawvHnHZIgQ      1   \n",
       "1  DoQDWJsNbU0KL1O29l_Xug      4   \n",
       "2  DDOdGU7zh56yQHmUnL1idQ      3   \n",
       "3  LfTMUWnfGFMOfOIyJcwLVA      1   \n",
       "4  zJSUdI7bJ8PNJAg4lnl_Gg      4   \n",
       "\n",
       "                                                text  useful  \\\n",
       "0  BEWARE!!! FAKE, FAKE, FAKE....We also own a sm...      10   \n",
       "1  Came here for lunch Togo. Service was quick. S...       0   \n",
       "2  I've been to Vegas dozens of times and had nev...       2   \n",
       "3  We went here on a night where they closed off ...       5   \n",
       "4  3.5 to 4 stars\\n\\nNot bad for the price, $12.9...       5   \n",
       "\n",
       "                  user_id  \n",
       "0  n1LM36qNg4rqGXIcvVXv8w  \n",
       "1  5CgjjDAic2-FAvCtiHpytA  \n",
       "2  BdV-cf3LScmb8kZ7iiBcMA  \n",
       "3  cZZnBqh4gAEy4CdNvJailQ  \n",
       "4  n9QO4ClYAS7h9fpQwa5bhA  "
      ]
     },
     "execution_count": 130,
     "metadata": {},
     "output_type": "execute_result"
    }
   ],
   "source": [
    "\n",
    "\n",
    "# Load reviews from URL\n",
    "data_url = 'https://raw.githubusercontent.com/bloominstituteoftechnology/data-science-practice-datasets/main/unit_4/unit1_nlp/review_sample.json'\n",
    "\n",
    "# Import data into a DataFrame named df\n",
    "df = pd.read_json(data_url, lines=True) #lines param fixes trailing data error\n",
    "\n",
    "df.head()"
   ]
  },
  {
   "cell_type": "code",
   "execution_count": 131,
   "metadata": {
    "deletable": false,
    "editable": false,
    "nbgrader": {
     "cell_type": "code",
     "checksum": "356579363f311da83f4ef7abaf3c9212",
     "grade": true,
     "grade_id": "cell-cb5006475e42b8f9",
     "locked": true,
     "points": 1,
     "schema_version": 3,
     "solution": false,
     "task": false
    }
   },
   "outputs": [],
   "source": [
    "# Visible Testing\n",
    "assert isinstance(df, pd.DataFrame), 'df is not a DataFrame. Did you import the data into df?'\n",
    "assert df.shape[0] == 10000, 'DataFrame df has the wrong number of rows.'"
   ]
  },
  {
   "cell_type": "markdown",
   "metadata": {
    "deletable": false,
    "editable": false,
    "nbgrader": {
     "cell_type": "markdown",
     "checksum": "aedd47e33e28a74846b51e236deef316",
     "grade": false,
     "grade_id": "cell-27dc6b438d2f2722",
     "locked": true,
     "schema_version": 3,
     "solution": false,
     "task": false
    }
   },
   "source": [
    "## Part 1: Tokenize Function\n",
    "<a id=\"#p1\"></a>\n",
    "\n",
    "Complete the function `tokenize`. Your function should\n",
    "- Accept one document at a time\n",
    "- Return a list of tokens\n",
    "\n",
    "You are free to use any method you have learned this week."
   ]
  },
  {
   "cell_type": "code",
   "execution_count": 132,
   "metadata": {},
   "outputs": [],
   "source": [
    "# Optional: Consider using spaCy in your function. The spaCy library can be imported by running this cell.\n",
    "# A pre-trained model (en_core_web_sm) has been made available to you in the CodeGrade container.\n",
    "# If you DON'T need use the en_core_web_sm model, you can comment it out below.\n",
    "\n",
    "#nlp = spacy.load('en_core_web_sm')"
   ]
  },
  {
   "cell_type": "code",
   "execution_count": 133,
   "metadata": {
    "deletable": false,
    "nbgrader": {
     "cell_type": "code",
     "checksum": "4837ed2a1cc13057ba40203859d46ff6",
     "grade": false,
     "grade_id": "cell-3d570d5a1cd6cb64",
     "locked": false,
     "schema_version": 3,
     "solution": true,
     "task": false
    }
   },
   "outputs": [],
   "source": [
    "# # Accurate version - slow!\n",
    "# def tokenize(doc):\n",
    "#     \"\"\"cleans data via regex and sends to spacy nlp to tokenize\"\"\"\n",
    "\n",
    "#     # replace newlines\n",
    "#     doc = doc.replace(\"\\\\n\", ' ')\n",
    "#     # remove non-alphanumeric\n",
    "#     doc = re.sub(\"[^a-zA-Z0-9]\", \" \", doc) \n",
    "#     # remove multiple white spaces\n",
    "#     doc = re.sub(\"[ ]{2,}\", \" \", doc)\n",
    "#     # case normalize and strip extra white spaces\n",
    "#     doc = doc.strip().lower()\n",
    "\n",
    "#     # spacy processing\n",
    "#     s_tokens = nlp(doc)\n",
    "#     return [t.lemma_ for t in s_tokens if (~t.is_stop) & (len(t.lemma_) > 1)]"
   ]
  },
  {
   "cell_type": "code",
   "execution_count": 134,
   "metadata": {},
   "outputs": [],
   "source": [
    "# Messy version - faster\n",
    "\n",
    "# sets are slightly faster and take care of accidental duplicates from manually copying output\n",
    "StopWordsSimple = set(['the', 'i', 'to', 'and', 'a', 'was', 'in', 'of','it', 'is', 'we', 'for',\n",
    "                        'with', 'my', 's', 't', 'he', 'that', 'but', 'had', 'you', 'on', 'us',\n",
    "                        'this', 'were', 'our', 'there', 'place', 'are', 'have', 'they', 'be', 'so',\n",
    "                        'me', 'at', 'if', 'from', 'can', 'not', 'get', 'like', 'all', 'she', 'or',\n",
    "                        'very', 'them', 'would', 'an', 'about', 'get', 'their', 'your', 'just', 'has',\n",
    "                        'here', 'really', 'as', 'do', 'one', 'time', 'no', 'also', 'could', 'been'])\n",
    "\n",
    "def tokenize(doc):\n",
    "    \"\"\"cleans data via regex and attempts to remove stopwords as it tokenizes\"\"\"\n",
    "    # replace newlines\n",
    "    doc = doc.replace(\"\\\\n\", ' ')\n",
    "    # remove non-alphanumeric\n",
    "    doc = re.sub(\"[^a-zA-Z0-9]\", \" \", doc)\n",
    "    # remove number values\n",
    "    doc = re.sub(\"[0-9]\", \"\", doc)\n",
    "    # remove multiple white spaces\n",
    "    doc = re.sub(\"[ ]{2,}\", \" \", doc)\n",
    "    # case normalize and strip extra white spaces\n",
    "    doc = doc.strip().lower()\n",
    "\n",
    "    return [word for word in doc.split() if (word not in StopWordsSimple) & (len(word) > 2)]"
   ]
  },
  {
   "cell_type": "code",
   "execution_count": 135,
   "metadata": {
    "deletable": false,
    "editable": false,
    "nbgrader": {
     "cell_type": "code",
     "checksum": "2181ca9d36070260b1f75dcfd9e58965",
     "grade": true,
     "grade_id": "cell-02da164f6fbe730a",
     "locked": true,
     "points": 1,
     "schema_version": 3,
     "solution": false,
     "task": false
    }
   },
   "outputs": [],
   "source": [
    "'''Testing'''\n",
    "assert isinstance(tokenize(df.sample(n=1)[\"text\"].iloc[0]), list), \"Make sure your tokenizer function accepts a single document and returns a list of tokens!\""
   ]
  },
  {
   "cell_type": "markdown",
   "metadata": {
    "deletable": false,
    "editable": false,
    "nbgrader": {
     "cell_type": "markdown",
     "checksum": "d4137c3ea2fa84821d1dbf1b28dde6dd",
     "grade": false,
     "grade_id": "cell-ef13337bc7694c52",
     "locked": true,
     "schema_version": 3,
     "solution": false,
     "task": false
    }
   },
   "source": [
    "## Part 2: Vector Representation\n",
    "<a id=\"#p2\"></a>\n",
    "1. Create a vector representation of the reviews (i.e. create a doc-term matrix).\n",
    "    * Name that doc-term matrix `dtm`"
   ]
  },
  {
   "cell_type": "code",
   "execution_count": 136,
   "metadata": {
    "deletable": false,
    "nbgrader": {
     "cell_type": "code",
     "checksum": "fefca7db0abb1474d316d6aa24e032f8",
     "grade": false,
     "grade_id": "cell-0e96491cb529202c",
     "locked": false,
     "schema_version": 3,
     "solution": true,
     "task": false
    }
   },
   "outputs": [
    {
     "name": "stderr",
     "output_type": "stream",
     "text": [
      "C:\\Users\\Jeff\\AppData\\Roaming\\Python\\Python37\\site-packages\\sklearn\\feature_extraction\\text.py:507: UserWarning: The parameter 'token_pattern' will not be used since 'tokenizer' is not None'\n",
      "  warnings.warn(\"The parameter 'token_pattern' will not be used\"\n"
     ]
    },
    {
     "name": "stdout",
     "output_type": "stream",
     "text": [
      "Wall time: 3.33 s\n"
     ]
    }
   ],
   "source": [
    "%%time\n",
    "\n",
    "tvect = TfidfVectorizer(strip_accents='unicode', tokenizer=tokenize, \n",
    "                            stop_words='english', max_features=100)\n",
    "tvect.fit(df['text'])\n",
    "dtm = tvect.transform(df['text'])"
   ]
  },
  {
   "cell_type": "markdown",
   "metadata": {
    "deletable": false,
    "editable": false,
    "nbgrader": {
     "cell_type": "markdown",
     "checksum": "86048b7ea6cb011227aefa5a8f7a9e65",
     "grade": false,
     "grade_id": "cell-33c058ea193687c3",
     "locked": true,
     "schema_version": 3,
     "solution": false,
     "task": false
    }
   },
   "source": [
    "\n",
    "2. Write a fake review. Assign the text of the review to an object called `fake_review`. \n",
    "3. Query the fake review for the 10 most similar reviews, print the text of the reviews. \n",
    "    - Given the size of the dataset, use `NearestNeighbors` model for this. Name the model `nn`."
   ]
  },
  {
   "cell_type": "code",
   "execution_count": 137,
   "metadata": {
    "deletable": false,
    "nbgrader": {
     "cell_type": "code",
     "checksum": "f6aa466983420c836879d744ffa6c9a8",
     "grade": false,
     "grade_id": "cell-3d5bc610a8ec6b24",
     "locked": false,
     "schema_version": 3,
     "solution": true,
     "task": false
    }
   },
   "outputs": [
    {
     "data": {
      "text/plain": [
       "NearestNeighbors(algorithm='auto', leaf_size=30, metric='minkowski',\n",
       "                 metric_params=None, n_jobs=None, n_neighbors=10, p=2,\n",
       "                 radius=1.0)"
      ]
     },
     "execution_count": 137,
     "metadata": {},
     "output_type": "execute_result"
    }
   ],
   "source": [
    "# Create and fit a NearestNeighbors model named \"nn\"\n",
    "\n",
    "nn = NearestNeighbors(n_neighbors=10, algorithm='auto')\n",
    "nn.fit(dtm)"
   ]
  },
  {
   "cell_type": "code",
   "execution_count": 138,
   "metadata": {
    "deletable": false,
    "editable": false,
    "nbgrader": {
     "cell_type": "code",
     "checksum": "d270ed23df3c7d3c6cf08ab174ccaf9e",
     "grade": true,
     "grade_id": "cell-c43704dcff67e99b",
     "locked": true,
     "points": 1,
     "schema_version": 3,
     "solution": false,
     "task": false
    }
   },
   "outputs": [],
   "source": [
    "'''Testing.'''\n",
    "assert nn.__module__ == 'sklearn.neighbors._unsupervised', ' nn is not a NearestNeighbors instance.'\n",
    "assert nn.n_neighbors == 10, 'nn has the wrong value for n_neighbors'"
   ]
  },
  {
   "cell_type": "code",
   "execution_count": 139,
   "metadata": {
    "deletable": false,
    "nbgrader": {
     "cell_type": "code",
     "checksum": "3da2ced9f187ed0aa1a890785e2ba00e",
     "grade": false,
     "grade_id": "cell-496203e8746296ca",
     "locked": false,
     "schema_version": 3,
     "solution": true,
     "task": false
    }
   },
   "outputs": [
    {
     "name": "stdout",
     "output_type": "stream",
     "text": [
      "6781    First time here Ashley was my sever. She was p...\n",
      "4663    Spendy for breakfast but still good food.  Mus...\n",
      "5207    Food is good. Pretty similar to the Texas Rudy...\n",
      "5154    The food was pretty good, not like OMG this is...\n",
      "9853    I went to this buffet for lunch, there was a l...\n",
      "744     Pretty damn good. I had the Fettuccine Carbona...\n",
      "8097    Pretty pricy food but last time I was here it ...\n",
      "8960    Consistently good restaurant from a perspectiv...\n",
      "7855    Service was quick and friendly (we could have ...\n",
      "2137    The XLB are pretty good. \\n\\nApart from that, ...\n",
      "Name: text, dtype: object\n"
     ]
    }
   ],
   "source": [
    "# Create a fake review and find the 10 most similar reviews\n",
    "\n",
    "# based on a real review, let's see if it is in the sample!\n",
    "fake_review = \"I ate there about 3 hours ago. Npw I have diarrhea. As far as Chinese buffets go, this one is pretty good\"\n",
    "fake_review_vector = tvect.transform([fake_review])\n",
    "\n",
    "nn_distance, nn_index = nn.kneighbors(fake_review_vector, n_neighbors=10)\n",
    "\n",
    "# display resulting reviews\n",
    "for review_index in nn_index:\n",
    "    print(df['text'][review_index])"
   ]
  },
  {
   "cell_type": "code",
   "execution_count": 140,
   "metadata": {
    "deletable": false,
    "editable": false,
    "nbgrader": {
     "cell_type": "code",
     "checksum": "33e150190aa62764e07f1f6c66bb9393",
     "grade": true,
     "grade_id": "cell-203092260fb65165",
     "locked": true,
     "points": 1,
     "schema_version": 3,
     "solution": false,
     "task": false
    }
   },
   "outputs": [],
   "source": [
    "# Visible Testing\n",
    "assert isinstance(fake_review, str), \"Did you write a review in the correct data type?\""
   ]
  },
  {
   "cell_type": "markdown",
   "metadata": {},
   "source": [
    "## Part 3: Classification\n",
    "<a id=\"#p3\"></a>\n",
    "Your goal in this section will be to predict `stars` from the review dataset. \n",
    "\n",
    "1. Create a pipeline object with a sklearn `CountVectorizer` or `TfidfVector` and any sklearn classifier.\n",
    "    - Use that pipeline to train a model to predict the `stars` feature (i.e. the labels). \n",
    "    - Use that pipeline to predict a star rating for your fake review from Part 2. \n",
    "\n",
    "\n",
    "\n",
    "2. Create a parameter dict including `one parameter for the vectorizer` and `one parameter for the model`. \n",
    "    - Include 2 possible values for each parameter\n",
    "    - **Use `n_jobs` = 1** \n",
    "    - Due to limited computational resources on CodeGrader `DO NOT INCLUDE ADDITIONAL PARAMETERS OR VALUES PLEASE.`\n",
    "    \n",
    "    \n",
    "3. Train the entire pipeline with a GridSearch\n",
    "    - Name your GridSearch object as `gs`"
   ]
  },
  {
   "cell_type": "code",
   "execution_count": 141,
   "metadata": {
    "deletable": false,
    "jupyter": {
     "outputs_hidden": true
    },
    "nbgrader": {
     "cell_type": "code",
     "checksum": "b3492e82185541e6a463f46b16baff94",
     "grade": false,
     "grade_id": "cell-e2beb0252d274bba",
     "locked": false,
     "schema_version": 3,
     "solution": true,
     "task": false
    }
   },
   "outputs": [
    {
     "data": {
      "text/plain": [
       "GridSearchCV(cv=3, error_score=nan,\n",
       "             estimator=Pipeline(memory=None,\n",
       "                                steps=[('vect',\n",
       "                                        TfidfVectorizer(analyzer='word',\n",
       "                                                        binary=False,\n",
       "                                                        decode_error='strict',\n",
       "                                                        dtype=<class 'numpy.float64'>,\n",
       "                                                        encoding='utf-8',\n",
       "                                                        input='content',\n",
       "                                                        lowercase=True,\n",
       "                                                        max_df=1.0,\n",
       "                                                        max_features=100,\n",
       "                                                        min_df=1,\n",
       "                                                        ngram_range=(1, 1),\n",
       "                                                        norm='l2',\n",
       "                                                        preprocessor=None,\n",
       "                                                        smooth_idf=True,\n",
       "                                                        stop_words='english',\n",
       "                                                        strip_...\n",
       "                                                               min_impurity_split=None,\n",
       "                                                               min_samples_leaf=1,\n",
       "                                                               min_samples_split=2,\n",
       "                                                               min_weight_fraction_leaf=0.0,\n",
       "                                                               n_estimators=100,\n",
       "                                                               n_jobs=None,\n",
       "                                                               oob_score=False,\n",
       "                                                               random_state=42,\n",
       "                                                               verbose=0,\n",
       "                                                               warm_start=False))],\n",
       "                                verbose=False),\n",
       "             iid='deprecated', n_jobs=1,\n",
       "             param_grid={'clf__max_depth': (20, 25),\n",
       "                         'vect__max_df': (0.4, 0.6)},\n",
       "             pre_dispatch='2*n_jobs', refit=True, return_train_score=False,\n",
       "             scoring=None, verbose=0)"
      ]
     },
     "execution_count": 141,
     "metadata": {},
     "output_type": "execute_result"
    }
   ],
   "source": [
    "# pipeline setup\n",
    "tvect_pipe = TfidfVectorizer(strip_accents='unicode', tokenizer=tokenize, \n",
    "                                stop_words='english', max_features=100)\n",
    "rfc = RandomForestClassifier(random_state=42)\n",
    "pipe = Pipeline([(\"vect\", tvect_pipe), (\"clf\", rfc)])\n",
    "\n",
    "# gridsearch setup\n",
    "params = {\n",
    "            \"vect__max_df\": (0.4, 0.6),\n",
    "            \"clf__max_depth\": (20, 25)\n",
    "}\n",
    "gs = GridSearchCV(pipe, param_grid=params, n_jobs=1, cv=3)\n",
    "gs.fit(df['text'], df['stars'])"
   ]
  },
  {
   "cell_type": "code",
   "execution_count": 142,
   "metadata": {},
   "outputs": [
    {
     "name": "stdout",
     "output_type": "stream",
     "text": [
      "It's a 4-Star review!\n"
     ]
    }
   ],
   "source": [
    "# predict star rating of fake review\n",
    "# for reference, the one it was based on was three stars\n",
    "fake_rating = gs.predict([fake_review])[0]\n",
    "print(f\"It's a {fake_rating}-Star review!\")"
   ]
  },
  {
   "cell_type": "code",
   "execution_count": 143,
   "metadata": {
    "deletable": false,
    "editable": false,
    "nbgrader": {
     "cell_type": "code",
     "checksum": "ada8e7da1ec21f54451752e97b8cec3e",
     "grade": true,
     "grade_id": "cell-d07134c6fe5d056e",
     "locked": true,
     "points": 1,
     "schema_version": 3,
     "solution": false,
     "task": false
    }
   },
   "outputs": [],
   "source": [
    "# Visible Testing\n",
    "prediction = gs.predict([\"This is your prediction statement.\"])[0]\n",
    "assert prediction in df.stars.values, 'You gs object should be able to accept raw text within a list. Did you include a vectorizer in your pipeline?'"
   ]
  },
  {
   "cell_type": "markdown",
   "metadata": {
    "deletable": false,
    "editable": false,
    "nbgrader": {
     "cell_type": "markdown",
     "checksum": "2990aa9aa4e9c3cf665cee4392cdab92",
     "grade": false,
     "grade_id": "cell-00b8cbd0b1b4ece5",
     "locked": true,
     "schema_version": 3,
     "solution": false,
     "task": false
    }
   },
   "source": [
    "## Part 4: Topic Modeling\n",
    "\n",
    "Let's find out what those yelp reviews are saying! :D\n",
    "\n",
    "1. Estimate a LDA topic model of the review text\n",
    "    - Set num_topics to `5`\n",
    "    - Name your LDA model `lda`\n",
    "2. Create 1-2 visualizations of the results\n",
    "    - You can use the most important 3 words of a topic in relevant visualizations. \n",
    "3. In markdown, write 1-2 paragraphs of analysis on the results of your topic model\n",
    "\n",
    "When you instantiate your LDA model, it should look like this: \n",
    "\n",
    "```python\n",
    "lda = LdaModel(corpus=corpus,\n",
    "               id2word=id2word,\n",
    "               random_state=723812,\n",
    "               num_topics = num_topics,\n",
    "               passes=1\n",
    "              )\n",
    "\n",
    "```\n",
    "\n",
    "__*Note*__: You can pass the DataFrame column of text reviews to gensim. You do not have to use a generator."
   ]
  },
  {
   "cell_type": "markdown",
   "metadata": {
    "deletable": false,
    "editable": false,
    "nbgrader": {
     "cell_type": "markdown",
     "checksum": "9b07079124654b07cce6d10dae1912b6",
     "grade": false,
     "grade_id": "cell-9eee6fe0eeebb9a3",
     "locked": true,
     "schema_version": 3,
     "solution": false,
     "task": false
    }
   },
   "source": [
    "## Note about  pyLDAvis\n",
    "\n",
    "**pyLDAvis** is the Topic modeling package that we used in class to visualize the topics that LDA generates for us.\n",
    "\n",
    "You are welcomed to use pyLDAvis if you'd like for your visualization. However, **you MUST comment out the code that imports the package and the cell that generates the visualization before you submit your notebook to CodeGrade.** \n",
    "\n",
    "Although you should leave the print out of the visualization for graders to see (i.e. comment out the cell after you run it to create the viz). "
   ]
  },
  {
   "cell_type": "markdown",
   "metadata": {
    "deletable": false,
    "editable": false,
    "nbgrader": {
     "cell_type": "markdown",
     "checksum": "58830f560044227aa07c22d463e1596c",
     "grade": false,
     "grade_id": "cell-ec7b71ad284832d4",
     "locked": true,
     "schema_version": 3,
     "solution": false,
     "task": false
    }
   },
   "source": [
    "### 1. Estimate a LDA topic model of the review text\n",
    "\n",
    "* Use the `tokenize` function you created earlier to create tokens.\n",
    "* Create an `id2word` object. \n",
    "> Hint: Use `corpora.Dictionary`\n",
    "* Create a `corpus` object.\n",
    "> Hint: Use `id2word.doc2bow`\n",
    "* Instantiate an `lda` model. \n",
    "\n",
    ">> Remember to read the LDA docs for more information on the various class attributes and methods available to you in the LDA model: https://radimrehurek.com/gensim/models/ldamodel.html"
   ]
  },
  {
   "cell_type": "code",
   "execution_count": 144,
   "metadata": {
    "deletable": false,
    "editable": false,
    "nbgrader": {
     "cell_type": "code",
     "checksum": "bef17fce3f84cc31020898134cfdaec1",
     "grade": false,
     "grade_id": "cell-b4df1a20c7947a8b",
     "locked": true,
     "schema_version": 3,
     "solution": false,
     "task": false
    }
   },
   "outputs": [],
   "source": [
    "# Do not change this value \n",
    "num_topics = 5"
   ]
  },
  {
   "cell_type": "code",
   "execution_count": 145,
   "metadata": {
    "deletable": false,
    "nbgrader": {
     "cell_type": "code",
     "checksum": "fb50f495592df233d97bd4199b958404",
     "grade": false,
     "grade_id": "cell-66331a185ff52f15",
     "locked": false,
     "schema_version": 3,
     "solution": true,
     "task": false
    }
   },
   "outputs": [],
   "source": [
    "# create term mapping\n",
    "df['tokens'] = df['text'].apply(tokenize)\n",
    "id2word = corpora.Dictionary(df['tokens'])"
   ]
  },
  {
   "cell_type": "code",
   "execution_count": 146,
   "metadata": {},
   "outputs": [],
   "source": [
    "# create corpus via doc2bow\n",
    "corpus  = [id2word.doc2bow(tokens) for tokens in df['tokens']]"
   ]
  },
  {
   "cell_type": "code",
   "execution_count": 147,
   "metadata": {},
   "outputs": [],
   "source": [
    "# instantiate lda model\n",
    "lda = ldamodel.LdaModel(corpus=corpus,\n",
    "               id2word=id2word,\n",
    "               random_state=723812,\n",
    "               num_topics = num_topics,\n",
    "               passes=1\n",
    "              )"
   ]
  },
  {
   "cell_type": "markdown",
   "metadata": {},
   "source": [
    "#### Testing"
   ]
  },
  {
   "cell_type": "code",
   "execution_count": 148,
   "metadata": {
    "deletable": false,
    "editable": false,
    "nbgrader": {
     "cell_type": "code",
     "checksum": "073be746ce974f75f29c2c92f35af430",
     "grade": true,
     "grade_id": "cell-5a3c181311134fa9",
     "locked": true,
     "points": 1,
     "schema_version": 3,
     "solution": false,
     "task": false
    }
   },
   "outputs": [],
   "source": [
    "# Visible Testing\n",
    "\n",
    "assert lda.get_topics().shape[0] == 5, 'Did your model complete its training? Did you set num_topics to 5?'"
   ]
  },
  {
   "cell_type": "markdown",
   "metadata": {},
   "source": [
    "\n",
    "#### 2. Create 1-2 visualizations of the results. Assign one of the visualizations to a variable called `visual_plot`.\n"
   ]
  },
  {
   "cell_type": "code",
   "execution_count": 149,
   "metadata": {
    "deletable": false,
    "nbgrader": {
     "cell_type": "code",
     "checksum": "2cb1397c6a59aa5751d77bad34994f29",
     "grade": false,
     "grade_id": "cell-9b043e992fbd218c",
     "locked": false,
     "schema_version": 3,
     "solution": true,
     "task": false
    }
   },
   "outputs": [
    {
     "data": {
      "image/png": "[encoded data removed]",
      "text/plain": [
       "<Figure size 1080x360 with 2 Axes>"
      ]
     },
     "metadata": {
      "needs_background": "light"
     },
     "output_type": "display_data"
    }
   ],
   "source": [
    "\n",
    "# Use a ploting tool of your choice to visualize your results. \n",
    "\n",
    "# 1. Generate seaborn heatmap of each terms's inferred relevance to topics\n",
    "# unpack lda model for term-topic matrix, slice top n terms\n",
    "tt_mtrx = lda.get_topics()\n",
    "n = 20\n",
    "tt_topn = [tt_mtrx[i][:n] for i in range(0,5)]\n",
    "\n",
    "# convert term ids back to human-readable words\n",
    "term_labels = []\n",
    "for i in range(0, n):\n",
    "    term_labels.append(id2word.get(i))\n",
    "\n",
    "plt.figure(figsize=(15, 5))\n",
    "visual_plot = sns.heatmap(tt_topn, xticklabels=term_labels, robust=True)\n",
    "visual_plot.set_title(f\"Term-Topic Correlation Probabilities for First {n} Terms\")\n",
    "visual_plot.set_xlabel(f\"First {n} Terms\")\n",
    "visual_plot.set_ylabel(\"Inferred Topic\")\n",
    "plt.show()"
   ]
  },
  {
   "cell_type": "markdown",
   "metadata": {},
   "source": [
    "From this basic heatmap of the first several terms we can see some of the workings of the LDA model in action:\n",
    "- Each horizontal band represents one of the 5 topics we had the model assign term probabilities to; brighter sections indicate higher probability of that term associating with that topic.\n",
    "- Dark vertical bands indicate terms not strongly associated with any topic, possibly due to being too infrequent or associated with a distant topic not considered in our range.\n",
    "- Bright vertical bands show the opposite, words with strong association with all topics under considereation, due to frequency or interrelatedness of the topics.\n",
    "- Most interesting are the terms with only one or two topic highlights; these are the keywords like \"restaurant\" that can strongly indicate whether a document is associated with a given topic."
   ]
  },
  {
   "cell_type": "code",
   "execution_count": 150,
   "metadata": {},
   "outputs": [
    {
     "name": "stdout",
     "output_type": "stream",
     "text": [
      "['back', 'service', 'when', 'food', 'her', 'great', 'did', 'out', 'will', 'good']\n",
      "['out', 'when', 'what', 'will', 'back', 'because', 'service', 'said', 'after', 'even']\n",
      "['great', 'service', 'food', 'staff', 'good', 'room', 'back', 'out', 'best', 'will']\n",
      "['good', 'food', 'great', 'out', 'what', 'some', 'best', 'service', 'pizza', 'other']\n",
      "['food', 'good', 'great', 'service', 'chicken', 'delicious', 'which', 'ordered', 'menu', 'well']\n"
     ]
    }
   ],
   "source": [
    "# Bonus: show top words for each topic inferred\n",
    "for x in range(0, num_topics):\n",
    "    topterms = lda.get_topic_terms(x, topn=10)\n",
    "    pterms = []\n",
    "    for y in range(0, 10):\n",
    "        pterms.append(id2word.get(topterms[y][0]))\n",
    "    print(pterms)"
   ]
  },
  {
   "cell_type": "markdown",
   "metadata": {},
   "source": [
    "This term list is't especially useful without good stop word removal and lemmatization, but even still we can see some vague trends in some of the lists:\n",
    "- The term 'hair' appears uniquely in the third list, indicating that topic might be grouping together the Yelp reviews for services such as salons.\n",
    "- 'chicken' and 'sauce' appear in the fourth list, 'service' appears in the fifth, while 'food' appears in both, indicating the model may be distinguishing fast-food takeout (list 4) from sit-down restaurants (list 5)"
   ]
  },
  {
   "cell_type": "code",
   "execution_count": 153,
   "metadata": {},
   "outputs": [
    {
     "data": {
      "text/html": [
       "\n",
       "<link rel=\"stylesheet\" type=\"text/css\" href=\"https://cdn.rawgit.com/bmabey/pyLDAvis/files/ldavis.v1.0.0.css\">\n",
       "\n",
       "\n",
       "<div id=\"ldavis_el38048986620888232726058\"></div>\n",
       "<script type=\"text/javascript\">\n",
       "\n",
       "var ldavis_el38048986620888232726058_data = {\"mdsDat\": {\"x\": [-0.10440105413803479, 0.06998425978501686, 0.032739455592452484, -0.04282360728427474, 0.044500946044840214], \"y\": [-0.0017220543398660207, 0.030320922902620184, -0.07420242829402607, 0.02177882401075979, 0.023824735720512125], \"topics\": [1, 2, 3, 4, 5], \"cluster\": [1, 1, 1, 1, 1], \"Freq\": [31.377033101192627, 27.5804359493447, 14.658167167093062, 13.787866482566324, 12.596497299803291]}, \"tinfo\": {\"Term\": [\"great\", \"food\", \"good\", \"her\", \"pizza\", \"chicken\", \"room\", \"delicious\", \"sushi\", \"best\", \"nice\", \"staff\", \"did\", \"ordered\", \"back\", \"car\", \"what\", \"service\", \"cheese\", \"hair\", \"when\", \"job\", \"experience\", \"restaurant\", \"him\", \"sauce\", \"hotel\", \"out\", \"lunch\", \"done\", \"yuk\", \"jalape\", \"tamale\", \"izakaya\", \"alex\", \"slider\", \"pricier\", \"uptown\", \"promotion\", \"noir\", \"thai\", \"cajun\", \"bisque\", \"skewer\", \"reuben\", \"muffin\", \"bitterness\", \"gordon\", \"jambalaya\", \"scrumptious\", \"tilapia\", \"anxious\", \"flair\", \"asado\", \"butternut\", \"pinot\", \"veal\", \"crema\", \"baba\", \"smash\", \"filet\", \"carnitas\", \"blended\", \"potatoes\", \"burger\", \"curry\", \"enchiladas\", \"delicious\", \"fries\", \"peppers\", \"smoked\", \"chicken\", \"tender\", \"lobster\", \"cheese\", \"fried\", \"steak\", \"sauce\", \"margarita\", \"pad\", \"delish\", \"fresh\", \"sides\", \"mac\", \"homemade\", \"flavor\", \"meat\", \"bread\", \"pasta\", \"grilled\", \"menu\", \"perfectly\", \"cooked\", \"butter\", \"tasty\", \"bbq\", \"beef\", \"meal\", \"food\", \"ordered\", \"pork\", \"dinner\", \"good\", \"restaurant\", \"try\", \"little\", \"salad\", \"favorite\", \"taste\", \"which\", \"great\", \"well\", \"definitely\", \"service\", \"too\", \"amazing\", \"nice\", \"more\", \"love\", \"out\", \"back\", \"some\", \"only\", \"will\", \"best\", \"when\", \"got\", \"iphone\", \"freezer\", \"cox\", \"dunkin\", \"unorganized\", \"ikea\", \"frustration\", \"scorpions\", \"couldnt\", \"brakes\", \"replacing\", \"tint\", \"reschedule\", \"secure\", \"btw\", \"plumbers\", \"corned\", \"cola\", \"coca\", \"gumbo\", \"float\", \"friendlier\", \"removal\", \"roots\", \"horribly\", \"rugs\", \"goodbye\", \"sore\", \"bouncers\", \"inner\", \"computer\", \"robert\", \"amazon\", \"supplies\", \"contacted\", \"tree\", \"lets\", \"store\", \"rent\", \"refund\", \"weight\", \"phone\", \"called\", \"company\", \"email\", \"mail\", \"rude\", \"call\", \"said\", \"office\", \"appointment\", \"dental\", \"someone\", \"told\", \"customer\", \"then\", \"hold\", \"who\", \"customers\", \"charge\", \"guy\", \"business\", \"out\", \"money\", \"minutes\", \"asked\", \"never\", \"him\", \"line\", \"manager\", \"what\", \"when\", \"people\", \"his\", \"because\", \"after\", \"didn\", \"will\", \"another\", \"don\", \"even\", \"day\", \"know\", \"back\", \"over\", \"how\", \"did\", \"order\", \"only\", \"service\", \"which\", \"got\", \"other\", \"some\", \"more\", \"associate\", \"nick\", \"appreciates\", \"dans\", \"iffy\", \"casinos\", \"karaoke\", \"sur\", \"chase\", \"lebanese\", \"struggled\", \"threading\", \"hahaha\", \"accent\", \"calzone\", \"comme\", \"brows\", \"pinball\", \"lox\", \"pup\", \"personalized\", \"christina\", \"ttc\", \"yoga\", \"yuck\", \"sans\", \"pilot\", \"brewery\", \"tre\", \"poker\", \"mais\", \"bowling\", \"tim\", \"waxing\", \"hallway\", \"respectful\", \"des\", \"est\", \"rooms\", \"balloons\", \"suite\", \"avec\", \"une\", \"les\", \"facials\", \"motel\", \"casino\", \"room\", \"hotel\", \"park\", \"games\", \"pour\", \"hotels\", \"pool\", \"comfortable\", \"great\", \"staff\", \"view\", \"stay\", \"stayed\", \"tires\", \"pub\", \"bellagio\", \"vegas\", \"helpful\", \"best\", \"service\", \"around\", \"awesome\", \"strip\", \"local\", \"club\", \"nice\", \"amazing\", \"more\", \"love\", \"bar\", \"back\", \"friendly\", \"her\", \"food\", \"only\", \"clean\", \"good\", \"will\", \"when\", \"out\", \"people\", \"because\", \"first\", \"other\", \"some\", \"what\", \"come\", \"don\", \"well\", \"cirque\", \"curly\", \"ratings\", \"heartbeat\", \"keg\", \"concoction\", \"dentists\", \"persian\", \"chunky\", \"scott\", \"trays\", \"tai\", \"gyms\", \"froyo\", \"pinch\", \"silk\", \"tails\", \"pee\", \"tapioca\", \"rep\", \"pepperoni\", \"marsala\", \"kabab\", \"aunt\", \"immaculate\", \"dances\", \"tobiko\", \"lion\", \"patrick\", \"gristle\", \"ayce\", \"baklava\", \"tikka\", \"chirashi\", \"dragon\", \"masala\", \"ethiopian\", \"yellowtail\", \"indian\", \"crust\", \"hair\", \"stylist\", \"pistachio\", \"buffets\", \"sushi\", \"pizza\", \"buffet\", \"naan\", \"shakes\", \"nigiri\", \"roll\", \"spoon\", \"lunch\", \"japanese\", \"cold\", \"good\", \"best\", \"cut\", \"soup\", \"food\", \"what\", \"tasted\", \"some\", \"chinese\", \"selection\", \"bland\", \"eat\", \"other\", \"out\", \"ordered\", \"great\", \"restaurant\", \"better\", \"don\", \"more\", \"rice\", \"got\", \"service\", \"order\", \"experience\", \"than\", \"back\", \"first\", \"when\", \"which\", \"too\", \"came\", \"did\", \"even\", \"will\", \"roti\", \"johnny\", \"unsure\", \"brake\", \"polish\", \"enchilada\", \"ears\", \"cha\", \"hakka\", \"josh\", \"dang\", \"cannoli\", \"biryani\", \"nails\", \"acai\", \"habanero\", \"lenses\", \"taquitos\", \"toes\", \"manicures\", \"map\", \"contractor\", \"jamba\", \"gel\", \"nite\", \"towed\", \"bumper\", \"pedicures\", \"designs\", \"bao\", \"pedicure\", \"massage\", \"fixing\", \"manicure\", \"repaired\", \"nail\", \"therapist\", \"spa\", \"vet\", \"coworker\", \"pedi\", \"surgery\", \"dim\", \"listened\", \"sum\", \"job\", \"salon\", \"her\", \"car\", \"done\", \"repair\", \"coffee\", \"did\", \"broken\", \"experience\", \"back\", \"him\", \"nice\", \"when\", \"recommend\", \"service\", \"came\", \"highly\", \"professional\", \"will\", \"even\", \"went\", \"after\", \"got\", \"food\", \"great\", \"out\", \"friendly\", \"never\", \"because\", \"good\", \"which\", \"always\", \"only\", \"going\", \"definitely\", \"what\", \"some\"], \"Freq\": [4265.0, 4958.0, 4733.0, 1311.0, 760.0, 1517.0, 942.0, 1349.0, 535.0, 1788.0, 1698.0, 1592.0, 1635.0, 1612.0, 2987.0, 577.0, 2397.0, 3621.0, 905.0, 372.0, 3058.0, 465.0, 1219.0, 1378.0, 677.0, 857.0, 438.0, 3645.0, 745.0, 605.0, 63.21564853322619, 55.579731276159315, 28.749479343708753, 23.882579476791, 23.315524337882607, 19.17130815298613, 17.842586793559132, 18.30869570816291, 18.16752179957466, 22.751573388790877, 239.38504005350492, 35.81344629065161, 30.79217770658268, 16.765929384017248, 15.81603795818798, 28.49600609698512, 16.24419861937952, 23.399871287492605, 13.58231581474735, 12.790463149919571, 11.661143947529192, 17.821351252560518, 12.32363223759833, 11.53092812259728, 18.96334078088358, 27.204668471498117, 35.3634455321472, 13.76019550008433, 12.426348090319497, 14.07293928770982, 64.46527844583683, 31.922564558093153, 26.84042929768783, 177.6044987762772, 531.5451718801282, 140.62805162261915, 48.86769884691769, 1137.3725010562086, 559.1704647445914, 75.16011719687675, 67.92089564687095, 1230.0597334155173, 161.3933252133049, 154.86607081727746, 737.4149978153808, 442.79893136482957, 370.31550660044206, 665.731370359836, 64.0781542131374, 93.16045715529775, 61.74689965345364, 740.5534591688007, 128.4341641097785, 137.35142579656832, 102.09577278870832, 392.8255217066895, 472.2073263777394, 368.8129399347906, 157.11867166628411, 185.66578345752518, 916.325573113248, 202.75950781263842, 320.54392533196403, 176.3269178097026, 398.6097029916248, 204.79177791273185, 361.3976897361098, 524.5861922094095, 2606.3955958287597, 991.4563833417782, 293.55800481955856, 472.65539736045923, 2337.391577649898, 832.4850521868736, 839.6335182234261, 783.8192991710212, 438.3766005915178, 382.20177237231087, 421.058648568203, 1066.783726420335, 1612.2009060237717, 878.0430067320352, 707.0051906337904, 1240.5295277467787, 721.213465123963, 650.8626054180103, 670.8632180323956, 735.3225763638615, 633.7734719541135, 846.855182283652, 771.8222541264516, 679.1234911566461, 666.0865558691079, 718.8439673727976, 632.4339139561175, 682.4494316955539, 621.22376901902, 25.524535084836344, 23.089201228152596, 27.642313707999733, 22.354449304694047, 18.14425171229758, 20.814016319316295, 17.39648446085509, 15.818749862207099, 18.33839066720538, 14.156488949193829, 17.921502497434815, 17.689765139894003, 19.578676933464006, 13.270285296605536, 34.71537433993229, 12.704746713904022, 22.38909506374566, 11.85580009752753, 11.487954903604152, 11.819792392032529, 19.00725887137038, 14.438890479812457, 23.62374350519213, 11.398509862764184, 18.04431581267795, 10.838564527816382, 10.51068383986478, 15.358675907452238, 18.511499808253962, 12.56671854476709, 38.59338134667432, 41.31587592150539, 20.060469300322936, 32.140483790239315, 38.69533377164811, 29.144269653461016, 22.635742274254106, 533.2832144470309, 66.72857185903818, 62.1121294561139, 49.98711794494399, 271.2194740477625, 463.02620418121376, 273.5980495782475, 72.10528303213636, 48.88697960425916, 239.88508658993416, 361.2370907802609, 727.0500588402658, 225.93562053861774, 221.02118284618427, 49.45148470305316, 278.6170885113905, 547.5565070201419, 469.1179642179401, 680.4849574404782, 92.53505683850634, 664.7139507809406, 203.74904608984704, 172.09449212133816, 221.821411430008, 268.92245107261266, 1403.2770907357244, 276.411941199846, 455.7925206769177, 410.93962878412515, 644.9770686939933, 354.3631394452522, 284.0405492879872, 255.2964173880477, 953.1369410689747, 1145.639711469871, 643.2625317953155, 453.50642142724655, 797.172268081361, 719.825910134154, 632.7190720866926, 949.5494544828898, 449.0251413578337, 708.8696011718713, 711.4417443670678, 518.0540395866683, 502.74693464350895, 865.122645496693, 529.6736551785353, 507.9569510796519, 579.5437278449822, 554.5741560222727, 616.0847157285805, 774.857687090039, 623.1963613238341, 589.1144129073657, 516.3355611375599, 532.7679974979055, 522.5434279883953, 18.17705082335898, 18.95460118406085, 12.335010142915799, 15.481314721076819, 11.173440330198922, 34.012637379536756, 14.777259939707978, 12.358609229042107, 19.167041588826653, 9.464211740341327, 9.636797670294062, 10.290861193025263, 9.299336100416175, 10.002383375624705, 9.366425661310341, 11.48559641273715, 17.816098025378135, 9.920496068000963, 8.785237378413708, 10.67590311416336, 8.56200743057219, 15.082851022327837, 11.437500462717917, 32.189747007141875, 16.17347145321089, 10.776358211679677, 10.288896680704012, 24.447261671317555, 8.843256266581157, 13.970097875670612, 21.099952132692984, 32.45346922608483, 21.277849290974736, 20.810353963454503, 20.540040559408325, 23.283816500599304, 28.462547794228723, 38.680620407912166, 150.48045175847054, 22.667180335427403, 52.937017119528946, 15.105379009702034, 26.294546660693047, 36.198013006683546, 23.547309287446343, 20.948968356792623, 99.42926671425751, 483.4687690993868, 249.05482455743234, 114.45032568797099, 69.61242614674538, 39.29491486940948, 50.45112036031654, 131.90322522403818, 137.4033609581155, 1236.0644191979768, 543.5190490440457, 101.5134478241441, 162.06057793546435, 81.9975447581739, 40.324551251668126, 38.345255523193394, 40.92731176269158, 281.1321847511569, 153.75051749558645, 404.08510430871047, 638.8735019818113, 264.11255276525776, 204.8126753791692, 123.95225594018899, 127.81637125016508, 74.77488272452779, 350.2642050273327, 308.74296090165603, 391.28119730742765, 325.91439713258114, 244.74335656166087, 458.30904595544695, 290.8080345073851, 274.95411707489205, 584.3118362898915, 344.50055156813704, 190.20605057314194, 533.1673521851102, 394.7075960796367, 390.2078541108977, 412.6108009928206, 265.18793092472544, 297.1159208487024, 265.0073379393167, 279.05287159182706, 298.19949871177175, 292.90685937017605, 251.9130297564597, 253.15529482743244, 248.9970675211135, 26.76264777490906, 17.78548412377903, 16.78547921233396, 15.459873304113772, 25.22720417061728, 13.937089771430848, 14.001446894763198, 12.201718138014227, 12.056706717456155, 11.774869409020965, 12.118672337544997, 10.75263137571028, 13.45148676902885, 11.904649804017374, 9.651209837261842, 9.002439224890521, 11.086159871466704, 8.979873004976278, 11.116411976988953, 16.811515985508404, 30.48465487541114, 9.687217267166584, 7.655380746746141, 7.365583685117188, 7.602706685605359, 9.017976958690621, 7.519704281712887, 7.681853831449072, 9.041124927309514, 7.790325334376772, 62.004916275535386, 20.368314664053077, 20.32827252539028, 9.432053605991776, 25.022810985608157, 18.309181110411526, 13.038858042646831, 25.092006240808818, 70.51158362449706, 95.90501779594625, 257.52029702821574, 50.02845569290733, 18.849767575566112, 39.16508915499521, 319.1619769190026, 419.78277169440827, 131.993836221079, 32.85701670992992, 24.05862584319536, 27.26793640283292, 131.76873700455397, 30.79209029973138, 262.348116931582, 61.774243531098065, 160.20484826393297, 957.9773019854773, 454.78332595401343, 137.96591829431716, 173.6588004276739, 881.0730507403674, 521.9158879088568, 145.42367396270777, 475.89637513621557, 80.01757326848022, 150.14007022304634, 72.59778608611163, 223.91997436852844, 360.16287497923963, 560.26476251938, 327.85953290743845, 579.3224372297922, 283.7122375950587, 244.5675870548361, 312.7292812342924, 342.47283517519764, 154.84296428361085, 324.00021200079084, 419.93282532803346, 256.1653292307371, 222.99501269422228, 242.7822941107017, 322.15494264181575, 236.25580552193216, 302.3996198719176, 268.9793390532758, 236.12737042081525, 209.70167947122653, 211.58568203427893, 213.36829142793704, 212.40889398353306, 18.521954612299016, 16.404665178776707, 17.076433151970853, 22.12305253346266, 66.62245782670574, 22.992078365968162, 13.124303485635997, 14.591154927372349, 10.787296813202428, 17.874760157824554, 10.818708870118988, 11.574371627015166, 10.626538660346766, 151.4183255539387, 9.829376413349225, 13.153210293053293, 9.496854368712777, 11.1168935665074, 13.675459447009302, 11.515550769011496, 9.68140489106444, 9.477268846750611, 8.519753487235613, 82.72952765350148, 8.482953750899764, 9.00562723282913, 7.911271459582963, 24.221787261968178, 11.938258581015578, 9.223681448976123, 91.7051272530039, 104.79715395274732, 15.807136384820154, 39.612417881021095, 24.339285392247163, 134.94757665098808, 22.478011455457995, 70.78085482103879, 48.641114197028, 19.493586377675136, 31.92396789807367, 22.387370285593704, 37.954474194010494, 33.38368398633885, 32.59338170824391, 226.06342807481016, 106.94433922075615, 499.7508561945118, 242.55166443363245, 237.03228046923917, 63.932197044917274, 214.42962374314286, 422.66296182314187, 51.76789702373096, 314.04535596078165, 569.8823434875156, 205.6326276451534, 371.5487056101675, 537.9183258865829, 262.86922501423777, 546.9567345984244, 308.6656316194577, 159.0106416771445, 117.66666134880595, 418.72732415639774, 333.4199483449182, 283.5710467207764, 300.8009740878974, 328.22360226634277, 513.4031758370145, 465.471945194848, 422.13922966434967, 250.98102963333133, 250.36898582238717, 287.6584995068771, 418.2842400293903, 287.7160023764787, 234.305231738003, 260.25726774502766, 214.85856360437182, 218.5143848326045, 227.09153617898363, 222.07791686970262], \"Total\": [4265.0, 4958.0, 4733.0, 1311.0, 760.0, 1517.0, 942.0, 1349.0, 535.0, 1788.0, 1698.0, 1592.0, 1635.0, 1612.0, 2987.0, 577.0, 2397.0, 3621.0, 905.0, 372.0, 3058.0, 465.0, 1219.0, 1378.0, 677.0, 857.0, 438.0, 3645.0, 745.0, 605.0, 64.08637617380184, 57.03925524701315, 29.612616133979607, 24.744061329650762, 24.231744331953944, 19.931667045414237, 18.66859059416152, 19.200229836141204, 19.05257635383067, 23.876069896716466, 252.46129122247967, 37.82556670847713, 32.53289775709409, 17.718894138652065, 16.742622594944276, 30.171695262763375, 17.221181970406587, 24.815524022300686, 14.428471055688735, 13.618482069235549, 12.420831804583413, 19.019423085347682, 13.15255343082977, 12.308953629526371, 20.26752121731248, 29.125623511912003, 37.908235195642796, 14.76574500908408, 13.335703128648644, 15.114751794807464, 69.74947343311405, 34.302599532542004, 28.95602187323271, 195.4641448175882, 602.6852235919458, 156.23229401809047, 53.30679303341088, 1349.4164059127133, 654.9535894621088, 83.27931504110217, 75.26986714470235, 1517.3696670300917, 183.9789469218713, 177.46868993837597, 905.1838532521076, 538.616053654101, 455.1510912329583, 857.9908828651412, 71.77537740356581, 106.97424173927793, 69.09917283186303, 982.8295059462702, 150.9674772045518, 162.30169737990693, 118.16695836313144, 506.3230474897692, 620.1245739756314, 476.69398396180503, 188.6298927284455, 227.29167158583732, 1317.7578676528967, 251.74052538170358, 417.24419400771, 217.09550845648954, 538.2409092265545, 256.7039343967128, 495.17547916603377, 764.4655753627446, 4958.107596656932, 1612.8827336775175, 392.76780857652, 693.431366490609, 4733.237938445714, 1378.3875982377997, 1514.9915352405003, 1466.8870329362474, 689.7244904064991, 578.3478307872717, 662.5527452234098, 2400.721475159662, 4265.802709673241, 1879.2925373036271, 1427.0252646606443, 3621.1502767450866, 1632.0407819352558, 1399.6593685234584, 1698.0442608746002, 2175.7614555865366, 1674.1165355565233, 3645.147066195927, 2987.2912317079235, 2208.0652793722415, 2078.7687018562465, 2694.2372360752547, 1788.4330619487628, 3058.6149430348228, 2051.6648773976626, 26.410291076688434, 23.919248300031764, 28.80001548486171, 23.315057635919135, 19.06583829569641, 21.876650651648923, 18.386496953910317, 16.719696904176562, 19.40403421325455, 14.980101680169916, 18.97659487188198, 18.73280401677673, 20.741824929935902, 14.067383645557063, 36.83609433746446, 13.499445006986521, 23.87744590546442, 12.672609104307094, 12.28480255830141, 12.642788431920328, 20.35058436955918, 15.46502150148732, 25.306078291436744, 12.217637206301585, 19.343301823738894, 11.626354959001574, 11.291519392286782, 16.500987142411393, 19.945447115483663, 13.559890100634416, 41.905824215733695, 45.339281326034126, 21.74831431608955, 35.22231879099697, 43.6524136866892, 32.627224894463964, 25.01267999610504, 719.3262756003371, 79.12040084796907, 73.38755053938371, 58.35982682497139, 361.21477541628855, 650.3507912058213, 369.3579172052444, 88.17269668888314, 57.564835794069694, 334.3721322188763, 537.9997161548177, 1197.15531207119, 326.8463033236629, 319.4816393139438, 59.77080839696433, 436.5088767875331, 956.6259139307925, 826.4059494241617, 1294.5763717697268, 125.60607578455878, 1292.0030531105986, 319.8878861920368, 262.67249243549634, 364.1667171321479, 467.23231165900086, 3645.147066195927, 491.98824332666015, 913.1313107356088, 805.726767135237, 1418.808007268634, 677.2928635171412, 515.5337364982315, 450.77457774695404, 2397.722606419161, 3058.6149430348228, 1464.7881766742744, 937.1872402742005, 1951.217662543619, 1743.6298209799834, 1517.0902360579485, 2694.2372360752547, 958.6580602355348, 1811.5495618382413, 1875.8378435939048, 1215.8897356120005, 1187.0945517293512, 2987.2912317079235, 1323.6912170081926, 1244.467333831533, 1635.504024762236, 1572.4250801993414, 2078.7687018562465, 3621.1502767450866, 2400.721475159662, 2051.6648773976626, 1819.6661775210057, 2208.0652793722415, 2175.7614555865366, 19.03563161810472, 19.93651586692548, 13.152492014951266, 16.584634720457228, 11.988734126169701, 36.59415114236705, 15.93123973772494, 13.395302885660298, 20.79552734406707, 10.27408560304889, 10.485260010140154, 11.206511237395068, 10.134339633228924, 10.901521100515296, 10.214523770545563, 12.526029922888046, 19.444695292386104, 10.844155505160346, 9.610911075762454, 11.690999693386932, 9.382194059734088, 16.543965976728998, 12.571328566425727, 35.392206907705024, 17.8360240189569, 11.884745819760344, 11.353774977017194, 27.001328760455145, 9.772452320955942, 15.43955514286985, 23.473788121726873, 36.37767866711762, 23.72006075472411, 23.39668875553769, 23.087597799196388, 26.459486206145062, 32.96776628738927, 45.96518290583998, 195.50178425611045, 26.1709553828514, 66.49104283600136, 17.027681900802275, 31.200695318941623, 44.72866528440115, 27.84766595396685, 24.641907161532206, 146.57169511165242, 942.1194820964583, 438.2652575369746, 178.03073242539998, 100.45995833826491, 51.95293715960314, 70.51056037531262, 228.36302386386865, 259.0477472162478, 4265.802709673241, 1592.2578157557718, 185.89990354448193, 344.6410539536604, 145.314436803249, 56.65733785836345, 53.3993456195133, 58.78369901510104, 928.7347141238768, 407.6370222523728, 1788.4330619487628, 3621.1502767450866, 995.0004275558454, 688.2332148727105, 318.03261372619085, 336.1842561827849, 147.76188726069742, 1698.0442608746002, 1399.6593685234584, 2175.7614555865366, 1674.1165355565233, 1040.0296413962512, 2987.2912317079235, 1404.5363135411549, 1311.02193304515, 4958.107596656932, 2078.7687018562465, 695.3800374683092, 4733.237938445714, 2694.2372360752547, 3058.6149430348228, 3645.147066195927, 1464.7881766742744, 1951.217662543619, 1523.6418604923736, 1819.6661775210057, 2208.0652793722415, 2397.722606419161, 1470.7863647705367, 1811.5495618382413, 1879.2925373036271, 27.793204125315807, 18.627215436761023, 17.660691847184005, 16.30893195652638, 26.699248483410003, 14.840726140374537, 14.916261947009215, 13.064829713227226, 12.995230428586492, 12.69154459027541, 13.07199323946233, 11.613611749285354, 14.571501736634087, 12.956328415384993, 10.514109399492297, 9.820135284563918, 12.10692996910811, 9.844036733939703, 12.23280468739356, 18.530538962230498, 33.658910429317686, 10.755324841057744, 8.501615892342517, 8.184193277673812, 8.47486849436361, 10.063906440808665, 8.394158499896003, 8.582342839554613, 10.105353570198902, 8.707914819304575, 71.9871724880287, 23.15420877577042, 23.237354268413675, 10.584378481073934, 29.01340599428793, 21.20468949821869, 14.839505785729239, 29.613411578977686, 89.98255697791534, 126.67695356143608, 372.3119476445381, 64.25665202716684, 22.262355622321795, 50.53888385296967, 535.466428012308, 760.7772356607544, 217.42920149877216, 44.12635864064027, 30.757643412141146, 36.321401790104254, 267.1329023840985, 43.23957115826108, 745.3664265557574, 108.72677963117587, 390.10079816321246, 4733.237938445714, 1788.4330619487628, 348.0331613067534, 495.0634311102551, 4958.107596656932, 2397.722606419161, 395.8036808884519, 2208.0652793722415, 173.33601817166493, 464.62055609170875, 154.6878247371601, 863.9321944546873, 1819.6661775210057, 3645.147066195927, 1612.8827336775175, 4265.802709673241, 1378.3875982377997, 1134.6221376038116, 1811.5495618382413, 2175.7614555865366, 544.6590758851243, 2051.6648773976626, 3621.1502767450866, 1572.4250801993414, 1219.446194695994, 1494.299510993119, 2987.2912317079235, 1523.6418604923736, 3058.6149430348228, 2400.721475159662, 1632.0407819352558, 1463.9615205675032, 1635.504024762236, 1875.8378435939048, 2694.2372360752547, 19.354632787665718, 17.26927962489148, 18.094668454962815, 23.49330583742531, 71.07126624344838, 24.563204359100535, 14.064559548822883, 15.669306361179942, 11.618028054882654, 19.260595370138653, 11.658186488258455, 12.489916527853124, 11.487425392122878, 164.2423591610482, 10.678500024469683, 14.35443525045426, 10.383020339219193, 12.17228510416971, 14.986766883743059, 12.627705633244302, 10.61759401744568, 10.424426358178849, 9.373729723800375, 91.05909176834942, 9.337320067526804, 9.925733076823212, 8.73259733733017, 26.8919237799737, 13.301415554784493, 10.299709288129884, 102.72142591005917, 124.21003669387737, 17.742086553901025, 46.02390048817992, 27.889251953160574, 166.90222227737138, 26.217080441132584, 91.12991242420188, 60.99233740791977, 22.818084657780336, 39.75386061508143, 26.914960516648748, 50.00527191812752, 44.07358963403745, 42.836144708930085, 465.2679648091204, 189.56984803384285, 1311.02193304515, 577.0017036315045, 605.313557480728, 113.80409364094544, 607.0282340153492, 1635.504024762236, 87.67849972365272, 1219.446194695994, 2987.2912317079235, 677.2928635171412, 1698.0442608746002, 3058.6149430348228, 1116.9844164859444, 3621.1502767450866, 1463.9615205675032, 527.4335272946739, 331.1953467072776, 2694.2372360752547, 1875.8378435939048, 1454.3981734163285, 1743.6298209799834, 2051.6648773976626, 4958.107596656932, 4265.802709673241, 3645.147066195927, 1404.5363135411549, 1418.808007268634, 1951.217662543619, 4733.237938445714, 2400.721475159662, 1470.9603548750342, 2078.7687018562465, 1146.6469377348965, 1427.0252646606443, 2397.722606419161, 2208.0652793722415], \"Category\": [\"Default\", \"Default\", \"Default\", \"Default\", \"Default\", \"Default\", \"Default\", \"Default\", \"Default\", \"Default\", \"Default\", \"Default\", \"Default\", \"Default\", \"Default\", \"Default\", \"Default\", \"Default\", \"Default\", \"Default\", \"Default\", \"Default\", \"Default\", \"Default\", \"Default\", \"Default\", \"Default\", \"Default\", \"Default\", \"Default\", \"Topic1\", \"Topic1\", \"Topic1\", \"Topic1\", \"Topic1\", \"Topic1\", \"Topic1\", \"Topic1\", \"Topic1\", \"Topic1\", \"Topic1\", \"Topic1\", \"Topic1\", \"Topic1\", \"Topic1\", \"Topic1\", \"Topic1\", \"Topic1\", \"Topic1\", \"Topic1\", \"Topic1\", \"Topic1\", \"Topic1\", \"Topic1\", \"Topic1\", \"Topic1\", \"Topic1\", \"Topic1\", \"Topic1\", \"Topic1\", \"Topic1\", \"Topic1\", \"Topic1\", \"Topic1\", \"Topic1\", \"Topic1\", \"Topic1\", \"Topic1\", \"Topic1\", \"Topic1\", \"Topic1\", \"Topic1\", \"Topic1\", \"Topic1\", \"Topic1\", \"Topic1\", \"Topic1\", \"Topic1\", \"Topic1\", \"Topic1\", \"Topic1\", \"Topic1\", \"Topic1\", \"Topic1\", \"Topic1\", \"Topic1\", \"Topic1\", \"Topic1\", \"Topic1\", \"Topic1\", \"Topic1\", \"Topic1\", \"Topic1\", \"Topic1\", \"Topic1\", \"Topic1\", \"Topic1\", \"Topic1\", \"Topic1\", \"Topic1\", \"Topic1\", \"Topic1\", \"Topic1\", \"Topic1\", \"Topic1\", \"Topic1\", \"Topic1\", \"Topic1\", \"Topic1\", \"Topic1\", \"Topic1\", \"Topic1\", \"Topic1\", \"Topic1\", \"Topic1\", \"Topic1\", \"Topic1\", \"Topic1\", \"Topic1\", \"Topic1\", \"Topic1\", \"Topic1\", \"Topic1\", \"Topic1\", \"Topic1\", \"Topic1\", \"Topic1\", \"Topic2\", \"Topic2\", \"Topic2\", \"Topic2\", \"Topic2\", \"Topic2\", \"Topic2\", \"Topic2\", \"Topic2\", \"Topic2\", \"Topic2\", \"Topic2\", \"Topic2\", \"Topic2\", \"Topic2\", \"Topic2\", \"Topic2\", \"Topic2\", \"Topic2\", \"Topic2\", \"Topic2\", \"Topic2\", \"Topic2\", \"Topic2\", \"Topic2\", \"Topic2\", \"Topic2\", \"Topic2\", \"Topic2\", \"Topic2\", \"Topic2\", \"Topic2\", \"Topic2\", \"Topic2\", \"Topic2\", \"Topic2\", \"Topic2\", \"Topic2\", \"Topic2\", \"Topic2\", \"Topic2\", \"Topic2\", \"Topic2\", \"Topic2\", \"Topic2\", \"Topic2\", \"Topic2\", \"Topic2\", \"Topic2\", \"Topic2\", \"Topic2\", \"Topic2\", \"Topic2\", \"Topic2\", \"Topic2\", \"Topic2\", \"Topic2\", \"Topic2\", \"Topic2\", \"Topic2\", \"Topic2\", \"Topic2\", \"Topic2\", \"Topic2\", \"Topic2\", \"Topic2\", \"Topic2\", \"Topic2\", \"Topic2\", \"Topic2\", \"Topic2\", \"Topic2\", \"Topic2\", \"Topic2\", \"Topic2\", \"Topic2\", \"Topic2\", \"Topic2\", \"Topic2\", \"Topic2\", \"Topic2\", \"Topic2\", \"Topic2\", \"Topic2\", \"Topic2\", \"Topic2\", \"Topic2\", \"Topic2\", \"Topic2\", \"Topic2\", \"Topic2\", \"Topic2\", \"Topic2\", \"Topic2\", \"Topic2\", \"Topic3\", \"Topic3\", \"Topic3\", \"Topic3\", \"Topic3\", \"Topic3\", \"Topic3\", \"Topic3\", \"Topic3\", \"Topic3\", \"Topic3\", \"Topic3\", \"Topic3\", \"Topic3\", \"Topic3\", \"Topic3\", \"Topic3\", \"Topic3\", \"Topic3\", \"Topic3\", \"Topic3\", \"Topic3\", \"Topic3\", \"Topic3\", \"Topic3\", \"Topic3\", \"Topic3\", \"Topic3\", \"Topic3\", \"Topic3\", \"Topic3\", \"Topic3\", \"Topic3\", \"Topic3\", \"Topic3\", \"Topic3\", \"Topic3\", \"Topic3\", \"Topic3\", \"Topic3\", \"Topic3\", \"Topic3\", \"Topic3\", \"Topic3\", \"Topic3\", \"Topic3\", \"Topic3\", \"Topic3\", \"Topic3\", \"Topic3\", \"Topic3\", \"Topic3\", \"Topic3\", \"Topic3\", \"Topic3\", \"Topic3\", \"Topic3\", \"Topic3\", \"Topic3\", \"Topic3\", \"Topic3\", \"Topic3\", \"Topic3\", \"Topic3\", \"Topic3\", \"Topic3\", \"Topic3\", \"Topic3\", \"Topic3\", \"Topic3\", \"Topic3\", \"Topic3\", \"Topic3\", \"Topic3\", \"Topic3\", \"Topic3\", \"Topic3\", \"Topic3\", \"Topic3\", \"Topic3\", \"Topic3\", \"Topic3\", \"Topic3\", \"Topic3\", \"Topic3\", \"Topic3\", \"Topic3\", \"Topic3\", \"Topic3\", \"Topic3\", \"Topic3\", \"Topic3\", \"Topic3\", \"Topic3\", \"Topic3\", \"Topic3\", \"Topic4\", \"Topic4\", \"Topic4\", \"Topic4\", \"Topic4\", \"Topic4\", \"Topic4\", \"Topic4\", \"Topic4\", \"Topic4\", \"Topic4\", \"Topic4\", \"Topic4\", \"Topic4\", \"Topic4\", \"Topic4\", \"Topic4\", \"Topic4\", \"Topic4\", \"Topic4\", \"Topic4\", \"Topic4\", \"Topic4\", \"Topic4\", \"Topic4\", \"Topic4\", \"Topic4\", \"Topic4\", \"Topic4\", \"Topic4\", \"Topic4\", \"Topic4\", \"Topic4\", \"Topic4\", \"Topic4\", \"Topic4\", \"Topic4\", \"Topic4\", \"Topic4\", \"Topic4\", \"Topic4\", \"Topic4\", \"Topic4\", \"Topic4\", \"Topic4\", \"Topic4\", \"Topic4\", \"Topic4\", \"Topic4\", \"Topic4\", \"Topic4\", \"Topic4\", \"Topic4\", \"Topic4\", \"Topic4\", \"Topic4\", \"Topic4\", \"Topic4\", \"Topic4\", \"Topic4\", \"Topic4\", \"Topic4\", \"Topic4\", \"Topic4\", \"Topic4\", \"Topic4\", \"Topic4\", \"Topic4\", \"Topic4\", \"Topic4\", \"Topic4\", \"Topic4\", \"Topic4\", \"Topic4\", \"Topic4\", \"Topic4\", \"Topic4\", \"Topic4\", \"Topic4\", \"Topic4\", \"Topic4\", \"Topic4\", \"Topic4\", \"Topic4\", \"Topic4\", \"Topic4\", \"Topic4\", \"Topic4\", \"Topic4\", \"Topic4\", \"Topic5\", \"Topic5\", \"Topic5\", \"Topic5\", \"Topic5\", \"Topic5\", \"Topic5\", \"Topic5\", \"Topic5\", \"Topic5\", \"Topic5\", \"Topic5\", \"Topic5\", \"Topic5\", \"Topic5\", \"Topic5\", \"Topic5\", \"Topic5\", \"Topic5\", \"Topic5\", \"Topic5\", \"Topic5\", \"Topic5\", \"Topic5\", \"Topic5\", \"Topic5\", \"Topic5\", \"Topic5\", \"Topic5\", \"Topic5\", \"Topic5\", \"Topic5\", \"Topic5\", \"Topic5\", \"Topic5\", \"Topic5\", \"Topic5\", \"Topic5\", \"Topic5\", \"Topic5\", \"Topic5\", \"Topic5\", \"Topic5\", \"Topic5\", \"Topic5\", \"Topic5\", \"Topic5\", \"Topic5\", \"Topic5\", \"Topic5\", \"Topic5\", \"Topic5\", \"Topic5\", \"Topic5\", \"Topic5\", \"Topic5\", \"Topic5\", \"Topic5\", \"Topic5\", \"Topic5\", \"Topic5\", \"Topic5\", \"Topic5\", \"Topic5\", \"Topic5\", \"Topic5\", \"Topic5\", \"Topic5\", \"Topic5\", \"Topic5\", \"Topic5\", \"Topic5\", \"Topic5\", \"Topic5\", \"Topic5\", \"Topic5\", \"Topic5\", \"Topic5\", \"Topic5\", \"Topic5\", \"Topic5\", \"Topic5\", \"Topic5\"], \"logprob\": [30.0, 29.0, 28.0, 27.0, 26.0, 25.0, 24.0, 23.0, 22.0, 21.0, 20.0, 19.0, 18.0, 17.0, 16.0, 15.0, 14.0, 13.0, 12.0, 11.0, 10.0, 9.0, 8.0, 7.0, 6.0, 5.0, 4.0, 3.0, 2.0, 1.0, -7.9730000495910645, -8.101699829101562, -8.760899543762207, -8.946399688720703, -8.970399856567383, -9.166099548339844, -9.237899780273438, -9.212200164794922, -9.219900131225586, -8.99489974975586, -6.641499996185303, -8.541199684143066, -8.692299842834473, -9.300200462341309, -9.358499526977539, -8.769800186157227, -9.33180046081543, -8.96679973602295, -9.5108003616333, -9.570799827575684, -9.663299560546875, -9.239100456237793, -9.607999801635742, -9.674500465393066, -9.177000045776367, -8.816100120544434, -8.553899765014648, -9.49779987335205, -9.599699974060059, -9.475299835205078, -7.953400135040283, -8.656200408935547, -8.82960033416748, -6.940000057220459, -5.843699932098389, -7.173399925231934, -8.230400085449219, -5.083099842071533, -5.793099880218506, -7.799900054931641, -7.901199817657471, -5.004700183868408, -7.035699844360352, -7.077000141143799, -5.51639986038208, -6.026400089263916, -6.2052001953125, -5.61870002746582, -7.959400177001953, -7.58519983291626, -7.996500015258789, -5.5121002197265625, -7.264100074768066, -7.197000026702881, -7.493599891662598, -6.146200180053711, -5.962100028991699, -6.209199905395508, -7.0625, -6.895599842071533, -5.299200057983398, -6.807499885559082, -6.3495001792907715, -6.947199821472168, -6.1315999031066895, -6.797500133514404, -6.229599952697754, -5.856900215148926, -4.253799915313721, -5.220399856567383, -6.4375, -5.96120023727417, -4.36269998550415, -5.395100116729736, -5.386600017547607, -5.455399990081787, -6.036499977111816, -6.173600196838379, -6.0767998695373535, -5.14709997177124, -4.7342000007629395, -5.341800212860107, -5.558499813079834, -4.996200084686279, -5.538599967956543, -5.641200065612793, -5.611000061035156, -5.519199848175049, -5.667799949645996, -5.377999782562256, -5.470799922943115, -5.598700046539307, -5.618100166320801, -5.541900157928467, -5.670000076293945, -5.593800067901611, -5.68779993057251, -8.750900268554688, -8.851200103759766, -8.671199798583984, -8.883500099182129, -9.09220027923584, -8.954899787902832, -9.134300231933594, -9.229399681091309, -9.081600189208984, -9.340399742126465, -9.104599952697754, -9.117600440979004, -9.01609992980957, -9.404999732971191, -8.443400382995605, -9.448599815368652, -8.881999969482422, -9.517800331115723, -9.549300193786621, -9.52079963684082, -9.045700073242188, -9.320599555969238, -8.828300476074219, -9.557100296020508, -9.097700119018555, -9.607500076293945, -9.638199806213379, -9.258899688720703, -9.072199821472168, -9.459500312805176, -8.337499618530273, -8.26930046081543, -8.991800308227539, -8.520500183105469, -8.334799766540527, -8.618300437927246, -8.871000289916992, -5.71150016784668, -7.789899826049805, -7.861599922180176, -8.078800201416016, -6.387599945068359, -5.852799892425537, -6.378900051116943, -7.712399959564209, -8.101099967956543, -6.51039981842041, -6.10099983215332, -5.401599884033203, -6.570300102233887, -6.592299938201904, -8.089599609375, -6.3607001304626465, -5.685100078582764, -5.839700222015381, -5.467800140380859, -7.4629998207092285, -5.491199970245361, -6.673699855804443, -6.84250020980835, -6.588699817657471, -6.396100044250488, -4.74399995803833, -6.36870002746582, -5.868500232696533, -5.972099781036377, -5.521399974822998, -6.120200157165527, -6.3414998054504395, -6.4481000900268555, -5.130799770355225, -4.946800231933594, -5.52400016784668, -5.873600006103516, -5.309500217437744, -5.411600112915039, -5.540500164031982, -5.1346001625061035, -5.883500099182129, -5.4268999099731445, -5.423299789428711, -5.740499973297119, -5.770500183105469, -5.227700233459473, -5.718299865722656, -5.760200023651123, -5.628300189971924, -5.672399997711182, -5.567200183868408, -5.337900161743164, -5.555699825286865, -5.6118998527526855, -5.743800163269043, -5.712500095367432, -5.731900215148926, -8.45829963684082, -8.416399955749512, -8.845999717712402, -8.618800163269043, -8.944899559020996, -7.831699848175049, -8.665399551391602, -8.844099998474121, -8.40530014038086, -9.110899925231934, -9.092900276184082, -9.027199745178223, -9.128499984741211, -9.0556001663208, -9.121299743652344, -8.917400360107422, -8.478400230407715, -9.063899993896484, -9.185400009155273, -8.990500450134277, -9.211099624633789, -8.64490032196045, -8.921600341796875, -7.8867998123168945, -8.57509994506836, -8.981100082397461, -9.027400016784668, -8.16189956665039, -9.178799629211426, -8.721500396728516, -8.309200286865234, -7.878699779510498, -8.300800323486328, -8.322999954223633, -8.336099624633789, -8.210700035095215, -8.009900093078613, -7.703100204467773, -6.344600200653076, -8.237500190734863, -7.389400005340576, -8.643400192260742, -8.089099884033203, -7.769499778747559, -8.199399948120117, -8.316399574279785, -6.758999824523926, -5.177499771118164, -5.840799808502197, -6.618299961090088, -7.115499973297119, -7.687399864196777, -7.4375, -6.476399898529053, -6.435500144958496, -4.238800048828125, -5.060400009155273, -6.73829984664917, -6.270500183105469, -6.9517998695373535, -7.661499977111816, -7.7118000984191895, -7.646699905395508, -5.719600200653076, -6.3231000900268555, -5.356800079345703, -4.898799896240234, -5.782100200653076, -6.036399841308594, -6.538599967956543, -6.507900238037109, -7.044000148773193, -5.499800205230713, -5.625999927520752, -5.388999938964844, -5.571800231933594, -5.8582000732421875, -5.230899810791016, -5.685800075531006, -5.7418999671936035, -4.98799991607666, -5.51639986038208, -6.110400199890137, -5.079599857330322, -5.380300045013428, -5.3917999267578125, -5.335999965667725, -5.7779998779296875, -5.664299964904785, -5.77869987487793, -5.727099895477295, -5.660699844360352, -5.678599834442139, -5.829400062561035, -5.82450008392334, -5.841000080108643, -8.010199546813965, -8.418899536132812, -8.476699829101562, -8.559000015258789, -8.069299697875977, -8.662699699401855, -8.658100128173828, -8.795700073242188, -8.807600021362305, -8.831299781799316, -8.802499771118164, -8.922100067138672, -8.698200225830078, -8.820300102233887, -9.030200004577637, -9.099800109863281, -8.891599655151367, -9.102299690246582, -8.888799667358398, -8.475199699401855, -7.880000114440918, -9.026399612426758, -9.261799812316895, -9.300399780273438, -9.268699645996094, -9.097999572753906, -9.27970027923584, -9.258399963378906, -9.095499992370605, -9.244400024414062, -7.170000076293945, -8.283300399780273, -8.285200119018555, -9.053099632263184, -8.077500343322754, -8.389800071716309, -8.729299545288086, -8.074700355529785, -7.041500091552734, -6.73390007019043, -5.746200084686279, -7.384699821472168, -8.360799789428711, -7.629499912261963, -5.531599998474121, -5.257500171661377, -6.4145002365112305, -7.805099964141846, -8.116800308227539, -7.991499900817871, -6.416200160980225, -7.869999885559082, -5.72760009765625, -7.173799991607666, -6.220799922943115, -4.432400226593018, -5.1774001121521, -6.370200157165527, -6.140200138092041, -4.51609992980957, -5.039700031280518, -6.317599773406982, -5.1321001052856445, -6.914999961853027, -6.285699844360352, -7.01230001449585, -5.886000156402588, -5.410699844360352, -4.968800067901611, -5.504700183868408, -4.935400009155273, -5.6493000984191895, -5.797800064086914, -5.5518999099731445, -5.461100101470947, -6.254799842834473, -5.516499996185303, -5.257199764251709, -5.751399993896484, -5.890100002288818, -5.805099964141846, -5.522200107574463, -5.832300186157227, -5.5854997634887695, -5.702600002288818, -5.832900047302246, -5.951600074768066, -5.942599773406982, -5.934199810028076, -5.938700199127197, -8.2878999710083, -8.409299850463867, -8.369199752807617, -8.110300064086914, -7.007800102233887, -8.071700096130371, -8.632399559020996, -8.52649974822998, -8.828499794006348, -8.32349967956543, -8.825599670410156, -8.758099555969238, -8.843500137329102, -6.186800003051758, -8.921500205993652, -8.630200386047363, -8.955900192260742, -8.798399925231934, -8.591300010681152, -8.763199806213379, -8.936699867248535, -8.958000183105469, -9.064499855041504, -6.791299819946289, -9.06879997253418, -9.008999824523926, -9.13860034942627, -8.019599914550781, -8.727100372314453, -8.985099792480469, -6.688300132751465, -6.554900169372559, -8.446399688720703, -7.527699947357178, -8.014800071716309, -6.302000045776367, -8.094300270080566, -6.947299957275391, -7.322400093078613, -8.236800193786621, -7.743500232696533, -8.098400115966797, -7.570499897003174, -7.698800086975098, -7.722799777984619, -5.786099910736084, -6.534599781036377, -4.992800235748291, -5.715700149536133, -5.738699913024902, -7.049099922180176, -5.838900089263916, -5.160299777984619, -7.2600998878479, -5.457300186157227, -4.861499786376953, -5.880799770355225, -5.2891998291015625, -4.9191999435424805, -5.635200023651123, -4.902500152587891, -5.474599838256836, -6.137899875640869, -6.439000129699707, -5.1697001457214355, -5.397500038146973, -5.5594000816345215, -5.500400066375732, -5.4131999015808105, -4.965799808502197, -5.063799858093262, -5.161499977111816, -5.68149995803833, -5.683899879455566, -5.545100212097168, -5.1707000732421875, -5.544899940490723, -5.75029993057251, -5.645199775695801, -5.836900234222412, -5.820000171661377, -5.781499862670898, -5.803899765014648], \"loglift\": [30.0, 29.0, 28.0, 27.0, 26.0, 25.0, 24.0, 23.0, 22.0, 21.0, 20.0, 19.0, 18.0, 17.0, 16.0, 15.0, 14.0, 13.0, 12.0, 11.0, 10.0, 9.0, 8.0, 7.0, 6.0, 5.0, 4.0, 3.0, 2.0, 1.0, 1.1454, 1.1332, 1.1295, 1.1237, 1.1205, 1.1202, 1.1138, 1.1115, 1.1115, 1.1109, 1.1059, 1.1044, 1.1041, 1.1038, 1.1022, 1.102, 1.1007, 1.1004, 1.0987, 1.0964, 1.096, 1.094, 1.094, 1.0938, 1.0926, 1.0909, 1.0896, 1.0886, 1.0885, 1.0877, 1.0803, 1.0872, 1.0832, 1.0633, 1.0335, 1.0539, 1.0721, 0.9881, 1.001, 1.0565, 1.0564, 0.9492, 1.0281, 1.0229, 0.9541, 0.9632, 0.9528, 0.9054, 1.0457, 1.0208, 1.0466, 0.8761, 0.9974, 0.9922, 1.0129, 0.9053, 0.8866, 0.9025, 0.9763, 0.9568, 0.7958, 0.9427, 0.8954, 0.9511, 0.8588, 0.9332, 0.8442, 0.7825, 0.516, 0.6725, 0.868, 0.7758, 0.4535, 0.6548, 0.5689, 0.5324, 0.7059, 0.7449, 0.7058, 0.348, 0.1861, 0.3981, 0.4568, 0.0878, 0.3424, 0.3934, 0.2304, 0.0743, 0.1877, -0.3005, -0.1943, -0.02, 0.021, -0.1621, 0.1196, -0.3409, -0.0356, 1.2539, 1.2527, 1.247, 1.246, 1.2385, 1.2383, 1.2327, 1.2327, 1.2316, 1.2315, 1.2309, 1.2308, 1.2304, 1.2297, 1.2288, 1.2274, 1.2237, 1.2214, 1.221, 1.2208, 1.2198, 1.2194, 1.2193, 1.2187, 1.2185, 1.2179, 1.2164, 1.2163, 1.2135, 1.212, 1.2057, 1.1951, 1.2073, 1.1965, 1.1675, 1.1752, 1.1882, 0.9888, 1.1177, 1.1213, 1.1332, 1.0015, 0.9483, 0.988, 1.0869, 1.1247, 0.956, 0.8897, 0.7894, 0.9188, 0.9196, 1.0985, 0.8391, 0.7301, 0.7218, 0.6449, 0.9825, 0.6235, 0.837, 0.8652, 0.7923, 0.7357, 0.3335, 0.7115, 0.5932, 0.6148, 0.4997, 0.6403, 0.692, 0.7195, 0.3655, 0.3061, 0.4652, 0.5622, 0.3929, 0.4033, 0.4135, 0.2452, 0.5296, 0.3498, 0.3185, 0.4349, 0.4289, 0.0488, 0.3721, 0.392, 0.2506, 0.2459, 0.0719, -0.2538, -0.0606, 0.0403, 0.0284, -0.1337, -0.1384, 1.874, 1.8697, 1.856, 1.8513, 1.8497, 1.847, 1.845, 1.8396, 1.8386, 1.8381, 1.8358, 1.8349, 1.8342, 1.8341, 1.8335, 1.8335, 1.8327, 1.8311, 1.8303, 1.8293, 1.8287, 1.8277, 1.8257, 1.8253, 1.8223, 1.8223, 1.8217, 1.8208, 1.8203, 1.8202, 1.8136, 1.806, 1.8115, 1.803, 1.8033, 1.7923, 1.7732, 1.7476, 1.6584, 1.7764, 1.6922, 1.8004, 1.7491, 1.7086, 1.7524, 1.7578, 1.5321, 1.253, 1.355, 1.4784, 1.5534, 1.6409, 1.5854, 1.3713, 1.2861, 0.6815, 0.8453, 1.3152, 1.1656, 1.348, 1.5801, 1.589, 1.5581, 0.7252, 0.9451, 0.4327, 0.1853, 0.5938, 0.7081, 0.9779, 0.9531, 1.2391, 0.3416, 0.4087, 0.2045, 0.2838, 0.4734, 0.0456, 0.3454, 0.3582, -0.2182, 0.1227, 0.6238, -0.2634, -0.0006, -0.1389, -0.2585, 0.2111, 0.0381, 0.1711, 0.0452, -0.0819, -0.1822, 0.1557, -0.0478, -0.101, 1.9436, 1.9351, 1.9306, 1.9279, 1.9247, 1.9186, 1.9181, 1.913, 1.9064, 1.9064, 1.9057, 1.9044, 1.9014, 1.8967, 1.8957, 1.8944, 1.8933, 1.8895, 1.8857, 1.884, 1.8823, 1.8768, 1.8765, 1.876, 1.8728, 1.8716, 1.8714, 1.8705, 1.8701, 1.87, 1.8321, 1.8532, 1.8476, 1.8661, 1.8334, 1.8346, 1.852, 1.8157, 1.7375, 1.7031, 1.6127, 1.7311, 1.815, 1.7264, 1.4639, 1.3868, 1.4823, 1.6865, 1.7357, 1.6947, 1.2747, 1.6419, 0.9372, 1.416, 1.0914, 0.3838, 0.6121, 1.0561, 0.9338, 0.2537, 0.4566, 0.9801, 0.4467, 1.2084, 0.8517, 1.2249, 0.6312, 0.3615, 0.1086, 0.3882, -0.0151, 0.4007, 0.4468, 0.2248, 0.1324, 0.7236, 0.1357, -0.1731, 0.1668, 0.2824, 0.1641, -0.2457, 0.1174, -0.3326, -0.2075, 0.0482, 0.0382, -0.0637, -0.1924, -0.559, 2.0278, 2.0204, 2.0138, 2.0117, 2.0071, 2.0057, 2.0026, 2.0005, 1.9976, 1.9971, 1.997, 1.9956, 1.9939, 1.9905, 1.9889, 1.9844, 1.9825, 1.9811, 1.9802, 1.9796, 1.9794, 1.9765, 1.9762, 1.9758, 1.9758, 1.9745, 1.973, 1.9672, 1.9636, 1.9614, 1.9583, 1.9018, 1.9563, 1.9217, 1.9356, 1.8592, 1.9179, 1.8191, 1.8455, 1.9143, 1.8524, 1.8876, 1.796, 1.794, 1.7985, 1.35, 1.4993, 1.1073, 1.2051, 1.1342, 1.4951, 1.0312, 0.7186, 1.5448, 0.7151, 0.4151, 0.8797, 0.5522, 0.3337, 0.625, 0.1816, 0.5151, 0.8727, 1.0369, 0.2101, 0.3443, 0.4369, 0.3145, 0.239, -0.196, -0.1436, -0.0841, 0.3497, 0.3371, 0.1573, -0.3545, -0.0498, 0.2347, -0.0061, 0.3971, 0.1953, -0.2852, -0.2251]}, \"token.table\": {\"Topic\": [5, 3, 1, 2, 3, 4, 5, 1, 1, 2, 3, 4, 5, 1, 2, 3, 4, 5, 2, 3, 1, 2, 3, 4, 5, 1, 1, 2, 3, 4, 5, 3, 1, 2, 3, 4, 5, 1, 1, 2, 3, 4, 5, 3, 4, 2, 3, 1, 2, 3, 4, 5, 1, 3, 4, 5, 1, 1, 2, 3, 4, 5, 2, 4, 2, 3, 5, 1, 2, 3, 4, 5, 1, 2, 3, 4, 5, 1, 2, 3, 4, 5, 1, 2, 3, 4, 5, 1, 2, 3, 4, 5, 1, 2, 3, 4, 5, 1, 2, 3, 4, 5, 5, 1, 2, 4, 1, 1, 2, 3, 4, 5, 1, 3, 4, 2, 5, 1, 3, 5, 2, 5, 2, 1, 2, 3, 4, 5, 2, 3, 1, 2, 3, 4, 5, 2, 3, 2, 4, 1, 2, 3, 4, 5, 1, 2, 3, 4, 5, 5, 1, 2, 3, 4, 5, 1, 2, 3, 4, 5, 1, 2, 3, 4, 5, 1, 4, 1, 5, 1, 2, 3, 4, 5, 1, 2, 3, 4, 5, 3, 1, 2, 3, 4, 5, 5, 1, 2, 3, 4, 5, 1, 5, 1, 2, 3, 4, 5, 1, 2, 3, 4, 5, 5, 1, 2, 3, 4, 5, 3, 5, 1, 2, 3, 4, 5, 1, 2, 3, 4, 5, 1, 2, 3, 4, 5, 4, 1, 3, 4, 4, 1, 2, 3, 4, 5, 1, 2, 3, 4, 5, 2, 1, 2, 3, 4, 5, 2, 1, 2, 3, 4, 5, 1, 2, 3, 4, 5, 1, 2, 3, 4, 5, 3, 1, 2, 3, 4, 5, 1, 2, 3, 5, 4, 2, 4, 5, 5, 1, 2, 3, 4, 5, 2, 2, 3, 4, 5, 2, 5, 1, 1, 2, 3, 4, 5, 4, 1, 2, 3, 4, 5, 1, 2, 3, 4, 5, 1, 2, 3, 4, 5, 1, 2, 3, 4, 5, 4, 5, 3, 1, 2, 3, 4, 5, 1, 2, 3, 4, 5, 1, 2, 3, 4, 5, 1, 2, 3, 4, 5, 2, 3, 4, 4, 2, 3, 4, 5, 2, 5, 1, 2, 3, 4, 5, 1, 2, 3, 4, 5, 1, 2, 3, 4, 5, 1, 2, 3, 4, 5, 1, 2, 3, 4, 5, 1, 2, 3, 4, 5, 1, 2, 4, 2, 5, 1, 2, 3, 4, 5, 1, 2, 3, 4, 5, 4, 5, 1, 2, 5, 2, 3, 4, 5, 1, 2, 4, 1, 2, 3, 4, 5, 1, 2, 3, 4, 5, 2, 3, 5, 1, 2, 3, 4, 5, 1, 2, 3, 4, 5, 1, 2, 3, 4, 5, 1, 2, 5, 1, 1, 2, 3, 4, 5, 2, 5, 1, 2, 3, 4, 5, 2, 1, 2, 3, 4, 5, 1, 2, 3, 4, 5, 2, 1, 2, 3, 4, 5, 1, 2, 3, 4, 5, 4, 2, 1, 2, 3, 4, 5, 1, 2, 3, 4, 5, 1, 2, 3, 4, 5, 1, 2, 3, 4, 5, 2, 1, 2, 1, 2, 3, 4, 5, 1, 2, 3, 4, 5, 1, 2, 3, 4, 5, 4, 2, 1, 2, 3, 4, 5, 4, 5, 3, 1, 2, 3, 4, 5, 5, 2, 3, 4, 4, 1, 2, 3, 4, 5, 1, 2, 3, 4, 5, 1, 2, 3, 4, 5, 1, 2, 3, 4, 5, 1, 2, 3, 4, 5, 1, 2, 3, 4, 5, 1, 2, 3, 4, 5, 1, 2, 1, 2, 3, 4, 5, 1, 2, 3, 4, 5, 1, 2, 3, 4, 5, 3, 2, 4, 1, 2, 3, 4, 5, 2, 2, 1, 1, 2, 5, 1, 1, 2, 3, 4, 5, 1, 2, 3, 4, 5, 5, 2, 5, 4, 3, 3, 4, 1, 2, 3, 4, 5, 3, 5, 1, 2, 3, 5, 1, 2, 4, 1, 2, 3, 4, 5, 4, 2, 3, 4, 5, 1, 2, 3, 4, 5, 1, 2, 3, 4, 5, 1, 2, 3, 4, 5, 1, 2, 3, 4, 5, 3, 1, 2, 3, 4, 5, 1, 2, 3, 4, 5, 1, 2, 3, 4, 5, 2, 3, 1, 2, 3, 4, 5, 1, 2, 3, 4, 5, 5, 5, 1, 2, 4, 4, 1, 4, 5, 1, 2, 3, 4, 5, 1, 2, 3, 4, 5, 1, 2, 3, 4, 5, 1, 2, 3, 4, 5, 1, 2, 3, 4, 5, 1, 2, 3, 4, 5, 1, 2, 3, 4, 5, 2, 3, 1, 2, 1, 2, 3, 4, 5, 1, 2, 3, 4, 5, 1, 2, 3, 4, 5, 1, 2, 3, 4, 5, 1, 2, 3, 4, 5, 3, 1, 4, 5, 1, 1, 2, 3, 4, 5, 1, 2, 3, 4, 5, 1, 2, 3, 4, 5, 1, 2, 3, 4, 5, 1, 2, 3, 4, 5, 1, 2, 3, 4, 5, 1, 2, 3, 4, 5, 1, 2, 3, 4, 5, 1, 2, 3, 4, 5, 1, 2, 3, 4, 5, 4, 2, 3, 4, 5, 1, 2, 3, 4, 5, 3, 4, 5, 4, 1, 2, 3, 4, 5, 1, 3, 4, 1, 2, 3, 4, 5, 1, 2, 3, 4, 5, 4, 3, 1, 2, 3, 4, 5, 3, 3, 4, 1, 4, 3, 4, 1, 2, 3, 4, 5, 2, 2, 3, 1, 2, 3, 4, 5, 1, 2, 3, 4, 5, 1, 2, 3, 4, 5, 1, 2, 3, 4, 5, 1, 2, 3, 4, 5, 1, 1, 2, 3, 4, 5, 1, 1, 2, 3, 4, 5, 3, 4, 1, 2, 3, 4, 5, 1, 2, 3, 4, 5, 2, 3, 4, 2, 3, 4, 5, 4, 5, 1, 2, 3, 4, 5, 1, 2, 3, 5, 2, 2, 2, 3, 5, 1, 2, 3, 4, 5, 1, 1, 2, 3, 4, 5, 2, 4, 1, 2, 3, 4, 5, 1, 2, 3, 4, 5, 1, 2, 3, 4, 5, 2, 5, 1, 2, 3, 4, 5, 2, 1, 2, 3, 4, 5, 1, 2, 3, 4, 5, 1, 2, 3, 4, 5, 3, 1, 2, 3, 4, 5, 2, 4, 1, 2, 1, 2, 3, 4, 5, 1, 2, 3, 4, 5, 1, 3, 4, 5, 1, 2, 3, 4, 5, 4, 1, 1, 1, 1, 2, 3, 4, 5, 1, 2, 3, 4, 5, 1, 2, 3, 4, 5, 2, 1, 2, 3, 4, 5, 1, 2, 3, 4, 5, 1, 2, 3, 4, 5, 1, 2, 3, 4, 5, 1, 2, 3, 4, 5, 1, 2, 3, 4, 5, 1, 2, 3, 4, 5, 1, 2, 3, 4, 5, 1, 2, 3, 4, 5, 3, 1, 2, 3, 4, 5, 1, 2, 3, 4, 5, 1, 3, 4, 5, 2, 3, 4, 3, 3, 5, 1, 2, 3, 4, 5, 4, 4, 1, 4, 5, 1, 2, 3, 4, 5, 1, 2, 3, 4, 5, 1, 2, 3, 4, 5, 1, 2, 3, 4, 5, 1, 2, 3, 4, 5, 1, 2, 3, 4, 5, 1, 2, 3, 4, 5, 4, 5, 3, 1, 4, 5, 1, 2, 3, 2, 2, 3, 4, 5, 4, 5, 1, 2, 3, 4, 5, 1, 2, 3, 4, 5, 5, 4, 3, 1, 2, 3, 1, 2, 3, 4, 5, 3, 2, 3, 4, 5, 2, 5, 1, 1, 3, 4, 1, 2, 3, 4, 5, 1, 2, 3, 4, 5, 1, 2, 3, 4, 5, 2, 3, 5, 1, 2, 3, 4, 5, 1, 2, 3, 4, 5, 1, 2, 3, 4, 5, 1, 2, 3, 4, 5, 1, 2, 3, 4, 5, 1, 2, 3, 4, 5, 1, 2, 3, 4, 5, 1, 2, 3, 4, 5, 1, 2, 4, 1, 2, 3, 4, 5, 3, 4, 1], \"Freq\": [0.936461111306372, 0.9173031825372807, 0.2007306802101419, 0.41293168500372046, 0.09864479141755544, 0.11585027829271047, 0.17262838498072203, 0.9491681525242215, 0.3365148478403776, 0.2596942866162106, 0.13528576711158616, 0.10945230404505212, 0.15907974625181487, 0.46511316584602935, 0.08430622668176876, 0.22076800037853006, 0.08359176713361817, 0.14646420737086946, 0.9196115022672752, 0.04598057511336376, 0.1961074629193749, 0.46836303644042193, 0.06154436336299531, 0.11370060350112693, 0.15959809482268275, 0.9464009459817405, 0.006260140658770902, 0.6917455427941848, 0.02504056263508361, 0.053211195599552674, 0.22223499338636704, 0.9123746272842321, 0.22110543262822094, 0.2753767660915115, 0.2653265191538651, 0.12261301263928616, 0.11557783978293368, 0.9749000898999846, 0.10549481966723988, 0.5100984809792423, 0.05460908312186535, 0.11666485939671234, 0.21471298591097057, 0.945595100867589, 0.8553072688417258, 0.058727900005747936, 0.8809185000862191, 0.3879498899938765, 0.09008574224576907, 0.29786414774810743, 0.07410278797635843, 0.14965857179539055, 0.09723954640896729, 0.013891363772709612, 0.8612645539079959, 0.027782727545419224, 0.8998400672418091, 0.2584281009517189, 0.28955998357932233, 0.15331615315529437, 0.10778995920525064, 0.19080831287885983, 0.08637738474971719, 0.8637738474971719, 0.11463089352732454, 0.8788368503761549, 0.8738110706068412, 0.4509486858185718, 0.16922594606411223, 0.2355702090097017, 0.07884390668896138, 0.06634426294558946, 0.7985853449491389, 0.04285092094849038, 0.03116430614435664, 0.1168661480413374, 0.01168661480413374, 0.21012519918742512, 0.4084628872009215, 0.15221264428942746, 0.0814875772458551, 0.14760013991702056, 0.7290344841145813, 0.05452612485067505, 0.03433126379486948, 0.13934454128505847, 0.042409208217191706, 0.2041382254103693, 0.051034556352592325, 0.6974722701520951, 0.03402303756839488, 0.03402303756839488, 0.3533819707578781, 0.10679739939043467, 0.2258960699148461, 0.25441265299815585, 0.0592697609182517, 0.36311648287604853, 0.16393122770617724, 0.135728005735222, 0.21593091821512594, 0.1216263947497444, 0.9575687871316132, 0.9528816102229987, 0.03073811645880641, 0.03073811645880641, 0.9290883765989405, 0.4202011380691766, 0.03232316446685974, 0.03232316446685974, 0.4719182012161522, 0.045252430253603634, 0.9324485289520767, 0.03453513070192877, 0.03453513070192877, 0.9525983493872288, 0.05013675523090678, 0.08246815382180361, 0.879660307432572, 0.027489384607267874, 0.042565316559535854, 0.9364369643097888, 0.934573095624088, 0.7740815122801424, 0.033564510017567155, 0.04195563752195894, 0.12376913068977886, 0.027271164389273312, 0.07407042882012178, 0.8888451458414615, 0.057026523215601595, 0.26232200679176737, 0.06843182785872191, 0.022810609286240638, 0.5930758414422566, 0.05142790796992158, 0.9257023434585885, 0.9501550213048227, 0.027147286322994933, 0.12877755060954, 0.096583162957155, 0.13797594708164998, 0.6070941671592599, 0.027595189416329997, 0.019786744853907967, 0.0593602345617239, 0.1187204691234478, 0.7716830493024107, 0.019786744853907967, 0.9161077387367379, 0.8827161828015814, 0.02157013228650481, 0.04314026457300962, 0.026547855121852072, 0.028207096066967825, 0.07490920282402039, 0.5757307302760424, 0.15623919446152823, 0.07062867694836208, 0.12199498745626178, 0.8107030921612737, 0.03685014055278517, 0.03224387298368702, 0.09673161895106105, 0.02303133784549073, 0.9374604716718014, 0.04934002482483165, 0.9517372278240579, 0.02643714521733494, 0.03903347784287106, 0.6710040714893549, 0.10037180016738273, 0.04089221488300778, 0.1486989632109374, 0.050741846471524084, 0.7119234823125954, 0.07073105871788206, 0.03690316107019933, 0.13069869545695598, 0.8810983460582132, 0.35861598315540716, 0.24112655629306426, 0.04644930829441465, 0.14344639326216288, 0.21107112151432536, 0.9607750358650847, 0.02426335990325072, 0.39687924413174386, 0.13344847946787894, 0.02426335990325072, 0.4211426040349946, 0.9328739056537804, 0.05830461910336127, 0.09551639550416173, 0.08187119614642434, 0.6754373682080008, 0.06822599678868695, 0.07504859646755564, 0.027326771322268635, 0.027326771322268635, 0.9291102249571336, 0.027326771322268635, 0.027326771322268635, 0.9572855143838326, 0.11040364269251163, 0.6548078118314482, 0.09898257620707938, 0.06091235458897193, 0.07233342107440417, 0.9136580037447652, 0.04808726335498764, 0.8141992340585136, 0.05855164098385512, 0.0187807150325573, 0.10053206282133614, 0.007733235601641242, 0.810613278178578, 0.04679149817128377, 0.008567457411643508, 0.09490106671358962, 0.0388830759451513, 0.3807633329538947, 0.02884570704196172, 0.051922272675531095, 0.46153131267138753, 0.07499883830910048, 0.850309729200729, 0.06044499858175577, 0.9066749787263365, 0.9234157151690657, 0.9714605008569952, 0.2157093846784982, 0.1754436328718452, 0.27323188725943104, 0.09635019182306254, 0.23728032314634803, 0.1691911254212144, 0.27747344569079163, 0.5075733762636432, 0.0067676450168485764, 0.04060587010109146, 0.8954152863097332, 0.3014686792894261, 0.16803172288263094, 0.1548527642251697, 0.02141580781837453, 0.3525371440870884, 0.9469241812186496, 0.2665977626543792, 0.16149672160794123, 0.05895912058702617, 0.4101504040836603, 0.10253760102091508, 0.3263560306903489, 0.27264326730589566, 0.17133691611243318, 0.10130635119346248, 0.12850268708432488, 0.15055139610013127, 0.10808818181547887, 0.5288600324543073, 0.061764675323130784, 0.15055139610013127, 0.8781713014991586, 0.010829604060652325, 0.7418278781546842, 0.07851462943972935, 0.016244406090978488, 0.15432185786429564, 0.023863031421406725, 0.9306582254348623, 0.023863031421406725, 0.023863031421406725, 0.9433500670774241, 0.8934213874155635, 0.022908240702963167, 0.09163296281185267, 0.8633568592423059, 0.7693336530743156, 0.062313629220972604, 0.009586712187841939, 0.12223058039498472, 0.038346848751367756, 0.9213715774753463, 0.927642149162184, 0.04382488780271168, 0.08764977560542336, 0.832672868251522, 0.9722216994889387, 0.03472220355317638, 0.9481404420425124, 0.1420937233959476, 0.015788191488438623, 0.0710468616979738, 0.757833191445054, 0.007894095744219311, 0.9663280086661151, 0.902502270008743, 0.006400725319210943, 0.01920217595763283, 0.05120580255368754, 0.01920217595763283, 0.04961242114552628, 0.5675176955427275, 0.23717157425666222, 0.041142007779216914, 0.1040650785003722, 0.11253942882472358, 0.637723430006767, 0.07190019063801785, 0.04689142867696816, 0.13129600029551083, 0.2241165747170037, 0.18676381226416974, 0.08619868258346296, 0.39651393988392963, 0.10631170851960432, 0.8942849432209967, 0.9435429782392529, 0.9044516356756068, 0.2023209776305739, 0.4260254732221028, 0.12172156377774365, 0.10856247580177138, 0.1414601957417021, 0.4954362179201705, 0.1121213505901376, 0.1261365194139048, 0.11352286747251432, 0.15346609862025085, 0.8425864655402349, 0.03482987148671155, 0.02519607724570623, 0.045204726823178824, 0.0526153377777983, 0.8972611025440603, 0.028943906533679366, 0.014471953266839683, 0.028943906533679366, 0.028943906533679366, 0.8197981809877719, 0.01673057512219943, 0.15057517609979484, 0.9385729514362056, 0.06066531722426806, 0.8493144411397529, 0.03033265861213403, 0.03033265861213403, 0.07517996831850743, 0.902159619822089, 0.17548107229006854, 0.3546307384259225, 0.08254336153017162, 0.129623649217751, 0.2586358661278711, 0.26036684609241145, 0.41724611032024417, 0.07316637953482955, 0.10941999101605139, 0.13974119334580057, 0.09998945727535259, 0.019997891455070516, 0.09998945727535259, 0.019997891455070516, 0.7599198752926797, 0.6821150914960893, 0.05912625528824453, 0.05479994392569005, 0.13123144466415249, 0.07354729316342612, 0.18382052968073007, 0.39137764427518806, 0.13965944146914328, 0.1727802576278334, 0.11261077493954635, 0.11894661718739438, 0.317190979166385, 0.08755792654072087, 0.08590589019089594, 0.3915326149085065, 0.03446682544603267, 0.10340047633809801, 0.8616706361508167, 0.9435962090913659, 0.9243090730905981, 0.5023542388924864, 0.11343482813701306, 0.07523738600924336, 0.25927960717031556, 0.04977242459073022, 0.011341379333428969, 0.8165793120068857, 0.022682758666857938, 0.022682758666857938, 0.12475517266771866, 0.04071130074808442, 0.9363599172059416, 0.9192074257644514, 0.01875933521968268, 0.03751867043936536, 0.08702238840632985, 0.848468286961716, 0.021755597101582463, 0.06526679130474738, 0.0673876889459266, 0.0673876889459266, 0.8760399562970458, 0.21323804792936832, 0.3790306301944522, 0.11621473612150574, 0.11354926052238863, 0.17752067490119913, 0.22141198289385006, 0.1976306958422884, 0.14022758916610503, 0.18286989698269837, 0.25749393566173673, 0.07181930447262866, 0.8618316536715438, 0.03590965223631433, 0.6605021747552944, 0.09336941737378507, 0.13659599949127815, 0.05533002511039115, 0.053600961825691434, 0.9175696510651442, 0.014337025797892878, 0.014337025797892878, 0.028674051595785757, 0.014337025797892878, 0.26777946352048404, 0.29403235210092366, 0.17392538684541245, 0.15489204262459372, 0.10894948760882439, 0.05636315643946207, 0.05636315643946207, 0.9018105030313931, 0.912370366948811, 0.7761842996253119, 0.04740056791604958, 0.021725260294856056, 0.13232658543230508, 0.02370028395802479, 0.9336341234711957, 0.04913863807743135, 0.5256037609504741, 0.075230315746173, 0.11778687505567033, 0.1776887618562424, 0.1034668953828063, 0.9615686793957257, 0.7539456187638198, 0.05392593494532045, 0.086484990006646, 0.07631028529998177, 0.029506643649326283, 0.8224782699932193, 0.037132201805562946, 0.009283050451390737, 0.12253626595835772, 0.007426440361112589, 0.9052687058116005, 0.38874039406173133, 0.14666762120277776, 0.20718581441751616, 0.07902964055101132, 0.17870666466940396, 0.8534955896021393, 0.04580477225056204, 0.02137556038359562, 0.05038524947561824, 0.02748286335033722, 0.9261883162633172, 0.9245915653544083, 0.15926743614729974, 0.08958793283285611, 0.6967950331444364, 0.029862644277618703, 0.039816859036824935, 0.010981879794539998, 0.021963759589079996, 0.010981879794539998, 0.054909398972699995, 0.9114960229468199, 0.22849230340906743, 0.3148309982086769, 0.14302571663773686, 0.12558355607215918, 0.1875032260799599, 0.49374234517511223, 0.10267812569752012, 0.11260790328555191, 0.20239844530498824, 0.08831163897441031, 0.9741824477150597, 0.9268391825750224, 0.04029735576413141, 0.3026810113295297, 0.28708392217889367, 0.09212030779594381, 0.15792052765018938, 0.1598701637940189, 0.3778890187172952, 0.08743958063371657, 0.2897461706790179, 0.13573060908021956, 0.10900644770691208, 0.8183317879720753, 0.03519706614933657, 0.030797432880669502, 0.0923922986420085, 0.02639779961200243, 0.918704439122992, 0.9491577008203803, 0.08787184136980844, 0.609610899503046, 0.05491990085613027, 0.08512584632700193, 0.1620137075255843, 0.8921523831216938, 0.9056434316765337, 0.8880697041660612, 0.008057759142514078, 0.1396678251369107, 0.0993790294243403, 0.6929672862562107, 0.059090233711769906, 0.9468043929690014, 0.04331329784490646, 0.9095792547430356, 0.04331329784490646, 0.9197414055061661, 0.18644037673532882, 0.21097200525313525, 0.37778707917421894, 0.056422745590954775, 0.1668150739210837, 0.07627637454373246, 0.25552585472150374, 0.20976002999526425, 0.07627637454373246, 0.3813818727186623, 0.2407886367243504, 0.06256712607798082, 0.242684610241865, 0.15167788140116562, 0.30145978928481665, 0.05019984977169262, 0.5226690240935055, 0.04281751892291429, 0.0812056393365616, 0.30415203096966703, 0.08749585619199061, 0.48442827696541146, 0.11843951265013364, 0.11843951265013364, 0.1920640745677843, 0.09553677976997355, 0.740410043217295, 0.03980699157082231, 0.03980699157082231, 0.08757538145580909, 0.8631854573640647, 0.025387807569531313, 0.016925205046354207, 0.07616342270859394, 0.008462602523177104, 0.051697482110978535, 0.9305546779976137, 0.13005822163576622, 0.22360887228605417, 0.568149073461505, 0.029662401425701066, 0.04791618691844018, 0.08509363658526162, 0.15600500040631296, 0.7091136382105134, 0.014182272764210269, 0.028364545528420538, 0.22178163499899697, 0.40820677746192197, 0.11731927068787522, 0.12053349728206357, 0.13258684701026993, 0.9175280629494122, 0.9599275654391434, 0.9439674497982556, 0.08890611990458841, 0.033339794964220654, 0.022226529976147102, 0.7890418141532222, 0.07779285491651486, 0.9587098349264482, 0.9844647271967939, 0.9699297007173533, 0.9817799997122583, 0.01753178570914747, 0.9601300939100627, 0.9703037796565561, 0.35869727892517567, 0.05518419675771933, 0.009197366126286556, 0.5702366998297664, 0.009197366126286556, 0.0365380840414714, 0.2256764014326175, 0.1891383173911461, 0.06232967277662769, 0.48574158784544336, 0.9265007196326837, 0.05191947501012276, 0.9345505501822098, 0.940997582260294, 0.9415463107042588, 0.03745423773337162, 0.9363559433342906, 0.17774489798863674, 0.4237236193757549, 0.12130457493063361, 0.14826114713744107, 0.12972850374526093, 0.8759903652476091, 0.8667998044850987, 0.022357027504434475, 0.06707108251330342, 0.8048529901596411, 0.0894281100177379, 0.039979722291082744, 0.9195336126949031, 0.039979722291082744, 0.13578160854316879, 0.5508853832322848, 0.09892660051002297, 0.12802265948355915, 0.0853484396557061, 0.9321464021606443, 0.13613595011934948, 0.06806797505967474, 0.022689325019891578, 0.7487477256564221, 0.5344651513011729, 0.15202261318898158, 0.1172551097242369, 0.08521446927633496, 0.11180138369055147, 0.87339349861557, 0.02253918706104697, 0.02253918706104697, 0.0676175611831409, 0.011269593530523484, 0.3034050468578223, 0.18442267554102926, 0.3807435882137378, 0.10708413418511377, 0.026771033546278442, 0.37870720856910994, 0.20010554396001864, 0.1947295741222868, 0.1218553163219218, 0.10513007682675607, 0.9364356749379258, 0.4413936397970952, 0.06976434428403937, 0.059031368240341005, 0.3515049654311214, 0.07915569832227544, 0.8441070069607337, 0.08625911020036696, 0.01232273002862385, 0.05545228512880733, 0.006161365014311925, 0.01737171636478497, 0.8512141018744634, 0.052115149094354905, 0.03474343272956994, 0.052115149094354905, 0.042600708279990816, 0.8946148738798071, 0.10870178226312165, 0.5656929485121637, 0.06877051530932186, 0.05989690043069969, 0.1974379310493434, 0.02172784117367073, 0.06518352352101218, 0.02172784117367073, 0.04345568234734146, 0.8691136469468291, 0.9502913948523021, 0.9418329598559789, 0.891670685897647, 0.027864708934301468, 0.06966177233575367, 0.9297720104022947, 0.04715937953649382, 0.8488688316568888, 0.04715937953649382, 0.016101758386313923, 0.016101758386313923, 0.08050879193156961, 0.04830527515894177, 0.845342315281481, 0.6867542724221213, 0.09941585657920232, 0.023545860768758444, 0.16612912875735125, 0.02485396414480058, 0.761137390466561, 0.03708932199307395, 0.03225158434180344, 0.1322314958013941, 0.03547674277598378, 0.6951201146167457, 0.0675389631014087, 0.07133328687115076, 0.10851765981462297, 0.05767372130007934, 0.15769911545798942, 0.49938053228363316, 0.06023230104298207, 0.14346238975692094, 0.14017699151821283, 0.10162844474070498, 0.5609890149686915, 0.1443123915318011, 0.07317248021330759, 0.11585642700440368, 0.3378127680830068, 0.24037561592845247, 0.17970720043599409, 0.15718634923046032, 0.08456809432282075, 0.12174382365514372, 0.852206765586006, 0.928022100056022, 0.033143646430572216, 0.1586353421320611, 0.022662191733151586, 0.022662191733151586, 0.7478523271940024, 0.04532438346630317, 0.005991531966171909, 0.09586451145875055, 0.023966127864687638, 0.065906851627891, 0.8088568154332078, 0.006088563298213757, 0.024354253192855026, 0.012177126596427513, 0.030442816491068784, 0.9193730580302772, 0.17620424942574037, 0.4546069635184101, 0.08105395473584057, 0.1113610856370679, 0.17620424942574037, 0.39516048872271003, 0.08362561758364356, 0.20611947995968483, 0.09599278638122465, 0.21907556155715074, 0.9530250986091732, 0.22025581628789437, 0.7433633799716435, 0.8567768848175489, 0.9633076171871592, 0.033654962250275595, 0.6914564971420258, 0.07036946652330352, 0.04895267236403723, 0.15297710113761634, 0.3203819642874612, 0.29632926426588, 0.16596363014891008, 0.0923623680828717, 0.1250740401122221, 0.37776044625585387, 0.35295799271380285, 0.02480245354205101, 0.16280584889141175, 0.08203888479293796, 0.614427806378974, 0.09610122097753881, 0.028520362354624424, 0.20336258374601762, 0.05704072470924885, 0.2714783657038641, 0.28356849535059486, 0.15332482597444955, 0.19783848512832197, 0.09342372908837428, 0.23236373858680237, 0.3848953072459076, 0.11330132707951521, 0.15362891807391893, 0.11577036326284605, 0.2432591497643873, 0.40039549495380516, 0.0876337309710215, 0.11180855330785504, 0.15713634518941788, 0.8693681627270934, 0.056088268563038286, 0.056088268563038286, 0.00934804476050638, 0.00934804476050638, 0.07302110047459011, 0.17974424732206798, 0.6403388810848671, 0.03370204637288775, 0.07302110047459011, 0.8323177081270975, 0.01590416002790632, 0.03180832005581264, 0.09012357349146916, 0.03180832005581264, 0.8906170316040564, 0.05030957922213119, 0.07546436883319678, 0.07546436883319678, 0.804953267554099, 0.009735067354648875, 0.04867533677324437, 0.009735067354648875, 0.0389402694185955, 0.8956261966276964, 0.03718588555366559, 0.03718588555366559, 0.8924612532879741, 0.9142590832651323, 0.15770198290682105, 0.4389713203856534, 0.1809135301744917, 0.09557695933746731, 0.12698081740549227, 0.029709814941869805, 0.029709814941869805, 0.8912944482560942, 0.9005837759710686, 0.036023351038842744, 0.012007783679614248, 0.036023351038842744, 0.024015567359228496, 0.8063858597744628, 0.04766812964184016, 0.03177875309456011, 0.039723441368200135, 0.07547453859958025, 0.9184964720857279, 0.9592638931468744, 0.03045279636560506, 0.7502461650071792, 0.05536872066473647, 0.02214748826589459, 0.14119023769507802, 0.8807643290660979, 0.9221557174499533, 0.9511029056329657, 0.9270187808668662, 0.03433402892099505, 0.1347566291229303, 0.8534586511118918, 0.13538785753827384, 0.04600558265863674, 0.2300279132931837, 0.552066991903641, 0.038118911345727584, 0.9630025525695287, 0.06476870549355242, 0.906761876909734, 0.014070383895716559, 0.014070383895716559, 0.028140767791433118, 0.014070383895716559, 0.9427157210130095, 0.021894963183622017, 0.23208660974639336, 0.5780270280476212, 0.017515970546897613, 0.1532647422853541, 0.7485338502295363, 0.03309843555436725, 0.017822234529274672, 0.15276201025092578, 0.048374636579459826, 0.9106529495018836, 0.02046411122476143, 0.005116027806190357, 0.05627630586809393, 0.010232055612380714, 0.057744569682052535, 0.1539855191521401, 0.750679405866683, 0.01924818989401751, 0.01924818989401751, 0.9641863379675477, 0.03321302702275644, 0.23551055525227294, 0.2868397788328965, 0.08756161669635788, 0.3562851989713873, 0.9447541196380488, 0.09363410622344574, 0.0374536424893783, 0.7116192072981876, 0.09363410622344574, 0.056180463734067446, 0.9408947300051852, 0.9625896962077761, 0.2435127974799483, 0.15846237188952517, 0.1915872744879005, 0.17099611881864016, 0.23545538873980296, 0.013626289372655191, 0.8448299411046218, 0.040878868117965574, 0.027252578745310382, 0.06813144686327596, 0.9483887516510725, 0.039516197985461354, 0.039516197985461354, 0.8468106743890418, 0.06319482644694342, 0.012638965289388683, 0.0758337917363321, 0.9174045090998115, 0.05396497112351832, 0.008787030132281737, 0.38662932582039644, 0.02636109039684521, 0.008787030132281737, 0.5623699284660312, 0.0358561069217446, 0.0717122138434892, 0.0358561069217446, 0.8605465661218704, 0.9485368751098218, 0.9642353104202874, 0.07558725760651813, 0.8692534624749586, 0.037793628803259066, 0.6036038056811239, 0.07037207830657334, 0.05441140075250516, 0.2060378375161529, 0.06601916624637293, 0.9556447867869563, 0.6481118476293459, 0.031212185296597396, 0.012852076298598927, 0.2845816894689763, 0.023868141697398006, 0.9042931162752578, 0.06616778899575057, 0.3818324103458388, 0.03369109503051519, 0.07486910006781153, 0.49413606044755615, 0.018717275016952882, 0.09446784796547471, 0.249437576088613, 0.5126738265991493, 0.042457459759763914, 0.0997750304354452, 0.025575214154822855, 0.15345128492893712, 0.7672564246446857, 0.015345128492893713, 0.035805299816752, 0.9003377506025834, 0.9816771110278197, 0.03289747840827693, 0.7177631652714965, 0.059813597105958044, 0.017944079131787413, 0.17345943160727834, 0.94612628281088, 0.10107293412970682, 0.6072729182834451, 0.06682508041633509, 0.09606105309848167, 0.12947359330664923, 0.6350361718225467, 0.03334664829205154, 0.07829213077264274, 0.23487639231792823, 0.018848105556376955, 0.005275100499217975, 0.07385140698905164, 0.0844016079874876, 0.2743052259593347, 0.5644357534163233, 0.9255561849468158, 0.7762320244895676, 0.03263437940796981, 0.0291378387571159, 0.13170303118216387, 0.03146886585768517, 0.956955146477758, 0.9455113926160501, 0.9545850950134367, 0.9241235134797665, 0.2410569195261627, 0.15711745647687392, 0.23460003775314048, 0.32284408865111075, 0.04304587848681477, 0.3427087817839715, 0.21402039152504265, 0.17646326475419646, 0.11598524443937795, 0.1510569731150946, 0.032512243756791334, 0.032512243756791334, 0.7802938501629919, 0.13004897502716534, 0.8478647346445866, 0.04636760267587583, 0.0066239432394108325, 0.06623943239410833, 0.02649577295764333, 0.9164843191261252, 0.959427821339941, 0.9532569431703111, 0.9262474296673249, 0.9034159694911323, 0.026571057926209774, 0.026571057926209774, 0.03985658688931466, 0.013285528963104887, 0.30750902445829925, 0.24138779092234683, 0.13495977803913575, 0.2155733367336531, 0.10054050578754409, 0.07330893299467933, 0.6391622595473604, 0.05956350805817696, 0.13058153689677257, 0.09850887871160036, 0.9090365243329288, 0.5676040328202281, 0.024239318127554227, 0.010099715886480927, 0.3514701128495363, 0.046458693077812266, 0.010973345341813634, 0.0658400720508818, 0.10973345341813633, 0.0329200360254409, 0.779107519268768, 0.06938089161475966, 0.13876178322951932, 0.06938089161475966, 0.7169358800191832, 0.023126963871586557, 0.21102110266013435, 0.24744736442884802, 0.3416532138306937, 0.08352918646963652, 0.11618721426227635, 0.06963767004736175, 0.31046794562782115, 0.4700542728196918, 0.04642511336490783, 0.10155493548573588, 0.08946117320470763, 0.13763257416108865, 0.5642935540604634, 0.02752651483221773, 0.17892234640941526, 0.812916868984555, 0.04833559761529786, 0.008788290475508703, 0.11424777618161312, 0.013182435713263054, 0.022243035660899056, 0.7409711254536998, 0.14318954206703766, 0.0625585377962786, 0.0305841740337362, 0.28613417640980104, 0.08489695344027064, 0.3898971195034651, 0.17293823848944018, 0.06603096378687716, 0.9537197923875168, 0.015562591085156657, 0.1089381375960966, 0.06225036434062663, 0.7781295542578328, 0.046687773255469966, 0.030079239468885372, 0.04511885920332806, 0.7970998459254623, 0.015039619734442686, 0.12031695787554149, 0.09337908505025003, 0.09337908505025003, 0.04668954252512501, 0.7703774516645627, 0.9085148592823306, 0.05678217870514566, 0.02839108935257283, 0.8958364064201958, 0.14861623139018634, 0.817389272646025, 0.34175812044708365, 0.035483083543686275, 0.016807776415430343, 0.5957422973913643, 0.01120518427695356, 0.9471644340682293, 0.9085705482783382, 0.9793123265027351, 0.8992214198707824, 0.903692273542941, 0.6354211087874079, 0.10565196583163551, 0.052825982915817755, 0.15998726254504805, 0.045279413927843785, 0.5103540208281414, 0.04800359601848855, 0.03284456569686058, 0.3663432327726758, 0.040424080857674564, 0.7413037418009679, 0.05016341109931362, 0.04273179464015604, 0.1114742468873636, 0.0557371234436818, 0.8751001279965497, 0.0434832361737416, 0.0108708090434354, 0.032612427130306196, 0.032612427130306196, 0.9466797814536367, 0.011883009809041466, 0.015844013078721953, 0.02376601961808293, 0.003961003269680488, 0.3573580771937086, 0.22552373036381984, 0.14923380377190454, 0.16261800141960897, 0.10506595153447987, 0.18384392391979662, 0.5252683540565618, 0.08419742734141945, 0.11355065889163908, 0.09346686888359408, 0.11442921749949055, 0.839147594996264, 0.8923383725910117, 0.04303415907202873, 0.8606831814405747, 0.08606831814405747, 0.9661188710060367, 0.08431681607736516, 0.8853265688123341, 0.9608812425454062, 0.03529992893417901, 0.7059985786835803, 0.017649964467089507, 0.2294495380721636, 0.9530437148761385, 0.9341574542796514, 0.07003782672444638, 0.5728467021641286, 0.054357716263749425, 0.123350202290816, 0.17875325925194524, 0.44177817612195097, 0.18626985511938016, 0.12867325518115078, 0.1446042296321504, 0.09864949563888226, 0.9067340346896072, 0.9179931308236797, 0.920956143290717, 0.03064925083989216, 0.8888282743568726, 0.03064925083989216, 0.5544585434707743, 0.14653547220299035, 0.07128752701767098, 0.13135386922700487, 0.09637017541277744, 0.8750069606308535, 0.0641011355534061, 0.8333147621942792, 0.03205056777670305, 0.0641011355534061, 0.9440969613207623, 0.9395032598863352, 0.9374887776665062, 0.9232822319310431, 0.026379492340886945, 0.026379492340886945, 0.3639360033169997, 0.1539729244802691, 0.30256218027241694, 0.1335149834654082, 0.04629955071784316, 0.01639550216467276, 0.06558200865869104, 0.09837301298803657, 0.01639550216467276, 0.8033796060689653, 0.22592803545995538, 0.11296401772997769, 0.5486823718313202, 0.05917162833475022, 0.05917162833475022, 0.04274109086326642, 0.8975629081285947, 0.04274109086326642, 0.05140522450481878, 0.8567537417469797, 0.03427014966987919, 0.017135074834939593, 0.05140522450481878, 0.46719708750599176, 0.23200219835149477, 0.1324966683245922, 0.08620265168105999, 0.08247784574422407, 0.2860289620845928, 0.28809167094577975, 0.10794843040211795, 0.12307496205082237, 0.19526977219236621, 0.16807615648327798, 0.39746048915276405, 0.12219928994938076, 0.21770658482449404, 0.09467317002904242, 0.22297674362478107, 0.3746793961788843, 0.12750869503469883, 0.09873750230892064, 0.17589661007350763, 0.44444972523480186, 0.25950532223175404, 0.06414738302357965, 0.11204964956716186, 0.11996393708305804, 0.10681089310722153, 0.5147046660601617, 0.13467460435258366, 0.1369965802896972, 0.10603690112818369, 0.2668658833649633, 0.3526044356004383, 0.14660921269702434, 0.07868646352346623, 0.15551711422798278, 0.10130545047128832, 0.06753696698085888, 0.8442120872607359, 0.028254807692771937, 0.028254807692771937, 0.904153846168702, 0.028254807692771937, 0.028254807692771937, 0.8970609135194316, 0.056066307094964477, 0.9830482508348484], \"Term\": [\"acai\", \"accent\", \"after\", \"after\", \"after\", \"after\", \"after\", \"alex\", \"always\", \"always\", \"always\", \"always\", \"always\", \"amazing\", \"amazing\", \"amazing\", \"amazing\", \"amazing\", \"amazon\", \"amazon\", \"another\", \"another\", \"another\", \"another\", \"another\", \"anxious\", \"appointment\", \"appointment\", \"appointment\", \"appointment\", \"appointment\", \"appreciates\", \"around\", \"around\", \"around\", \"around\", \"around\", \"asado\", \"asked\", \"asked\", \"asked\", \"asked\", \"asked\", \"associate\", \"aunt\", \"avec\", \"avec\", \"awesome\", \"awesome\", \"awesome\", \"awesome\", \"awesome\", \"ayce\", \"ayce\", \"ayce\", \"ayce\", \"baba\", \"back\", \"back\", \"back\", \"back\", \"back\", \"baklava\", \"baklava\", \"balloons\", \"balloons\", \"bao\", \"bar\", \"bar\", \"bar\", \"bar\", \"bar\", \"bbq\", \"bbq\", \"bbq\", \"bbq\", \"bbq\", \"because\", \"because\", \"because\", \"because\", \"because\", \"beef\", \"beef\", \"beef\", \"beef\", \"beef\", \"bellagio\", \"bellagio\", \"bellagio\", \"bellagio\", \"bellagio\", \"best\", \"best\", \"best\", \"best\", \"best\", \"better\", \"better\", \"better\", \"better\", \"better\", \"biryani\", \"bisque\", \"bisque\", \"bisque\", \"bitterness\", \"bland\", \"bland\", \"bland\", \"bland\", \"bland\", \"blended\", \"blended\", \"blended\", \"bouncers\", \"bouncers\", \"bowling\", \"bowling\", \"bowling\", \"brake\", \"brake\", \"brakes\", \"bread\", \"bread\", \"bread\", \"bread\", \"bread\", \"brewery\", \"brewery\", \"broken\", \"broken\", \"broken\", \"broken\", \"broken\", \"brows\", \"brows\", \"btw\", \"btw\", \"buffet\", \"buffet\", \"buffet\", \"buffet\", \"buffet\", \"buffets\", \"buffets\", \"buffets\", \"buffets\", \"buffets\", \"bumper\", \"burger\", \"burger\", \"burger\", \"burger\", \"burger\", \"business\", \"business\", \"business\", \"business\", \"business\", \"butter\", \"butter\", \"butter\", \"butter\", \"butter\", \"butternut\", \"butternut\", \"cajun\", \"cajun\", \"call\", \"call\", \"call\", \"call\", \"call\", \"called\", \"called\", \"called\", \"called\", \"called\", \"calzone\", \"came\", \"came\", \"came\", \"came\", \"came\", \"cannoli\", \"car\", \"car\", \"car\", \"car\", \"car\", \"carnitas\", \"carnitas\", \"casino\", \"casino\", \"casino\", \"casino\", \"casino\", \"casinos\", \"casinos\", \"casinos\", \"casinos\", \"casinos\", \"cha\", \"charge\", \"charge\", \"charge\", \"charge\", \"charge\", \"chase\", \"chase\", \"cheese\", \"cheese\", \"cheese\", \"cheese\", \"cheese\", \"chicken\", \"chicken\", \"chicken\", \"chicken\", \"chicken\", \"chinese\", \"chinese\", \"chinese\", \"chinese\", \"chinese\", \"chirashi\", \"christina\", \"christina\", \"chunky\", \"cirque\", \"clean\", \"clean\", \"clean\", \"clean\", \"clean\", \"club\", \"club\", \"club\", \"club\", \"club\", \"coca\", \"coffee\", \"coffee\", \"coffee\", \"coffee\", \"coffee\", \"cola\", \"cold\", \"cold\", \"cold\", \"cold\", \"cold\", \"come\", \"come\", \"come\", \"come\", \"come\", \"comfortable\", \"comfortable\", \"comfortable\", \"comfortable\", \"comfortable\", \"comme\", \"company\", \"company\", \"company\", \"company\", \"company\", \"computer\", \"computer\", \"computer\", \"computer\", \"concoction\", \"contacted\", \"contacted\", \"contacted\", \"contractor\", \"cooked\", \"cooked\", \"cooked\", \"cooked\", \"cooked\", \"corned\", \"couldnt\", \"coworker\", \"coworker\", \"coworker\", \"cox\", \"cox\", \"crema\", \"crust\", \"crust\", \"crust\", \"crust\", \"crust\", \"curly\", \"curry\", \"curry\", \"curry\", \"curry\", \"curry\", \"customer\", \"customer\", \"customer\", \"customer\", \"customer\", \"customers\", \"customers\", \"customers\", \"customers\", \"customers\", \"cut\", \"cut\", \"cut\", \"cut\", \"cut\", \"dances\", \"dang\", \"dans\", \"day\", \"day\", \"day\", \"day\", \"day\", \"definitely\", \"definitely\", \"definitely\", \"definitely\", \"definitely\", \"delicious\", \"delicious\", \"delicious\", \"delicious\", \"delicious\", \"delish\", \"delish\", \"delish\", \"delish\", \"delish\", \"dental\", \"dental\", \"dental\", \"dentists\", \"des\", \"des\", \"des\", \"des\", \"designs\", \"designs\", \"did\", \"did\", \"did\", \"did\", \"did\", \"didn\", \"didn\", \"didn\", \"didn\", \"didn\", \"dim\", \"dim\", \"dim\", \"dim\", \"dim\", \"dinner\", \"dinner\", \"dinner\", \"dinner\", \"dinner\", \"don\", \"don\", \"don\", \"don\", \"don\", \"done\", \"done\", \"done\", \"done\", \"done\", \"dragon\", \"dragon\", \"dragon\", \"dunkin\", \"ears\", \"eat\", \"eat\", \"eat\", \"eat\", \"eat\", \"email\", \"email\", \"email\", \"email\", \"email\", \"enchilada\", \"enchilada\", \"enchiladas\", \"enchiladas\", \"enchiladas\", \"est\", \"est\", \"est\", \"est\", \"ethiopian\", \"ethiopian\", \"ethiopian\", \"even\", \"even\", \"even\", \"even\", \"even\", \"experience\", \"experience\", \"experience\", \"experience\", \"experience\", \"facials\", \"facials\", \"facials\", \"favorite\", \"favorite\", \"favorite\", \"favorite\", \"favorite\", \"filet\", \"filet\", \"filet\", \"filet\", \"filet\", \"first\", \"first\", \"first\", \"first\", \"first\", \"fixing\", \"fixing\", \"fixing\", \"flair\", \"flavor\", \"flavor\", \"flavor\", \"flavor\", \"flavor\", \"float\", \"float\", \"food\", \"food\", \"food\", \"food\", \"food\", \"freezer\", \"fresh\", \"fresh\", \"fresh\", \"fresh\", \"fresh\", \"fried\", \"fried\", \"fried\", \"fried\", \"fried\", \"friendlier\", \"friendly\", \"friendly\", \"friendly\", \"friendly\", \"friendly\", \"fries\", \"fries\", \"fries\", \"fries\", \"fries\", \"froyo\", \"frustration\", \"games\", \"games\", \"games\", \"games\", \"games\", \"gel\", \"gel\", \"gel\", \"gel\", \"gel\", \"going\", \"going\", \"going\", \"going\", \"going\", \"good\", \"good\", \"good\", \"good\", \"good\", \"goodbye\", \"gordon\", \"gordon\", \"got\", \"got\", \"got\", \"got\", \"got\", \"great\", \"great\", \"great\", \"great\", \"great\", \"grilled\", \"grilled\", \"grilled\", \"grilled\", \"grilled\", \"gristle\", \"gumbo\", \"guy\", \"guy\", \"guy\", \"guy\", \"guy\", \"gyms\", \"habanero\", \"hahaha\", \"hair\", \"hair\", \"hair\", \"hair\", \"hair\", \"hakka\", \"hallway\", \"hallway\", \"hallway\", \"heartbeat\", \"helpful\", \"helpful\", \"helpful\", \"helpful\", \"helpful\", \"her\", \"her\", \"her\", \"her\", \"her\", \"highly\", \"highly\", \"highly\", \"highly\", \"highly\", \"him\", \"him\", \"him\", \"him\", \"him\", \"his\", \"his\", \"his\", \"his\", \"his\", \"hold\", \"hold\", \"hold\", \"hold\", \"hold\", \"homemade\", \"homemade\", \"homemade\", \"homemade\", \"homemade\", \"horribly\", \"horribly\", \"hotel\", \"hotel\", \"hotel\", \"hotel\", \"hotel\", \"hotels\", \"hotels\", \"hotels\", \"hotels\", \"hotels\", \"how\", \"how\", \"how\", \"how\", \"how\", \"iffy\", \"ikea\", \"immaculate\", \"indian\", \"indian\", \"indian\", \"indian\", \"indian\", \"inner\", \"iphone\", \"izakaya\", \"jalape\", \"jalape\", \"jamba\", \"jambalaya\", \"japanese\", \"japanese\", \"japanese\", \"japanese\", \"japanese\", \"job\", \"job\", \"job\", \"job\", \"job\", \"johnny\", \"josh\", \"josh\", \"kabab\", \"karaoke\", \"keg\", \"keg\", \"know\", \"know\", \"know\", \"know\", \"know\", \"lebanese\", \"lenses\", \"les\", \"les\", \"les\", \"les\", \"lets\", \"lets\", \"lets\", \"line\", \"line\", \"line\", \"line\", \"line\", \"lion\", \"listened\", \"listened\", \"listened\", \"listened\", \"little\", \"little\", \"little\", \"little\", \"little\", \"lobster\", \"lobster\", \"lobster\", \"lobster\", \"lobster\", \"local\", \"local\", \"local\", \"local\", \"local\", \"love\", \"love\", \"love\", \"love\", \"love\", \"lox\", \"lunch\", \"lunch\", \"lunch\", \"lunch\", \"lunch\", \"mac\", \"mac\", \"mac\", \"mac\", \"mac\", \"mail\", \"mail\", \"mail\", \"mail\", \"mail\", \"mais\", \"mais\", \"manager\", \"manager\", \"manager\", \"manager\", \"manager\", \"manicure\", \"manicure\", \"manicure\", \"manicure\", \"manicure\", \"manicures\", \"map\", \"margarita\", \"margarita\", \"margarita\", \"marsala\", \"masala\", \"masala\", \"masala\", \"massage\", \"massage\", \"massage\", \"massage\", \"massage\", \"meal\", \"meal\", \"meal\", \"meal\", \"meal\", \"meat\", \"meat\", \"meat\", \"meat\", \"meat\", \"menu\", \"menu\", \"menu\", \"menu\", \"menu\", \"minutes\", \"minutes\", \"minutes\", \"minutes\", \"minutes\", \"money\", \"money\", \"money\", \"money\", \"money\", \"more\", \"more\", \"more\", \"more\", \"more\", \"motel\", \"motel\", \"muffin\", \"muffin\", \"naan\", \"naan\", \"naan\", \"naan\", \"naan\", \"nail\", \"nail\", \"nail\", \"nail\", \"nail\", \"nails\", \"nails\", \"nails\", \"nails\", \"nails\", \"never\", \"never\", \"never\", \"never\", \"never\", \"nice\", \"nice\", \"nice\", \"nice\", \"nice\", \"nick\", \"nigiri\", \"nigiri\", \"nite\", \"noir\", \"office\", \"office\", \"office\", \"office\", \"office\", \"only\", \"only\", \"only\", \"only\", \"only\", \"order\", \"order\", \"order\", \"order\", \"order\", \"ordered\", \"ordered\", \"ordered\", \"ordered\", \"ordered\", \"other\", \"other\", \"other\", \"other\", \"other\", \"out\", \"out\", \"out\", \"out\", \"out\", \"over\", \"over\", \"over\", \"over\", \"over\", \"pad\", \"pad\", \"pad\", \"pad\", \"pad\", \"park\", \"park\", \"park\", \"park\", \"park\", \"pasta\", \"pasta\", \"pasta\", \"pasta\", \"pasta\", \"patrick\", \"pedi\", \"pedi\", \"pedi\", \"pedi\", \"pedicure\", \"pedicure\", \"pedicure\", \"pedicure\", \"pedicure\", \"pedicures\", \"pedicures\", \"pedicures\", \"pee\", \"people\", \"people\", \"people\", \"people\", \"people\", \"pepperoni\", \"pepperoni\", \"pepperoni\", \"peppers\", \"peppers\", \"peppers\", \"peppers\", \"peppers\", \"perfectly\", \"perfectly\", \"perfectly\", \"perfectly\", \"perfectly\", \"persian\", \"personalized\", \"phone\", \"phone\", \"phone\", \"phone\", \"phone\", \"pilot\", \"pinball\", \"pinch\", \"pinot\", \"pinot\", \"pistachio\", \"pistachio\", \"pizza\", \"pizza\", \"pizza\", \"pizza\", \"pizza\", \"plumbers\", \"poker\", \"poker\", \"polish\", \"polish\", \"polish\", \"polish\", \"polish\", \"pool\", \"pool\", \"pool\", \"pool\", \"pool\", \"pork\", \"pork\", \"pork\", \"pork\", \"pork\", \"potatoes\", \"potatoes\", \"potatoes\", \"potatoes\", \"potatoes\", \"pour\", \"pour\", \"pour\", \"pour\", \"pour\", \"pricier\", \"professional\", \"professional\", \"professional\", \"professional\", \"professional\", \"promotion\", \"pub\", \"pub\", \"pub\", \"pub\", \"pub\", \"pup\", \"ratings\", \"recommend\", \"recommend\", \"recommend\", \"recommend\", \"recommend\", \"refund\", \"refund\", \"refund\", \"refund\", \"refund\", \"removal\", \"removal\", \"removal\", \"rent\", \"rent\", \"rent\", \"rent\", \"rep\", \"rep\", \"repair\", \"repair\", \"repair\", \"repair\", \"repair\", \"repaired\", \"repaired\", \"repaired\", \"repaired\", \"replacing\", \"reschedule\", \"respectful\", \"respectful\", \"respectful\", \"restaurant\", \"restaurant\", \"restaurant\", \"restaurant\", \"restaurant\", \"reuben\", \"rice\", \"rice\", \"rice\", \"rice\", \"rice\", \"robert\", \"robert\", \"roll\", \"roll\", \"roll\", \"roll\", \"roll\", \"room\", \"room\", \"room\", \"room\", \"room\", \"rooms\", \"rooms\", \"rooms\", \"rooms\", \"rooms\", \"roots\", \"roti\", \"rude\", \"rude\", \"rude\", \"rude\", \"rude\", \"rugs\", \"said\", \"said\", \"said\", \"said\", \"said\", \"salad\", \"salad\", \"salad\", \"salad\", \"salad\", \"salon\", \"salon\", \"salon\", \"salon\", \"salon\", \"sans\", \"sauce\", \"sauce\", \"sauce\", \"sauce\", \"sauce\", \"scorpions\", \"scott\", \"scrumptious\", \"secure\", \"selection\", \"selection\", \"selection\", \"selection\", \"selection\", \"service\", \"service\", \"service\", \"service\", \"service\", \"shakes\", \"shakes\", \"shakes\", \"shakes\", \"sides\", \"sides\", \"sides\", \"sides\", \"sides\", \"silk\", \"skewer\", \"slider\", \"smash\", \"smoked\", \"smoked\", \"smoked\", \"smoked\", \"smoked\", \"some\", \"some\", \"some\", \"some\", \"some\", \"someone\", \"someone\", \"someone\", \"someone\", \"someone\", \"sore\", \"soup\", \"soup\", \"soup\", \"soup\", \"soup\", \"spa\", \"spa\", \"spa\", \"spa\", \"spa\", \"spoon\", \"spoon\", \"spoon\", \"spoon\", \"spoon\", \"staff\", \"staff\", \"staff\", \"staff\", \"staff\", \"stay\", \"stay\", \"stay\", \"stay\", \"stay\", \"stayed\", \"stayed\", \"stayed\", \"stayed\", \"stayed\", \"steak\", \"steak\", \"steak\", \"steak\", \"steak\", \"store\", \"store\", \"store\", \"store\", \"store\", \"strip\", \"strip\", \"strip\", \"strip\", \"strip\", \"struggled\", \"stylist\", \"stylist\", \"stylist\", \"stylist\", \"stylist\", \"suite\", \"suite\", \"suite\", \"suite\", \"suite\", \"sum\", \"sum\", \"sum\", \"sum\", \"supplies\", \"supplies\", \"supplies\", \"sur\", \"surgery\", \"surgery\", \"sushi\", \"sushi\", \"sushi\", \"sushi\", \"sushi\", \"tai\", \"tails\", \"tamale\", \"tapioca\", \"taquitos\", \"taste\", \"taste\", \"taste\", \"taste\", \"taste\", \"tasted\", \"tasted\", \"tasted\", \"tasted\", \"tasted\", \"tasty\", \"tasty\", \"tasty\", \"tasty\", \"tasty\", \"tender\", \"tender\", \"tender\", \"tender\", \"tender\", \"thai\", \"thai\", \"thai\", \"thai\", \"thai\", \"than\", \"than\", \"than\", \"than\", \"than\", \"then\", \"then\", \"then\", \"then\", \"then\", \"therapist\", \"therapist\", \"threading\", \"tikka\", \"tikka\", \"tikka\", \"tilapia\", \"tim\", \"tim\", \"tint\", \"tires\", \"tires\", \"tires\", \"tires\", \"tobiko\", \"toes\", \"told\", \"told\", \"told\", \"told\", \"told\", \"too\", \"too\", \"too\", \"too\", \"too\", \"towed\", \"trays\", \"tre\", \"tree\", \"tree\", \"tree\", \"try\", \"try\", \"try\", \"try\", \"try\", \"ttc\", \"une\", \"une\", \"une\", \"une\", \"unorganized\", \"unsure\", \"uptown\", \"veal\", \"veal\", \"veal\", \"vegas\", \"vegas\", \"vegas\", \"vegas\", \"vegas\", \"vet\", \"vet\", \"vet\", \"vet\", \"vet\", \"view\", \"view\", \"view\", \"view\", \"view\", \"waxing\", \"waxing\", \"waxing\", \"weight\", \"weight\", \"weight\", \"weight\", \"weight\", \"well\", \"well\", \"well\", \"well\", \"well\", \"went\", \"went\", \"went\", \"went\", \"went\", \"what\", \"what\", \"what\", \"what\", \"what\", \"when\", \"when\", \"when\", \"when\", \"when\", \"which\", \"which\", \"which\", \"which\", \"which\", \"who\", \"who\", \"who\", \"who\", \"who\", \"will\", \"will\", \"will\", \"will\", \"will\", \"yellowtail\", \"yellowtail\", \"yellowtail\", \"yoga\", \"yoga\", \"yoga\", \"yoga\", \"yoga\", \"yuck\", \"yuck\", \"yuk\"]}, \"R\": 30, \"lambda.step\": 0.01, \"plot.opts\": {\"xlab\": \"PC1\", \"ylab\": \"PC2\"}, \"topic.order\": [5, 2, 3, 4, 1]};\n",
       "\n",
       "function LDAvis_load_lib(url, callback){\n",
       "  var s = document.createElement('script');\n",
       "  s.src = url;\n",
       "  s.async = true;\n",
       "  s.onreadystatechange = s.onload = callback;\n",
       "  s.onerror = function(){console.warn(\"failed to load library \" + url);};\n",
       "  document.getElementsByTagName(\"head\")[0].appendChild(s);\n",
       "}\n",
       "\n",
       "if(typeof(LDAvis) !== \"undefined\"){\n",
       "   // already loaded: just create the visualization\n",
       "   !function(LDAvis){\n",
       "       new LDAvis(\"#\" + \"ldavis_el38048986620888232726058\", ldavis_el38048986620888232726058_data);\n",
       "   }(LDAvis);\n",
       "}else if(typeof define === \"function\" && define.amd){\n",
       "   // require.js is available: use it to load d3/LDAvis\n",
       "   require.config({paths: {d3: \"https://cdnjs.cloudflare.com/ajax/libs/d3/3.5.5/d3.min\"}});\n",
       "   require([\"d3\"], function(d3){\n",
       "      window.d3 = d3;\n",
       "      LDAvis_load_lib(\"https://cdn.rawgit.com/bmabey/pyLDAvis/files/ldavis.v1.0.0.js\", function(){\n",
       "        new LDAvis(\"#\" + \"ldavis_el38048986620888232726058\", ldavis_el38048986620888232726058_data);\n",
       "      });\n",
       "    });\n",
       "}else{\n",
       "    // require.js not available: dynamically load d3 & LDAvis\n",
       "    LDAvis_load_lib(\"https://cdnjs.cloudflare.com/ajax/libs/d3/3.5.5/d3.min.js\", function(){\n",
       "         LDAvis_load_lib(\"https://cdn.rawgit.com/bmabey/pyLDAvis/files/ldavis.v1.0.0.js\", function(){\n",
       "                 new LDAvis(\"#\" + \"ldavis_el38048986620888232726058\", ldavis_el38048986620888232726058_data);\n",
       "            })\n",
       "         });\n",
       "}\n",
       "</script>"
      ],
      "text/plain": [
       "PreparedData(topic_coordinates=              x         y  topics  cluster       Freq\n",
       "topic                                                \n",
       "4     -0.104401 -0.001722       1        1  31.377033\n",
       "1      0.069984  0.030321       2        1  27.580436\n",
       "2      0.032739 -0.074202       3        1  14.658167\n",
       "3     -0.042824  0.021779       4        1  13.787866\n",
       "0      0.044501  0.023825       5        1  12.596497, topic_info=           Term         Freq        Total Category  logprob  loglift\n",
       "247       great  4265.000000  4265.000000  Default  30.0000  30.0000\n",
       "171        food  4958.000000  4958.000000  Default  29.0000  29.0000\n",
       "41         good  4733.000000  4733.000000  Default  28.0000  28.0000\n",
       "539         her  1311.000000  1311.000000  Default  27.0000  27.0000\n",
       "457       pizza   760.000000   760.000000  Default  26.0000  26.0000\n",
       "..          ...          ...          ...      ...      ...      ...\n",
       "107        only   260.257268  2078.768702   Topic5  -5.6452  -0.0061\n",
       "246       going   214.858564  1146.646938   Topic5  -5.8369   0.3971\n",
       "418  definitely   218.514385  1427.025265   Topic5  -5.8200   0.1953\n",
       "37         what   227.091536  2397.722606   Topic5  -5.7815  -0.2852\n",
       "701        some   222.077917  2208.065279   Topic5  -5.8039  -0.2251\n",
       "\n",
       "[491 rows x 6 columns], token_table=       Topic      Freq    Term\n",
       "term                          \n",
       "5074       5  0.936461    acai\n",
       "5249       3  0.917303  accent\n",
       "282        1  0.200731   after\n",
       "282        2  0.412932   after\n",
       "282        3  0.098645   after\n",
       "...      ...       ...     ...\n",
       "8873       4  0.028255    yoga\n",
       "8873       5  0.028255    yoga\n",
       "10397      3  0.897061    yuck\n",
       "10397      4  0.056066    yuck\n",
       "13145      1  0.983048     yuk\n",
       "\n",
       "[1271 rows x 3 columns], R=30, lambda_step=0.01, plot_opts={'xlab': 'PC1', 'ylab': 'PC2'}, topic_order=[5, 2, 3, 4, 1])"
      ]
     },
     "execution_count": 153,
     "metadata": {},
     "output_type": "execute_result"
    }
   ],
   "source": [
    "# #2. pyLDAvis section - to be removed\n",
    "# import pyLDAvis\n",
    "# import pyLDAvis.gensim\n",
    "\n",
    "# pyLDAvis.enable_notebook()\n",
    "# vis_pylda = pyLDAvis.gensim.prepare(lda, corpus, id2word)\n",
    "# vis_pylda"
   ]
  },
  {
   "cell_type": "markdown",
   "metadata": {},
   "source": [
    "With the initial default relevance value the pyLDAvis results are similar to what we inferred from the top term lists. However, by applying some term reduction by setting λ to about 0.2 on the slider we get some much more interesting results:\n",
    "- Based on the relevant terms displayed, topic 2 seems to have clustered together reviews for nail salons and car mechanics, possibly due to words such as 'appointment' and 'call' appearing commonly in both.\n",
    "- Topic 5 appears to group together hair stylists and related services (2 of the 3 top terms are 'hair' and 'stylist') but also some other misc. services (second term: 'gluten'??) for unclear reasons.\n",
    "- Topics 1, 3, and 4 all intersect because they share a general food theme, but further term frequency indicates that topic 1 is attempting to group reviews for bars and restaurants (terms: 'bar', 'restaurant', 'service'), topic 3 is grouping hotel reviews (terms: 'hotel', 'room', 'pool'), and finally topic 4 is grouping reviews for purely food (ie. from fast-food takeout) based on the preponderance of food-specific terms ('chicken', 'taco')"
   ]
  },
  {
   "cell_type": "code",
   "execution_count": 152,
   "metadata": {
    "deletable": false,
    "editable": false,
    "nbgrader": {
     "cell_type": "code",
     "checksum": "97e1c557c7e019c69cc2714b055fb767",
     "grade": true,
     "grade_id": "cell-f5fa579a25122b47",
     "locked": true,
     "points": 1,
     "schema_version": 3,
     "solution": false,
     "task": false
    }
   },
   "outputs": [],
   "source": [
    "# Visible Testing\n",
    "assert visual_plot.__module__ == 'matplotlib.axes._subplots', \"You must create and assign to visual_plot a visualization\"\n"
   ]
  }
 ],
 "metadata": {
  "kernel_info": {
   "name": "u4-s1-nlp"
  },
  "kernelspec": {
   "display_name": "U4-S1-NLP (Python 3)",
   "language": "python",
   "name": "u4-s1-nlp"
  },
  "language_info": {
   "codemirror_mode": {
    "name": "ipython",
    "version": 3
   },
   "file_extension": ".py",
   "mimetype": "text/x-python",
   "name": "python",
   "nbconvert_exporter": "python",
   "pygments_lexer": "ipython3",
   "version": "3.7.13"
  },
  "nteract": {
   "version": "0.15.0"
  },
  "toc-autonumbering": false,
  "vscode": {
   "interpreter": {
    "hash": "687c238b3ce093b6d05593c14198ba6d4a27c356ca33aff629c1e2e7517a29f8"
   }
  }
 },
 "nbformat": 4,
 "nbformat_minor": 4
}
