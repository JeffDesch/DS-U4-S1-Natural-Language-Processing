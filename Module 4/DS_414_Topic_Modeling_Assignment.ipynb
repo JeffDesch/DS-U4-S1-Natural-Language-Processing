{
  "cells": [
    {
      "cell_type": "markdown",
      "metadata": {
        "id": "5utTU63WzGd3"
      },
      "source": [
        "# Topic Modeling\n",
        "## *Data Science Unit 4 Sprint 1 Assignment 4*\n",
        "\n",
        "\n",
        "![](https://drive.google.com/uc?export=view&id=1Aze8Xe_ZZpV22IwFNUH09T2howHmF1AK)\n",
        "\n",
        "[Image Credit: slides from Ben Mabey](https://speakerdeck.com/bmabey/visualizing-topic-models)\n",
        "\n",
        "Apply Topic Modeling to Analyze a corpus of Amazon reviews\n",
        "\n",
        "- Load in the Amazon Review dataset\n",
        "- Clean the dataset \n",
        "- Vectorize the dataset \n",
        "- Fit a Gensim LDA topic model on Amazon Reviews\n",
        "- Select appropriate number of topics\n",
        "- Create some dope visualization of the topics\n",
        "- Write a few bullets on your findings in markdown at the end"
      ]
    },
    {
      "cell_type": "code",
      "source": [
        "!wget https://raw.githubusercontent.com/LambdaSchool/DS-Unit-4-Sprint-1-NLP/main/requirements.txt\n",
        "!pip install -r requirements.txt"
      ],
      "metadata": {
        "colab": {
          "base_uri": "https://localhost:8080/"
        },
        "id": "GHoCbPjE-lmJ",
        "outputId": "a0dce7c3-f18e-4bce-dc45-7fbfd9a14f16"
      },
      "execution_count": 1,
      "outputs": [
        {
          "output_type": "stream",
          "name": "stdout",
          "text": [
            "--2022-07-14 18:36:59--  https://raw.githubusercontent.com/LambdaSchool/DS-Unit-4-Sprint-1-NLP/main/requirements.txt\n",
            "Resolving raw.githubusercontent.com (raw.githubusercontent.com)... 185.199.108.133, 185.199.109.133, 185.199.110.133, ...\n",
            "Connecting to raw.githubusercontent.com (raw.githubusercontent.com)|185.199.108.133|:443... connected.\n",
            "HTTP request sent, awaiting response... 200 OK\n",
            "Length: 149 [text/plain]\n",
            "Saving to: ‘requirements.txt’\n",
            "\n",
            "\rrequirements.txt      0%[                    ]       0  --.-KB/s               \rrequirements.txt    100%[===================>]     149  --.-KB/s    in 0s      \n",
            "\n",
            "2022-07-14 18:36:59 (7.70 MB/s) - ‘requirements.txt’ saved [149/149]\n",
            "\n",
            "Looking in indexes: https://pypi.org/simple, https://us-python.pkg.dev/colab-wheels/public/simple/\n",
            "Collecting gensim==3.8.1\n",
            "  Downloading gensim-3.8.1-cp37-cp37m-manylinux1_x86_64.whl (24.2 MB)\n",
            "\u001b[K     |████████████████████████████████| 24.2 MB 1.4 MB/s \n",
            "\u001b[?25hCollecting pyLDAvis==2.1.2\n",
            "  Downloading pyLDAvis-2.1.2.tar.gz (1.6 MB)\n",
            "\u001b[K     |████████████████████████████████| 1.6 MB 46.6 MB/s \n",
            "\u001b[?25hCollecting spacy==2.2.3\n",
            "  Downloading spacy-2.2.3-cp37-cp37m-manylinux1_x86_64.whl (10.4 MB)\n",
            "\u001b[K     |████████████████████████████████| 10.4 MB 22.9 MB/s \n",
            "\u001b[?25hCollecting scikit-learn==0.22.2\n",
            "  Downloading scikit_learn-0.22.2-cp37-cp37m-manylinux1_x86_64.whl (7.1 MB)\n",
            "\u001b[K     |████████████████████████████████| 7.1 MB 24.9 MB/s \n",
            "\u001b[?25hCollecting seaborn==0.9.0\n",
            "  Downloading seaborn-0.9.0-py3-none-any.whl (208 kB)\n",
            "\u001b[K     |████████████████████████████████| 208 kB 73.1 MB/s \n",
            "\u001b[?25hCollecting squarify==0.4.3\n",
            "  Downloading squarify-0.4.3-py3-none-any.whl (4.3 kB)\n",
            "Requirement already satisfied: ipykernel in /usr/local/lib/python3.7/dist-packages (from -r requirements.txt (line 7)) (4.10.1)\n",
            "Requirement already satisfied: nltk in /usr/local/lib/python3.7/dist-packages (from -r requirements.txt (line 8)) (3.7)\n",
            "Requirement already satisfied: pandas in /usr/local/lib/python3.7/dist-packages (from -r requirements.txt (line 9)) (1.3.5)\n",
            "Requirement already satisfied: scipy in /usr/local/lib/python3.7/dist-packages (from -r requirements.txt (line 10)) (1.7.3)\n",
            "Requirement already satisfied: beautifulsoup4 in /usr/local/lib/python3.7/dist-packages (from -r requirements.txt (line 11)) (4.6.3)\n",
            "Collecting pandarallel\n",
            "  Downloading pandarallel-1.6.1.tar.gz (12 kB)\n",
            "Requirement already satisfied: numpy>=1.11.3 in /usr/local/lib/python3.7/dist-packages (from gensim==3.8.1->-r requirements.txt (line 1)) (1.21.6)\n",
            "Requirement already satisfied: smart-open>=1.8.1 in /usr/local/lib/python3.7/dist-packages (from gensim==3.8.1->-r requirements.txt (line 1)) (5.2.1)\n",
            "Requirement already satisfied: six>=1.5.0 in /usr/local/lib/python3.7/dist-packages (from gensim==3.8.1->-r requirements.txt (line 1)) (1.15.0)\n",
            "Requirement already satisfied: wheel>=0.23.0 in /usr/local/lib/python3.7/dist-packages (from pyLDAvis==2.1.2->-r requirements.txt (line 2)) (0.37.1)\n",
            "Requirement already satisfied: joblib>=0.8.4 in /usr/local/lib/python3.7/dist-packages (from pyLDAvis==2.1.2->-r requirements.txt (line 2)) (1.1.0)\n",
            "Requirement already satisfied: jinja2>=2.7.2 in /usr/local/lib/python3.7/dist-packages (from pyLDAvis==2.1.2->-r requirements.txt (line 2)) (2.11.3)\n",
            "Requirement already satisfied: numexpr in /usr/local/lib/python3.7/dist-packages (from pyLDAvis==2.1.2->-r requirements.txt (line 2)) (2.8.3)\n",
            "Requirement already satisfied: pytest in /usr/local/lib/python3.7/dist-packages (from pyLDAvis==2.1.2->-r requirements.txt (line 2)) (3.6.4)\n",
            "Requirement already satisfied: future in /usr/local/lib/python3.7/dist-packages (from pyLDAvis==2.1.2->-r requirements.txt (line 2)) (0.16.0)\n",
            "Collecting funcy\n",
            "  Downloading funcy-1.17-py2.py3-none-any.whl (33 kB)\n",
            "Collecting plac<1.2.0,>=0.9.6\n",
            "  Downloading plac-1.1.3-py2.py3-none-any.whl (20 kB)\n",
            "Requirement already satisfied: requests<3.0.0,>=2.13.0 in /usr/local/lib/python3.7/dist-packages (from spacy==2.2.3->-r requirements.txt (line 3)) (2.23.0)\n",
            "Collecting blis<0.5.0,>=0.4.0\n",
            "  Downloading blis-0.4.1-cp37-cp37m-manylinux1_x86_64.whl (3.7 MB)\n",
            "\u001b[K     |████████████████████████████████| 3.7 MB 45.1 MB/s \n",
            "\u001b[?25hRequirement already satisfied: setuptools in /usr/local/lib/python3.7/dist-packages (from spacy==2.2.3->-r requirements.txt (line 3)) (57.4.0)\n",
            "Requirement already satisfied: murmurhash<1.1.0,>=0.28.0 in /usr/local/lib/python3.7/dist-packages (from spacy==2.2.3->-r requirements.txt (line 3)) (1.0.7)\n",
            "Collecting thinc<7.4.0,>=7.3.0\n",
            "  Downloading thinc-7.3.1-cp37-cp37m-manylinux1_x86_64.whl (2.2 MB)\n",
            "\u001b[K     |████████████████████████████████| 2.2 MB 41.8 MB/s \n",
            "\u001b[?25hRequirement already satisfied: cymem<2.1.0,>=2.0.2 in /usr/local/lib/python3.7/dist-packages (from spacy==2.2.3->-r requirements.txt (line 3)) (2.0.6)\n",
            "Requirement already satisfied: wasabi<1.1.0,>=0.4.0 in /usr/local/lib/python3.7/dist-packages (from spacy==2.2.3->-r requirements.txt (line 3)) (0.9.1)\n",
            "Requirement already satisfied: preshed<3.1.0,>=3.0.2 in /usr/local/lib/python3.7/dist-packages (from spacy==2.2.3->-r requirements.txt (line 3)) (3.0.6)\n",
            "Collecting srsly<1.1.0,>=0.1.0\n",
            "  Downloading srsly-1.0.5-cp37-cp37m-manylinux2014_x86_64.whl (184 kB)\n",
            "\u001b[K     |████████████████████████████████| 184 kB 58.3 MB/s \n",
            "\u001b[?25hCollecting catalogue<1.1.0,>=0.0.7\n",
            "  Downloading catalogue-1.0.0-py2.py3-none-any.whl (7.7 kB)\n",
            "Requirement already satisfied: matplotlib>=1.4.3 in /usr/local/lib/python3.7/dist-packages (from seaborn==0.9.0->-r requirements.txt (line 5)) (3.2.2)\n",
            "Requirement already satisfied: pytz>=2017.3 in /usr/local/lib/python3.7/dist-packages (from pandas->-r requirements.txt (line 9)) (2022.1)\n",
            "Requirement already satisfied: python-dateutil>=2.7.3 in /usr/local/lib/python3.7/dist-packages (from pandas->-r requirements.txt (line 9)) (2.8.2)\n",
            "Requirement already satisfied: importlib-metadata>=0.20 in /usr/local/lib/python3.7/dist-packages (from catalogue<1.1.0,>=0.0.7->spacy==2.2.3->-r requirements.txt (line 3)) (4.12.0)\n",
            "Requirement already satisfied: typing-extensions>=3.6.4 in /usr/local/lib/python3.7/dist-packages (from importlib-metadata>=0.20->catalogue<1.1.0,>=0.0.7->spacy==2.2.3->-r requirements.txt (line 3)) (4.1.1)\n",
            "Requirement already satisfied: zipp>=0.5 in /usr/local/lib/python3.7/dist-packages (from importlib-metadata>=0.20->catalogue<1.1.0,>=0.0.7->spacy==2.2.3->-r requirements.txt (line 3)) (3.8.0)\n",
            "Requirement already satisfied: MarkupSafe>=0.23 in /usr/local/lib/python3.7/dist-packages (from jinja2>=2.7.2->pyLDAvis==2.1.2->-r requirements.txt (line 2)) (2.0.1)\n",
            "Requirement already satisfied: cycler>=0.10 in /usr/local/lib/python3.7/dist-packages (from matplotlib>=1.4.3->seaborn==0.9.0->-r requirements.txt (line 5)) (0.11.0)\n",
            "Requirement already satisfied: kiwisolver>=1.0.1 in /usr/local/lib/python3.7/dist-packages (from matplotlib>=1.4.3->seaborn==0.9.0->-r requirements.txt (line 5)) (1.4.3)\n",
            "Requirement already satisfied: pyparsing!=2.0.4,!=2.1.2,!=2.1.6,>=2.0.1 in /usr/local/lib/python3.7/dist-packages (from matplotlib>=1.4.3->seaborn==0.9.0->-r requirements.txt (line 5)) (3.0.9)\n",
            "Requirement already satisfied: chardet<4,>=3.0.2 in /usr/local/lib/python3.7/dist-packages (from requests<3.0.0,>=2.13.0->spacy==2.2.3->-r requirements.txt (line 3)) (3.0.4)\n",
            "Requirement already satisfied: certifi>=2017.4.17 in /usr/local/lib/python3.7/dist-packages (from requests<3.0.0,>=2.13.0->spacy==2.2.3->-r requirements.txt (line 3)) (2022.6.15)\n",
            "Requirement already satisfied: idna<3,>=2.5 in /usr/local/lib/python3.7/dist-packages (from requests<3.0.0,>=2.13.0->spacy==2.2.3->-r requirements.txt (line 3)) (2.10)\n",
            "Requirement already satisfied: urllib3!=1.25.0,!=1.25.1,<1.26,>=1.21.1 in /usr/local/lib/python3.7/dist-packages (from requests<3.0.0,>=2.13.0->spacy==2.2.3->-r requirements.txt (line 3)) (1.24.3)\n",
            "Requirement already satisfied: tqdm<5.0.0,>=4.10.0 in /usr/local/lib/python3.7/dist-packages (from thinc<7.4.0,>=7.3.0->spacy==2.2.3->-r requirements.txt (line 3)) (4.64.0)\n",
            "Requirement already satisfied: traitlets>=4.1.0 in /usr/local/lib/python3.7/dist-packages (from ipykernel->-r requirements.txt (line 7)) (5.1.1)\n",
            "Requirement already satisfied: tornado>=4.0 in /usr/local/lib/python3.7/dist-packages (from ipykernel->-r requirements.txt (line 7)) (5.1.1)\n",
            "Requirement already satisfied: ipython>=4.0.0 in /usr/local/lib/python3.7/dist-packages (from ipykernel->-r requirements.txt (line 7)) (5.5.0)\n",
            "Requirement already satisfied: jupyter-client in /usr/local/lib/python3.7/dist-packages (from ipykernel->-r requirements.txt (line 7)) (5.3.5)\n",
            "Requirement already satisfied: decorator in /usr/local/lib/python3.7/dist-packages (from ipython>=4.0.0->ipykernel->-r requirements.txt (line 7)) (4.4.2)\n",
            "Requirement already satisfied: pickleshare in /usr/local/lib/python3.7/dist-packages (from ipython>=4.0.0->ipykernel->-r requirements.txt (line 7)) (0.7.5)\n",
            "Requirement already satisfied: pexpect in /usr/local/lib/python3.7/dist-packages (from ipython>=4.0.0->ipykernel->-r requirements.txt (line 7)) (4.8.0)\n",
            "Requirement already satisfied: pygments in /usr/local/lib/python3.7/dist-packages (from ipython>=4.0.0->ipykernel->-r requirements.txt (line 7)) (2.6.1)\n",
            "Requirement already satisfied: prompt-toolkit<2.0.0,>=1.0.4 in /usr/local/lib/python3.7/dist-packages (from ipython>=4.0.0->ipykernel->-r requirements.txt (line 7)) (1.0.18)\n",
            "Requirement already satisfied: simplegeneric>0.8 in /usr/local/lib/python3.7/dist-packages (from ipython>=4.0.0->ipykernel->-r requirements.txt (line 7)) (0.8.1)\n",
            "Requirement already satisfied: wcwidth in /usr/local/lib/python3.7/dist-packages (from prompt-toolkit<2.0.0,>=1.0.4->ipython>=4.0.0->ipykernel->-r requirements.txt (line 7)) (0.2.5)\n",
            "Requirement already satisfied: regex>=2021.8.3 in /usr/local/lib/python3.7/dist-packages (from nltk->-r requirements.txt (line 8)) (2022.6.2)\n",
            "Requirement already satisfied: click in /usr/local/lib/python3.7/dist-packages (from nltk->-r requirements.txt (line 8)) (7.1.2)\n",
            "Requirement already satisfied: dill>=0.3.1 in /usr/local/lib/python3.7/dist-packages (from pandarallel->-r requirements.txt (line 12)) (0.3.5.1)\n",
            "Requirement already satisfied: psutil in /usr/local/lib/python3.7/dist-packages (from pandarallel->-r requirements.txt (line 12)) (5.4.8)\n",
            "Requirement already satisfied: jupyter-core>=4.6.0 in /usr/local/lib/python3.7/dist-packages (from jupyter-client->ipykernel->-r requirements.txt (line 7)) (4.11.1)\n",
            "Requirement already satisfied: pyzmq>=13 in /usr/local/lib/python3.7/dist-packages (from jupyter-client->ipykernel->-r requirements.txt (line 7)) (23.2.0)\n",
            "Requirement already satisfied: packaging in /usr/local/lib/python3.7/dist-packages (from numexpr->pyLDAvis==2.1.2->-r requirements.txt (line 2)) (21.3)\n",
            "Requirement already satisfied: ptyprocess>=0.5 in /usr/local/lib/python3.7/dist-packages (from pexpect->ipython>=4.0.0->ipykernel->-r requirements.txt (line 7)) (0.7.0)\n",
            "Requirement already satisfied: atomicwrites>=1.0 in /usr/local/lib/python3.7/dist-packages (from pytest->pyLDAvis==2.1.2->-r requirements.txt (line 2)) (1.4.1)\n",
            "Requirement already satisfied: attrs>=17.4.0 in /usr/local/lib/python3.7/dist-packages (from pytest->pyLDAvis==2.1.2->-r requirements.txt (line 2)) (21.4.0)\n",
            "Requirement already satisfied: py>=1.5.0 in /usr/local/lib/python3.7/dist-packages (from pytest->pyLDAvis==2.1.2->-r requirements.txt (line 2)) (1.11.0)\n",
            "Requirement already satisfied: pluggy<0.8,>=0.5 in /usr/local/lib/python3.7/dist-packages (from pytest->pyLDAvis==2.1.2->-r requirements.txt (line 2)) (0.7.1)\n",
            "Requirement already satisfied: more-itertools>=4.0.0 in /usr/local/lib/python3.7/dist-packages (from pytest->pyLDAvis==2.1.2->-r requirements.txt (line 2)) (8.13.0)\n",
            "Building wheels for collected packages: pyLDAvis, pandarallel\n",
            "  Building wheel for pyLDAvis (setup.py) ... \u001b[?25l\u001b[?25hdone\n",
            "  Created wheel for pyLDAvis: filename=pyLDAvis-2.1.2-py2.py3-none-any.whl size=97738 sha256=e76e7d255439518a430fee9953de5b6835af92399752315ce9c078809bb82a99\n",
            "  Stored in directory: /root/.cache/pip/wheels/3b/fb/41/e32e5312da9f440d34c4eff0d2207b46dc9332a7b931ef1e89\n",
            "  Building wheel for pandarallel (setup.py) ... \u001b[?25l\u001b[?25hdone\n",
            "  Created wheel for pandarallel: filename=pandarallel-1.6.1-py3-none-any.whl size=16265 sha256=2acd69f5073fda6de806162fe7a6aeb4acb1d619878f905c286375497362faad\n",
            "  Stored in directory: /root/.cache/pip/wheels/e8/81/8f/29aafd7d671a4e9db4e976d71728870173f0b3f48ccba0bc32\n",
            "Successfully built pyLDAvis pandarallel\n",
            "Installing collected packages: srsly, plac, blis, thinc, funcy, catalogue, squarify, spacy, seaborn, scikit-learn, pyLDAvis, pandarallel, gensim\n",
            "  Attempting uninstall: srsly\n",
            "    Found existing installation: srsly 2.4.3\n",
            "    Uninstalling srsly-2.4.3:\n",
            "      Successfully uninstalled srsly-2.4.3\n",
            "  Attempting uninstall: blis\n",
            "    Found existing installation: blis 0.7.8\n",
            "    Uninstalling blis-0.7.8:\n",
            "      Successfully uninstalled blis-0.7.8\n",
            "  Attempting uninstall: thinc\n",
            "    Found existing installation: thinc 8.0.17\n",
            "    Uninstalling thinc-8.0.17:\n",
            "      Successfully uninstalled thinc-8.0.17\n",
            "  Attempting uninstall: catalogue\n",
            "    Found existing installation: catalogue 2.0.7\n",
            "    Uninstalling catalogue-2.0.7:\n",
            "      Successfully uninstalled catalogue-2.0.7\n",
            "  Attempting uninstall: spacy\n",
            "    Found existing installation: spacy 3.3.1\n",
            "    Uninstalling spacy-3.3.1:\n",
            "      Successfully uninstalled spacy-3.3.1\n",
            "  Attempting uninstall: seaborn\n",
            "    Found existing installation: seaborn 0.11.2\n",
            "    Uninstalling seaborn-0.11.2:\n",
            "      Successfully uninstalled seaborn-0.11.2\n",
            "  Attempting uninstall: scikit-learn\n",
            "    Found existing installation: scikit-learn 1.0.2\n",
            "    Uninstalling scikit-learn-1.0.2:\n",
            "      Successfully uninstalled scikit-learn-1.0.2\n",
            "  Attempting uninstall: gensim\n",
            "    Found existing installation: gensim 3.6.0\n",
            "    Uninstalling gensim-3.6.0:\n",
            "      Successfully uninstalled gensim-3.6.0\n",
            "\u001b[31mERROR: pip's dependency resolver does not currently take into account all the packages that are installed. This behaviour is the source of the following dependency conflicts.\n",
            "yellowbrick 1.4 requires scikit-learn>=1.0.0, but you have scikit-learn 0.22.2 which is incompatible.\n",
            "imbalanced-learn 0.8.1 requires scikit-learn>=0.24, but you have scikit-learn 0.22.2 which is incompatible.\n",
            "en-core-web-sm 3.3.0 requires spacy<3.4.0,>=3.3.0.dev0, but you have spacy 2.2.3 which is incompatible.\u001b[0m\n",
            "Successfully installed blis-0.4.1 catalogue-1.0.0 funcy-1.17 gensim-3.8.1 pandarallel-1.6.1 plac-1.1.3 pyLDAvis-2.1.2 scikit-learn-0.22.2 seaborn-0.9.0 spacy-2.2.3 squarify-0.4.3 srsly-1.0.5 thinc-7.3.1\n"
          ]
        }
      ]
    },
    {
      "cell_type": "code",
      "execution_count": 4,
      "metadata": {
        "colab": {
          "base_uri": "https://localhost:8080/"
        },
        "id": "X0x7DXmr8zYE",
        "outputId": "33d21c38-b88d-41a6-f09a-f0f0d01b7769"
      },
      "outputs": [
        {
          "output_type": "stream",
          "name": "stdout",
          "text": [
            "Looking in indexes: https://pypi.org/simple, https://us-python.pkg.dev/colab-wheels/public/simple/\n",
            "Requirement already satisfied: pyLDAvis==3.3.1 in /usr/local/lib/python3.7/dist-packages (3.3.1)\n",
            "Requirement already satisfied: jinja2 in /usr/local/lib/python3.7/dist-packages (from pyLDAvis==3.3.1) (2.11.3)\n",
            "Requirement already satisfied: funcy in /usr/local/lib/python3.7/dist-packages (from pyLDAvis==3.3.1) (1.17)\n",
            "Requirement already satisfied: scipy in /usr/local/lib/python3.7/dist-packages (from pyLDAvis==3.3.1) (1.7.3)\n",
            "Requirement already satisfied: pandas>=1.2.0 in /usr/local/lib/python3.7/dist-packages (from pyLDAvis==3.3.1) (1.3.5)\n",
            "Requirement already satisfied: gensim in /usr/local/lib/python3.7/dist-packages (from pyLDAvis==3.3.1) (3.8.1)\n",
            "Requirement already satisfied: scikit-learn in /usr/local/lib/python3.7/dist-packages (from pyLDAvis==3.3.1) (0.22.2)\n",
            "Requirement already satisfied: numexpr in /usr/local/lib/python3.7/dist-packages (from pyLDAvis==3.3.1) (2.8.3)\n",
            "Requirement already satisfied: future in /usr/local/lib/python3.7/dist-packages (from pyLDAvis==3.3.1) (0.16.0)\n",
            "Requirement already satisfied: joblib in /usr/local/lib/python3.7/dist-packages (from pyLDAvis==3.3.1) (1.1.0)\n",
            "Requirement already satisfied: setuptools in /usr/local/lib/python3.7/dist-packages (from pyLDAvis==3.3.1) (57.4.0)\n",
            "Requirement already satisfied: sklearn in /usr/local/lib/python3.7/dist-packages (from pyLDAvis==3.3.1) (0.0)\n",
            "Requirement already satisfied: numpy>=1.20.0 in /usr/local/lib/python3.7/dist-packages (from pyLDAvis==3.3.1) (1.21.6)\n",
            "Requirement already satisfied: pytz>=2017.3 in /usr/local/lib/python3.7/dist-packages (from pandas>=1.2.0->pyLDAvis==3.3.1) (2022.1)\n",
            "Requirement already satisfied: python-dateutil>=2.7.3 in /usr/local/lib/python3.7/dist-packages (from pandas>=1.2.0->pyLDAvis==3.3.1) (2.8.2)\n",
            "Requirement already satisfied: six>=1.5 in /usr/local/lib/python3.7/dist-packages (from python-dateutil>=2.7.3->pandas>=1.2.0->pyLDAvis==3.3.1) (1.15.0)\n",
            "Requirement already satisfied: smart-open>=1.8.1 in /usr/local/lib/python3.7/dist-packages (from gensim->pyLDAvis==3.3.1) (5.2.1)\n",
            "Requirement already satisfied: MarkupSafe>=0.23 in /usr/local/lib/python3.7/dist-packages (from jinja2->pyLDAvis==3.3.1) (2.0.1)\n",
            "Requirement already satisfied: packaging in /usr/local/lib/python3.7/dist-packages (from numexpr->pyLDAvis==3.3.1) (21.3)\n",
            "Requirement already satisfied: pyparsing!=3.0.5,>=2.0.2 in /usr/local/lib/python3.7/dist-packages (from packaging->numexpr->pyLDAvis==3.3.1) (3.0.9)\n"
          ]
        }
      ],
      "source": [
        "!pip install pyLDAvis==3.3.1"
      ]
    },
    {
      "cell_type": "code",
      "execution_count": 3,
      "metadata": {
        "colab": {
          "base_uri": "https://localhost:8080/"
        },
        "id": "uQGwb9xbFKIr",
        "outputId": "4d9a35be-3130-4ca1-f014-f028c2261707"
      },
      "outputs": [
        {
          "output_type": "stream",
          "name": "stdout",
          "text": [
            "Looking in indexes: https://pypi.org/simple, https://us-python.pkg.dev/colab-wheels/public/simple/\n",
            "Collecting pandarallel==1.4.8\n",
            "  Downloading pandarallel-1.4.8.tar.gz (14 kB)\n",
            "Requirement already satisfied: dill in /usr/local/lib/python3.7/dist-packages (from pandarallel==1.4.8) (0.3.5.1)\n",
            "Building wheels for collected packages: pandarallel\n",
            "  Building wheel for pandarallel (setup.py) ... \u001b[?25l\u001b[?25hdone\n",
            "  Created wheel for pandarallel: filename=pandarallel-1.4.8-py3-none-any.whl size=16111 sha256=ff43d6ca89f16a4270d27480e2f84f315b1b12421d3c08d4778860ebe382d3b3\n",
            "  Stored in directory: /root/.cache/pip/wheels/c7/f2/4e/e40c8b9344cccf6b8a02d8d8808ba837e72b607c4be946878a\n",
            "Successfully built pandarallel\n",
            "Installing collected packages: pandarallel\n",
            "  Attempting uninstall: pandarallel\n",
            "    Found existing installation: pandarallel 1.6.1\n",
            "    Uninstalling pandarallel-1.6.1:\n",
            "      Successfully uninstalled pandarallel-1.6.1\n",
            "Successfully installed pandarallel-1.4.8\n"
          ]
        }
      ],
      "source": [
        "!pip install pandarallel==1.4.8"
      ]
    },
    {
      "cell_type": "code",
      "source": [
        "!pip install gensim"
      ],
      "metadata": {
        "colab": {
          "base_uri": "https://localhost:8080/"
        },
        "id": "Je1FSx9_-6bG",
        "outputId": "7e86e8d4-c0d1-4dd3-b0b2-3343f5a35dbc"
      },
      "execution_count": 4,
      "outputs": [
        {
          "output_type": "stream",
          "name": "stdout",
          "text": [
            "Looking in indexes: https://pypi.org/simple, https://us-python.pkg.dev/colab-wheels/public/simple/\n",
            "Requirement already satisfied: gensim in /usr/local/lib/python3.7/dist-packages (3.8.1)\n",
            "Requirement already satisfied: smart-open>=1.8.1 in /usr/local/lib/python3.7/dist-packages (from gensim) (5.2.1)\n",
            "Requirement already satisfied: numpy>=1.11.3 in /usr/local/lib/python3.7/dist-packages (from gensim) (1.21.6)\n",
            "Requirement already satisfied: scipy>=0.18.1 in /usr/local/lib/python3.7/dist-packages (from gensim) (1.7.3)\n",
            "Requirement already satisfied: six>=1.5.0 in /usr/local/lib/python3.7/dist-packages (from gensim) (1.15.0)\n"
          ]
        }
      ]
    },
    {
      "cell_type": "code",
      "source": [
        "!pip install spacy==3.3.0"
      ],
      "metadata": {
        "colab": {
          "base_uri": "https://localhost:8080/",
          "height": 1000
        },
        "id": "2sOwA-j3_APC",
        "outputId": "724755b7-81ba-4170-9de0-1f7a2cf75ff3"
      },
      "execution_count": 5,
      "outputs": [
        {
          "output_type": "stream",
          "name": "stdout",
          "text": [
            "Looking in indexes: https://pypi.org/simple, https://us-python.pkg.dev/colab-wheels/public/simple/\n",
            "Collecting spacy==3.3.0\n",
            "  Downloading spacy-3.3.0-cp37-cp37m-manylinux_2_17_x86_64.manylinux2014_x86_64.whl (6.2 MB)\n",
            "\u001b[K     |████████████████████████████████| 6.2 MB 5.3 MB/s \n",
            "\u001b[?25hRequirement already satisfied: pydantic!=1.8,!=1.8.1,<1.9.0,>=1.7.4 in /usr/local/lib/python3.7/dist-packages (from spacy==3.3.0) (1.8.2)\n",
            "Requirement already satisfied: murmurhash<1.1.0,>=0.28.0 in /usr/local/lib/python3.7/dist-packages (from spacy==3.3.0) (1.0.7)\n",
            "Requirement already satisfied: numpy>=1.15.0 in /usr/local/lib/python3.7/dist-packages (from spacy==3.3.0) (1.21.6)\n",
            "Requirement already satisfied: langcodes<4.0.0,>=3.2.0 in /usr/local/lib/python3.7/dist-packages (from spacy==3.3.0) (3.3.0)\n",
            "Requirement already satisfied: blis<0.8.0,>=0.4.0 in /usr/local/lib/python3.7/dist-packages (from spacy==3.3.0) (0.4.1)\n",
            "Requirement already satisfied: wasabi<1.1.0,>=0.9.1 in /usr/local/lib/python3.7/dist-packages (from spacy==3.3.0) (0.9.1)\n",
            "Requirement already satisfied: spacy-legacy<3.1.0,>=3.0.9 in /usr/local/lib/python3.7/dist-packages (from spacy==3.3.0) (3.0.9)\n",
            "Collecting thinc<8.1.0,>=8.0.14\n",
            "  Downloading thinc-8.0.17-cp37-cp37m-manylinux_2_17_x86_64.manylinux2014_x86_64.whl (660 kB)\n",
            "\u001b[K     |████████████████████████████████| 660 kB 44.8 MB/s \n",
            "\u001b[?25hRequirement already satisfied: packaging>=20.0 in /usr/local/lib/python3.7/dist-packages (from spacy==3.3.0) (21.3)\n",
            "Requirement already satisfied: requests<3.0.0,>=2.13.0 in /usr/local/lib/python3.7/dist-packages (from spacy==3.3.0) (2.23.0)\n",
            "Requirement already satisfied: spacy-loggers<2.0.0,>=1.0.0 in /usr/local/lib/python3.7/dist-packages (from spacy==3.3.0) (1.0.2)\n",
            "Requirement already satisfied: preshed<3.1.0,>=3.0.2 in /usr/local/lib/python3.7/dist-packages (from spacy==3.3.0) (3.0.6)\n",
            "Requirement already satisfied: tqdm<5.0.0,>=4.38.0 in /usr/local/lib/python3.7/dist-packages (from spacy==3.3.0) (4.64.0)\n",
            "Requirement already satisfied: jinja2 in /usr/local/lib/python3.7/dist-packages (from spacy==3.3.0) (2.11.3)\n",
            "Requirement already satisfied: typer<0.5.0,>=0.3.0 in /usr/local/lib/python3.7/dist-packages (from spacy==3.3.0) (0.4.2)\n",
            "Requirement already satisfied: pathy>=0.3.5 in /usr/local/lib/python3.7/dist-packages (from spacy==3.3.0) (0.6.2)\n",
            "Collecting typing-extensions<4.0.0.0,>=3.7.4\n",
            "  Downloading typing_extensions-3.10.0.2-py3-none-any.whl (26 kB)\n",
            "Requirement already satisfied: cymem<2.1.0,>=2.0.2 in /usr/local/lib/python3.7/dist-packages (from spacy==3.3.0) (2.0.6)\n",
            "Collecting catalogue<2.1.0,>=2.0.6\n",
            "  Downloading catalogue-2.0.7-py3-none-any.whl (17 kB)\n",
            "Requirement already satisfied: setuptools in /usr/local/lib/python3.7/dist-packages (from spacy==3.3.0) (57.4.0)\n",
            "Collecting srsly<3.0.0,>=2.4.3\n",
            "  Downloading srsly-2.4.3-cp37-cp37m-manylinux_2_17_x86_64.manylinux2014_x86_64.whl (457 kB)\n",
            "\u001b[K     |████████████████████████████████| 457 kB 54.5 MB/s \n",
            "\u001b[?25hRequirement already satisfied: zipp>=0.5 in /usr/local/lib/python3.7/dist-packages (from catalogue<2.1.0,>=2.0.6->spacy==3.3.0) (3.8.0)\n",
            "Requirement already satisfied: pyparsing!=3.0.5,>=2.0.2 in /usr/local/lib/python3.7/dist-packages (from packaging>=20.0->spacy==3.3.0) (3.0.9)\n",
            "Requirement already satisfied: smart-open<6.0.0,>=5.2.1 in /usr/local/lib/python3.7/dist-packages (from pathy>=0.3.5->spacy==3.3.0) (5.2.1)\n",
            "Requirement already satisfied: certifi>=2017.4.17 in /usr/local/lib/python3.7/dist-packages (from requests<3.0.0,>=2.13.0->spacy==3.3.0) (2022.6.15)\n",
            "Requirement already satisfied: urllib3!=1.25.0,!=1.25.1,<1.26,>=1.21.1 in /usr/local/lib/python3.7/dist-packages (from requests<3.0.0,>=2.13.0->spacy==3.3.0) (1.24.3)\n",
            "Requirement already satisfied: idna<3,>=2.5 in /usr/local/lib/python3.7/dist-packages (from requests<3.0.0,>=2.13.0->spacy==3.3.0) (2.10)\n",
            "Requirement already satisfied: chardet<4,>=3.0.2 in /usr/local/lib/python3.7/dist-packages (from requests<3.0.0,>=2.13.0->spacy==3.3.0) (3.0.4)\n",
            "Requirement already satisfied: click<9.0.0,>=7.1.1 in /usr/local/lib/python3.7/dist-packages (from typer<0.5.0,>=0.3.0->spacy==3.3.0) (7.1.2)\n",
            "Requirement already satisfied: MarkupSafe>=0.23 in /usr/local/lib/python3.7/dist-packages (from jinja2->spacy==3.3.0) (2.0.1)\n",
            "Installing collected packages: typing-extensions, catalogue, srsly, thinc, spacy\n",
            "  Attempting uninstall: typing-extensions\n",
            "    Found existing installation: typing-extensions 4.1.1\n",
            "    Uninstalling typing-extensions-4.1.1:\n",
            "      Successfully uninstalled typing-extensions-4.1.1\n",
            "  Attempting uninstall: catalogue\n",
            "    Found existing installation: catalogue 1.0.0\n",
            "    Uninstalling catalogue-1.0.0:\n",
            "      Successfully uninstalled catalogue-1.0.0\n",
            "  Attempting uninstall: srsly\n",
            "    Found existing installation: srsly 1.0.5\n",
            "    Uninstalling srsly-1.0.5:\n",
            "      Successfully uninstalled srsly-1.0.5\n",
            "  Attempting uninstall: thinc\n",
            "    Found existing installation: thinc 7.3.1\n",
            "    Uninstalling thinc-7.3.1:\n",
            "      Successfully uninstalled thinc-7.3.1\n",
            "  Attempting uninstall: spacy\n",
            "    Found existing installation: spacy 2.2.3\n",
            "    Uninstalling spacy-2.2.3:\n",
            "      Successfully uninstalled spacy-2.2.3\n",
            "Successfully installed catalogue-2.0.7 spacy-3.3.0 srsly-2.4.3 thinc-8.0.17 typing-extensions-3.10.0.2\n"
          ]
        },
        {
          "output_type": "display_data",
          "data": {
            "application/vnd.colab-display-data+json": {
              "pip_warning": {
                "packages": [
                  "typing_extensions"
                ]
              }
            }
          },
          "metadata": {}
        }
      ]
    },
    {
      "cell_type": "code",
      "execution_count": 1,
      "metadata": {
        "colab": {
          "base_uri": "https://localhost:8080/"
        },
        "id": "nUPIrjOB_-BR",
        "outputId": "e4797605-be9a-44bf-9c21-66bea6a5f867"
      },
      "outputs": [
        {
          "output_type": "stream",
          "name": "stdout",
          "text": [
            "Looking in indexes: https://pypi.org/simple, https://us-python.pkg.dev/colab-wheels/public/simple/\n",
            "Collecting en-core-web-md==3.3.0\n",
            "  Downloading https://github.com/explosion/spacy-models/releases/download/en_core_web_md-3.3.0/en_core_web_md-3.3.0-py3-none-any.whl (33.5 MB)\n",
            "\u001b[K     |████████████████████████████████| 33.5 MB 1.3 MB/s \n",
            "\u001b[?25hRequirement already satisfied: spacy<3.4.0,>=3.3.0.dev0 in /usr/local/lib/python3.7/dist-packages (from en-core-web-md==3.3.0) (3.3.0)\n",
            "Requirement already satisfied: setuptools in /usr/local/lib/python3.7/dist-packages (from spacy<3.4.0,>=3.3.0.dev0->en-core-web-md==3.3.0) (57.4.0)\n",
            "Requirement already satisfied: catalogue<2.1.0,>=2.0.6 in /usr/local/lib/python3.7/dist-packages (from spacy<3.4.0,>=3.3.0.dev0->en-core-web-md==3.3.0) (2.0.7)\n",
            "Requirement already satisfied: preshed<3.1.0,>=3.0.2 in /usr/local/lib/python3.7/dist-packages (from spacy<3.4.0,>=3.3.0.dev0->en-core-web-md==3.3.0) (3.0.6)\n",
            "Requirement already satisfied: blis<0.8.0,>=0.4.0 in /usr/local/lib/python3.7/dist-packages (from spacy<3.4.0,>=3.3.0.dev0->en-core-web-md==3.3.0) (0.4.1)\n",
            "Requirement already satisfied: pathy>=0.3.5 in /usr/local/lib/python3.7/dist-packages (from spacy<3.4.0,>=3.3.0.dev0->en-core-web-md==3.3.0) (0.6.2)\n",
            "Requirement already satisfied: jinja2 in /usr/local/lib/python3.7/dist-packages (from spacy<3.4.0,>=3.3.0.dev0->en-core-web-md==3.3.0) (2.11.3)\n",
            "Requirement already satisfied: packaging>=20.0 in /usr/local/lib/python3.7/dist-packages (from spacy<3.4.0,>=3.3.0.dev0->en-core-web-md==3.3.0) (21.3)\n",
            "Requirement already satisfied: typing-extensions<4.0.0.0,>=3.7.4 in /usr/local/lib/python3.7/dist-packages (from spacy<3.4.0,>=3.3.0.dev0->en-core-web-md==3.3.0) (3.10.0.2)\n",
            "Requirement already satisfied: requests<3.0.0,>=2.13.0 in /usr/local/lib/python3.7/dist-packages (from spacy<3.4.0,>=3.3.0.dev0->en-core-web-md==3.3.0) (2.23.0)\n",
            "Requirement already satisfied: spacy-legacy<3.1.0,>=3.0.9 in /usr/local/lib/python3.7/dist-packages (from spacy<3.4.0,>=3.3.0.dev0->en-core-web-md==3.3.0) (3.0.9)\n",
            "Requirement already satisfied: numpy>=1.15.0 in /usr/local/lib/python3.7/dist-packages (from spacy<3.4.0,>=3.3.0.dev0->en-core-web-md==3.3.0) (1.21.6)\n",
            "Requirement already satisfied: langcodes<4.0.0,>=3.2.0 in /usr/local/lib/python3.7/dist-packages (from spacy<3.4.0,>=3.3.0.dev0->en-core-web-md==3.3.0) (3.3.0)\n",
            "Requirement already satisfied: spacy-loggers<2.0.0,>=1.0.0 in /usr/local/lib/python3.7/dist-packages (from spacy<3.4.0,>=3.3.0.dev0->en-core-web-md==3.3.0) (1.0.2)\n",
            "Requirement already satisfied: murmurhash<1.1.0,>=0.28.0 in /usr/local/lib/python3.7/dist-packages (from spacy<3.4.0,>=3.3.0.dev0->en-core-web-md==3.3.0) (1.0.7)\n",
            "Requirement already satisfied: tqdm<5.0.0,>=4.38.0 in /usr/local/lib/python3.7/dist-packages (from spacy<3.4.0,>=3.3.0.dev0->en-core-web-md==3.3.0) (4.64.0)\n",
            "Requirement already satisfied: thinc<8.1.0,>=8.0.14 in /usr/local/lib/python3.7/dist-packages (from spacy<3.4.0,>=3.3.0.dev0->en-core-web-md==3.3.0) (8.0.17)\n",
            "Requirement already satisfied: cymem<2.1.0,>=2.0.2 in /usr/local/lib/python3.7/dist-packages (from spacy<3.4.0,>=3.3.0.dev0->en-core-web-md==3.3.0) (2.0.6)\n",
            "Requirement already satisfied: srsly<3.0.0,>=2.4.3 in /usr/local/lib/python3.7/dist-packages (from spacy<3.4.0,>=3.3.0.dev0->en-core-web-md==3.3.0) (2.4.3)\n",
            "Requirement already satisfied: pydantic!=1.8,!=1.8.1,<1.9.0,>=1.7.4 in /usr/local/lib/python3.7/dist-packages (from spacy<3.4.0,>=3.3.0.dev0->en-core-web-md==3.3.0) (1.8.2)\n",
            "Requirement already satisfied: typer<0.5.0,>=0.3.0 in /usr/local/lib/python3.7/dist-packages (from spacy<3.4.0,>=3.3.0.dev0->en-core-web-md==3.3.0) (0.4.2)\n",
            "Requirement already satisfied: wasabi<1.1.0,>=0.9.1 in /usr/local/lib/python3.7/dist-packages (from spacy<3.4.0,>=3.3.0.dev0->en-core-web-md==3.3.0) (0.9.1)\n",
            "Requirement already satisfied: zipp>=0.5 in /usr/local/lib/python3.7/dist-packages (from catalogue<2.1.0,>=2.0.6->spacy<3.4.0,>=3.3.0.dev0->en-core-web-md==3.3.0) (3.8.0)\n",
            "Requirement already satisfied: pyparsing!=3.0.5,>=2.0.2 in /usr/local/lib/python3.7/dist-packages (from packaging>=20.0->spacy<3.4.0,>=3.3.0.dev0->en-core-web-md==3.3.0) (3.0.9)\n",
            "Requirement already satisfied: smart-open<6.0.0,>=5.2.1 in /usr/local/lib/python3.7/dist-packages (from pathy>=0.3.5->spacy<3.4.0,>=3.3.0.dev0->en-core-web-md==3.3.0) (5.2.1)\n",
            "Requirement already satisfied: chardet<4,>=3.0.2 in /usr/local/lib/python3.7/dist-packages (from requests<3.0.0,>=2.13.0->spacy<3.4.0,>=3.3.0.dev0->en-core-web-md==3.3.0) (3.0.4)\n",
            "Requirement already satisfied: certifi>=2017.4.17 in /usr/local/lib/python3.7/dist-packages (from requests<3.0.0,>=2.13.0->spacy<3.4.0,>=3.3.0.dev0->en-core-web-md==3.3.0) (2022.6.15)\n",
            "Requirement already satisfied: urllib3!=1.25.0,!=1.25.1,<1.26,>=1.21.1 in /usr/local/lib/python3.7/dist-packages (from requests<3.0.0,>=2.13.0->spacy<3.4.0,>=3.3.0.dev0->en-core-web-md==3.3.0) (1.24.3)\n",
            "Requirement already satisfied: idna<3,>=2.5 in /usr/local/lib/python3.7/dist-packages (from requests<3.0.0,>=2.13.0->spacy<3.4.0,>=3.3.0.dev0->en-core-web-md==3.3.0) (2.10)\n",
            "Requirement already satisfied: click<9.0.0,>=7.1.1 in /usr/local/lib/python3.7/dist-packages (from typer<0.5.0,>=0.3.0->spacy<3.4.0,>=3.3.0.dev0->en-core-web-md==3.3.0) (7.1.2)\n",
            "Requirement already satisfied: MarkupSafe>=0.23 in /usr/local/lib/python3.7/dist-packages (from jinja2->spacy<3.4.0,>=3.3.0.dev0->en-core-web-md==3.3.0) (2.0.1)\n",
            "Installing collected packages: en-core-web-md\n",
            "Successfully installed en-core-web-md-3.3.0\n",
            "\u001b[38;5;2m✔ Download and installation successful\u001b[0m\n",
            "You can now load the package via spacy.load('en_core_web_md')\n"
          ]
        }
      ],
      "source": [
        "!python -m spacy download en_core_web_md"
      ]
    },
    {
      "cell_type": "code",
      "source": [
        "!pip freeze"
      ],
      "metadata": {
        "colab": {
          "base_uri": "https://localhost:8080/"
        },
        "id": "LBw9j8NZ_B0e",
        "outputId": "c69f2cf5-2ea7-4be8-fdc0-f488fd002490"
      },
      "execution_count": 2,
      "outputs": [
        {
          "output_type": "stream",
          "name": "stdout",
          "text": [
            "absl-py==1.1.0\n",
            "alabaster==0.7.12\n",
            "albumentations==0.1.12\n",
            "altair==4.2.0\n",
            "appdirs==1.4.4\n",
            "argon2-cffi==21.3.0\n",
            "argon2-cffi-bindings==21.2.0\n",
            "arviz==0.12.1\n",
            "astor==0.8.1\n",
            "astropy==4.3.1\n",
            "astunparse==1.6.3\n",
            "atari-py==0.2.9\n",
            "atomicwrites==1.4.1\n",
            "attrs==21.4.0\n",
            "audioread==2.1.9\n",
            "autograd==1.4\n",
            "Babel==2.10.3\n",
            "backcall==0.2.0\n",
            "beautifulsoup4==4.6.3\n",
            "bleach==5.0.1\n",
            "blis==0.4.1\n",
            "bokeh==2.3.3\n",
            "branca==0.5.0\n",
            "bs4==0.0.1\n",
            "CacheControl==0.12.11\n",
            "cached-property==1.5.2\n",
            "cachetools==4.2.4\n",
            "catalogue==2.0.7\n",
            "certifi==2022.6.15\n",
            "cffi==1.15.1\n",
            "cftime==1.6.1\n",
            "chardet==3.0.4\n",
            "charset-normalizer==2.1.0\n",
            "click==7.1.2\n",
            "cloudpickle==1.3.0\n",
            "cmake==3.22.5\n",
            "cmdstanpy==0.9.5\n",
            "colorcet==3.0.0\n",
            "colorlover==0.3.0\n",
            "community==1.0.0b1\n",
            "contextlib2==0.5.5\n",
            "convertdate==2.4.0\n",
            "coverage==3.7.1\n",
            "coveralls==0.5\n",
            "crcmod==1.7\n",
            "cufflinks==0.17.3\n",
            "cupy-cuda111==9.4.0\n",
            "cvxopt==1.2.7\n",
            "cvxpy==1.0.31\n",
            "cycler==0.11.0\n",
            "cymem==2.0.6\n",
            "Cython==0.29.30\n",
            "daft==0.0.4\n",
            "dask==2.12.0\n",
            "datascience==0.10.6\n",
            "debugpy==1.0.0\n",
            "decorator==4.4.2\n",
            "defusedxml==0.7.1\n",
            "deprecat==2.1.1\n",
            "descartes==1.1.0\n",
            "dill==0.3.5.1\n",
            "distributed==1.25.3\n",
            "dlib==19.18.0+zzzcolab20220513001918\n",
            "dm-tree==0.1.7\n",
            "docopt==0.6.2\n",
            "docutils==0.17.1\n",
            "dopamine-rl==1.0.5\n",
            "earthengine-api==0.1.316\n",
            "easydict==1.9\n",
            "ecos==2.0.10\n",
            "editdistance==0.5.3\n",
            "en-core-web-md @ https://github.com/explosion/spacy-models/releases/download/en_core_web_md-3.3.0/en_core_web_md-3.3.0-py3-none-any.whl\n",
            "en-core-web-sm @ https://github.com/explosion/spacy-models/releases/download/en_core_web_sm-3.3.0/en_core_web_sm-3.3.0-py3-none-any.whl\n",
            "entrypoints==0.4\n",
            "ephem==4.1.3\n",
            "et-xmlfile==1.1.0\n",
            "etils==0.6.0\n",
            "fa2==0.3.5\n",
            "fastai==2.7.6\n",
            "fastcore==1.4.5\n",
            "fastdownload==0.0.7\n",
            "fastdtw==0.3.4\n",
            "fastjsonschema==2.15.3\n",
            "fastprogress==1.0.2\n",
            "fastrlock==0.8\n",
            "fbprophet==0.7.1\n",
            "feather-format==0.4.1\n",
            "filelock==3.7.1\n",
            "firebase-admin==4.4.0\n",
            "fix-yahoo-finance==0.0.22\n",
            "Flask==1.1.4\n",
            "flatbuffers==2.0\n",
            "folium==0.8.3\n",
            "funcy==1.17\n",
            "future==0.16.0\n",
            "gast==0.5.3\n",
            "GDAL==2.2.2\n",
            "gdown==4.4.0\n",
            "gensim==3.8.1\n",
            "geographiclib==1.52\n",
            "geopy==1.17.0\n",
            "gin-config==0.5.0\n",
            "glob2==0.7\n",
            "google==2.0.3\n",
            "google-api-core==1.31.6\n",
            "google-api-python-client==1.12.11\n",
            "google-auth==1.35.0\n",
            "google-auth-httplib2==0.0.4\n",
            "google-auth-oauthlib==0.4.6\n",
            "google-cloud-bigquery==1.21.0\n",
            "google-cloud-bigquery-storage==1.1.2\n",
            "google-cloud-core==1.0.3\n",
            "google-cloud-datastore==1.8.0\n",
            "google-cloud-firestore==1.7.0\n",
            "google-cloud-language==1.2.0\n",
            "google-cloud-storage==1.18.1\n",
            "google-cloud-translate==1.5.0\n",
            "google-colab @ file:///colabtools/dist/google-colab-1.0.0.tar.gz\n",
            "google-pasta==0.2.0\n",
            "google-resumable-media==0.4.1\n",
            "googleapis-common-protos==1.56.3\n",
            "googledrivedownloader==0.4\n",
            "graphviz==0.10.1\n",
            "greenlet==1.1.2\n",
            "grpcio==1.47.0\n",
            "gspread==3.4.2\n",
            "gspread-dataframe==3.0.8\n",
            "gym==0.17.3\n",
            "h5py==3.1.0\n",
            "HeapDict==1.0.1\n",
            "hijri-converter==2.2.4\n",
            "holidays==0.10.5.2\n",
            "holoviews==1.14.9\n",
            "html5lib==1.0.1\n",
            "httpimport==0.5.18\n",
            "httplib2==0.17.4\n",
            "httplib2shim==0.0.3\n",
            "humanize==0.5.1\n",
            "hyperopt==0.1.2\n",
            "ideep4py==2.0.0.post3\n",
            "idna==2.10\n",
            "imageio==2.4.1\n",
            "imagesize==1.4.1\n",
            "imbalanced-learn==0.8.1\n",
            "imblearn==0.0\n",
            "imgaug==0.2.9\n",
            "importlib-metadata==4.12.0\n",
            "importlib-resources==5.8.0\n",
            "imutils==0.5.4\n",
            "inflect==2.1.0\n",
            "iniconfig==1.1.1\n",
            "intel-openmp==2022.1.0\n",
            "intervaltree==2.1.0\n",
            "ipykernel==4.10.1\n",
            "ipython==5.5.0\n",
            "ipython-genutils==0.2.0\n",
            "ipython-sql==0.3.9\n",
            "ipywidgets==7.7.1\n",
            "itsdangerous==1.1.0\n",
            "jax==0.3.14\n",
            "jaxlib @ https://storage.googleapis.com/jax-releases/cuda11/jaxlib-0.3.14+cuda11.cudnn805-cp37-none-manylinux2014_x86_64.whl\n",
            "jedi==0.18.1\n",
            "jieba==0.42.1\n",
            "Jinja2==2.11.3\n",
            "joblib==1.1.0\n",
            "jpeg4py==0.1.4\n",
            "jsonschema==4.3.3\n",
            "jupyter==1.0.0\n",
            "jupyter-client==5.3.5\n",
            "jupyter-console==5.2.0\n",
            "jupyter-core==4.11.1\n",
            "jupyterlab-pygments==0.2.2\n",
            "jupyterlab-widgets==1.1.1\n",
            "kaggle==1.5.12\n",
            "kapre==0.3.7\n",
            "keras==2.8.0\n",
            "Keras-Preprocessing==1.1.2\n",
            "keras-vis==0.4.1\n",
            "kiwisolver==1.4.3\n",
            "korean-lunar-calendar==0.2.1\n",
            "langcodes==3.3.0\n",
            "libclang==14.0.1\n",
            "librosa==0.8.1\n",
            "lightgbm==2.2.3\n",
            "llvmlite==0.34.0\n",
            "lmdb==0.99\n",
            "LunarCalendar==0.0.9\n",
            "lxml==4.2.6\n",
            "Markdown==3.3.7\n",
            "MarkupSafe==2.0.1\n",
            "matplotlib==3.2.2\n",
            "matplotlib-inline==0.1.3\n",
            "matplotlib-venn==0.11.7\n",
            "missingno==0.5.1\n",
            "mistune==0.8.4\n",
            "mizani==0.6.0\n",
            "mkl==2019.0\n",
            "mlxtend==0.14.0\n",
            "more-itertools==8.13.0\n",
            "moviepy==0.2.3.5\n",
            "mpmath==1.2.1\n",
            "msgpack==1.0.4\n",
            "multiprocess==0.70.13\n",
            "multitasking==0.0.11\n",
            "murmurhash==1.0.7\n",
            "music21==5.5.0\n",
            "natsort==5.5.0\n",
            "nbclient==0.6.6\n",
            "nbconvert==5.6.1\n",
            "nbformat==5.4.0\n",
            "nest-asyncio==1.5.5\n",
            "netCDF4==1.6.0\n",
            "networkx==2.6.3\n",
            "nibabel==3.0.2\n",
            "nltk==3.7\n",
            "notebook==5.3.1\n",
            "numba==0.51.2\n",
            "numexpr==2.8.3\n",
            "numpy==1.21.6\n",
            "oauth2client==4.1.3\n",
            "oauthlib==3.2.0\n",
            "okgrade==0.4.3\n",
            "opencv-contrib-python==4.1.2.30\n",
            "opencv-python==4.1.2.30\n",
            "openpyxl==3.0.10\n",
            "opt-einsum==3.3.0\n",
            "osqp==0.6.2.post0\n",
            "packaging==21.3\n",
            "palettable==3.3.0\n",
            "pandarallel==1.4.8\n",
            "pandas==1.3.5\n",
            "pandas-datareader==0.9.0\n",
            "pandas-gbq==0.13.3\n",
            "pandas-profiling==1.4.1\n",
            "pandocfilters==1.5.0\n",
            "panel==0.12.1\n",
            "param==1.12.2\n",
            "parso==0.8.3\n",
            "pathlib==1.0.1\n",
            "pathy==0.6.2\n",
            "patsy==0.5.2\n",
            "pep517==0.12.0\n",
            "pexpect==4.8.0\n",
            "pickleshare==0.7.5\n",
            "Pillow==7.1.2\n",
            "pip-tools==6.2.0\n",
            "plac==1.1.3\n",
            "plotly==5.5.0\n",
            "plotnine==0.6.0\n",
            "pluggy==0.7.1\n",
            "pooch==1.6.0\n",
            "portpicker==1.3.9\n",
            "prefetch-generator==1.0.1\n",
            "preshed==3.0.6\n",
            "prettytable==3.3.0\n",
            "progressbar2==3.38.0\n",
            "prometheus-client==0.14.1\n",
            "promise==2.3\n",
            "prompt-toolkit==1.0.18\n",
            "protobuf==3.17.3\n",
            "psutil==5.4.8\n",
            "psycopg2==2.7.6.1\n",
            "ptyprocess==0.7.0\n",
            "py==1.11.0\n",
            "pyarrow==6.0.1\n",
            "pyasn1==0.4.8\n",
            "pyasn1-modules==0.2.8\n",
            "pycocotools==2.0.4\n",
            "pycparser==2.21\n",
            "pyct==0.4.8\n",
            "pydantic==1.8.2\n",
            "pydata-google-auth==1.4.0\n",
            "pydot==1.3.0\n",
            "pydot-ng==2.0.0\n",
            "pydotplus==2.0.2\n",
            "PyDrive==1.3.1\n",
            "pyemd==0.5.1\n",
            "pyerfa==2.0.0.1\n",
            "pyglet==1.5.0\n",
            "Pygments==2.6.1\n",
            "pygobject==3.26.1\n",
            "pyLDAvis==3.3.1\n",
            "pymc3==3.11.5\n",
            "PyMeeus==0.5.11\n",
            "pymongo==4.1.1\n",
            "pymystem3==0.2.0\n",
            "PyOpenGL==3.1.6\n",
            "pyparsing==3.0.9\n",
            "pyrsistent==0.18.1\n",
            "pysndfile==1.3.8\n",
            "PySocks==1.7.1\n",
            "pystan==2.19.1.1\n",
            "pytest==3.6.4\n",
            "python-apt==0.0.0\n",
            "python-chess==0.23.11\n",
            "python-dateutil==2.8.2\n",
            "python-louvain==0.16\n",
            "python-slugify==6.1.2\n",
            "python-utils==3.3.3\n",
            "pytz==2022.1\n",
            "pyviz-comms==2.2.0\n",
            "PyWavelets==1.3.0\n",
            "PyYAML==3.13\n",
            "pyzmq==23.2.0\n",
            "qdldl==0.1.5.post2\n",
            "qtconsole==5.3.1\n",
            "QtPy==2.1.0\n",
            "regex==2022.6.2\n",
            "requests==2.23.0\n",
            "requests-oauthlib==1.3.1\n",
            "resampy==0.3.1\n",
            "rpy2==3.4.5\n",
            "rsa==4.8\n",
            "scikit-image==0.18.3\n",
            "scikit-learn==0.22.2\n",
            "scipy==1.7.3\n",
            "screen-resolution-extra==0.0.0\n",
            "scs==3.2.0\n",
            "seaborn==0.9.0\n",
            "semver==2.13.0\n",
            "Send2Trash==1.8.0\n",
            "setuptools-git==1.2\n",
            "Shapely==1.8.2\n",
            "simplegeneric==0.8.1\n",
            "six==1.15.0\n",
            "sklearn==0.0\n",
            "sklearn-pandas==1.8.0\n",
            "smart-open==5.2.1\n",
            "snowballstemmer==2.2.0\n",
            "sortedcontainers==2.4.0\n",
            "SoundFile==0.10.3.post1\n",
            "soupsieve==2.3.2.post1\n",
            "spacy==3.3.0\n",
            "spacy-legacy==3.0.9\n",
            "spacy-loggers==1.0.2\n",
            "Sphinx==1.8.6\n",
            "sphinxcontrib-serializinghtml==1.1.5\n",
            "sphinxcontrib-websupport==1.2.4\n",
            "SQLAlchemy==1.4.39\n",
            "sqlparse==0.4.2\n",
            "squarify==0.4.3\n",
            "srsly==2.4.3\n",
            "statsmodels==0.10.2\n",
            "sympy==1.7.1\n",
            "tables==3.7.0\n",
            "tabulate==0.8.10\n",
            "tblib==1.7.0\n",
            "tenacity==8.0.1\n",
            "tensorboard==2.8.0\n",
            "tensorboard-data-server==0.6.1\n",
            "tensorboard-plugin-wit==1.8.1\n",
            "tensorflow==2.8.2+zzzcolab20220527125636\n",
            "tensorflow-datasets==4.0.1\n",
            "tensorflow-estimator==2.8.0\n",
            "tensorflow-gcs-config==2.8.0\n",
            "tensorflow-hub==0.12.0\n",
            "tensorflow-io-gcs-filesystem==0.26.0\n",
            "tensorflow-metadata==1.9.0\n",
            "tensorflow-probability==0.16.0\n",
            "termcolor==1.1.0\n",
            "terminado==0.13.3\n",
            "testpath==0.6.0\n",
            "text-unidecode==1.3\n",
            "textblob==0.15.3\n",
            "Theano-PyMC==1.1.2\n",
            "thinc==8.0.17\n",
            "threadpoolctl==3.1.0\n",
            "tifffile==2021.11.2\n",
            "tinycss2==1.1.1\n",
            "tomli==2.0.1\n",
            "toolz==0.12.0\n",
            "torch @ https://download.pytorch.org/whl/cu113/torch-1.12.0%2Bcu113-cp37-cp37m-linux_x86_64.whl\n",
            "torchaudio @ https://download.pytorch.org/whl/cu113/torchaudio-0.12.0%2Bcu113-cp37-cp37m-linux_x86_64.whl\n",
            "torchsummary==1.5.1\n",
            "torchtext==0.13.0\n",
            "torchvision @ https://download.pytorch.org/whl/cu113/torchvision-0.13.0%2Bcu113-cp37-cp37m-linux_x86_64.whl\n",
            "tornado==5.1.1\n",
            "tqdm==4.64.0\n",
            "traitlets==5.1.1\n",
            "tweepy==3.10.0\n",
            "typeguard==2.7.1\n",
            "typer==0.4.2\n",
            "typing-extensions==3.10.0.2\n",
            "tzlocal==1.5.1\n",
            "uritemplate==3.0.1\n",
            "urllib3==1.24.3\n",
            "vega-datasets==0.9.0\n",
            "wasabi==0.9.1\n",
            "wcwidth==0.2.5\n",
            "webencodings==0.5.1\n",
            "Werkzeug==1.0.1\n",
            "widgetsnbextension==3.6.1\n",
            "wordcloud==1.5.0\n",
            "wrapt==1.14.1\n",
            "xarray==0.20.2\n",
            "xarray-einstats==0.2.2\n",
            "xgboost==0.90\n",
            "xkit==0.0.0\n",
            "xlrd==1.1.0\n",
            "xlwt==1.3.0\n",
            "yellowbrick==1.4\n",
            "zict==2.2.0\n",
            "zipp==3.8.0\n"
          ]
        }
      ]
    },
    {
      "cell_type": "markdown",
      "metadata": {
        "id": "isyLmOAZqYR0"
      },
      "source": [
        "## Restart runtime!"
      ]
    },
    {
      "cell_type": "code",
      "execution_count": 6,
      "metadata": {
        "colab": {
          "base_uri": "https://localhost:8080/"
        },
        "id": "rXrXC0mrzGd5",
        "outputId": "067ef269-875b-498c-c4b4-46907314d416"
      },
      "outputs": [
        {
          "output_type": "stream",
          "name": "stderr",
          "text": [
            "/usr/local/lib/python3.7/dist-packages/scipy/sparse/sparsetools.py:21: DeprecationWarning: `scipy.sparse.sparsetools` is deprecated!\n",
            "scipy.sparse.sparsetools is a private module for scipy.sparse, and should not be used.\n",
            "  _deprecated()\n"
          ]
        }
      ],
      "source": [
        "import re\n",
        "import pandas as pd\n",
        "import numpy as np\n",
        "import matplotlib.pyplot as plt\n",
        "from sklearn.feature_extraction.text import CountVectorizer, TfidfVectorizer\n",
        "\n",
        "import spacy\n",
        "spacy.util.fix_random_seed(0)\n",
        "\n",
        "import pyLDAvis\n",
        "import pyLDAvis.gensim_models\n",
        "\n",
        "import gensim\n",
        "import gensim.corpora as corpora\n",
        "from gensim.utils import simple_preprocess\n",
        "from gensim.models import CoherenceModel\n",
        "\n",
        "from pandarallel import pandarallel\n",
        "\n",
        "%matplotlib inline\n",
        "\n",
        "import warnings\n",
        "warnings.filterwarnings(\"ignore\")\n",
        "warnings.filterwarnings(\"ignore\", category=DeprecationWarning)"
      ]
    },
    {
      "cell_type": "markdown",
      "metadata": {
        "id": "x9ph4ZzpzGd6"
      },
      "source": [
        "----\n",
        "### Load the Amazon Review corpus \n",
        "This dataset is located in the Sprint 1 Module 1 `/data` directory. \n",
        "\n",
        "If the provided relative path doesn't work for you, then you'll have to provide the file path so pandas can read in the file."
      ]
    },
    {
      "cell_type": "code",
      "execution_count": 7,
      "metadata": {
        "colab": {
          "base_uri": "https://localhost:8080/"
        },
        "id": "c_L4bKk_4E84",
        "outputId": "e3cfd180-1147-4690-c90e-b104a4af0ee5"
      },
      "outputs": [
        {
          "output_type": "stream",
          "name": "stdout",
          "text": [
            "Cloning into 'DS-Unit-4-Sprint-1-NLP'...\n",
            "remote: Enumerating objects: 1689, done.\u001b[K\n",
            "remote: Counting objects: 100% (158/158), done.\u001b[K\n",
            "remote: Compressing objects: 100% (87/87), done.\u001b[K\n",
            "remote: Total 1689 (delta 88), reused 120 (delta 71), pack-reused 1531\u001b[K\n",
            "Receiving objects: 100% (1689/1689), 59.40 MiB | 26.16 MiB/s, done.\n",
            "Resolving deltas: 100% (257/257), done.\n"
          ]
        }
      ],
      "source": [
        "# A \"brute force\" way to get the Amazon reviews dataset; just clone the Sprint 1 repo!\n",
        "# Overkill, but it does the job!\n",
        "!git clone https://github.com/LambdaSchool/DS-Unit-4-Sprint-1-NLP.git"
      ]
    },
    {
      "cell_type": "code",
      "execution_count": 8,
      "metadata": {
        "colab": {
          "base_uri": "https://localhost:8080/"
        },
        "id": "7__zXIF_504B",
        "outputId": "a782a08e-8929-431b-b650-2b9360889e32"
      },
      "outputs": [
        {
          "output_type": "stream",
          "name": "stdout",
          "text": [
            "Archive:  /content/DS-Unit-4-Sprint-1-NLP/module1-text-data/data/Datafiniti_Amazon_Consumer_Reviews_of_Amazon_Products_May19.csv.zip\n",
            "  inflating: Datafiniti_Amazon_Consumer_Reviews_of_Amazon_Products_May19.csv  \n",
            "   creating: __MACOSX/\n",
            "  inflating: __MACOSX/._Datafiniti_Amazon_Consumer_Reviews_of_Amazon_Products_May19.csv  \n"
          ]
        }
      ],
      "source": [
        "!unzip '/content/DS-Unit-4-Sprint-1-NLP/module1-text-data/data/Datafiniti_Amazon_Consumer_Reviews_of_Amazon_Products_May19.csv.zip'"
      ]
    },
    {
      "cell_type": "code",
      "execution_count": 10,
      "metadata": {
        "id": "Ov482n4pzGd6"
      },
      "outputs": [],
      "source": [
        "\n",
        "data_path = \"/content/Datafiniti_Amazon_Consumer_Reviews_of_Amazon_Products_May19.csv\"\n",
        "df = pd.read_csv(data_path)"
      ]
    },
    {
      "cell_type": "code",
      "execution_count": 11,
      "metadata": {
        "colab": {
          "base_uri": "https://localhost:8080/",
          "height": 344
        },
        "id": "-yZZEwZNzGd7",
        "outputId": "2641449f-143c-4da0-b2fc-2eb67af21d6d"
      },
      "outputs": [
        {
          "output_type": "execute_result",
          "data": {
            "text/plain": [
              "                     id             dateAdded           dateUpdated  \\\n",
              "0  AVpgNzjwLJeJML43Kpxn  2015-10-30T08:59:32Z  2019-04-25T09:08:16Z   \n",
              "1  AVpgNzjwLJeJML43Kpxn  2015-10-30T08:59:32Z  2019-04-25T09:08:16Z   \n",
              "\n",
              "                                                name                  asins  \\\n",
              "0  AmazonBasics AAA Performance Alkaline Batterie...  B00QWO9P0O,B00LH3DMUO   \n",
              "1  AmazonBasics AAA Performance Alkaline Batterie...  B00QWO9P0O,B00LH3DMUO   \n",
              "\n",
              "          brand                                         categories  \\\n",
              "0  Amazonbasics  AA,AAA,Health,Electronics,Health & Household,C...   \n",
              "1  Amazonbasics  AA,AAA,Health,Electronics,Health & Household,C...   \n",
              "\n",
              "  primaryCategories                                          imageURLs  \\\n",
              "0   Health & Beauty  https://images-na.ssl-images-amazon.com/images...   \n",
              "1   Health & Beauty  https://images-na.ssl-images-amazon.com/images...   \n",
              "\n",
              "                                                keys  ... reviews.didPurchase  \\\n",
              "0  amazonbasics/hl002619,amazonbasicsaaaperforman...  ...                 NaN   \n",
              "1  amazonbasics/hl002619,amazonbasicsaaaperforman...  ...                 NaN   \n",
              "\n",
              "  reviews.doRecommend reviews.id reviews.numHelpful reviews.rating  \\\n",
              "0                 NaN        NaN                NaN              3   \n",
              "1                 NaN        NaN                NaN              4   \n",
              "\n",
              "                                  reviews.sourceURLs  \\\n",
              "0  https://www.amazon.com/product-reviews/B00QWO9...   \n",
              "1  https://www.amazon.com/product-reviews/B00QWO9...   \n",
              "\n",
              "                                        reviews.text  \\\n",
              "0  I order 3 of them and one of the item is bad q...   \n",
              "1  Bulk is always the less expensive way to go fo...   \n",
              "\n",
              "                                       reviews.title  reviews.username  \\\n",
              "0  ... 3 of them and one of the item is bad quali...        Byger yang   \n",
              "1  ... always the less expensive way to go for pr...              ByMG   \n",
              "\n",
              "                                          sourceURLs  \n",
              "0  https://www.barcodable.com/upc/841710106442,ht...  \n",
              "1  https://www.barcodable.com/upc/841710106442,ht...  \n",
              "\n",
              "[2 rows x 24 columns]"
            ],
            "text/html": [
              "\n",
              "  <div id=\"df-f43d1d15-f023-4ebd-ab35-9d03b346ced7\">\n",
              "    <div class=\"colab-df-container\">\n",
              "      <div>\n",
              "<style scoped>\n",
              "    .dataframe tbody tr th:only-of-type {\n",
              "        vertical-align: middle;\n",
              "    }\n",
              "\n",
              "    .dataframe tbody tr th {\n",
              "        vertical-align: top;\n",
              "    }\n",
              "\n",
              "    .dataframe thead th {\n",
              "        text-align: right;\n",
              "    }\n",
              "</style>\n",
              "<table border=\"1\" class=\"dataframe\">\n",
              "  <thead>\n",
              "    <tr style=\"text-align: right;\">\n",
              "      <th></th>\n",
              "      <th>id</th>\n",
              "      <th>dateAdded</th>\n",
              "      <th>dateUpdated</th>\n",
              "      <th>name</th>\n",
              "      <th>asins</th>\n",
              "      <th>brand</th>\n",
              "      <th>categories</th>\n",
              "      <th>primaryCategories</th>\n",
              "      <th>imageURLs</th>\n",
              "      <th>keys</th>\n",
              "      <th>...</th>\n",
              "      <th>reviews.didPurchase</th>\n",
              "      <th>reviews.doRecommend</th>\n",
              "      <th>reviews.id</th>\n",
              "      <th>reviews.numHelpful</th>\n",
              "      <th>reviews.rating</th>\n",
              "      <th>reviews.sourceURLs</th>\n",
              "      <th>reviews.text</th>\n",
              "      <th>reviews.title</th>\n",
              "      <th>reviews.username</th>\n",
              "      <th>sourceURLs</th>\n",
              "    </tr>\n",
              "  </thead>\n",
              "  <tbody>\n",
              "    <tr>\n",
              "      <th>0</th>\n",
              "      <td>AVpgNzjwLJeJML43Kpxn</td>\n",
              "      <td>2015-10-30T08:59:32Z</td>\n",
              "      <td>2019-04-25T09:08:16Z</td>\n",
              "      <td>AmazonBasics AAA Performance Alkaline Batterie...</td>\n",
              "      <td>B00QWO9P0O,B00LH3DMUO</td>\n",
              "      <td>Amazonbasics</td>\n",
              "      <td>AA,AAA,Health,Electronics,Health &amp; Household,C...</td>\n",
              "      <td>Health &amp; Beauty</td>\n",
              "      <td>https://images-na.ssl-images-amazon.com/images...</td>\n",
              "      <td>amazonbasics/hl002619,amazonbasicsaaaperforman...</td>\n",
              "      <td>...</td>\n",
              "      <td>NaN</td>\n",
              "      <td>NaN</td>\n",
              "      <td>NaN</td>\n",
              "      <td>NaN</td>\n",
              "      <td>3</td>\n",
              "      <td>https://www.amazon.com/product-reviews/B00QWO9...</td>\n",
              "      <td>I order 3 of them and one of the item is bad q...</td>\n",
              "      <td>... 3 of them and one of the item is bad quali...</td>\n",
              "      <td>Byger yang</td>\n",
              "      <td>https://www.barcodable.com/upc/841710106442,ht...</td>\n",
              "    </tr>\n",
              "    <tr>\n",
              "      <th>1</th>\n",
              "      <td>AVpgNzjwLJeJML43Kpxn</td>\n",
              "      <td>2015-10-30T08:59:32Z</td>\n",
              "      <td>2019-04-25T09:08:16Z</td>\n",
              "      <td>AmazonBasics AAA Performance Alkaline Batterie...</td>\n",
              "      <td>B00QWO9P0O,B00LH3DMUO</td>\n",
              "      <td>Amazonbasics</td>\n",
              "      <td>AA,AAA,Health,Electronics,Health &amp; Household,C...</td>\n",
              "      <td>Health &amp; Beauty</td>\n",
              "      <td>https://images-na.ssl-images-amazon.com/images...</td>\n",
              "      <td>amazonbasics/hl002619,amazonbasicsaaaperforman...</td>\n",
              "      <td>...</td>\n",
              "      <td>NaN</td>\n",
              "      <td>NaN</td>\n",
              "      <td>NaN</td>\n",
              "      <td>NaN</td>\n",
              "      <td>4</td>\n",
              "      <td>https://www.amazon.com/product-reviews/B00QWO9...</td>\n",
              "      <td>Bulk is always the less expensive way to go fo...</td>\n",
              "      <td>... always the less expensive way to go for pr...</td>\n",
              "      <td>ByMG</td>\n",
              "      <td>https://www.barcodable.com/upc/841710106442,ht...</td>\n",
              "    </tr>\n",
              "  </tbody>\n",
              "</table>\n",
              "<p>2 rows × 24 columns</p>\n",
              "</div>\n",
              "      <button class=\"colab-df-convert\" onclick=\"convertToInteractive('df-f43d1d15-f023-4ebd-ab35-9d03b346ced7')\"\n",
              "              title=\"Convert this dataframe to an interactive table.\"\n",
              "              style=\"display:none;\">\n",
              "        \n",
              "  <svg xmlns=\"http://www.w3.org/2000/svg\" height=\"24px\"viewBox=\"0 0 24 24\"\n",
              "       width=\"24px\">\n",
              "    <path d=\"M0 0h24v24H0V0z\" fill=\"none\"/>\n",
              "    <path d=\"M18.56 5.44l.94 2.06.94-2.06 2.06-.94-2.06-.94-.94-2.06-.94 2.06-2.06.94zm-11 1L8.5 8.5l.94-2.06 2.06-.94-2.06-.94L8.5 2.5l-.94 2.06-2.06.94zm10 10l.94 2.06.94-2.06 2.06-.94-2.06-.94-.94-2.06-.94 2.06-2.06.94z\"/><path d=\"M17.41 7.96l-1.37-1.37c-.4-.4-.92-.59-1.43-.59-.52 0-1.04.2-1.43.59L10.3 9.45l-7.72 7.72c-.78.78-.78 2.05 0 2.83L4 21.41c.39.39.9.59 1.41.59.51 0 1.02-.2 1.41-.59l7.78-7.78 2.81-2.81c.8-.78.8-2.07 0-2.86zM5.41 20L4 18.59l7.72-7.72 1.47 1.35L5.41 20z\"/>\n",
              "  </svg>\n",
              "      </button>\n",
              "      \n",
              "  <style>\n",
              "    .colab-df-container {\n",
              "      display:flex;\n",
              "      flex-wrap:wrap;\n",
              "      gap: 12px;\n",
              "    }\n",
              "\n",
              "    .colab-df-convert {\n",
              "      background-color: #E8F0FE;\n",
              "      border: none;\n",
              "      border-radius: 50%;\n",
              "      cursor: pointer;\n",
              "      display: none;\n",
              "      fill: #1967D2;\n",
              "      height: 32px;\n",
              "      padding: 0 0 0 0;\n",
              "      width: 32px;\n",
              "    }\n",
              "\n",
              "    .colab-df-convert:hover {\n",
              "      background-color: #E2EBFA;\n",
              "      box-shadow: 0px 1px 2px rgba(60, 64, 67, 0.3), 0px 1px 3px 1px rgba(60, 64, 67, 0.15);\n",
              "      fill: #174EA6;\n",
              "    }\n",
              "\n",
              "    [theme=dark] .colab-df-convert {\n",
              "      background-color: #3B4455;\n",
              "      fill: #D2E3FC;\n",
              "    }\n",
              "\n",
              "    [theme=dark] .colab-df-convert:hover {\n",
              "      background-color: #434B5C;\n",
              "      box-shadow: 0px 1px 3px 1px rgba(0, 0, 0, 0.15);\n",
              "      filter: drop-shadow(0px 1px 2px rgba(0, 0, 0, 0.3));\n",
              "      fill: #FFFFFF;\n",
              "    }\n",
              "  </style>\n",
              "\n",
              "      <script>\n",
              "        const buttonEl =\n",
              "          document.querySelector('#df-f43d1d15-f023-4ebd-ab35-9d03b346ced7 button.colab-df-convert');\n",
              "        buttonEl.style.display =\n",
              "          google.colab.kernel.accessAllowed ? 'block' : 'none';\n",
              "\n",
              "        async function convertToInteractive(key) {\n",
              "          const element = document.querySelector('#df-f43d1d15-f023-4ebd-ab35-9d03b346ced7');\n",
              "          const dataTable =\n",
              "            await google.colab.kernel.invokeFunction('convertToInteractive',\n",
              "                                                     [key], {});\n",
              "          if (!dataTable) return;\n",
              "\n",
              "          const docLinkHtml = 'Like what you see? Visit the ' +\n",
              "            '<a target=\"_blank\" href=https://colab.research.google.com/notebooks/data_table.ipynb>data table notebook</a>'\n",
              "            + ' to learn more about interactive tables.';\n",
              "          element.innerHTML = '';\n",
              "          dataTable['output_type'] = 'display_data';\n",
              "          await google.colab.output.renderOutput(dataTable, element);\n",
              "          const docLink = document.createElement('div');\n",
              "          docLink.innerHTML = docLinkHtml;\n",
              "          element.appendChild(docLink);\n",
              "        }\n",
              "      </script>\n",
              "    </div>\n",
              "  </div>\n",
              "  "
            ]
          },
          "metadata": {},
          "execution_count": 11
        }
      ],
      "source": [
        "df.head(2)"
      ]
    },
    {
      "cell_type": "markdown",
      "metadata": {
        "id": "kdwr6x8PzGd7"
      },
      "source": [
        "----\n",
        "\n",
        "### Clean data\n",
        "\n",
        "- Create a function called `clean_data` that uses regex expressions to clean your data in preparation for the vectorizer. \n",
        "\n",
        "- Save the clean text data to a column in your dataframe named `clean_text`\n",
        "\n",
        "- Feel free to re-use old code that you have written in previous modules  "
      ]
    },
    {
      "cell_type": "code",
      "execution_count": 12,
      "metadata": {
        "colab": {
          "base_uri": "https://localhost:8080/"
        },
        "id": "g5cL1Amq8iT_",
        "outputId": "30ef3884-2ea4-49ab-99b3-f3f26d1215d5"
      },
      "outputs": [
        {
          "output_type": "execute_result",
          "data": {
            "text/plain": [
              "(28332, 24)"
            ]
          },
          "metadata": {},
          "execution_count": 12
        }
      ],
      "source": [
        "df.shape"
      ]
    },
    {
      "cell_type": "code",
      "execution_count": 13,
      "metadata": {
        "colab": {
          "base_uri": "https://localhost:8080/",
          "height": 35
        },
        "id": "dgW6kglx8T_l",
        "outputId": "d0b236d7-438e-4769-a671-65f328acbf47"
      },
      "outputs": [
        {
          "output_type": "execute_result",
          "data": {
            "text/plain": [
              "'Have had zero issues with longevity or voltage. As good as the major brand batteries'"
            ],
            "application/vnd.google.colaboratory.intrinsic+json": {
              "type": "string"
            }
          },
          "metadata": {},
          "execution_count": 13
        }
      ],
      "source": [
        "df['reviews.text'][8505]"
      ]
    },
    {
      "cell_type": "code",
      "execution_count": 14,
      "metadata": {
        "deletable": false,
        "id": "4xo_hkHKzGd7",
        "nbgrader": {
          "cell_type": "code",
          "checksum": "a2513c0ebd04cf8645fe0a1feb1e1a36",
          "grade": false,
          "grade_id": "cell-fa0950cfe5ef7725",
          "locked": false,
          "schema_version": 3,
          "solution": true,
          "task": false
        }
      },
      "outputs": [],
      "source": [
        "def clean_data(text):\n",
        "  \"\"\"\n",
        "  Cleans data to remove unwanted characters and punctuation.\n",
        "  \"\"\"\n",
        "  # YOUR CODE HERE\n",
        "  # remove new line characters\n",
        "  text = text.replace(\"\\\\n\", ' ')\n",
        "  # # optional: remove numbers from the text\n",
        "  # text = re.sub(\"[0-9]\", \"\", text)\n",
        "  # remove non-alphanumeric\n",
        "  text = re.sub(\"[^a-zA-Z0-9]\", \" \", text) \n",
        "  # remove multiple white spaces\n",
        "  text = re.sub(\"[ ]{2,}\", \" \", text)\n",
        "\n",
        "\n",
        "  # case normalize and strip extra white spaces on the far left and right hand side\n",
        "  text = text.strip().lower()\n",
        "  return text"
      ]
    },
    {
      "cell_type": "code",
      "execution_count": 15,
      "metadata": {
        "deletable": false,
        "id": "H693L3fJzGd8",
        "nbgrader": {
          "cell_type": "code",
          "checksum": "a6ceefe5476e71efcb3d36c3e203616f",
          "grade": false,
          "grade_id": "cell-5b8e2bc0f9a745f3",
          "locked": false,
          "schema_version": 3,
          "solution": true,
          "task": false
        }
      },
      "outputs": [],
      "source": [
        "# create a clean_text column by applying  clean_data to your text\n",
        "df['clean_text'] = df['reviews.text'].apply(clean_data)"
      ]
    },
    {
      "cell_type": "code",
      "execution_count": 16,
      "metadata": {
        "id": "5FMvAhkBzGd8"
      },
      "outputs": [],
      "source": [
        "alphebetical_chars = [\"ABCDEFGHIJKLMNOP\"]\n",
        "# check if any of these alphabetical chars exist in your clean chars\n",
        "assert df.clean_text.isin(alphebetical_chars).sum() == 0, \"Did you case normalize your text inside of your clean_data function?\""
      ]
    },
    {
      "cell_type": "markdown",
      "metadata": {
        "id": "kzqt1ainzGd8"
      },
      "source": [
        "------\n",
        "\n",
        "## Determine number of topics\n",
        "\n",
        "We are going to run an experiment to determine how many topics exists within the `primaryCategories` of `Electronics`. This is the largest primary category containing nearly 14K documents, so we should have plenty of data. \n",
        "\n",
        "Just as we did in the guided project, we'll be running a gridseach over the number of topics and scoring each model using the Coherence metric to determine which number of topics we should use. \n"
      ]
    },
    {
      "cell_type": "code",
      "execution_count": 17,
      "metadata": {
        "id": "3jrHewGbzGd9"
      },
      "outputs": [],
      "source": [
        "# create a mask for docs that are in the Electronics primaryCategories - save result to `electronics_mask`\n",
        "electronics_mask = df.primaryCategories.isin([\"Electronics\"])\n",
        "\n",
        "# use mask to select all the documents in the Electronics primaryCategories - save result to `df_electronics`\n",
        "df_electronics = df[electronics_mask]"
      ]
    },
    {
      "cell_type": "code",
      "execution_count": 18,
      "metadata": {
        "colab": {
          "base_uri": "https://localhost:8080/",
          "height": 480
        },
        "id": "peb18zW3zGd9",
        "outputId": "74205241-ccc3-4ea4-a08a-aa57a54a6f4e"
      },
      "outputs": [
        {
          "output_type": "execute_result",
          "data": {
            "text/plain": [
              "                        id             dateAdded           dateUpdated  \\\n",
              "8343  AVpe7nGV1cnluZ0-aG2o  2014-10-28T11:14:38Z  2019-04-25T09:05:28Z   \n",
              "8344  AVpe7nGV1cnluZ0-aG2o  2014-10-28T11:14:38Z  2019-04-25T09:05:28Z   \n",
              "8345  AVpe7nGV1cnluZ0-aG2o  2014-10-28T11:14:38Z  2019-04-25T09:05:28Z   \n",
              "\n",
              "                                                 name                  asins  \\\n",
              "8343  AmazonBasics Nylon CD/DVD Binder (400 Capacity)  B00DIHVMEA,B00EZ1ZTV0   \n",
              "8344  AmazonBasics Nylon CD/DVD Binder (400 Capacity)  B00DIHVMEA,B00EZ1ZTV0   \n",
              "8345  AmazonBasics Nylon CD/DVD Binder (400 Capacity)  B00DIHVMEA,B00EZ1ZTV0   \n",
              "\n",
              "             brand                                         categories  \\\n",
              "8343  Amazonbasics  Audio & Video Accessories,TV, Video & Home Aud...   \n",
              "8344  Amazonbasics  Audio & Video Accessories,TV, Video & Home Aud...   \n",
              "8345  Amazonbasics  Audio & Video Accessories,TV, Video & Home Aud...   \n",
              "\n",
              "     primaryCategories                                          imageURLs  \\\n",
              "8343       Electronics  http://ecx.images-amazon.com/images/I/41jQha7Z...   \n",
              "8344       Electronics  http://ecx.images-amazon.com/images/I/41jQha7Z...   \n",
              "8345       Electronics  http://ecx.images-amazon.com/images/I/41jQha7Z...   \n",
              "\n",
              "                                                   keys  ...  \\\n",
              "8343  amazonbasicsnyloncddvdbinder400capacity/b00ez1...  ...   \n",
              "8344  amazonbasicsnyloncddvdbinder400capacity/b00ez1...  ...   \n",
              "8345  amazonbasicsnyloncddvdbinder400capacity/b00ez1...  ...   \n",
              "\n",
              "     reviews.doRecommend reviews.id reviews.numHelpful reviews.rating  \\\n",
              "8343                 NaN        NaN                NaN              5   \n",
              "8344                 NaN        NaN                NaN              5   \n",
              "8345                 NaN        NaN                NaN              5   \n",
              "\n",
              "                                     reviews.sourceURLs  \\\n",
              "8343  https://www.ebay.com/itm/Amazonbasics-Nylon-Cd...   \n",
              "8344  http://www.amazon.co.uk/gp/product-reviews/B00...   \n",
              "8345  https://www.ebay.com/itm/Amazonbasics-Nylon-Cd...   \n",
              "\n",
              "                                           reviews.text  \\\n",
              "8343  Great case to keep everything in its place! My...   \n",
              "8344  After discarding and getting rid of broken cd ...   \n",
              "8345     A few dollars more, but I am boycotting amazon   \n",
              "\n",
              "                     reviews.title  reviews.username  \\\n",
              "8343             Excellent product           qs341_5   \n",
              "8344  It was a much needed storage          Diablita   \n",
              "8345               it was worth it  coldbloodblazing   \n",
              "\n",
              "                                             sourceURLs  \\\n",
              "8343  https://www.ebay.com/itm/AmazonBasics-Nylon-CD...   \n",
              "8344  https://www.ebay.com/itm/AmazonBasics-Nylon-CD...   \n",
              "8345  https://www.ebay.com/itm/AmazonBasics-Nylon-CD...   \n",
              "\n",
              "                                             clean_text  \n",
              "8343  great case to keep everything in its place my ...  \n",
              "8344  after discarding and getting rid of broken cd ...  \n",
              "8345      a few dollars more but i am boycotting amazon  \n",
              "\n",
              "[3 rows x 25 columns]"
            ],
            "text/html": [
              "\n",
              "  <div id=\"df-3e1056bc-dda9-4824-99f0-3c14b2873c8d\">\n",
              "    <div class=\"colab-df-container\">\n",
              "      <div>\n",
              "<style scoped>\n",
              "    .dataframe tbody tr th:only-of-type {\n",
              "        vertical-align: middle;\n",
              "    }\n",
              "\n",
              "    .dataframe tbody tr th {\n",
              "        vertical-align: top;\n",
              "    }\n",
              "\n",
              "    .dataframe thead th {\n",
              "        text-align: right;\n",
              "    }\n",
              "</style>\n",
              "<table border=\"1\" class=\"dataframe\">\n",
              "  <thead>\n",
              "    <tr style=\"text-align: right;\">\n",
              "      <th></th>\n",
              "      <th>id</th>\n",
              "      <th>dateAdded</th>\n",
              "      <th>dateUpdated</th>\n",
              "      <th>name</th>\n",
              "      <th>asins</th>\n",
              "      <th>brand</th>\n",
              "      <th>categories</th>\n",
              "      <th>primaryCategories</th>\n",
              "      <th>imageURLs</th>\n",
              "      <th>keys</th>\n",
              "      <th>...</th>\n",
              "      <th>reviews.doRecommend</th>\n",
              "      <th>reviews.id</th>\n",
              "      <th>reviews.numHelpful</th>\n",
              "      <th>reviews.rating</th>\n",
              "      <th>reviews.sourceURLs</th>\n",
              "      <th>reviews.text</th>\n",
              "      <th>reviews.title</th>\n",
              "      <th>reviews.username</th>\n",
              "      <th>sourceURLs</th>\n",
              "      <th>clean_text</th>\n",
              "    </tr>\n",
              "  </thead>\n",
              "  <tbody>\n",
              "    <tr>\n",
              "      <th>8343</th>\n",
              "      <td>AVpe7nGV1cnluZ0-aG2o</td>\n",
              "      <td>2014-10-28T11:14:38Z</td>\n",
              "      <td>2019-04-25T09:05:28Z</td>\n",
              "      <td>AmazonBasics Nylon CD/DVD Binder (400 Capacity)</td>\n",
              "      <td>B00DIHVMEA,B00EZ1ZTV0</td>\n",
              "      <td>Amazonbasics</td>\n",
              "      <td>Audio &amp; Video Accessories,TV, Video &amp; Home Aud...</td>\n",
              "      <td>Electronics</td>\n",
              "      <td>http://ecx.images-amazon.com/images/I/41jQha7Z...</td>\n",
              "      <td>amazonbasicsnyloncddvdbinder400capacity/b00ez1...</td>\n",
              "      <td>...</td>\n",
              "      <td>NaN</td>\n",
              "      <td>NaN</td>\n",
              "      <td>NaN</td>\n",
              "      <td>5</td>\n",
              "      <td>https://www.ebay.com/itm/Amazonbasics-Nylon-Cd...</td>\n",
              "      <td>Great case to keep everything in its place! My...</td>\n",
              "      <td>Excellent product</td>\n",
              "      <td>qs341_5</td>\n",
              "      <td>https://www.ebay.com/itm/AmazonBasics-Nylon-CD...</td>\n",
              "      <td>great case to keep everything in its place my ...</td>\n",
              "    </tr>\n",
              "    <tr>\n",
              "      <th>8344</th>\n",
              "      <td>AVpe7nGV1cnluZ0-aG2o</td>\n",
              "      <td>2014-10-28T11:14:38Z</td>\n",
              "      <td>2019-04-25T09:05:28Z</td>\n",
              "      <td>AmazonBasics Nylon CD/DVD Binder (400 Capacity)</td>\n",
              "      <td>B00DIHVMEA,B00EZ1ZTV0</td>\n",
              "      <td>Amazonbasics</td>\n",
              "      <td>Audio &amp; Video Accessories,TV, Video &amp; Home Aud...</td>\n",
              "      <td>Electronics</td>\n",
              "      <td>http://ecx.images-amazon.com/images/I/41jQha7Z...</td>\n",
              "      <td>amazonbasicsnyloncddvdbinder400capacity/b00ez1...</td>\n",
              "      <td>...</td>\n",
              "      <td>NaN</td>\n",
              "      <td>NaN</td>\n",
              "      <td>NaN</td>\n",
              "      <td>5</td>\n",
              "      <td>http://www.amazon.co.uk/gp/product-reviews/B00...</td>\n",
              "      <td>After discarding and getting rid of broken cd ...</td>\n",
              "      <td>It was a much needed storage</td>\n",
              "      <td>Diablita</td>\n",
              "      <td>https://www.ebay.com/itm/AmazonBasics-Nylon-CD...</td>\n",
              "      <td>after discarding and getting rid of broken cd ...</td>\n",
              "    </tr>\n",
              "    <tr>\n",
              "      <th>8345</th>\n",
              "      <td>AVpe7nGV1cnluZ0-aG2o</td>\n",
              "      <td>2014-10-28T11:14:38Z</td>\n",
              "      <td>2019-04-25T09:05:28Z</td>\n",
              "      <td>AmazonBasics Nylon CD/DVD Binder (400 Capacity)</td>\n",
              "      <td>B00DIHVMEA,B00EZ1ZTV0</td>\n",
              "      <td>Amazonbasics</td>\n",
              "      <td>Audio &amp; Video Accessories,TV, Video &amp; Home Aud...</td>\n",
              "      <td>Electronics</td>\n",
              "      <td>http://ecx.images-amazon.com/images/I/41jQha7Z...</td>\n",
              "      <td>amazonbasicsnyloncddvdbinder400capacity/b00ez1...</td>\n",
              "      <td>...</td>\n",
              "      <td>NaN</td>\n",
              "      <td>NaN</td>\n",
              "      <td>NaN</td>\n",
              "      <td>5</td>\n",
              "      <td>https://www.ebay.com/itm/Amazonbasics-Nylon-Cd...</td>\n",
              "      <td>A few dollars more, but I am boycotting amazon</td>\n",
              "      <td>it was worth it</td>\n",
              "      <td>coldbloodblazing</td>\n",
              "      <td>https://www.ebay.com/itm/AmazonBasics-Nylon-CD...</td>\n",
              "      <td>a few dollars more but i am boycotting amazon</td>\n",
              "    </tr>\n",
              "  </tbody>\n",
              "</table>\n",
              "<p>3 rows × 25 columns</p>\n",
              "</div>\n",
              "      <button class=\"colab-df-convert\" onclick=\"convertToInteractive('df-3e1056bc-dda9-4824-99f0-3c14b2873c8d')\"\n",
              "              title=\"Convert this dataframe to an interactive table.\"\n",
              "              style=\"display:none;\">\n",
              "        \n",
              "  <svg xmlns=\"http://www.w3.org/2000/svg\" height=\"24px\"viewBox=\"0 0 24 24\"\n",
              "       width=\"24px\">\n",
              "    <path d=\"M0 0h24v24H0V0z\" fill=\"none\"/>\n",
              "    <path d=\"M18.56 5.44l.94 2.06.94-2.06 2.06-.94-2.06-.94-.94-2.06-.94 2.06-2.06.94zm-11 1L8.5 8.5l.94-2.06 2.06-.94-2.06-.94L8.5 2.5l-.94 2.06-2.06.94zm10 10l.94 2.06.94-2.06 2.06-.94-2.06-.94-.94-2.06-.94 2.06-2.06.94z\"/><path d=\"M17.41 7.96l-1.37-1.37c-.4-.4-.92-.59-1.43-.59-.52 0-1.04.2-1.43.59L10.3 9.45l-7.72 7.72c-.78.78-.78 2.05 0 2.83L4 21.41c.39.39.9.59 1.41.59.51 0 1.02-.2 1.41-.59l7.78-7.78 2.81-2.81c.8-.78.8-2.07 0-2.86zM5.41 20L4 18.59l7.72-7.72 1.47 1.35L5.41 20z\"/>\n",
              "  </svg>\n",
              "      </button>\n",
              "      \n",
              "  <style>\n",
              "    .colab-df-container {\n",
              "      display:flex;\n",
              "      flex-wrap:wrap;\n",
              "      gap: 12px;\n",
              "    }\n",
              "\n",
              "    .colab-df-convert {\n",
              "      background-color: #E8F0FE;\n",
              "      border: none;\n",
              "      border-radius: 50%;\n",
              "      cursor: pointer;\n",
              "      display: none;\n",
              "      fill: #1967D2;\n",
              "      height: 32px;\n",
              "      padding: 0 0 0 0;\n",
              "      width: 32px;\n",
              "    }\n",
              "\n",
              "    .colab-df-convert:hover {\n",
              "      background-color: #E2EBFA;\n",
              "      box-shadow: 0px 1px 2px rgba(60, 64, 67, 0.3), 0px 1px 3px 1px rgba(60, 64, 67, 0.15);\n",
              "      fill: #174EA6;\n",
              "    }\n",
              "\n",
              "    [theme=dark] .colab-df-convert {\n",
              "      background-color: #3B4455;\n",
              "      fill: #D2E3FC;\n",
              "    }\n",
              "\n",
              "    [theme=dark] .colab-df-convert:hover {\n",
              "      background-color: #434B5C;\n",
              "      box-shadow: 0px 1px 3px 1px rgba(0, 0, 0, 0.15);\n",
              "      filter: drop-shadow(0px 1px 2px rgba(0, 0, 0, 0.3));\n",
              "      fill: #FFFFFF;\n",
              "    }\n",
              "  </style>\n",
              "\n",
              "      <script>\n",
              "        const buttonEl =\n",
              "          document.querySelector('#df-3e1056bc-dda9-4824-99f0-3c14b2873c8d button.colab-df-convert');\n",
              "        buttonEl.style.display =\n",
              "          google.colab.kernel.accessAllowed ? 'block' : 'none';\n",
              "\n",
              "        async function convertToInteractive(key) {\n",
              "          const element = document.querySelector('#df-3e1056bc-dda9-4824-99f0-3c14b2873c8d');\n",
              "          const dataTable =\n",
              "            await google.colab.kernel.invokeFunction('convertToInteractive',\n",
              "                                                     [key], {});\n",
              "          if (!dataTable) return;\n",
              "\n",
              "          const docLinkHtml = 'Like what you see? Visit the ' +\n",
              "            '<a target=\"_blank\" href=https://colab.research.google.com/notebooks/data_table.ipynb>data table notebook</a>'\n",
              "            + ' to learn more about interactive tables.';\n",
              "          element.innerHTML = '';\n",
              "          dataTable['output_type'] = 'display_data';\n",
              "          await google.colab.output.renderOutput(dataTable, element);\n",
              "          const docLink = document.createElement('div');\n",
              "          docLink.innerHTML = docLinkHtml;\n",
              "          element.appendChild(docLink);\n",
              "        }\n",
              "      </script>\n",
              "    </div>\n",
              "  </div>\n",
              "  "
            ]
          },
          "metadata": {},
          "execution_count": 18
        }
      ],
      "source": [
        "df_electronics.head(3)"
      ]
    },
    {
      "cell_type": "markdown",
      "metadata": {
        "id": "FfZWF0I9zGd-"
      },
      "source": [
        "------\n",
        "### Tokenize your documents \n",
        "\n",
        "Remember that you'll need to use the [**corpora**](https://radimrehurek.com/gensim/corpora/dictionary.html) class from the Gensim library. So definitely check out the docs to learn more about this tool. There is an example on how to do this in the guided project.\n",
        "\n",
        "But before we can use the [**corpora**](https://radimrehurek.com/gensim/corpora/dictionary.html) class, we must first tokenize our articles. \n",
        "\n"
      ]
    },
    {
      "cell_type": "code",
      "execution_count": 20,
      "metadata": {
        "id": "2rAMfVfB1PS-",
        "colab": {
          "base_uri": "https://localhost:8080/"
        },
        "outputId": "c3096a6c-9517-4bb5-d419-92ae66b44c16"
      },
      "outputs": [
        {
          "output_type": "stream",
          "name": "stdout",
          "text": [
            "INFO: Pandarallel will run on 2 workers.\n",
            "INFO: Pandarallel will use Memory file system to transfer data between the main process and workers.\n"
          ]
        }
      ],
      "source": [
        "# identify how many processors your machine has - save the result to `n_processors`\n",
        "\n",
        "# subtract 1 from n_processors - save the result to `nb_workers`\n",
        "\n",
        "# initialize just like we did in the guided project\n",
        "# YOUR CODE HERE\n",
        "import sys\n",
        "if 'google.colab' in sys.modules:\n",
        "  n_processors = nb_workers = 2\n",
        "else:\n",
        "  import psutil\n",
        "  n_processors = psutil.cpu_count(logical=False)\n",
        "  nb_workers = n_processors - 1\n",
        "\n",
        "# initalize pandarallel \n",
        "pandarallel.initialize(progress_bar=True, nb_workers=nb_workers)\n",
        "# progress bars\n",
        "# from pandarallel.utils import progress_bars\n",
        "# progress_bars.is_notebook_lab = lambda : True"
      ]
    },
    {
      "cell_type": "code",
      "execution_count": 21,
      "metadata": {
        "id": "t6pNnk3vzGd-"
      },
      "outputs": [],
      "source": [
        "# load in the spaCy language model\n",
        "nlp = spacy.load(\"en_core_web_md\")\n",
        "\n",
        "#*** Windows - pandarallel function must be self-contained\n",
        "#replaces lambda function below\n",
        "def ptokenize(text):\n",
        "    import spacy\n",
        "    spacy.util.fix_random_seed(0)\n",
        "    nlp = spacy.load(\"en_core_web_md\")\n",
        "    return [token.lemma_ for token in nlp(text) if (token.is_stop != True) and (token.is_punct != True)]\n"
      ]
    },
    {
      "cell_type": "code",
      "execution_count": null,
      "metadata": {
        "id": "05x-KJPIBQa2"
      },
      "outputs": [],
      "source": [
        "%%time\n",
        "# create our tokens in the form of lemmas \n",
        "df_electronics['lemmas'] = df_electronics['clean_text'].parallel_apply(lambda x: [token.lemma_ for token in nlp(x) if (token.is_stop != True) and (token.is_punct != True)])\n",
        "#df_electronics['lemmas'] = df_electronics['clean_text'].parallel_apply(ptokenize)"
      ]
    },
    {
      "cell_type": "markdown",
      "metadata": {
        "id": "WS7vTVqnzGd_"
      },
      "source": [
        "### Use the corpora class to prep your data for LDA\n",
        "\n",
        "You'll need to create the same `id2word` and `corpus` objects that we created in the guided projects. So be sure to reference the guided project notebook if you need to. "
      ]
    },
    {
      "cell_type": "code",
      "execution_count": 26,
      "metadata": {
        "deletable": false,
        "id": "7paL9zS7zGd_",
        "nbgrader": {
          "cell_type": "code",
          "checksum": "53bf811aebb39e7ed6fc592851f82f8b",
          "grade": false,
          "grade_id": "cell-9d92f28649aa999e",
          "locked": false,
          "schema_version": 3,
          "solution": true,
          "task": false
        }
      },
      "outputs": [],
      "source": [
        "# Create lemma dictionary using Dictionary - save result to `id2word`\n",
        "id2word = corpora.Dictionary(df_electronics['lemmas'])\n",
        "\n",
        "# Create Term Document Frequency list - save result to `corpus`\n",
        "corpus = [id2word.doc2bow(doc_lemmas) for doc_lemmas in df_electronics['lemmas']]\n"
      ]
    },
    {
      "cell_type": "markdown",
      "metadata": {
        "id": "vtmHceiazGd_"
      },
      "source": [
        "## Gridsearch the number of topics \n",
        "\n",
        "Just as we did in the guided project, we're going to run a `for` loop over a range of possible number of topics and then plot the `coherence_values` to determine which number of topics leads to the most sensible grouping of documents. "
      ]
    },
    {
      "cell_type": "code",
      "execution_count": 27,
      "metadata": {
        "id": "FBICFYD4zGeA"
      },
      "outputs": [],
      "source": [
        "def compute_coherence_values(dictionary, corpus, texts, limit, start=2, step=3):\n",
        "    \"\"\"\n",
        "    Compute c_v coherence for various number of topics\n",
        "\n",
        "    Parameters:\n",
        "    ----------\n",
        "    dictionary : Gensim dictionary\n",
        "    corpus : Gensim corpus\n",
        "    texts : List of input texts\n",
        "    limit : Max num of topics\n",
        "\n",
        "    Returns:\n",
        "    -------\n",
        "    model_list : List of LDA topic models\n",
        "    coherence_values : Coherence values corresponding to the LDA model with respective number of topics\n",
        "    \"\"\"\n",
        "    coherence_values = []\n",
        "    model_list = []\n",
        "    for num_topics in range(start, limit, step):\n",
        "        model = gensim.models.ldamulticore.LdaMulticore(corpus=corpus,\n",
        "                                                        id2word=id2word,\n",
        "                                                        num_topics=num_topics, \n",
        "                                                        chunksize=100,\n",
        "                                                        passes=10,\n",
        "                                                        random_state=1234,\n",
        "                                                        per_word_topics=True,\n",
        "                                                        workers=2)\n",
        "        model_list.append(model)\n",
        "        coherencemodel = CoherenceModel(model=model, texts=texts, dictionary=dictionary, coherence='c_v')\n",
        "        coherence_values.append(coherencemodel.get_coherence())\n",
        "\n",
        "    return model_list, coherence_values"
      ]
    },
    {
      "cell_type": "code",
      "execution_count": 28,
      "metadata": {
        "id": "Nn20KdDl2HUR",
        "colab": {
          "base_uri": "https://localhost:8080/"
        },
        "outputId": "a512d02b-42f0-465f-ee68-44a5b23297b7"
      },
      "outputs": [
        {
          "output_type": "stream",
          "name": "stdout",
          "text": [
            "CPU times: user 3min 56s, sys: 16.4 s, total: 4min 12s\n",
            "Wall time: 6min 3s\n"
          ]
        }
      ],
      "source": [
        "%%time\n",
        "model_list, coherence_values = compute_coherence_values(dictionary=id2word, corpus=corpus, texts=df_electronics['lemmas'], start=2, limit=16, step=2)"
      ]
    },
    {
      "cell_type": "code",
      "execution_count": 29,
      "metadata": {
        "id": "k2kJsVLt2P5-",
        "colab": {
          "base_uri": "https://localhost:8080/",
          "height": 350
        },
        "outputId": "4d7022ea-2e9c-43c1-99a8-fa58c56ad59b"
      },
      "outputs": [
        {
          "output_type": "display_data",
          "data": {
            "text/plain": [
              "<Figure size 1440x360 with 1 Axes>"
            ],
            "image/png": "[encoded data removed]"
          },
          "metadata": {
            "needs_background": "light"
          }
        }
      ],
      "source": [
        "start=2; limit=16;  step=2;\n",
        "x = range(start, limit, step)\n",
        "\n",
        "plt.figure(figsize=(20,5))\n",
        "plt.grid()\n",
        "plt.title(\"Coherence Score vs. Number of Topics\")\n",
        "plt.xticks(x)\n",
        "plt.plot(x, coherence_values, \"-o\")\n",
        "\n",
        "plt.xlabel(\"Num Topics\")\n",
        "plt.ylabel(\"Coherence score\")\n",
        "\n",
        "plt.show();"
      ]
    },
    {
      "cell_type": "code",
      "execution_count": 32,
      "metadata": {
        "deletable": false,
        "id": "1Qx7OVX-zGeB",
        "nbgrader": {
          "cell_type": "code",
          "checksum": "45f72ff929ab8b765d0f0b5f35137f0d",
          "grade": false,
          "grade_id": "cell-e97661faebf1ac3c",
          "locked": false,
          "schema_version": 3,
          "solution": true,
          "task": false
        },
        "colab": {
          "base_uri": "https://localhost:8080/"
        },
        "outputId": "80a1512e-2951-4d05-dcd2-be1315fe7acc"
      },
      "outputs": [
        {
          "output_type": "stream",
          "name": "stdout",
          "text": [
            "0.42200231498755586\n"
          ]
        }
      ],
      "source": [
        "# use np.argmax() to get index of largest coherence value from coherence_values - save result to `max_cohereance_val_index`\n",
        "\n",
        "# use `max_coherence_val_index` to index model_list for the corresponding model - save result to `lda_trained_model`\n",
        "\n",
        "max_coherence_val_index = np.argmax(coherence_values)\n",
        "print(coherence_values[max_coherence_val_index])\n",
        "\n",
        "lda_trained_model = model_list[max_coherence_val_index]\n"
      ]
    },
    {
      "cell_type": "code",
      "execution_count": 31,
      "metadata": {
        "colab": {
          "base_uri": "https://localhost:8080/"
        },
        "id": "7y-wokYcIg9_",
        "outputId": "223dc972-efab-43fc-da44-43f410166290"
      },
      "outputs": [
        {
          "output_type": "execute_result",
          "data": {
            "text/plain": [
              "<gensim.models.ldamulticore.LdaMulticore at 0x7f753f99e0d0>"
            ]
          },
          "metadata": {},
          "execution_count": 31
        }
      ],
      "source": [
        "lda_trained_model"
      ]
    },
    {
      "cell_type": "markdown",
      "metadata": {
        "id": "LwGY4o8fzGeB"
      },
      "source": [
        "## Use pyLDAvis to visualize your topics \n",
        "\n",
        "Take a look at the topic bubbles and bar chart for the terms on the right hand side.  \n",
        "\n",
        "- Describe the topic bubbles. \n",
        "- Do they overlap or not? \n",
        "- What does it mean when they overlap? \n",
        "- What does it mean when they don't overlap?\n",
        "- Are the terms in each topic distinct from the topics in the other topic bubbles?\n"
      ]
    },
    {
      "cell_type": "code",
      "execution_count": 33,
      "metadata": {
        "colab": {
          "base_uri": "https://localhost:8080/"
        },
        "id": "9poWZ8WgItYS",
        "outputId": "2a9a3130-4d79-4711-f515-1ef4776fd296"
      },
      "outputs": [
        {
          "output_type": "stream",
          "name": "stdout",
          "text": [
            "Looking in indexes: https://pypi.org/simple, https://us-python.pkg.dev/colab-wheels/public/simple/\n",
            "Requirement already satisfied: ipywidgets in /usr/local/lib/python3.7/dist-packages (7.7.1)\n",
            "Requirement already satisfied: traitlets>=4.3.1 in /usr/local/lib/python3.7/dist-packages (from ipywidgets) (5.1.1)\n",
            "Requirement already satisfied: ipython-genutils~=0.2.0 in /usr/local/lib/python3.7/dist-packages (from ipywidgets) (0.2.0)\n",
            "Requirement already satisfied: jupyterlab-widgets>=1.0.0 in /usr/local/lib/python3.7/dist-packages (from ipywidgets) (1.1.1)\n",
            "Requirement already satisfied: ipykernel>=4.5.1 in /usr/local/lib/python3.7/dist-packages (from ipywidgets) (4.10.1)\n",
            "Requirement already satisfied: widgetsnbextension~=3.6.0 in /usr/local/lib/python3.7/dist-packages (from ipywidgets) (3.6.1)\n",
            "Requirement already satisfied: ipython>=4.0.0 in /usr/local/lib/python3.7/dist-packages (from ipywidgets) (5.5.0)\n",
            "Requirement already satisfied: jupyter-client in /usr/local/lib/python3.7/dist-packages (from ipykernel>=4.5.1->ipywidgets) (5.3.5)\n",
            "Requirement already satisfied: tornado>=4.0 in /usr/local/lib/python3.7/dist-packages (from ipykernel>=4.5.1->ipywidgets) (5.1.1)\n",
            "Requirement already satisfied: prompt-toolkit<2.0.0,>=1.0.4 in /usr/local/lib/python3.7/dist-packages (from ipython>=4.0.0->ipywidgets) (1.0.18)\n",
            "Requirement already satisfied: simplegeneric>0.8 in /usr/local/lib/python3.7/dist-packages (from ipython>=4.0.0->ipywidgets) (0.8.1)\n",
            "Requirement already satisfied: setuptools>=18.5 in /usr/local/lib/python3.7/dist-packages (from ipython>=4.0.0->ipywidgets) (57.4.0)\n",
            "Requirement already satisfied: decorator in /usr/local/lib/python3.7/dist-packages (from ipython>=4.0.0->ipywidgets) (4.4.2)\n",
            "Requirement already satisfied: pexpect in /usr/local/lib/python3.7/dist-packages (from ipython>=4.0.0->ipywidgets) (4.8.0)\n",
            "Requirement already satisfied: pygments in /usr/local/lib/python3.7/dist-packages (from ipython>=4.0.0->ipywidgets) (2.6.1)\n",
            "Requirement already satisfied: pickleshare in /usr/local/lib/python3.7/dist-packages (from ipython>=4.0.0->ipywidgets) (0.7.5)\n",
            "Requirement already satisfied: wcwidth in /usr/local/lib/python3.7/dist-packages (from prompt-toolkit<2.0.0,>=1.0.4->ipython>=4.0.0->ipywidgets) (0.2.5)\n",
            "Requirement already satisfied: six>=1.9.0 in /usr/local/lib/python3.7/dist-packages (from prompt-toolkit<2.0.0,>=1.0.4->ipython>=4.0.0->ipywidgets) (1.15.0)\n",
            "Requirement already satisfied: notebook>=4.4.1 in /usr/local/lib/python3.7/dist-packages (from widgetsnbextension~=3.6.0->ipywidgets) (5.3.1)\n",
            "Requirement already satisfied: Send2Trash in /usr/local/lib/python3.7/dist-packages (from notebook>=4.4.1->widgetsnbextension~=3.6.0->ipywidgets) (1.8.0)\n",
            "Requirement already satisfied: jinja2 in /usr/local/lib/python3.7/dist-packages (from notebook>=4.4.1->widgetsnbextension~=3.6.0->ipywidgets) (2.11.3)\n",
            "Requirement already satisfied: jupyter-core>=4.4.0 in /usr/local/lib/python3.7/dist-packages (from notebook>=4.4.1->widgetsnbextension~=3.6.0->ipywidgets) (4.11.1)\n",
            "Requirement already satisfied: nbconvert in /usr/local/lib/python3.7/dist-packages (from notebook>=4.4.1->widgetsnbextension~=3.6.0->ipywidgets) (5.6.1)\n",
            "Requirement already satisfied: terminado>=0.8.1 in /usr/local/lib/python3.7/dist-packages (from notebook>=4.4.1->widgetsnbextension~=3.6.0->ipywidgets) (0.13.3)\n",
            "Requirement already satisfied: nbformat in /usr/local/lib/python3.7/dist-packages (from notebook>=4.4.1->widgetsnbextension~=3.6.0->ipywidgets) (5.4.0)\n",
            "Requirement already satisfied: python-dateutil>=2.1 in /usr/local/lib/python3.7/dist-packages (from jupyter-client->ipykernel>=4.5.1->ipywidgets) (2.8.2)\n",
            "Requirement already satisfied: pyzmq>=13 in /usr/local/lib/python3.7/dist-packages (from jupyter-client->ipykernel>=4.5.1->ipywidgets) (23.2.0)\n",
            "Requirement already satisfied: ptyprocess in /usr/local/lib/python3.7/dist-packages (from terminado>=0.8.1->notebook>=4.4.1->widgetsnbextension~=3.6.0->ipywidgets) (0.7.0)\n",
            "Requirement already satisfied: MarkupSafe>=0.23 in /usr/local/lib/python3.7/dist-packages (from jinja2->notebook>=4.4.1->widgetsnbextension~=3.6.0->ipywidgets) (2.0.1)\n",
            "Requirement already satisfied: defusedxml in /usr/local/lib/python3.7/dist-packages (from nbconvert->notebook>=4.4.1->widgetsnbextension~=3.6.0->ipywidgets) (0.7.1)\n",
            "Requirement already satisfied: entrypoints>=0.2.2 in /usr/local/lib/python3.7/dist-packages (from nbconvert->notebook>=4.4.1->widgetsnbextension~=3.6.0->ipywidgets) (0.4)\n",
            "Requirement already satisfied: pandocfilters>=1.4.1 in /usr/local/lib/python3.7/dist-packages (from nbconvert->notebook>=4.4.1->widgetsnbextension~=3.6.0->ipywidgets) (1.5.0)\n",
            "Requirement already satisfied: mistune<2,>=0.8.1 in /usr/local/lib/python3.7/dist-packages (from nbconvert->notebook>=4.4.1->widgetsnbextension~=3.6.0->ipywidgets) (0.8.4)\n",
            "Requirement already satisfied: bleach in /usr/local/lib/python3.7/dist-packages (from nbconvert->notebook>=4.4.1->widgetsnbextension~=3.6.0->ipywidgets) (5.0.1)\n",
            "Requirement already satisfied: testpath in /usr/local/lib/python3.7/dist-packages (from nbconvert->notebook>=4.4.1->widgetsnbextension~=3.6.0->ipywidgets) (0.6.0)\n",
            "Requirement already satisfied: fastjsonschema in /usr/local/lib/python3.7/dist-packages (from nbformat->notebook>=4.4.1->widgetsnbextension~=3.6.0->ipywidgets) (2.15.3)\n",
            "Requirement already satisfied: jsonschema>=2.6 in /usr/local/lib/python3.7/dist-packages (from nbformat->notebook>=4.4.1->widgetsnbextension~=3.6.0->ipywidgets) (4.3.3)\n",
            "Requirement already satisfied: importlib-resources>=1.4.0 in /usr/local/lib/python3.7/dist-packages (from jsonschema>=2.6->nbformat->notebook>=4.4.1->widgetsnbextension~=3.6.0->ipywidgets) (5.8.0)\n",
            "Requirement already satisfied: attrs>=17.4.0 in /usr/local/lib/python3.7/dist-packages (from jsonschema>=2.6->nbformat->notebook>=4.4.1->widgetsnbextension~=3.6.0->ipywidgets) (21.4.0)\n",
            "Requirement already satisfied: pyrsistent!=0.17.0,!=0.17.1,!=0.17.2,>=0.14.0 in /usr/local/lib/python3.7/dist-packages (from jsonschema>=2.6->nbformat->notebook>=4.4.1->widgetsnbextension~=3.6.0->ipywidgets) (0.18.1)\n",
            "Requirement already satisfied: typing-extensions in /usr/local/lib/python3.7/dist-packages (from jsonschema>=2.6->nbformat->notebook>=4.4.1->widgetsnbextension~=3.6.0->ipywidgets) (3.10.0.2)\n",
            "Requirement already satisfied: importlib-metadata in /usr/local/lib/python3.7/dist-packages (from jsonschema>=2.6->nbformat->notebook>=4.4.1->widgetsnbextension~=3.6.0->ipywidgets) (4.12.0)\n",
            "Requirement already satisfied: zipp>=3.1.0 in /usr/local/lib/python3.7/dist-packages (from importlib-resources>=1.4.0->jsonschema>=2.6->nbformat->notebook>=4.4.1->widgetsnbextension~=3.6.0->ipywidgets) (3.8.0)\n",
            "Requirement already satisfied: webencodings in /usr/local/lib/python3.7/dist-packages (from bleach->nbconvert->notebook>=4.4.1->widgetsnbextension~=3.6.0->ipywidgets) (0.5.1)\n"
          ]
        }
      ],
      "source": [
        "!pip install ipywidgets"
      ]
    },
    {
      "cell_type": "code",
      "execution_count": 35,
      "metadata": {
        "id": "YBqK345s2oYC",
        "colab": {
          "base_uri": "https://localhost:8080/",
          "height": 861
        },
        "outputId": "940fa006-dce0-41b7-f6b1-fadea3d930b7"
      },
      "outputs": [
        {
          "output_type": "execute_result",
          "data": {
            "text/plain": [
              "PreparedData(topic_coordinates=              x         y  topics  cluster       Freq\n",
              "topic                                                \n",
              "7      0.100330 -0.082684       1        1  14.056189\n",
              "9     -0.244809 -0.025880       2        1  12.616539\n",
              "4      0.118840 -0.110408       3        1  11.832746\n",
              "10     0.094434  0.060828       4        1  10.366559\n",
              "2     -0.001670 -0.039155       5        1   8.461913\n",
              "11    -0.001466  0.208444       6        1   8.191741\n",
              "6      0.182683  0.053943       7        1   7.032217\n",
              "3     -0.158333 -0.311679       8        1   6.719295\n",
              "0     -0.149129  0.187539       9        1   6.172520\n",
              "8      0.035394 -0.072518      10        1   5.297580\n",
              "5      0.222228  0.016697      11        1   5.207157\n",
              "1     -0.198502  0.114875      12        1   4.045546, topic_info=        Term         Freq        Total Category  logprob  loglift\n",
              "88      easy  2670.000000  2670.000000  Default  30.0000  30.0000\n",
              "6       love  4679.000000  4679.000000  Default  29.0000  29.0000\n",
              "704   tablet  6778.000000  6778.000000  Default  28.0000  28.0000\n",
              "136        t  2660.000000  2660.000000  Default  27.0000  27.0000\n",
              "257      use  3530.000000  3530.000000  Default  26.0000  26.0000\n",
              "..       ...          ...          ...      ...      ...      ...\n",
              "209     sure    83.873986   233.591095  Topic12  -4.5759   2.1833\n",
              "550  replace    96.857335   417.635098  Topic12  -4.4320   1.7462\n",
              "51      want   117.816446  1062.914268  Topic12  -4.2361   1.0079\n",
              "257      use   149.855318  3530.458155  Topic12  -3.9955   0.0480\n",
              "108      new    93.464954   786.315437  Topic12  -4.4676   1.0778\n",
              "\n",
              "[649 rows x 6 columns], token_table=      Topic      Freq     Term\n",
              "term                          \n",
              "304       3  0.995188        1\n",
              "56        3  0.994132       10\n",
              "2100     10  0.993638      100\n",
              "2910      1  0.983084      128\n",
              "505       3  0.988504       16\n",
              "...     ...       ...      ...\n",
              "145       3  0.999298     year\n",
              "1352      6  0.996788    young\n",
              "1504      4  0.403271  youtube\n",
              "1504      6  0.590707  youtube\n",
              "1482      3  0.996077       yr\n",
              "\n",
              "[854 rows x 3 columns], R=30, lambda_step=0.01, plot_opts={'xlab': 'PC1', 'ylab': 'PC2'}, topic_order=[8, 10, 5, 11, 3, 12, 7, 4, 1, 9, 6, 2])"
            ],
            "text/html": [
              "\n",
              "<link rel=\"stylesheet\" type=\"text/css\" href=\"https://cdn.jsdelivr.net/gh/bmabey/pyLDAvis@3.3.1/pyLDAvis/js/ldavis.v1.0.0.css\">\n",
              "\n",
              "\n",
              "<div id=\"ldavis_el3961401415187551528444218515\"></div>\n",
              "<script type=\"text/javascript\">\n",
              "\n",
              "var ldavis_el3961401415187551528444218515_data = {\"mdsDat\": {\"x\": [0.10032988312112716, -0.24480893822705743, 0.11884044064022825, 0.09443385623310266, -0.0016700035444717773, -0.0014661805913493673, 0.18268288451058562, -0.15833348084733478, -0.14912935033004027, 0.0353942417184913, 0.22222822832338512, -0.19850158100666543], \"y\": [-0.08268389614903365, -0.025880129690654046, -0.11040824290386711, 0.060827958670513035, -0.03915540851648962, 0.2084435111834737, 0.0539427800509289, -0.31167887718552517, 0.18753854983035406, -0.07251804072270802, 0.01669660309923628, 0.11487519233377153], \"topics\": [1, 2, 3, 4, 5, 6, 7, 8, 9, 10, 11, 12], \"cluster\": [1, 1, 1, 1, 1, 1, 1, 1, 1, 1, 1, 1], \"Freq\": [14.056188561383767, 12.616538563151082, 11.832745552797002, 10.366559133793398, 8.46191267651015, 8.191740578448348, 7.03221683145782, 6.719295223729062, 6.172520105508948, 5.297580438800843, 5.207156676143016, 4.045545658276565]}, \"tinfo\": {\"Term\": [\"easy\", \"love\", \"tablet\", \"t\", \"use\", \"kindle\", \"old\", \"great\", \"game\", \"kid\", \"year\", \"price\", \"good\", \"app\", \"need\", \"fire\", \"gift\", \"buy\", \"book\", \"amazon\", \"screen\", \"read\", \"watch\", \"size\", \"play\", \"christmas\", \"battery\", \"purchase\", \"daughter\", \"product\", \"video\", \"value\", \"camera\", \"expect\", \"resolution\", \"display\", \"surf\", \"present\", \"mother\", \"expensive\", \"facebook\", \"graphic\", \"one\", \"table\", \"medium\", \"beginner\", \"ton\", \"freeze\", \"freetime\", \"limited\", \"customer\", \"exactly\", \"powerful\", \"social\", \"transfer\", \"128\", \"streaming\", \"fall\", \"advertisement\", \"alot\", \"excellent\", \"price\", \"member\", \"tablet\", \"great\", \"good\", \"plenty\", \"prime\", \"fast\", \"recommend\", \"overall\", \"product\", \"hd8\", \"child\", \"work\", \"amazon\", \"feature\", \"deal\", \"kid\", \"nice\", \"purchase\", \"use\", \"little\", \"fire\", \"buy\", \"look\", \"screen\", \"need\", \"lot\", \"t\", \"don\", \"android\", \"doesn\", \"load\", \"didn\", \"ad\", \"cost\", \"win\", \"isn\", \"couldn\", \"touch\", \"lock\", \"haven\", \"mini\", \"learning\", \"bright\", \"button\", \"change\", \"responsive\", \"difference\", \"lack\", \"provide\", \"grandchild\", \"disappoint\", \"safe\", \"close\", \"car\", \"believe\", \"page\", \"apple\", \"ipad\", \"go\", \"turn\", \"device\", \"s\", \"think\", \"trip\", \"screen\", \"thing\", \"like\", \"find\", \"app\", \"m\", \"issue\", \"far\", \"long\", \"look\", \"want\", \"work\", \"little\", \"take\", \"old\", \"year\", \"8\", \"hd\", \"2\", \"7\", \"3\", \"4\", \"5\", \"upgrade\", \"1\", \"warranty\", \"yr\", \"10\", \"inch\", \"previous\", \"9\", \"16\", \"satisfied\", \"tool\", \"processor\", \"edition\", \"sell\", \"probably\", \"port\", \"boy\", \"2nd\", \"ram\", \"annoying\", \"past\", \"model\", \"fire\", \"break\", \"gb\", \"version\", \"buy\", \"love\", \"tablet\", \"new\", \"kindle\", \"amazon\", \"purchase\", \"get\", \"son\", \"well\", \"game\", \"daughter\", \"download\", \"movie\", \"netflix\", \"age\", \"navigate\", \"show\", \"tv\", \"library\", \"favorite\", \"tech\", \"profile\", \"daily\", \"sister\", \"playing\", \"install\", \"appropriate\", \"ebook\", \"step\", \"minute\", \"primarily\", \"application\", \"savvy\", \"geek\", \"operating\", \"hulu\", \"early\", \"crisp\", \"squad\", \"educational\", \"card\", \"play\", \"listen\", \"school\", \"program\", \"able\", \"book\", \"search\", \"music\", \"love\", \"app\", \"read\", \"tablet\", \"son\", \"use\", \"access\", \"internet\", \"etc\", \"time\", \"buy\", \"lot\", \"s\", \"enjoy\", \"great\", \"free\", \"grandson\", \"reader\", \"slow\", \"reading\", \"husband\", \"grandkid\", \"glad\", \"stop\", \"last\", \"bring\", \"electronic\", \"nook\", \"connection\", \"night\", \"alternative\", \"reliable\", \"surprised\", \"convenient\", \"cable\", \"previously\", \"variety\", \"pass\", \"32\", \"reasonable\", \"number\", \"short\", \"pop\", \"ready\", \"future\", \"hundred\", \"kindle\", \"6\", \"read\", \"book\", \"enjoy\", \"happy\", \"week\", \"new\", \"fire\", \"purchase\", \"charge\", \"hour\", \"far\", \"want\", \"buy\", \"time\", \"like\", \"ve\", \"ipad\", \"good\", \"long\", \"get\", \"use\", \"have\", \"google\", \"control\", \"parental\", \"friday\", \"beat\", \"account\", \"content\", \"young\", \"worry\", \"grand\", \"toddler\", \"alexa\", \"brand\", \"handy\", \"silk\", \"lag\", \"link\", \"activity\", \"selection\", \"girl\", \"brother\", \"non\", \"call\", \"underground\", \"downside\", \"hear\", \"password\", \"homework\", \"guarantee\", \"awhile\", \"limit\", \"black\", \"not\", \"store\", \"app\", \"available\", \"kid\", \"amazon\", \"free\", \"option\", \"set\", \"time\", \"play\", \"access\", \"youtube\", \"allow\", \"lot\", \"like\", \"have\", \"great\", \"get\", \"easy\", \"user\", \"friendly\", \"family\", \"entertain\", \"setup\", \"operate\", \"everyday\", \"instal\", \"sharp\", \"budget\", \"finally\", \"real\", \"blue\", \"pre\", \"unlimited\", \"pink\", \"advertise\", \"text\", \"ereader\", \"teach\", \"net\", \"stick\", \"maneuver\", \"visual\", \"recipient\", \"sign\", \"decision\", \"teenage\", \"individual\", \"color\", \"use\", \"absolutely\", \"wife\", \"granddaughter\", \"set\", \"friend\", \"wonderful\", \"super\", \"product\", \"son\", \"love\", \"great\", \"recommend\", \"birthday\", \"keep\", \"s\", \"travel\", \"purchase\", \"buy\", \"work\", \"enjoy\", \"happy\", \"like\", \"good\", \"watch\", \"size\", \"small\", \"right\", \"clear\", \"mom\", \"fine\", \"carry\", \"browse\", \"weight\", \"keyboard\", \"lightweight\", \"huge\", \"law\", \"dad\", \"browser\", \"perform\", \"instruction\", \"die\", \"magazine\", \"gaming\", \"site\", \"heavy\", \"clarity\", \"father\", \"design\", \"audio\", \"save\", \"complain\", \"surprise\", \"fit\", \"hand\", \"screen\", \"picture\", \"nice\", \"light\", \"big\", \"perfect\", \"web\", \"wish\", \"hold\", \"s\", \"read\", \"little\", \"like\", \"tablet\", \"fast\", \"ipad\", \"return\", \"tell\", \"parent\", \"affordable\", \"ask\", \"photo\", \"order\", \"wasn\", \"power\", \"protective\", \"person\", \"protect\", \"remove\", \"improvement\", \"protection\", \"understand\", \"plug\", \"type\", \"news\", \"60\", \"fix\", \"question\", \"note\", \"cord\", \"okay\", \"fully\", \"rough\", \"key\", \"difficult\", \"send\", \"ok\", \"help\", \"charge\", \"case\", \"come\", \"online\", \"item\", \"receive\", \"spend\", \"day\", \"try\", \"choose\", \"keep\", \"take\", \"know\", \"give\", \"product\", \"work\", \"store\", \"buy\", \"problem\", \"time\", \"good\", \"like\", \"thing\", \"battery\", \"life\", \"cheap\", \"sale\", \"sound\", \"inexpensive\", \"high\", \"choice\", \"performance\", \"speaker\", \"100\", \"tab\", \"pad\", \"wouldn\", \"d\", \"job\", \"os\", \"sturdy\", \"functionality\", \"50\", \"starter\", \"special\", \"surfing\", \"wi\", \"thrill\", \"fi\", \"task\", \"slot\", \"durability\", \"smooth\", \"complaint\", \"replace\", \"quality\", \"run\", \"pay\", \"worth\", \"pretty\", \"good\", \"long\", \"well\", \"get\", \"price\", \"look\", \"great\", \"buy\", \"s\", \"gift\", \"christmas\", \"learn\", \"niece\", \"ease\", \"nephew\", \"dollar\", \"mainly\", \"generation\", \"lol\", \"1st\", \"twice\", \"format\", \"cause\", \"bed\", \"grandma\", \"grandaughter\", \"cousin\", \"4yr\", \"fianc\", \"event\", \"entertaining\", \"prize\", \"companion\", \"5th\", \"literally\", \"wise\", \"raffle\", \"autistic\", \"satisfactory\", \"money\", \"hope\", \"love\", \"child\", \"buy\", \"extremely\", \"kid\", \"get\", \"purchase\", \"item\", \"worth\", \"perfect\", \"great\", \"say\", \"s\", \"fact\", \"thing\", \"m\", \"think\", \"fun\", \"memory\", \"email\", \"pleased\", \"speed\", \"thank\", \"check\", \"setting\", \"wrong\", \"meet\", \"live\", \"mail\", \"expandable\", \"busy\", \"house\", \"shopping\", \"soon\", \"expectation\", \"expand\", \"world\", \"personal\", \"processing\", \"monitor\", \"create\", \"nexus\", \"information\", \"recharge\", \"capacity\", \"package\", \"fancy\", \"digital\", \"basic\", \"need\", \"storage\", \"e\", \"computer\", \"internet\", \"home\", \"people\", \"cool\", \"laptop\", \"m\", \"music\", \"work\", \"sure\", \"replace\", \"want\", \"use\", \"new\"], \"Freq\": [2670.0, 4679.0, 6778.0, 2660.0, 3530.0, 2648.0, 2079.0, 4856.0, 1631.0, 2225.0, 1692.0, 2074.0, 3328.0, 2241.0, 1163.0, 2415.0, 998.0, 3529.0, 1564.0, 2258.0, 1581.0, 1751.0, 916.0, 891.0, 1411.0, 750.0, 743.0, 1709.0, 767.0, 1224.0, 527.0356559071023, 285.4815039115721, 283.4233095594457, 240.01778086570948, 195.85520259612358, 188.82931600677978, 183.19433421914763, 172.12567506151942, 171.3183092652747, 154.80429642249325, 119.08202031850044, 103.90091947286058, 101.93822446360821, 96.27755741836738, 95.17926555524704, 94.99368989849141, 79.24434391165086, 74.03712248014574, 72.48172132878216, 72.11364723828353, 70.7329097922646, 69.84981268106435, 67.49679796056247, 59.166775033383686, 50.148080138925096, 49.84207106674772, 47.94862675396494, 42.89411992747237, 38.91110610758536, 37.70142799648729, 273.46491510051374, 1761.1571180279159, 151.60053167380832, 4337.5700584623255, 2860.9300017998976, 1991.59665679025, 96.65762411246985, 287.1185865542946, 434.3760561370522, 456.42636877209696, 220.42177432622066, 617.7981048591349, 176.07344248762786, 362.20607001920115, 695.9917780869209, 815.3794911891521, 332.5270118367267, 169.9348767781162, 507.8748490915805, 296.0490699188385, 354.63238501886696, 433.61253582673055, 230.8104660381958, 332.7760362737579, 278.56490815924667, 205.38879531377364, 228.47214555178, 204.41657734337443, 197.5972007523519, 2659.6657112654943, 616.0453329973325, 361.9156304751906, 286.68697961571723, 284.9438004479042, 261.5415083368139, 220.69640000336742, 198.96039914435113, 190.68420755203186, 147.42363577337133, 137.34791208545744, 127.23161523585365, 123.85172892016088, 123.74156628027214, 122.46067274861197, 115.39283981113577, 108.28551014278999, 99.05301031233002, 97.24104011775087, 94.97938207628997, 91.25784726423873, 90.41742094402672, 85.48509663610407, 81.6730115171326, 80.19188410952306, 78.37028518211137, 77.87589588390999, 75.0078583377464, 74.74709001429025, 74.18544153318247, 157.48522391369934, 692.9256309181592, 353.87199525570634, 153.93268282598723, 503.16573440241046, 899.3707729369432, 249.43142502972856, 127.25068343895691, 532.8995452831306, 332.68085765434654, 501.1273766116206, 231.24641567119951, 463.0345007943248, 228.2363129145706, 173.10783110558214, 202.96439058655196, 202.37568938801417, 207.3016024266552, 218.92781233663018, 228.22412913715348, 169.94682694263295, 148.02480464316892, 2078.204332729855, 1691.1773766111714, 746.0571503836205, 587.3219150448655, 578.0283423407358, 513.803922592321, 405.30005121811416, 356.37731895940345, 329.3416122898179, 291.2660853955813, 215.02836490467158, 202.85171540044152, 199.77653406636912, 197.15163794971758, 179.01495526364587, 157.19907580390188, 145.02962633677902, 122.40764226032516, 111.16737477765797, 109.46961934064282, 89.8168739875449, 88.29903072582576, 86.35072176331435, 81.85871956798192, 76.22750841978927, 66.10031786008096, 65.23940864659228, 63.370976829183626, 60.51415964053586, 58.29749120559904, 181.3775658991142, 1268.633225427317, 198.12101366982705, 201.07187510278538, 179.2128065144462, 818.1013651328276, 887.6274085064787, 1057.4384975375644, 298.32942164415465, 558.1109318331734, 359.94736139548326, 317.68662710739636, 264.57365075707474, 217.59790172214772, 217.5635767378494, 1630.734681034042, 766.0186389510745, 715.5248373832977, 687.2361942539483, 307.0096924952242, 265.8945997324164, 232.06821582725647, 219.83050870339676, 164.89601368280964, 147.58001120809465, 140.4650948160943, 124.33954303079494, 113.89119559099326, 104.35924111710943, 100.11801876616623, 93.44432393730752, 90.2585887850366, 87.4336569384962, 79.25200315046399, 64.76777011524186, 63.69239703855857, 63.81895811408171, 61.0774137995039, 56.917144272584984, 54.84807989771523, 52.53823700086761, 49.41839447321821, 49.1883461610762, 48.99783633952498, 48.314451240907665, 167.35813030927528, 276.62751155951344, 977.8399790737326, 129.08714575533227, 110.64208027718286, 105.1228743837609, 280.68852664545074, 735.073880111633, 80.56005363508694, 187.72875332513289, 1028.34731003652, 592.2901657868416, 507.80745262470634, 1104.4457249269522, 297.27315451877257, 669.084644724017, 201.86842901996926, 201.27387431337618, 132.2136217686818, 237.48057643378934, 329.9345525440911, 185.64551807531686, 233.06979927253232, 180.40680414353702, 253.43727320506855, 155.45784163166687, 461.07563620138393, 337.67154630807374, 313.73343858514585, 275.19957233837573, 209.46701091789922, 153.64497499346294, 130.36405118974616, 126.30067353655163, 124.68058248539559, 109.48722968943824, 108.39008519510965, 92.91116859172686, 75.86679998652234, 75.09674402507522, 68.44119688908027, 66.17584222822737, 65.52728615367297, 64.22851190483493, 63.12892384622655, 61.29799603943538, 59.26099960081479, 59.16836630038974, 56.5365166658185, 55.738629459262526, 55.271750008816014, 54.73133355411806, 51.11239502161223, 50.516383512723756, 45.01298090147847, 44.413692795032986, 2089.897510794537, 196.35678080316876, 930.0517282691668, 826.0472221315736, 457.3160380166097, 376.7956443995186, 91.72593677857168, 393.7034272818628, 813.3748343073414, 436.32471014211245, 211.69089242202276, 116.47994902779396, 188.32681602994052, 256.7517251350389, 418.6948381477876, 258.56299335648805, 298.2572987593537, 137.92236838872216, 196.8420187203148, 286.8421406243779, 152.14848227969316, 162.68243401309212, 175.05856346934965, 125.36196403789694, 508.66814316287764, 474.3428094414741, 393.20682031916436, 309.1984130629442, 297.5715081311897, 233.8108392490074, 224.30122097669278, 215.698052326835, 139.76580383931707, 139.20870236828176, 139.20148284442087, 135.0525914491497, 94.70638219707011, 81.68439644333391, 66.06139289044492, 63.81918926735042, 62.82683883146584, 62.47049004600262, 57.87651116453559, 55.11194042855562, 53.440900987336086, 50.91639478041962, 49.15193930864694, 47.39576324828068, 46.23090075367134, 45.011438689777926, 40.45489764773632, 37.90238122430852, 37.28130632348678, 33.25492410385922, 217.48420861208527, 343.09800992620234, 188.6672333503358, 479.4214526245148, 1184.979713208386, 215.74381181956176, 1067.1592957379605, 964.5232880655306, 283.238633492241, 162.78909584201685, 304.7336444577257, 445.0378711701741, 432.8728813004477, 172.64741711681225, 104.0404661950863, 108.59758326296786, 187.76938571375578, 242.21932652564632, 122.78095231524001, 213.24086433974904, 136.30130794536876, 2669.0839125969724, 383.31625947002453, 341.6602141845402, 172.59994824199725, 114.21990164393557, 106.80228570389862, 89.84301236323665, 89.5511772052076, 87.42005463941375, 79.910944754367, 77.66226529302476, 66.32714327902987, 65.3110574276638, 64.81106151213314, 61.77049823156857, 60.02797274186705, 50.57774005756966, 49.719106602310774, 46.89913557260488, 38.716697634869895, 32.518986676346806, 32.231443696612864, 29.49722063129589, 28.762595525443714, 26.712887538194757, 25.56964508068476, 25.057776446160336, 23.417134148701404, 22.961986881109272, 22.055656512130753, 210.62268767688948, 2095.052022450749, 160.27914165792475, 293.85452572219265, 201.62216780863312, 323.7496068865773, 105.77107503377832, 73.06294900450966, 92.89305008344806, 387.74278096781995, 273.00827945301774, 826.9438084154332, 731.7220637004592, 243.70186625622384, 93.48820576754012, 104.20885399851099, 207.3179345587128, 99.64938046489208, 156.7354770609432, 176.1608870434845, 146.90065267430816, 119.04965054599054, 107.21430185419105, 98.21080185599709, 92.84541415690083, 915.8110800768806, 890.0004599398312, 392.9114421531787, 348.9961433762681, 256.73180714159093, 255.0082012146251, 198.65914659821823, 180.18160673087763, 155.98057835367837, 151.665162917754, 132.50024954096432, 109.18889453697945, 99.18652955513008, 94.7314029807303, 92.64460605208494, 91.46269656525742, 76.25564596283682, 74.5840261617987, 66.25227930938996, 65.5785449132023, 63.57830123033021, 62.54518092456923, 62.92392618520603, 58.8005041052891, 55.626691899080576, 83.62283976525256, 54.3647557814169, 53.90975748294331, 53.03398781548781, 47.47201727576945, 143.60726300038553, 137.9302041740081, 819.0102928737657, 252.1815973632858, 462.3325505100752, 264.65738561094855, 260.6129002927711, 379.61609754412603, 189.5818095870998, 120.44584374495616, 139.3399907993545, 374.7658146744261, 312.9380322079453, 162.26551954348506, 192.25279525100981, 245.06106046688657, 127.63305795071301, 130.3974195669377, 253.59941012175398, 170.58812826126655, 164.92906439783633, 163.495116822329, 139.47597987352, 139.47030843666477, 135.66368631685566, 125.35350023714574, 123.05351267947876, 106.8444882753312, 104.9419179745261, 92.83043146496034, 88.5061865628601, 88.16564571560384, 80.44540229637649, 77.78233282354381, 74.64840677375406, 71.00151662194713, 70.60806937088392, 69.6765532289483, 65.93241529661499, 59.264738473100344, 56.28000014850634, 55.7906708915064, 53.353538731190405, 49.81096250725707, 47.63256650474061, 46.72660076455599, 50.066154017022065, 46.51606603284573, 147.99222102974454, 250.5284775313209, 390.0642968508444, 383.93041797901935, 341.2827869405246, 153.04093411830004, 201.06796931145587, 98.49516097806537, 107.75755488594582, 198.61661226155798, 167.308290030424, 103.97927837605211, 141.8190009051214, 178.85648132947233, 148.2552020844148, 137.19140936461062, 218.01466246069833, 220.9426053962132, 167.61775371858556, 249.36192084199786, 136.27888674895965, 181.80338306818908, 217.54566935585083, 161.87449795375701, 134.17492256798806, 742.3640050327849, 502.0966770327332, 353.7115629902888, 321.81995957224996, 196.44889879443045, 182.55505668096998, 169.81547350375513, 160.19391726107827, 155.97130000781357, 155.38119709679484, 129.836130420641, 127.27357743698757, 125.64461565566668, 124.68460074881406, 121.07134789644195, 115.94441412401036, 105.03975855124384, 82.37039555847672, 81.9574755067332, 71.76608611584707, 59.42058368375079, 53.50913409760792, 53.61221137954493, 49.31684450220029, 47.02958479800719, 46.76393219720727, 46.50916199050574, 46.03914786292423, 44.90863052585267, 39.36482307972307, 149.05939532643418, 319.87815503662443, 387.4516138104647, 180.06351988664508, 197.45536379238675, 161.34559342921287, 179.34272890921056, 614.7320685203983, 193.23889551397093, 242.73122917558905, 267.6994842627722, 312.1805722958838, 162.79815214855358, 252.36968268194585, 212.24677742675507, 138.78258088027727, 997.4199432514552, 749.7669492094079, 430.37412813458593, 152.40483407764995, 133.33336745682087, 127.16072536094312, 80.91419832468125, 76.25297100815204, 69.74262546791962, 33.766897684878884, 32.376531712143596, 29.484556623738502, 26.184444279729895, 25.84746338365725, 24.154154397432446, 19.960603779570825, 17.249039965334784, 16.516086743940683, 16.059936643204654, 14.664628781966096, 14.1358918713841, 13.820799794382236, 12.724842954075735, 11.227868155681042, 9.858604986655678, 9.206895728763675, 8.486083637497076, 7.936106614621152, 7.891960379214092, 7.755669099256048, 289.7548669626005, 72.92456211115264, 1871.412079906911, 301.69634430636165, 993.7317443666693, 55.39597041243828, 649.8385999181612, 373.2129820333174, 414.50524936802356, 126.5305753815203, 89.0170109860071, 191.22496105039056, 544.0235521315667, 75.1109199813268, 297.2257428021304, 57.68214246927513, 84.81987447819175, 72.25937342213442, 59.12056034380683, 34.445736677927876, 351.6424256977219, 334.2821563578249, 228.589325704247, 210.657801829713, 200.00714852319499, 196.50863172736808, 120.29307821712781, 113.85287062875969, 95.87636190095898, 81.70226427284098, 76.09303995539078, 75.67824622996562, 66.99129176523014, 59.71004948426139, 53.068286236724596, 50.10382612933006, 49.78628844291099, 47.35967422027372, 47.2464610752227, 45.558319114129375, 43.05526098485319, 41.99644043180834, 37.6014544045534, 36.123978862961515, 35.91888813775199, 34.71486057479061, 31.330501378353986, 30.66169495154443, 28.178916039636757, 28.078324066528822, 211.1464905729579, 882.5156733706061, 253.57092433300488, 190.99339768512442, 174.31457680542127, 290.5419801205446, 118.71133339928785, 86.85135347060378, 65.73519783795238, 79.75750761969368, 153.40749832974865, 107.77510592730175, 182.5977220417856, 83.87398582057294, 96.85733514131867, 117.81644584440386, 149.85531832110408, 93.46495377248245], \"Total\": [2670.0, 4679.0, 6778.0, 2660.0, 3530.0, 2648.0, 2079.0, 4856.0, 1631.0, 2225.0, 1692.0, 2074.0, 3328.0, 2241.0, 1163.0, 2415.0, 998.0, 3529.0, 1564.0, 2258.0, 1581.0, 1751.0, 916.0, 891.0, 1411.0, 750.0, 743.0, 1709.0, 767.0, 1224.0, 528.0539423607331, 286.4997733344875, 284.44158649744423, 241.03617633374736, 196.87353990876613, 189.8476002358652, 184.21264298972662, 173.14397674196118, 172.33661175903734, 155.82257949492853, 120.10034083042696, 104.91922081178384, 102.95650238783652, 97.29584457806607, 96.19754649340055, 96.01195524426322, 80.26261426200213, 75.05542262433647, 73.50001700833698, 73.13193248024548, 71.75122411005859, 70.86808213457577, 68.51509592481119, 60.18504977744821, 51.16640769946249, 50.86034955387199, 48.96689065461679, 43.91241282117863, 39.92946493704496, 38.71970214609139, 296.0262885629437, 2074.258662674962, 163.046587977858, 6778.305007217259, 4856.291943301571, 3328.6537651079852, 108.4329676248828, 405.78577595497353, 690.2303515807116, 754.2242346604565, 300.35835354666995, 1224.381991595344, 238.2939658637389, 664.8356077865302, 1666.4452125903713, 2258.594671843638, 654.1030690057927, 256.10563406782535, 2225.7101948623113, 866.1308749114266, 1709.9644762207058, 3530.4581548444107, 618.345419826425, 2415.6226428274203, 3529.404047276504, 628.3954639673816, 1581.2124854387932, 1163.4282661012, 788.686928144902, 2660.6628908012894, 617.0425025634125, 362.9128143641814, 287.68415197229183, 285.94098133650834, 262.5386800369612, 221.69357700858401, 199.95759185171144, 191.6813812332529, 148.42081172349307, 138.3450798264628, 128.2287868410577, 124.84890712678255, 124.7387365557051, 123.4578518603111, 116.39002799578424, 109.2827363504508, 100.05018357774213, 98.23821281497976, 95.976585134361, 92.25503983369241, 91.41461234274716, 86.48229626050214, 82.67019261790841, 81.18908411915362, 79.36748017559466, 78.87306820942263, 76.00503227288405, 75.74427067514868, 75.18260656066579, 170.62553805416303, 1020.9736873373568, 482.52548675999054, 180.39152897560513, 873.1723923782816, 2554.4381422925785, 427.20959852248535, 159.1847167226174, 1581.2124854387932, 754.6596665524283, 1852.8501436490897, 516.756911925006, 2241.1218129400077, 622.1564482975366, 329.28986130366593, 553.1763015955921, 575.1822990193543, 628.3954639673816, 1062.9142677392174, 1666.4452125903713, 618.345419826425, 456.3126938194822, 2079.21555443784, 1692.1885953602211, 747.0683851086961, 588.3331645300623, 579.0395667561645, 514.8151537666351, 406.31126987915405, 357.3885428717836, 330.35283310022936, 292.27731575461115, 216.03959066688677, 203.86294009577247, 200.78774903919148, 198.16287717957567, 180.026188801903, 158.21031828599982, 146.04085322523608, 123.41886562123372, 112.17862780162967, 110.48086313440925, 90.82818346074578, 89.31025671965105, 87.36200422607139, 82.86997592349155, 77.23875149324296, 67.11154035709139, 66.25063089083392, 64.3822522769685, 61.52543159571367, 59.30874278694879, 213.43738608081543, 2415.6226428274203, 263.472423045472, 271.2362391327555, 292.193761996353, 3529.404047276504, 4679.25110100328, 6778.305007217259, 786.3154368784836, 2648.922384368154, 2258.594671843638, 1709.9644762207058, 1328.403230346416, 788.7190468293767, 891.1528043136734, 1631.7443331250859, 767.0282923230362, 716.5506131042969, 688.2458578852625, 308.01936807963205, 266.9042540449546, 233.07788541961696, 220.8824628208749, 165.90568270853305, 148.58969112408573, 141.47475212538507, 125.34924308801729, 114.90086224251543, 105.36892270728868, 101.132626476632, 94.45397466186097, 91.26828164032837, 88.44330576925799, 80.26166743750194, 65.77746037230332, 64.70206650319045, 64.85162097485177, 62.08709465448573, 57.92682081616678, 55.85777582260762, 53.547922224547314, 50.428057717481025, 50.19804344336217, 50.007560930641624, 49.32416095671802, 180.05378290603352, 341.43886241655247, 1411.6267820263795, 147.01115308755396, 129.15827740703153, 123.23818385217132, 444.1366369851406, 1564.5614935464775, 90.87566358751876, 317.8012431767533, 4679.25110100328, 2241.1218129400077, 1751.6183029736308, 6778.305007217259, 788.7190468293767, 3530.4581548444107, 412.5093054959504, 492.7288661629675, 214.48359541018863, 1240.147822200459, 3529.404047276504, 788.686928144902, 2554.4381422925785, 757.5973636272149, 4856.291943301571, 484.6229740900887, 462.0720124968011, 338.6679309207821, 314.7298320683772, 276.1959699718187, 210.4633963413949, 154.64134893907257, 131.3604381644912, 127.29707645079911, 125.67696176961573, 110.48361696603591, 109.38647990070365, 93.90753816659006, 76.8631887346829, 76.09312549770144, 69.43757755497978, 67.17223184621915, 66.52367364333581, 65.2248949411613, 64.12531200489555, 62.29439319374063, 60.25740354978012, 60.16480251517464, 57.532910084181474, 56.73503642209755, 56.268138778734574, 55.72772635651009, 52.10878718801582, 51.51276841862842, 46.00939152357379, 45.41017035281371, 2648.922384368154, 219.18843595846397, 1751.6183029736308, 1564.5614935464775, 757.5973636272149, 653.7966488363071, 109.0266820561932, 786.3154368784836, 2415.6226428274203, 1709.9644762207058, 602.6472386656966, 212.55811733632186, 553.1763015955921, 1062.9142677392174, 3529.404047276504, 1240.147822200459, 1852.8501436490897, 332.9600454195985, 1020.9736873373568, 3328.6537651079852, 575.1822990193543, 1328.403230346416, 3530.4581548444107, 321.9697703009745, 509.6660801201106, 475.340737763643, 394.2047463911655, 310.1963709382099, 298.5694745183808, 234.80877280272202, 225.2991563704398, 216.6959946936581, 140.76374125283357, 140.2066418437121, 140.19942257441014, 136.05053029144628, 95.70432557797545, 82.68235526383786, 67.0594646472113, 64.8171849135628, 63.82477112630501, 63.4684496750506, 58.874448249372904, 56.10988316310952, 54.438851155881736, 51.914335007310584, 50.149883687671334, 48.39371861411103, 47.22883508899718, 46.00937992449727, 41.45284865150545, 38.900318657893706, 38.27925564800149, 34.25293231382347, 224.61442343079506, 368.34922479863184, 215.7319522051447, 705.3411893223351, 2241.1218129400077, 298.4800733480429, 2225.7101948623113, 2258.594671843638, 484.6229740900887, 247.92624669635026, 695.3355489400825, 1240.147822200459, 1411.6267820263795, 412.5093054959504, 176.0600714070203, 200.52547274482112, 788.686928144902, 1852.8501436490897, 321.9697703009745, 4856.291943301571, 1328.403230346416, 2670.09008006227, 384.3224331139045, 342.66637943217876, 173.60611724138505, 115.22607378868068, 107.80845111490623, 90.84917364506049, 90.55734764642742, 88.42624367450942, 80.91715323608504, 78.66849363287383, 67.33334509644943, 66.31725263271613, 65.81722523987737, 62.77670709613146, 61.03418851797942, 51.58391348378642, 50.72529980446368, 47.90535746735279, 39.72286472602049, 33.5251592020753, 33.237729496693234, 30.503432769362924, 29.768760894424403, 27.71923948369137, 26.575835522887118, 26.063982795743783, 24.42331532447101, 23.96816886579141, 23.061834353671777, 269.8858110368225, 3530.4581548444107, 220.56994657320945, 451.8210862182042, 321.5956567846613, 695.3355489400825, 170.41914413058913, 104.22279439179079, 149.45887916231086, 1224.381991595344, 788.7190468293767, 4679.25110100328, 4856.291943301571, 754.2242346604565, 163.92369187108798, 284.96090520548165, 2554.4381422925785, 277.5002946871853, 1709.9644762207058, 3529.404047276504, 1666.4452125903713, 757.5973636272149, 653.7966488363071, 1852.8501436490897, 3328.6537651079852, 916.8134792093973, 891.0028446126049, 393.9138968908162, 349.9985355531694, 257.7341976212311, 256.01059319062114, 199.66154754217794, 181.1839863490361, 156.98296610938968, 152.6675510126167, 133.5026507523919, 110.19128177823217, 100.18894176706273, 95.73378904767488, 93.64700851049281, 92.46511506011053, 77.25807132411342, 75.58641695526867, 67.25471389880353, 66.58093711981054, 64.58071594470032, 63.547577759317385, 63.95648764352591, 59.80288523081852, 56.62907913846351, 85.14995902623902, 55.36715423014666, 54.912194903944645, 54.03638979382716, 48.47442592495376, 176.96313120837155, 175.2994513453361, 1581.2124854387932, 384.0886454165809, 866.1308749114266, 435.3864156751235, 478.82962883595195, 874.1273490951537, 336.414903560912, 199.83242389847234, 263.77782550839163, 2554.4381422925785, 1751.6183029736308, 618.345419826425, 1852.8501436490897, 6778.305007217259, 690.2303515807116, 1020.9736873373568, 254.5887506309263, 171.5774669332107, 165.91840330794702, 164.48447224054038, 140.46531650504852, 140.4596650031303, 136.65302275296415, 126.3428635084164, 124.05035020927333, 107.8338203671017, 105.93125841962653, 93.81976329002691, 89.49554800460227, 89.15501394359168, 81.4347394398548, 78.77589791650777, 75.63773642220752, 71.99086535481813, 71.59744880932499, 70.66593890525377, 66.9217500693579, 60.25406835261673, 57.269364489343815, 56.780006996311045, 54.34290354115768, 50.800306161907564, 48.6219069094032, 47.715942888420614, 51.127916314053, 47.50539843319146, 162.2813494704173, 299.4677170934392, 602.6472386656966, 616.0401339378772, 551.7056485409367, 217.30769218514317, 328.5028037206881, 130.74079222594955, 149.75251455113272, 395.4068773229031, 314.0949317065989, 144.89816691988614, 284.96090520548165, 456.3126938194822, 351.4345838943238, 335.51014439531707, 1224.381991595344, 1666.4452125903713, 705.3411893223351, 3529.404047276504, 406.053650501878, 1240.147822200459, 3328.6537651079852, 1852.8501436490897, 754.6596665524283, 743.3602351238767, 503.0929064529465, 354.70779748845627, 322.8161964776571, 197.44512834898742, 183.55129958577862, 170.81171480270288, 161.19015426162068, 156.96753089388383, 156.37742849902068, 130.83236803856167, 128.2698117062037, 126.64085896230948, 125.68085787506016, 122.06759091085439, 116.94064661192564, 106.0359990069573, 83.36662930783642, 82.9537279913502, 72.76478888087662, 60.41681231470083, 54.50537888824318, 54.6288582346565, 50.31308205304039, 48.02582834310679, 47.76017141921575, 47.505412026033866, 47.0353850381523, 45.904858879774515, 40.36105575354746, 170.82971140133665, 417.6350983259898, 564.6592906722989, 280.30775153860424, 323.8993572202357, 251.27375360629986, 345.5917233480057, 3328.6537651079852, 575.1822990193543, 891.1528043136734, 1328.403230346416, 2074.258662674962, 628.3954639673816, 4856.291943301571, 3529.404047276504, 2554.4381422925785, 998.4285211729716, 750.7755305171021, 431.38271137674843, 153.41340496096018, 134.34196498466153, 128.16929745904494, 81.92289765828029, 77.26159140916057, 70.75121569485971, 34.77549486585548, 33.38511748253374, 30.49317212925441, 27.19310131923344, 26.856103843234585, 25.162771691386272, 20.969173028100524, 18.257616406127955, 17.524710104897924, 17.068520478838526, 15.673231591954185, 15.144538345570203, 14.829374075356014, 13.733417319407724, 12.236508148343935, 10.867196758922148, 10.21565293276112, 9.494777698020533, 8.944694687524757, 8.900529996152484, 8.764264964414359, 395.8863801296084, 99.65972745827631, 4679.25110100328, 664.8356077865302, 3529.404047276504, 96.17166596464178, 2225.7101948623113, 1328.403230346416, 1709.9644762207058, 328.5028037206881, 251.27375360629986, 874.1273490951537, 4856.291943301571, 205.12358161059382, 2554.4381422925785, 181.0096326209857, 754.6596665524283, 622.1564482975366, 427.20959852248535, 186.68505108145877, 352.6394398663489, 335.27917891934146, 229.5863422755748, 211.65482307248956, 201.00416929371417, 197.50564405356636, 121.29011033456132, 114.84990076933515, 96.87337536748198, 82.69928001883801, 77.09006513476876, 76.67525670845963, 67.98830474592992, 60.70713191679215, 54.06530133771653, 51.10086113865966, 50.78330372890866, 48.35668670733821, 48.243487732525836, 46.555333359214124, 44.05230208157734, 42.993464310570346, 38.59847908690938, 37.12105202569361, 36.91590921310973, 35.71190246027509, 32.32751636999819, 31.658717375233135, 29.175940025968767, 29.075347833008287, 247.70045980954146, 1163.4282661012, 333.24837010476205, 245.88118085818158, 223.1326467906918, 492.7288661629675, 175.70412867484595, 124.8804395846563, 91.27311538331955, 132.30017085098726, 622.1564482975366, 317.8012431767533, 1666.4452125903713, 233.5910948850879, 417.6350983259898, 1062.9142677392174, 3530.4581548444107, 786.3154368784836], \"Category\": [\"Default\", \"Default\", \"Default\", \"Default\", \"Default\", \"Default\", \"Default\", \"Default\", \"Default\", \"Default\", \"Default\", \"Default\", \"Default\", \"Default\", \"Default\", \"Default\", \"Default\", \"Default\", \"Default\", \"Default\", \"Default\", \"Default\", \"Default\", \"Default\", \"Default\", \"Default\", \"Default\", \"Default\", \"Default\", \"Default\", \"Topic1\", \"Topic1\", \"Topic1\", \"Topic1\", \"Topic1\", \"Topic1\", \"Topic1\", \"Topic1\", \"Topic1\", \"Topic1\", \"Topic1\", \"Topic1\", \"Topic1\", \"Topic1\", \"Topic1\", \"Topic1\", \"Topic1\", \"Topic1\", \"Topic1\", \"Topic1\", \"Topic1\", \"Topic1\", \"Topic1\", \"Topic1\", \"Topic1\", \"Topic1\", \"Topic1\", \"Topic1\", \"Topic1\", \"Topic1\", \"Topic1\", \"Topic1\", \"Topic1\", \"Topic1\", \"Topic1\", \"Topic1\", \"Topic1\", \"Topic1\", \"Topic1\", \"Topic1\", \"Topic1\", \"Topic1\", \"Topic1\", \"Topic1\", \"Topic1\", \"Topic1\", \"Topic1\", \"Topic1\", \"Topic1\", \"Topic1\", \"Topic1\", \"Topic1\", \"Topic1\", \"Topic1\", \"Topic1\", \"Topic1\", \"Topic1\", \"Topic1\", \"Topic1\", \"Topic2\", \"Topic2\", \"Topic2\", \"Topic2\", \"Topic2\", \"Topic2\", \"Topic2\", \"Topic2\", \"Topic2\", \"Topic2\", \"Topic2\", \"Topic2\", \"Topic2\", \"Topic2\", \"Topic2\", \"Topic2\", \"Topic2\", \"Topic2\", \"Topic2\", \"Topic2\", \"Topic2\", \"Topic2\", \"Topic2\", \"Topic2\", \"Topic2\", \"Topic2\", \"Topic2\", \"Topic2\", \"Topic2\", \"Topic2\", \"Topic2\", \"Topic2\", \"Topic2\", \"Topic2\", \"Topic2\", \"Topic2\", \"Topic2\", \"Topic2\", \"Topic2\", \"Topic2\", \"Topic2\", \"Topic2\", \"Topic2\", \"Topic2\", \"Topic2\", \"Topic2\", \"Topic2\", \"Topic2\", \"Topic2\", \"Topic2\", \"Topic2\", \"Topic2\", \"Topic3\", \"Topic3\", \"Topic3\", \"Topic3\", \"Topic3\", \"Topic3\", \"Topic3\", \"Topic3\", \"Topic3\", \"Topic3\", \"Topic3\", \"Topic3\", \"Topic3\", \"Topic3\", \"Topic3\", \"Topic3\", \"Topic3\", \"Topic3\", \"Topic3\", \"Topic3\", \"Topic3\", \"Topic3\", \"Topic3\", \"Topic3\", \"Topic3\", \"Topic3\", \"Topic3\", \"Topic3\", \"Topic3\", \"Topic3\", \"Topic3\", \"Topic3\", \"Topic3\", \"Topic3\", \"Topic3\", \"Topic3\", \"Topic3\", \"Topic3\", \"Topic3\", \"Topic3\", \"Topic3\", \"Topic3\", \"Topic3\", \"Topic3\", \"Topic3\", \"Topic4\", \"Topic4\", \"Topic4\", \"Topic4\", \"Topic4\", \"Topic4\", \"Topic4\", \"Topic4\", \"Topic4\", \"Topic4\", \"Topic4\", \"Topic4\", \"Topic4\", \"Topic4\", \"Topic4\", \"Topic4\", \"Topic4\", \"Topic4\", \"Topic4\", \"Topic4\", \"Topic4\", \"Topic4\", \"Topic4\", \"Topic4\", \"Topic4\", \"Topic4\", \"Topic4\", \"Topic4\", \"Topic4\", \"Topic4\", \"Topic4\", \"Topic4\", \"Topic4\", \"Topic4\", \"Topic4\", \"Topic4\", \"Topic4\", \"Topic4\", \"Topic4\", \"Topic4\", \"Topic4\", \"Topic4\", \"Topic4\", \"Topic4\", \"Topic4\", \"Topic4\", \"Topic4\", \"Topic4\", \"Topic4\", \"Topic4\", \"Topic4\", \"Topic4\", \"Topic4\", \"Topic4\", \"Topic4\", \"Topic4\", \"Topic5\", \"Topic5\", \"Topic5\", \"Topic5\", \"Topic5\", \"Topic5\", \"Topic5\", \"Topic5\", \"Topic5\", \"Topic5\", \"Topic5\", \"Topic5\", \"Topic5\", \"Topic5\", \"Topic5\", \"Topic5\", \"Topic5\", \"Topic5\", \"Topic5\", \"Topic5\", \"Topic5\", \"Topic5\", \"Topic5\", \"Topic5\", \"Topic5\", \"Topic5\", \"Topic5\", \"Topic5\", \"Topic5\", \"Topic5\", \"Topic5\", \"Topic5\", \"Topic5\", \"Topic5\", \"Topic5\", \"Topic5\", \"Topic5\", \"Topic5\", \"Topic5\", \"Topic5\", \"Topic5\", \"Topic5\", \"Topic5\", \"Topic5\", \"Topic5\", \"Topic5\", \"Topic5\", \"Topic5\", \"Topic5\", \"Topic5\", \"Topic5\", \"Topic5\", \"Topic5\", \"Topic5\", \"Topic6\", \"Topic6\", \"Topic6\", \"Topic6\", \"Topic6\", \"Topic6\", \"Topic6\", \"Topic6\", \"Topic6\", \"Topic6\", \"Topic6\", \"Topic6\", \"Topic6\", \"Topic6\", \"Topic6\", \"Topic6\", \"Topic6\", \"Topic6\", \"Topic6\", \"Topic6\", \"Topic6\", \"Topic6\", \"Topic6\", \"Topic6\", \"Topic6\", \"Topic6\", \"Topic6\", \"Topic6\", \"Topic6\", \"Topic6\", \"Topic6\", \"Topic6\", \"Topic6\", \"Topic6\", \"Topic6\", \"Topic6\", \"Topic6\", \"Topic6\", \"Topic6\", \"Topic6\", \"Topic6\", \"Topic6\", \"Topic6\", \"Topic6\", \"Topic6\", \"Topic6\", \"Topic6\", \"Topic6\", \"Topic6\", \"Topic6\", \"Topic6\", \"Topic7\", \"Topic7\", \"Topic7\", \"Topic7\", \"Topic7\", \"Topic7\", \"Topic7\", \"Topic7\", \"Topic7\", \"Topic7\", \"Topic7\", \"Topic7\", \"Topic7\", \"Topic7\", \"Topic7\", \"Topic7\", \"Topic7\", \"Topic7\", \"Topic7\", \"Topic7\", \"Topic7\", \"Topic7\", \"Topic7\", \"Topic7\", \"Topic7\", \"Topic7\", \"Topic7\", \"Topic7\", \"Topic7\", \"Topic7\", \"Topic7\", \"Topic7\", \"Topic7\", \"Topic7\", \"Topic7\", \"Topic7\", \"Topic7\", \"Topic7\", \"Topic7\", \"Topic7\", \"Topic7\", \"Topic7\", \"Topic7\", \"Topic7\", \"Topic7\", \"Topic7\", \"Topic7\", \"Topic7\", \"Topic7\", \"Topic7\", \"Topic7\", \"Topic7\", \"Topic7\", \"Topic7\", \"Topic7\", \"Topic8\", \"Topic8\", \"Topic8\", \"Topic8\", \"Topic8\", \"Topic8\", \"Topic8\", \"Topic8\", \"Topic8\", \"Topic8\", \"Topic8\", \"Topic8\", \"Topic8\", \"Topic8\", \"Topic8\", \"Topic8\", \"Topic8\", \"Topic8\", \"Topic8\", \"Topic8\", \"Topic8\", \"Topic8\", \"Topic8\", \"Topic8\", \"Topic8\", \"Topic8\", \"Topic8\", \"Topic8\", \"Topic8\", \"Topic8\", \"Topic8\", \"Topic8\", \"Topic8\", \"Topic8\", \"Topic8\", \"Topic8\", \"Topic8\", \"Topic8\", \"Topic8\", \"Topic8\", \"Topic8\", \"Topic8\", \"Topic8\", \"Topic8\", \"Topic8\", \"Topic8\", \"Topic8\", \"Topic8\", \"Topic9\", \"Topic9\", \"Topic9\", \"Topic9\", \"Topic9\", \"Topic9\", \"Topic9\", \"Topic9\", \"Topic9\", \"Topic9\", \"Topic9\", \"Topic9\", \"Topic9\", \"Topic9\", \"Topic9\", \"Topic9\", \"Topic9\", \"Topic9\", \"Topic9\", \"Topic9\", \"Topic9\", \"Topic9\", \"Topic9\", \"Topic9\", \"Topic9\", \"Topic9\", \"Topic9\", \"Topic9\", \"Topic9\", \"Topic9\", \"Topic9\", \"Topic9\", \"Topic9\", \"Topic9\", \"Topic9\", \"Topic9\", \"Topic9\", \"Topic9\", \"Topic9\", \"Topic9\", \"Topic9\", \"Topic9\", \"Topic9\", \"Topic9\", \"Topic9\", \"Topic9\", \"Topic9\", \"Topic9\", \"Topic9\", \"Topic9\", \"Topic9\", \"Topic9\", \"Topic9\", \"Topic9\", \"Topic9\", \"Topic10\", \"Topic10\", \"Topic10\", \"Topic10\", \"Topic10\", \"Topic10\", \"Topic10\", \"Topic10\", \"Topic10\", \"Topic10\", \"Topic10\", \"Topic10\", \"Topic10\", \"Topic10\", \"Topic10\", \"Topic10\", \"Topic10\", \"Topic10\", \"Topic10\", \"Topic10\", \"Topic10\", \"Topic10\", \"Topic10\", \"Topic10\", \"Topic10\", \"Topic10\", \"Topic10\", \"Topic10\", \"Topic10\", \"Topic10\", \"Topic10\", \"Topic10\", \"Topic10\", \"Topic10\", \"Topic10\", \"Topic10\", \"Topic10\", \"Topic10\", \"Topic10\", \"Topic10\", \"Topic10\", \"Topic10\", \"Topic10\", \"Topic10\", \"Topic10\", \"Topic10\", \"Topic11\", \"Topic11\", \"Topic11\", \"Topic11\", \"Topic11\", \"Topic11\", \"Topic11\", \"Topic11\", \"Topic11\", \"Topic11\", \"Topic11\", \"Topic11\", \"Topic11\", \"Topic11\", \"Topic11\", \"Topic11\", \"Topic11\", \"Topic11\", \"Topic11\", \"Topic11\", \"Topic11\", \"Topic11\", \"Topic11\", \"Topic11\", \"Topic11\", \"Topic11\", \"Topic11\", \"Topic11\", \"Topic11\", \"Topic11\", \"Topic11\", \"Topic11\", \"Topic11\", \"Topic11\", \"Topic11\", \"Topic11\", \"Topic11\", \"Topic11\", \"Topic11\", \"Topic11\", \"Topic11\", \"Topic11\", \"Topic11\", \"Topic11\", \"Topic11\", \"Topic11\", \"Topic11\", \"Topic11\", \"Topic11\", \"Topic11\", \"Topic12\", \"Topic12\", \"Topic12\", \"Topic12\", \"Topic12\", \"Topic12\", \"Topic12\", \"Topic12\", \"Topic12\", \"Topic12\", \"Topic12\", \"Topic12\", \"Topic12\", \"Topic12\", \"Topic12\", \"Topic12\", \"Topic12\", \"Topic12\", \"Topic12\", \"Topic12\", \"Topic12\", \"Topic12\", \"Topic12\", \"Topic12\", \"Topic12\", \"Topic12\", \"Topic12\", \"Topic12\", \"Topic12\", \"Topic12\", \"Topic12\", \"Topic12\", \"Topic12\", \"Topic12\", \"Topic12\", \"Topic12\", \"Topic12\", \"Topic12\", \"Topic12\", \"Topic12\", \"Topic12\", \"Topic12\", \"Topic12\", \"Topic12\", \"Topic12\", \"Topic12\", \"Topic12\", \"Topic12\"], \"logprob\": [30.0, 29.0, 28.0, 27.0, 26.0, 25.0, 24.0, 23.0, 22.0, 21.0, 20.0, 19.0, 18.0, 17.0, 16.0, 15.0, 14.0, 13.0, 12.0, 11.0, 10.0, 9.0, 8.0, 7.0, 6.0, 5.0, 4.0, 3.0, 2.0, 1.0, -3.9834, -4.5965, -4.6037, -4.7699, -4.9733, -5.0098, -5.0401, -5.1024, -5.1071, -5.2085, -5.4708, -5.6072, -5.6263, -5.6834, -5.6949, -5.6968, -5.8781, -5.9461, -5.9673, -5.9724, -5.9917, -6.0043, -6.0386, -6.1703, -6.3357, -6.3418, -6.3805, -6.4919, -6.5894, -6.621, -4.6395, -2.7769, -5.2294, -1.8756, -2.2918, -2.654, -5.6795, -4.5908, -4.1767, -4.1272, -4.8551, -3.8245, -5.0798, -4.3584, -3.7053, -3.547, -4.4439, -5.1152, -4.0204, -4.5601, -4.3796, -4.1785, -4.8091, -4.4432, -4.621, -4.9257, -4.8192, -4.9305, -4.9644, -2.2566, -3.7193, -4.2512, -4.4842, -4.4903, -4.576, -4.7458, -4.8495, -4.892, -5.1493, -5.2201, -5.2966, -5.3235, -5.3244, -5.3348, -5.3943, -5.4578, -5.5469, -5.5654, -5.5889, -5.6289, -5.6382, -5.6943, -5.7399, -5.7582, -5.7812, -5.7875, -5.825, -5.8285, -5.836, -5.0833, -3.6017, -4.2737, -5.1061, -3.9217, -3.3409, -4.6234, -5.2964, -3.8643, -4.3354, -3.9257, -4.6991, -4.0048, -4.7122, -4.9887, -4.8296, -4.8325, -4.8084, -4.7539, -4.7123, -5.0071, -5.1452, -2.4392, -2.6453, -3.4637, -3.7029, -3.7188, -3.8366, -4.0738, -4.2025, -4.2814, -4.4042, -4.7077, -4.766, -4.7813, -4.7945, -4.891, -5.0209, -5.1015, -5.2711, -5.3674, -5.3828, -5.5807, -5.5977, -5.62, -5.6735, -5.7447, -5.8873, -5.9004, -5.9295, -5.9756, -6.0129, -4.8779, -2.9328, -4.7896, -4.7748, -4.8899, -3.3715, -3.2899, -3.1149, -4.3803, -3.7539, -4.1925, -4.3174, -4.5003, -4.6958, -4.696, -2.5494, -3.305, -3.3732, -3.4135, -4.2193, -4.3631, -4.4991, -4.5533, -4.8409, -4.9518, -5.0012, -5.1232, -5.2109, -5.2983, -5.3398, -5.4088, -5.4435, -5.4753, -5.5735, -5.7754, -5.7921, -5.7901, -5.834, -5.9046, -5.9416, -5.9846, -6.0459, -6.0505, -6.0544, -6.0684, -4.826, -4.3235, -3.0608, -5.0857, -5.2399, -5.291, -4.3089, -3.3462, -5.5572, -4.7112, -3.0105, -3.5622, -3.7161, -2.9391, -4.2515, -3.4403, -4.6386, -4.6415, -5.0618, -4.4761, -4.1473, -4.7223, -4.4948, -4.751, -4.4111, -4.8998, -3.6096, -3.9211, -3.9946, -4.1257, -4.3986, -4.7085, -4.8728, -4.9045, -4.9174, -5.0474, -5.0574, -5.2115, -5.4142, -5.4244, -5.5172, -5.5508, -5.5607, -5.5807, -5.598, -5.6274, -5.6612, -5.6628, -5.7083, -5.7225, -5.7309, -5.7407, -5.8091, -5.8209, -5.9362, -5.9496, -2.0983, -4.4632, -2.9079, -3.0265, -3.6178, -3.8115, -5.2244, -3.7676, -3.042, -3.6648, -4.388, -4.9854, -4.505, -4.1951, -3.706, -4.188, -4.0452, -4.8165, -4.4608, -4.0842, -4.7183, -4.6514, -4.578, -4.912, -3.4789, -3.5488, -3.7364, -3.9767, -4.0151, -4.2562, -4.2977, -4.3368, -4.7707, -4.7747, -4.7748, -4.8051, -5.1599, -5.3079, -5.5201, -5.5547, -5.5703, -5.576, -5.6524, -5.7014, -5.7321, -5.7805, -5.8158, -5.8522, -5.8771, -5.9038, -6.0105, -6.0757, -6.0922, -6.2065, -4.3286, -3.8727, -4.4707, -3.5381, -2.6332, -4.3366, -2.738, -2.8391, -4.0644, -4.6183, -3.9913, -3.6126, -3.6403, -4.5595, -5.0659, -5.0231, -4.4755, -4.2209, -4.9003, -4.3483, -4.7958, -1.6686, -3.6092, -3.7243, -4.4071, -4.82, -4.8871, -5.06, -5.0633, -5.0874, -5.1772, -5.2057, -5.3635, -5.3789, -5.3866, -5.4347, -5.4633, -5.6346, -5.6517, -5.7101, -5.9018, -6.0763, -6.0851, -6.1738, -6.199, -6.2729, -6.3167, -6.3369, -6.4046, -6.4243, -6.4645, -4.208, -1.9108, -4.4812, -3.875, -4.2517, -3.7781, -4.8968, -5.2668, -5.0266, -3.5977, -3.9486, -2.8404, -2.9627, -4.0621, -5.0203, -4.9117, -4.2238, -4.9564, -4.5035, -4.3867, -4.5683, -4.7786, -4.8833, -4.971, -5.0272, -2.6928, -2.7214, -3.539, -3.6575, -3.9645, -3.9713, -4.221, -4.3186, -4.4628, -4.4909, -4.626, -4.8195, -4.9156, -4.9615, -4.9838, -4.9966, -5.1785, -5.2006, -5.3191, -5.3293, -5.3603, -5.3767, -5.3706, -5.4384, -5.4939, -5.0863, -5.5169, -5.5253, -5.5416, -5.6524, -4.5455, -4.5858, -2.8045, -3.9824, -3.3763, -3.9341, -3.9495, -3.5734, -4.2678, -4.7214, -4.5757, -3.5863, -3.7666, -4.4233, -4.2538, -4.0111, -4.6634, -4.642, -3.8919, -4.2884, -4.3222, -4.3309, -4.4898, -4.4898, -4.5175, -4.5966, -4.6151, -4.7563, -4.7743, -4.8969, -4.9446, -4.9485, -5.0401, -5.0738, -5.1149, -5.165, -5.1706, -5.1838, -5.2391, -5.3457, -5.3974, -5.4061, -5.4508, -5.5195, -5.5642, -5.5834, -5.5144, -5.5879, -4.4305, -3.9041, -3.4614, -3.4772, -3.595, -4.397, -4.1241, -4.8377, -4.7478, -4.1363, -4.3079, -4.7835, -4.4731, -4.2411, -4.4288, -4.5063, -4.0431, -4.0298, -4.306, -3.9088, -4.513, -4.2248, -4.0453, -4.3409, -4.5286, -2.665, -3.056, -3.4064, -3.5008, -3.9944, -4.0678, -4.1401, -4.1985, -4.2252, -4.229, -4.4086, -4.4285, -4.4414, -4.4491, -4.4785, -4.5217, -4.6205, -4.8636, -4.8686, -5.0014, -5.1902, -5.295, -5.2931, -5.3766, -5.4241, -5.4297, -5.4352, -5.4453, -5.4702, -5.602, -4.2705, -3.5069, -3.3152, -4.0815, -3.9893, -4.1913, -4.0855, -2.8537, -4.0109, -3.7829, -3.685, -3.5313, -4.1823, -3.7439, -3.9171, -4.3419, -2.3525, -2.6379, -3.193, -4.2311, -4.3648, -4.4122, -4.8642, -4.9236, -5.0128, -5.7381, -5.7802, -5.8738, -5.9925, -6.0054, -6.0732, -6.2639, -6.4099, -6.4533, -6.4813, -6.5722, -6.6089, -6.6314, -6.7141, -6.8392, -6.9693, -7.0377, -7.1192, -7.1862, -7.1918, -7.2092, -3.5886, -4.9682, -1.7232, -3.5482, -2.3562, -5.2431, -2.7809, -3.3355, -3.2305, -4.4171, -4.7688, -4.0042, -2.9586, -4.9387, -3.5631, -5.2027, -4.8171, -4.9774, -5.178, -5.7182, -3.1426, -3.1932, -3.5733, -3.655, -3.7069, -3.7245, -4.2153, -4.2703, -4.4421, -4.6021, -4.6732, -4.6787, -4.8006, -4.9157, -5.0336, -5.0911, -5.0975, -5.1474, -5.1498, -5.1862, -5.2427, -5.2676, -5.3782, -5.4182, -5.4239, -5.458, -5.5606, -5.5822, -5.6666, -5.6702, -3.6527, -2.2224, -3.4696, -3.753, -3.8443, -3.3335, -4.2285, -4.541, -4.8196, -4.6262, -3.9721, -4.3252, -3.7979, -4.5759, -4.432, -4.2361, -3.9955, -4.4676], \"loglift\": [30.0, 29.0, 28.0, 27.0, 26.0, 25.0, 24.0, 23.0, 22.0, 21.0, 20.0, 19.0, 18.0, 17.0, 16.0, 15.0, 14.0, 13.0, 12.0, 11.0, 10.0, 9.0, 8.0, 7.0, 6.0, 5.0, 4.0, 3.0, 2.0, 1.0, 1.9602, 1.9585, 1.9585, 1.9579, 1.9569, 1.9567, 1.9566, 1.9562, 1.9562, 1.9556, 1.9536, 1.9524, 1.9522, 1.9516, 1.9515, 1.9514, 1.9493, 1.9484, 1.9482, 1.9481, 1.9478, 1.9476, 1.9471, 1.945, 1.942, 1.9419, 1.9411, 1.9386, 1.9363, 1.9355, 1.8828, 1.7985, 1.8893, 1.5157, 1.433, 1.4485, 1.8472, 1.6162, 1.499, 1.4598, 1.6527, 1.2781, 1.6595, 1.3548, 1.089, 0.9433, 1.2856, 1.5519, 0.4845, 0.8886, 0.389, -0.1349, 0.9767, -0.0201, -0.5771, 0.8438, 0.0276, 0.2231, 0.578, 2.0698, 2.0685, 2.0674, 2.0667, 2.0667, 2.0664, 2.0657, 2.0652, 2.0649, 2.0634, 2.0629, 2.0624, 2.0621, 2.0621, 2.0621, 2.0616, 2.061, 2.0601, 2.06, 2.0597, 2.0593, 2.0592, 2.0586, 2.058, 2.0578, 2.0575, 2.0574, 2.057, 2.0569, 2.0568, 1.99, 1.6826, 1.7601, 1.9115, 1.5189, 1.0263, 1.5321, 1.8463, 0.9825, 1.2511, 0.7625, 1.2661, 0.4932, 1.0674, 1.4271, 1.0675, 1.0256, 0.9612, 0.4901, 0.082, 0.7786, 0.9444, 2.1338, 2.1337, 2.1329, 2.1326, 2.1326, 2.1323, 2.1318, 2.1315, 2.1312, 2.1308, 2.1296, 2.1293, 2.1293, 2.1292, 2.1287, 2.1279, 2.1274, 2.1261, 2.1252, 2.1251, 2.1231, 2.1229, 2.1227, 2.122, 2.1211, 2.1191, 2.1189, 2.1185, 2.1177, 2.1171, 1.9715, 1.4903, 1.8492, 1.835, 1.6455, 0.6724, 0.472, 0.2764, 1.1651, 0.5769, 0.2978, 0.4511, 0.5207, 0.8465, 0.7243, 2.266, 2.2653, 2.2652, 2.2651, 2.2633, 2.2628, 2.2622, 2.2618, 2.2605, 2.2598, 2.2594, 2.2585, 2.2578, 2.257, 2.2565, 2.2558, 2.2555, 2.2551, 2.2539, 2.2511, 2.2509, 2.2505, 2.2502, 2.249, 2.2483, 2.2475, 2.2464, 2.2463, 2.2462, 2.2459, 2.1935, 2.0561, 1.8994, 2.1366, 2.1118, 2.1076, 1.8077, 1.5112, 2.1461, 1.7402, 0.7514, 0.9358, 1.0284, 0.4522, 1.2908, 0.6033, 1.5519, 1.3713, 1.7828, 0.6137, -0.1034, 0.8201, -0.1277, 0.8316, -0.6863, 1.1296, 2.4674, 2.4666, 2.4664, 2.466, 2.4648, 2.4631, 2.462, 2.4617, 2.4616, 2.4605, 2.4604, 2.4589, 2.4565, 2.4564, 2.4551, 2.4547, 2.4545, 2.4542, 2.4539, 2.4535, 2.4529, 2.4529, 2.4521, 2.4519, 2.4517, 2.4516, 2.4503, 2.4501, 2.4477, 2.4474, 2.2326, 2.3596, 1.8365, 1.8309, 1.9648, 1.9185, 2.2968, 1.7778, 1.3811, 1.1038, 1.4234, 1.8681, 1.3921, 1.0489, 0.3379, 0.9017, 0.6431, 1.5883, 0.8235, 0.0182, 1.1398, 0.3697, -0.5345, 1.5263, 2.5001, 2.4999, 2.4995, 2.4988, 2.4987, 2.4978, 2.4976, 2.4974, 2.4949, 2.4949, 2.4949, 2.4947, 2.4916, 2.4899, 2.487, 2.4865, 2.4863, 2.4862, 2.4849, 2.4841, 2.4835, 2.4826, 2.4819, 2.4812, 2.4807, 2.4801, 2.4777, 2.4761, 2.4756, 2.4725, 2.4698, 2.431, 2.368, 2.1159, 1.8648, 2.1774, 1.767, 1.6512, 1.965, 2.0814, 1.6771, 1.4772, 1.32, 1.631, 1.976, 1.8888, 1.0669, 0.4674, 1.538, -0.6236, 0.2252, 2.6543, 2.652, 2.6517, 2.6489, 2.6459, 2.6453, 2.6435, 2.6435, 2.6432, 2.6422, 2.6418, 2.6396, 2.6394, 2.6393, 2.6385, 2.638, 2.635, 2.6346, 2.6334, 2.629, 2.6242, 2.6239, 2.6211, 2.6203, 2.6177, 2.6161, 2.6153, 2.6126, 2.6118, 2.6101, 2.4067, 2.1328, 2.3354, 2.2245, 2.1878, 1.8902, 2.1777, 2.2995, 2.1791, 1.5048, 1.5938, 0.9215, 0.762, 1.5249, 2.0931, 1.6487, 0.1433, 1.6305, 0.265, -0.3428, 0.226, 0.8041, 0.8467, -0.2827, -0.9247, 2.6991, 2.6991, 2.6976, 2.6973, 2.6963, 2.6963, 2.6952, 2.6946, 2.6938, 2.6936, 2.6927, 2.691, 2.6901, 2.6897, 2.6894, 2.6893, 2.6871, 2.6868, 2.6852, 2.685, 2.6845, 2.6843, 2.6839, 2.6833, 2.6823, 2.6821, 2.6819, 2.6818, 2.6815, 2.6793, 2.4913, 2.4604, 2.0423, 2.2795, 2.0724, 2.2024, 2.0919, 1.8661, 2.1267, 2.1939, 2.062, 0.7809, 0.9779, 1.3624, 0.4345, -0.6198, 1.0123, 0.6423, 2.7812, 2.7793, 2.7791, 2.779, 2.778, 2.778, 2.7778, 2.7772, 2.777, 2.7758, 2.7757, 2.7745, 2.7739, 2.7739, 2.7728, 2.7724, 2.7719, 2.7712, 2.7711, 2.771, 2.7702, 2.7685, 2.7676, 2.7675, 2.7667, 2.7654, 2.7645, 2.7641, 2.7641, 2.764, 2.6929, 2.6066, 2.35, 2.3122, 2.3048, 2.4345, 2.2942, 2.5019, 2.456, 2.0965, 2.1552, 2.4532, 2.0873, 1.8485, 1.922, 1.8908, 1.0594, 0.7645, 1.3481, 0.1351, 1.6933, 0.865, 0.0571, 0.3474, 1.0579, 2.9366, 2.9359, 2.9351, 2.9348, 2.9329, 2.9325, 2.9321, 2.9317, 2.9316, 2.9315, 2.9303, 2.9301, 2.93, 2.93, 2.9297, 2.9294, 2.9285, 2.9259, 2.9258, 2.9241, 2.9213, 2.9195, 2.9191, 2.9179, 2.917, 2.9168, 2.9167, 2.9165, 2.916, 2.9129, 2.8016, 2.6713, 2.5613, 2.4953, 2.443, 2.4949, 2.282, 1.2488, 1.8472, 1.6374, 1.3361, 1.0441, 1.5873, -0.0192, 0.1268, 0.0252, 2.9541, 2.9538, 2.9528, 2.9485, 2.9476, 2.9472, 2.9427, 2.942, 2.9408, 2.9257, 2.9245, 2.9215, 2.9173, 2.9169, 2.9142, 2.9058, 2.8983, 2.8959, 2.8942, 2.8886, 2.8862, 2.8847, 2.8789, 2.8691, 2.8577, 2.8512, 2.8428, 2.8355, 2.8349, 2.8329, 2.643, 2.6428, 2.0387, 2.165, 1.6877, 2.4035, 1.724, 1.6856, 1.538, 2.0011, 1.9174, 1.4354, 0.7661, 1.9505, 0.804, 1.8115, 0.7694, 0.8022, 0.9774, 1.2651, 3.2047, 3.2046, 3.2032, 3.2028, 3.2026, 3.2025, 3.1993, 3.1988, 3.1972, 3.1954, 3.1945, 3.1945, 3.1928, 3.191, 3.1889, 3.1878, 3.1877, 3.1867, 3.1867, 3.1859, 3.1847, 3.1841, 3.1814, 3.1803, 3.1802, 3.1792, 3.1762, 3.1756, 3.1728, 3.1727, 3.0479, 2.9312, 2.9343, 2.9549, 2.9606, 2.6793, 2.8154, 2.8444, 2.8793, 2.7015, 1.8075, 2.1262, 0.9964, 2.1833, 1.7462, 1.0079, 0.048, 1.0778]}, \"token.table\": {\"Topic\": [3, 3, 10, 1, 3, 11, 3, 3, 3, 5, 3, 11, 3, 10, 11, 5, 9, 9, 3, 3, 3, 2, 4, 6, 9, 4, 7, 1, 4, 6, 6, 6, 2, 7, 1, 9, 4, 6, 2, 4, 6, 9, 1, 5, 1, 3, 6, 9, 2, 3, 2, 4, 6, 2, 6, 4, 4, 9, 8, 11, 2, 6, 6, 10, 12, 10, 6, 11, 1, 2, 1, 2, 3, 8, 5, 7, 6, 10, 7, 4, 5, 8, 3, 6, 2, 3, 2, 5, 6, 8, 8, 7, 12, 2, 1, 2, 3, 4, 5, 6, 7, 9, 10, 11, 5, 6, 1, 12, 2, 4, 5, 8, 2, 3, 6, 9, 11, 2, 5, 9, 10, 12, 1, 11, 10, 4, 9, 11, 8, 8, 2, 2, 3, 7, 2, 3, 9, 11, 8, 2, 10, 9, 12, 5, 6, 6, 5, 9, 12, 9, 2, 2, 11, 12, 4, 1, 10, 8, 4, 4, 2, 3, 4, 5, 9, 11, 1, 6, 9, 7, 1, 8, 2, 4, 6, 7, 8, 9, 2, 8, 2, 9, 12, 2, 1, 2, 11, 2, 4, 6, 10, 2, 12, 4, 11, 7, 4, 3, 1, 4, 5, 12, 4, 5, 7, 7, 11, 7, 2, 4, 6, 9, 11, 7, 1, 1, 12, 12, 12, 1, 12, 1, 2, 11, 1, 2, 4, 11, 12, 1, 7, 12, 1, 2, 5, 1, 3, 8, 12, 8, 4, 1, 2, 3, 6, 7, 8, 10, 11, 7, 2, 5, 7, 9, 12, 8, 1, 3, 5, 8, 9, 9, 11, 4, 6, 9, 1, 1, 6, 5, 7, 8, 7, 9, 4, 6, 7, 11, 10, 5, 4, 8, 1, 3, 4, 11, 3, 4, 5, 6, 10, 11, 11, 6, 3, 4, 5, 7, 8, 9, 5, 1, 2, 5, 9, 1, 2, 3, 5, 6, 7, 9, 10, 6, 6, 11, 2, 4, 7, 5, 11, 5, 1, 1, 4, 6, 7, 10, 11, 6, 2, 8, 6, 3, 5, 7, 10, 12, 5, 6, 9, 2, 3, 1, 4, 6, 8, 4, 9, 10, 2, 3, 5, 8, 2, 9, 12, 6, 5, 11, 3, 4, 5, 12, 8, 4, 5, 5, 9, 3, 7, 10, 12, 7, 4, 8, 4, 12, 2, 5, 8, 2, 1, 2, 3, 6, 12, 9, 11, 10, 5, 7, 9, 12, 9, 8, 1, 6, 11, 3, 5, 2, 3, 9, 2, 6, 8, 9, 12, 5, 8, 11, 2, 4, 10, 5, 7, 8, 8, 1, 2, 3, 4, 5, 6, 7, 8, 9, 4, 6, 1, 6, 4, 12, 11, 1, 2, 4, 8, 12, 2, 2, 11, 2, 4, 5, 10, 1, 2, 3, 10, 1, 2, 4, 5, 6, 12, 3, 4, 5, 7, 11, 2, 5, 9, 11, 12, 8, 12, 11, 7, 1, 12, 1, 9, 12, 2, 4, 2, 3, 8, 9, 11, 12, 1, 4, 4, 6, 12, 4, 1, 2, 8, 10, 12, 11, 7, 4, 3, 5, 12, 9, 12, 1, 2, 3, 7, 8, 11, 5, 6, 5, 5, 6, 9, 5, 6, 9, 9, 3, 1, 3, 6, 9, 7, 4, 2, 6, 10, 9, 10, 1, 2, 12, 10, 2, 9, 6, 5, 6, 3, 2, 10, 2, 12, 1, 3, 4, 8, 11, 8, 10, 9, 12, 9, 1, 8, 7, 4, 6, 4, 12, 1, 5, 9, 5, 3, 9, 1, 7, 1, 2, 8, 10, 3, 5, 1, 10, 4, 1, 6, 10, 11, 3, 2, 3, 5, 8, 9, 12, 3, 1, 7, 9, 4, 4, 12, 9, 9, 9, 2, 1, 2, 3, 5, 7, 11, 1, 10, 9, 11, 3, 4, 5, 8, 5, 5, 5, 7, 5, 5, 9, 12, 7, 1, 2, 3, 7, 5, 9, 10, 12, 1, 2, 9, 8, 9, 2, 10, 1, 2, 3, 4, 6, 7, 8, 9, 10, 11, 2, 10, 11, 3, 8, 4, 2, 9, 11, 4, 9, 1, 2, 8, 4, 9, 6, 3, 9, 4, 6, 7, 9, 12, 7, 7, 12, 5, 4, 7, 6, 4, 8, 8, 10, 5, 8, 10, 1, 3, 4, 7, 12, 10, 10, 10, 12, 4, 9, 4, 10, 4, 7, 5, 3, 12, 2, 6, 9, 1, 10, 6, 7, 12, 2, 8, 12, 1, 10, 8, 5, 2, 10, 1, 1, 3, 4, 6, 8, 10, 2, 3, 4, 7, 8, 9, 10, 7, 4, 7, 9, 7, 12, 1, 2, 4, 5, 6, 9, 11, 2, 5, 8, 9, 11, 10, 3, 4, 5, 6, 9, 6, 1, 3, 2, 1, 4, 5, 7, 10, 2, 4, 2, 9, 2, 9, 4, 11, 9, 6, 9, 7, 3, 1, 2, 4, 5, 6, 7, 12, 7, 1, 5, 2, 3, 5, 9, 2, 3, 6, 1, 7, 1, 2, 3, 4, 5, 6, 8, 9, 12, 3, 9, 8, 4, 8, 4, 5, 8, 1, 2, 3, 5, 8, 10, 10, 3, 7, 2, 11, 2, 3, 8, 3, 7, 1, 2, 3, 4, 6, 7, 8, 9, 12, 12, 6, 10, 11, 10, 12, 3, 6, 4, 6, 3], \"Freq\": [0.9951879622448937, 0.994131710257104, 0.9936379043577631, 0.9830840809900314, 0.9885036569239897, 0.9585109298100151, 0.9982046706031018, 0.9811227323571503, 0.996772745487606, 0.9907373000357235, 0.9961147526984888, 0.9373981781160662, 0.9959048842186896, 0.9894895746605042, 0.9202005100155967, 0.8942077584656055, 0.10037025860328226, 0.9905762391957088, 0.9984166088339259, 0.9985698965048017, 0.9928728626117325, 0.1936341045489505, 0.6326881788169197, 0.022515593552203547, 0.15085447679976377, 0.2674888438639454, 0.7253934748852756, 0.08969494628858313, 0.4896859229809133, 0.41938447859256434, 0.9965556107931217, 0.9768633126763163, 0.9968714609690421, 0.9857014190697823, 0.9767223292746244, 0.990975000738249, 0.9966120658204185, 0.9922783815013743, 0.15459382579014827, 0.2842531635496275, 0.5435718390685859, 0.014960692818401445, 0.9814125082012274, 0.9792968360130143, 0.3608438513382016, 0.15939114905736512, 0.42725683011210375, 0.05224487663546968, 0.997484755764878, 0.9914599283241716, 0.20659296488333898, 0.2641534237817207, 0.5287530526711808, 0.9201436185371162, 0.07032944855060762, 0.9824908113266467, 0.9836810060783632, 0.9895681258441058, 0.9753074860148354, 0.8988228794755184, 0.27472520721470023, 0.7236663994923811, 0.9634211663298144, 0.14533683154113095, 0.8518353181994063, 0.9981701535008124, 0.9980926565942503, 0.9537899995418901, 0.9894601121111563, 0.9901739013589462, 0.08771387038455235, 0.18378144271049063, 0.18378144271049063, 0.5450790516754325, 0.4270279616142921, 0.5673371490018452, 0.9311815443279684, 0.06515555995297738, 0.9875834139634584, 0.4697801927452114, 0.5279434547041423, 0.0019174701744702504, 0.9834374184949857, 0.992640608731926, 0.2429096725198994, 0.7515017993584387, 0.9882622233548647, 0.9865716111874578, 0.9735694063094446, 0.9937383900065646, 0.98415494255149, 0.9915023969316925, 0.9854636065772903, 0.9895034317760536, 0.07905017285150245, 0.0036833413873459927, 0.23176717344992476, 0.09350020444801366, 0.11871692625369007, 0.011333358114910746, 0.04986677570560728, 0.0705501542653194, 0.06006679800902696, 0.281633949155532, 0.9824513601616529, 0.9770710597290175, 0.9949318715480544, 0.9589354049100349, 0.9867767667109772, 0.8112726185868743, 0.1874420490597832, 0.9934652814915153, 0.134731481647866, 0.08927989747750156, 0.1525874611433663, 0.6233360114792836, 0.9681225598384685, 0.9873958128970466, 0.3517812517806983, 0.6471447556343035, 0.9980045618013816, 0.9974398501066166, 0.5444955049944217, 0.45424763123844014, 0.9926164580766578, 0.27605594225436897, 0.7177454498613592, 0.9989670274461823, 0.9865744733265016, 0.9971513379752963, 0.9889307183143368, 0.05187379042349832, 0.16303191275956616, 0.7818121270970104, 0.1957565601976728, 0.18488119574224654, 0.6180832132167262, 0.8989492644998335, 0.9808205211750554, 0.12292943556325464, 0.872213614234521, 0.2151186780167857, 0.7798052078108482, 0.9887698032192959, 0.9942336385481013, 0.9971794175059541, 0.9812204382656919, 0.27390321777675214, 0.7231044949306257, 0.9862626470552968, 0.9952110252836932, 0.9902773569674466, 0.9700588425282268, 0.9844947495065329, 0.9798518281657634, 0.9895301561837287, 0.9912541002661873, 0.993090985811679, 0.9870082879077022, 0.998659381494362, 0.07081313352355836, 0.01770328338088959, 0.037935607244763414, 0.29083965554318614, 0.5032790561138613, 0.07840025497251105, 0.6637885988676778, 0.30456182771575807, 0.027332471718080852, 0.9417230910070217, 0.01174398686077875, 0.9864948963054151, 0.5760603569129874, 0.05840771014425916, 0.1408656538773309, 0.07215070076643779, 0.08360319295158664, 0.06756970389237825, 0.9979481879131664, 0.9813438519611953, 0.9863959753748428, 0.977939325609814, 0.9630151343610933, 0.9853541380340181, 0.9955353650253564, 0.9976218642299152, 0.988734557923843, 0.9983104850004957, 0.9992315782106285, 0.9739812534719184, 0.9802883855466291, 0.2196182717665811, 0.7767979612484628, 0.9761336625656754, 0.9900108280773268, 0.9995917440874338, 0.9842805728091262, 0.985329157391586, 0.06664675302191546, 0.9275006462216568, 0.987324942698931, 0.9961847349917031, 0.2375932238441252, 0.6032227960931401, 0.15707552020806057, 0.9893594067005247, 0.9440722129510309, 0.9818023012437224, 0.26109222895533307, 0.6154316825375709, 0.09790958585824991, 0.018649444925380936, 0.9244256695414568, 0.9938453625143315, 0.9877507319454855, 0.9222153928466131, 0.07431772396566114, 0.9719441756721448, 0.991193290541861, 0.9957011584339414, 0.9845755657589728, 0.9947210507129661, 0.41592291865575354, 0.5718940131516611, 0.9908381539734299, 0.10496678947348571, 0.28727752908532933, 0.3204249362874827, 0.2817529612183038, 0.9792219838865566, 0.9965086642624332, 0.959694871016252, 0.29104645216291547, 0.3669716135967195, 0.33985548451321806, 0.628775594996782, 0.09127387669308126, 0.18544533677324448, 0.09272266838662224, 0.9888912348914354, 0.9895758635146571, 0.509094079784926, 0.025989787856888116, 0.1819285149982168, 0.1482946718893028, 0.12994893928444057, 0.00458643315121555, 0.9840835701249199, 0.9570457701716226, 0.9801978485616669, 0.4470186942241108, 0.12384933519629043, 0.1373953562333847, 0.19544973210664585, 0.09482214725965987, 0.9966866552407233, 0.13785265715601697, 0.5253303961891457, 0.3365591899935189, 0.8137288203294847, 0.18082862673988548, 0.9862264500195737, 0.9561248529460827, 0.31983626094289613, 0.5839591086892878, 0.09285568866084082, 0.9795916100513713, 0.9859380896485119, 0.9961431820282378, 0.23471541418696903, 0.6219958475954679, 0.14082924851218143, 0.9980553113110104, 0.9842460366408644, 0.18212492003531836, 0.4606689153834523, 0.1714116894450055, 0.18212492003531836, 0.9885028917392398, 0.9780611851157256, 0.9995438420652208, 0.9910079048179401, 0.2543907857615893, 0.7410514193924558, 0.9846435736121729, 0.9893822927637088, 0.1994876208866899, 0.09259236743042587, 0.12270370643219038, 0.10237855260599933, 0.20174597131182223, 0.28078823619145404, 0.9985692304029002, 0.9802194711423097, 0.32189786748369753, 0.03874696553044507, 0.06855232363078743, 0.08941607430102709, 0.07153285944082168, 0.40833340597469037, 0.98964347117366, 0.1284906221561701, 0.7336400039239389, 0.08289717558462587, 0.053883164130006815, 0.5984401324285458, 0.008111387337133904, 0.003004217532271816, 0.08622104317620112, 0.02643711428399198, 0.027939223050127887, 0.06549194220352558, 0.18475937823471666, 0.9986931048659278, 0.9913938325043321, 0.9311182589143536, 0.9918931770123488, 0.3700298728837677, 0.6281179354833704, 0.9958526684908494, 0.953781056277148, 0.9976799882533277, 0.9912387758442006, 0.5891326208149951, 0.05209736213428652, 0.04386062503795664, 0.1507322888628369, 0.051891443706878274, 0.11201962451008644, 0.9665809685599706, 0.20536287891215804, 0.7872243691632725, 0.9917472686686237, 0.09788976452221593, 0.5766318941386782, 0.16365945006057975, 0.07800590610364082, 0.08259448881561969, 0.3882352056938485, 0.38202344240274694, 0.22672936012520753, 0.9940777293717802, 0.9977339973157434, 0.7385835363562677, 0.2559863393052973, 0.978061431687328, 0.9850447127606963, 0.160284388801158, 0.8381537831060554, 0.9952478973491926, 0.030328553905474114, 0.0530749693345797, 0.38289799305661065, 0.5269586241076127, 0.18212434870678804, 0.13659326153009105, 0.677274921753368, 0.9768557510849333, 0.26088772930756005, 0.7324924707481494, 0.19759301844749194, 0.24934357089802553, 0.5457330985692634, 0.9883517488890535, 0.9881330040412345, 0.9716812865274012, 0.9689459356382633, 0.9930467892905182, 0.9870448795586252, 0.994299780444543, 0.9539570730850073, 0.9969964822530664, 0.9751893090910391, 0.9838708101210392, 0.9861038071766659, 0.9922417680465564, 0.4079322601195447, 0.5905884959939678, 0.678763819866216, 0.1929530627902519, 0.12732943229813576, 0.9904271395163905, 0.21257866769073433, 0.5253729930071006, 0.20650499147099907, 0.054663085977617404, 0.0030368381098676333, 0.6118669238844662, 0.38660248424540894, 0.991956204799797, 0.0631665595918164, 0.3649623443082725, 0.49831397011321826, 0.07018506621312932, 0.9849957300415338, 0.9962349005839279, 0.22824175455215828, 0.47939754351801744, 0.29204161507658044, 0.21065169870316885, 0.7890000901247722, 0.41828552662933943, 0.1593468672873674, 0.42113100640232815, 0.9845253148649445, 0.9873924652134684, 0.26454992291295915, 0.1284956768434373, 0.6046855380867637, 0.9946134776009569, 0.9923351091085567, 0.9967946991377203, 0.9880571555852312, 0.9960314129491441, 0.997827624999422, 0.27332042460597894, 0.11713732483113383, 0.6086547270637346, 0.9891889652338403, 0.05559003266024903, 0.27039423653189093, 0.06962246808904976, 0.06854304997914201, 0.16083329837625449, 0.13060959129883754, 0.052891487385479656, 0.10362413855114382, 0.0874328669025276, 0.02671244307625077, 0.9661000245910695, 0.9845220488252345, 0.9870775701698508, 0.8774844444841049, 0.11563748493201383, 0.8810009560071703, 0.373577603380395, 0.27492724058297463, 0.08894704842390357, 0.2619894880849523, 0.9915443034246644, 0.9967091763758027, 0.9932005241670198, 0.9776999617447025, 0.3511930049731988, 0.046941639278595876, 0.2642640433461694, 0.33554579188033345, 0.326227689018839, 0.3294103981799984, 0.08275043819014452, 0.2593907966344915, 0.25105018599169976, 0.1699026511256958, 0.235835023204324, 0.08368339533056658, 0.23837088366888665, 0.021554813948782302, 0.1897739575911204, 0.2196932752293601, 0.013677402348909578, 0.17673768347731597, 0.39985030929390347, 0.3664673099891469, 0.1526947124954779, 0.11733383170705143, 0.11572651894394113, 0.2459188527558749, 0.9912747229921808, 0.9858598493481214, 0.9836711697733553, 0.9741755830163428, 0.9875511742549202, 0.9909843611397983, 0.9322488859481185, 0.06746537990414016, 0.9981867034878708, 0.9881915014853765, 0.9891492414209702, 0.14524165877978956, 0.8480238786819971, 0.9960525336939138, 0.26522761395737904, 0.7325334099775231, 0.9768926666761745, 0.9922441798907699, 0.998189806925841, 0.5915647091897591, 0.06607903666481352, 0.33983504570475526, 0.9953754281849759, 0.17534385741170844, 0.06102653860897696, 0.0017190574256049846, 0.003438114851209969, 0.7589638534046007, 0.9908769301055226, 0.962761310250859, 0.9966905714858537, 0.3789827669961573, 0.5010711751559932, 0.11827314540484103, 0.9916554455604125, 0.969800100899143, 0.34174973849104495, 0.0023091198546692226, 0.05541887651206134, 0.06580991585807285, 0.5334066864285903, 0.9907869526700105, 0.9856343724804094, 0.9823876197743489, 0.9903358326252776, 0.12051993102661017, 0.8760871909242047, 0.9778351916305967, 0.977462578179077, 0.0801077883713914, 0.911996359920456, 0.9752883365876722, 0.9994153783453352, 0.9907096456692616, 0.1610619469934846, 0.1288495575947877, 0.7040707968572327, 0.9906529293444304, 0.9897676286626087, 0.30250931879696014, 0.6574535861853933, 0.04033457583959468, 0.9952213076607558, 0.990229742571772, 0.7324584031115225, 0.26301915384459224, 0.9791931755343805, 0.9949395560993454, 0.9842702106941247, 0.9944647291099924, 0.9969438562011376, 0.9806398015703474, 0.9649517777723899, 0.9779333918499991, 0.3890097253707304, 0.6082136182383643, 0.2962833901214589, 0.6966663497450519, 0.16359172396107427, 0.12927178187133842, 0.05376790927391952, 0.4347192664699876, 0.21850363130465167, 0.9837159884714757, 0.9938361080895264, 0.9912088420970369, 0.9880715415583161, 0.9896079418735778, 0.34106709886702835, 0.6560985413319935, 0.9886803182552261, 0.6928176855613978, 0.30673830045816486, 0.9846065274958931, 0.9974460925255257, 0.894561885787038, 0.10144516230574657, 0.991568541678089, 0.9787216850007436, 0.9839620466502319, 0.9915328718741915, 0.9778866846151122, 0.9876274635599782, 0.9933929163261275, 0.38774076734778745, 0.09259481011290446, 0.5179522190690593, 0.9923499408944244, 0.9792213532008416, 0.8489780140192429, 0.15041518476661203, 0.9868681620898572, 0.707269739370672, 0.263685930706139, 0.027107899418388124, 0.9465961528474579, 0.9895019165409829, 0.33985656779451057, 0.09850915008536539, 0.05910549005121923, 0.16500282639298702, 0.3349311102902423, 0.9761124383550114, 0.9908818669581375, 0.504744437799807, 0.3168945661267397, 0.17804900880316818, 0.9921596563773906, 0.8520086609354072, 0.1379442593895421, 0.9912623602823132, 0.9823817273841166, 0.992267543111585, 0.9828601190694896, 0.20760665203092793, 0.017544224115289685, 0.18596877562207065, 0.25497605714221006, 0.091814772870016, 0.24269510026150728, 0.3116923831899579, 0.6853690471279188, 0.9791869928968495, 0.8943849152456449, 0.9785305386487236, 0.2900175221608469, 0.5309375897826528, 0.17869189849674227, 0.9980277703915865, 0.9956698500273529, 0.9900457996265837, 0.9801371048946877, 0.9870444002780041, 0.23711038821322894, 0.7495747756418205, 0.9800654008543233, 0.9783323642866766, 0.6045947332961081, 0.017236253361511855, 0.054360491370922005, 0.3235112169391456, 0.9825488626177734, 0.9944628753535675, 0.7662191259371126, 0.23226017254968725, 0.9955629389852443, 0.9898247563924696, 0.9976874444394449, 0.9971470293394479, 0.987209327051652, 0.353183240408411, 0.6421513461971109, 0.07398887327542593, 0.3519364924582429, 0.05598099935653919, 0.09121379615436105, 0.0258373843184027, 0.0810354326349903, 0.14680331999092444, 0.0019573775998789926, 0.054415097276635994, 0.11626822943281216, 0.982770270990471, 0.9974716371527734, 0.9127975971153871, 0.9894932945363364, 0.9833881179665044, 0.9840001435758388, 0.43875988949362155, 0.19500439533049846, 0.3656332412446846, 0.8594106566642474, 0.13936389026987794, 0.14419314424824378, 0.33708309598383307, 0.5179569523654021, 0.891327741689524, 0.09903641574328044, 0.9851472366132583, 0.9844096499601033, 0.9893612420933124, 0.04314463721253682, 0.4386371449941243, 0.4659620818953976, 0.05177356465504418, 0.9893634334159419, 0.9925010413697108, 0.9886655276488887, 0.9802960251518406, 0.9869413951709681, 0.9960048307610978, 0.9591780425853592, 0.9842011168328741, 0.9888005827981368, 0.9913831844009648, 0.9988744765309465, 0.9779871040215264, 0.9976810839201965, 0.9976799577318047, 0.9662779942660981, 0.9803098978595137, 0.27639753455473465, 0.37655994386585406, 0.34613085749285577, 0.9784570922264396, 0.9926808609507288, 0.9911916411962912, 0.9907279079872209, 0.9969061745771544, 0.27378505211009746, 0.7211898933631835, 0.9731539081246618, 0.9765493699448939, 0.9881804440624058, 0.9507126695958973, 0.989810634407614, 0.23706042425703408, 0.7621942754593247, 0.0822297079456315, 0.6791039673440947, 0.23818260232527746, 0.980254195402427, 0.9836069981576194, 0.11374366043209898, 0.6222447305991297, 0.2609413386383447, 0.5308421541540365, 0.1070246278536364, 0.3596027495882183, 0.9934171565531783, 0.9884885341744604, 0.9695834267901097, 0.9921280107568402, 0.999750855020536, 0.9901004633178058, 0.9866813985357171, 0.6399830039192802, 0.155938689521134, 0.16287257637779745, 0.001327765568297262, 0.036144729359203244, 0.0035407081821260318, 0.3243389938622855, 0.02629775625910423, 0.11176546410119298, 0.09423362659512349, 0.05040403282994977, 0.39227486419830476, 0.9893609590049047, 0.9843353703733406, 0.98923612895636, 0.959606056215115, 0.9966343661348288, 0.9811011228134601, 0.9950042364929911, 0.058304427744242236, 0.44125850997346966, 0.099382547291322, 0.04107811954707976, 0.07023033341920087, 0.17756348449382864, 0.1126335535968316, 0.5828520727557912, 0.10767548332034697, 0.11001625469687626, 0.05851928441323205, 0.13810551121522766, 0.9786400697604204, 0.09434359187310494, 0.19110625020449462, 0.20884607089858273, 0.3588281913122367, 0.14675669846927433, 0.9914448822086015, 0.9842689616627666, 0.9865962023431365, 0.9904172310186415, 0.9772036429386708, 0.2054051872782829, 0.2666663834840866, 0.3603599776811981, 0.16576558973335112, 0.7978152841224078, 0.19474231344720191, 0.4648276214032671, 0.5316863888653809, 0.8536986236245376, 0.14413093645609076, 0.9945409783815291, 0.9510325746719576, 0.986236234973222, 0.9712004232362371, 0.9901505671527842, 0.9830555866623053, 0.9956297814241474, 0.12293022065832321, 0.0008497480690667503, 0.1894938194018853, 0.0495686373622271, 0.001416246781777917, 0.5934074015649473, 0.04248740345333751, 0.9965590530243325, 0.9947651849178376, 0.9791327957112963, 0.34538678613848767, 0.08709753737405342, 0.4144641433661852, 0.15016816788629897, 0.006844773092811485, 0.6126071918066279, 0.3798849066510374, 0.9980041009522221, 0.9740526977980569, 0.17875383346215076, 0.2060373133063738, 0.048922101789641265, 0.12795011237290793, 0.24178807999880395, 0.022579431595219045, 0.04421805354063729, 0.019757002645816663, 0.11101553867649364, 0.9957670575369556, 0.9893712753445156, 0.9991127102427652, 0.4339879073566814, 0.5647787835463662, 0.1467530672148078, 0.8438301364851449, 0.9956274204427269, 0.1470006034496973, 0.15036702948289646, 0.24462695841247337, 0.0807942247967802, 0.10435920702917442, 0.2726805086891331, 0.9739017766461587, 0.34748267575138764, 0.6507000424898597, 0.996445240383448, 0.8425684365067163, 0.31025996077343265, 0.08507127956690896, 0.6005031498840633, 0.28784490163663257, 0.7004225939824726, 0.41765549490710063, 0.13681817936611917, 0.047406298990892166, 0.0042005581384334835, 0.0618082126083784, 0.08821172090710315, 0.0018002392021857785, 0.13261762122768567, 0.10981459133333249, 0.9742247546566275, 0.9945743041067531, 0.6407354436717558, 0.3541953694831445, 0.9945826445922497, 0.9925998998375968, 0.9992975987644166, 0.9967881515547068, 0.4032714483902505, 0.590707473698395, 0.996076707652927], \"Term\": [\"1\", \"10\", \"100\", \"128\", \"16\", \"1st\", \"2\", \"2nd\", \"3\", \"32\", \"4\", \"4yr\", \"5\", \"50\", \"5th\", \"6\", \"6\", \"60\", \"7\", \"8\", \"9\", \"able\", \"able\", \"able\", \"able\", \"absolutely\", \"absolutely\", \"access\", \"access\", \"access\", \"account\", \"activity\", \"ad\", \"advertise\", \"advertisement\", \"affordable\", \"age\", \"alexa\", \"allow\", \"allow\", \"allow\", \"allow\", \"alot\", \"alternative\", \"amazon\", \"amazon\", \"amazon\", \"amazon\", \"android\", \"annoying\", \"app\", \"app\", \"app\", \"apple\", \"apple\", \"application\", \"appropriate\", \"ask\", \"audio\", \"autistic\", \"available\", \"available\", \"awhile\", \"basic\", \"basic\", \"battery\", \"beat\", \"bed\", \"beginner\", \"believe\", \"big\", \"big\", \"big\", \"big\", \"birthday\", \"birthday\", \"black\", \"black\", \"blue\", \"book\", \"book\", \"book\", \"boy\", \"brand\", \"break\", \"break\", \"bright\", \"bring\", \"brother\", \"browse\", \"browser\", \"budget\", \"busy\", \"button\", \"buy\", \"buy\", \"buy\", \"buy\", \"buy\", \"buy\", \"buy\", \"buy\", \"buy\", \"buy\", \"cable\", \"call\", \"camera\", \"capacity\", \"car\", \"card\", \"card\", \"carry\", \"case\", \"case\", \"case\", \"case\", \"cause\", \"change\", \"charge\", \"charge\", \"cheap\", \"check\", \"child\", \"child\", \"choice\", \"choose\", \"choose\", \"christmas\", \"clarity\", \"clear\", \"close\", \"color\", \"color\", \"color\", \"come\", \"come\", \"come\", \"companion\", \"complain\", \"complaint\", \"complaint\", \"computer\", \"computer\", \"connection\", \"content\", \"control\", \"convenient\", \"cool\", \"cool\", \"cord\", \"cost\", \"couldn\", \"cousin\", \"create\", \"crisp\", \"customer\", \"d\", \"dad\", \"daily\", \"daughter\", \"day\", \"day\", \"day\", \"day\", \"day\", \"day\", \"deal\", \"deal\", \"deal\", \"decision\", \"design\", \"design\", \"device\", \"device\", \"device\", \"device\", \"device\", \"device\", \"didn\", \"die\", \"difference\", \"difficult\", \"digital\", \"disappoint\", \"display\", \"doesn\", \"dollar\", \"don\", \"download\", \"downside\", \"durability\", \"e\", \"e\", \"early\", \"ease\", \"easy\", \"ebook\", \"edition\", \"educational\", \"educational\", \"electronic\", \"email\", \"enjoy\", \"enjoy\", \"enjoy\", \"entertain\", \"entertaining\", \"ereader\", \"etc\", \"etc\", \"etc\", \"etc\", \"event\", \"everyday\", \"exactly\", \"excellent\", \"excellent\", \"expand\", \"expandable\", \"expect\", \"expectation\", \"expensive\", \"extremely\", \"extremely\", \"facebook\", \"fact\", \"fact\", \"fact\", \"fact\", \"fall\", \"family\", \"fancy\", \"far\", \"far\", \"far\", \"fast\", \"fast\", \"fast\", \"fast\", \"father\", \"favorite\", \"feature\", \"feature\", \"feature\", \"feature\", \"feature\", \"feature\", \"fi\", \"fianc\", \"finally\", \"find\", \"find\", \"find\", \"find\", \"find\", \"fine\", \"fire\", \"fire\", \"fire\", \"fit\", \"fit\", \"fix\", \"format\", \"free\", \"free\", \"free\", \"freetime\", \"freeze\", \"friday\", \"friend\", \"friend\", \"friend\", \"friendly\", \"fully\", \"fun\", \"fun\", \"fun\", \"fun\", \"functionality\", \"future\", \"game\", \"gaming\", \"gb\", \"gb\", \"geek\", \"generation\", \"get\", \"get\", \"get\", \"get\", \"get\", \"get\", \"gift\", \"girl\", \"give\", \"give\", \"give\", \"give\", \"give\", \"give\", \"glad\", \"go\", \"go\", \"go\", \"go\", \"good\", \"good\", \"good\", \"good\", \"good\", \"good\", \"good\", \"good\", \"google\", \"grand\", \"grandaughter\", \"grandchild\", \"granddaughter\", \"granddaughter\", \"grandkid\", \"grandma\", \"grandson\", \"graphic\", \"great\", \"great\", \"great\", \"great\", \"great\", \"great\", \"guarantee\", \"hand\", \"hand\", \"handy\", \"happy\", \"happy\", \"happy\", \"happy\", \"happy\", \"have\", \"have\", \"have\", \"haven\", \"hd\", \"hd8\", \"hd8\", \"hear\", \"heavy\", \"help\", \"help\", \"high\", \"hold\", \"hold\", \"hold\", \"hold\", \"home\", \"home\", \"home\", \"homework\", \"hope\", \"hope\", \"hour\", \"hour\", \"hour\", \"house\", \"huge\", \"hulu\", \"hundred\", \"husband\", \"improvement\", \"inch\", \"individual\", \"inexpensive\", \"information\", \"instal\", \"install\", \"instruction\", \"internet\", \"internet\", \"ipad\", \"ipad\", \"ipad\", \"isn\", \"issue\", \"issue\", \"issue\", \"issue\", \"issue\", \"item\", \"item\", \"job\", \"keep\", \"keep\", \"keep\", \"keep\", \"key\", \"keyboard\", \"kid\", \"kid\", \"kid\", \"kindle\", \"kindle\", \"know\", \"know\", \"know\", \"lack\", \"lag\", \"laptop\", \"laptop\", \"laptop\", \"last\", \"law\", \"learn\", \"learning\", \"library\", \"life\", \"light\", \"light\", \"light\", \"lightweight\", \"like\", \"like\", \"like\", \"like\", \"like\", \"like\", \"like\", \"like\", \"like\", \"limit\", \"limit\", \"limited\", \"link\", \"listen\", \"listen\", \"literally\", \"little\", \"little\", \"little\", \"little\", \"live\", \"load\", \"lock\", \"lol\", \"long\", \"long\", \"long\", \"long\", \"look\", \"look\", \"look\", \"look\", \"lot\", \"lot\", \"lot\", \"lot\", \"lot\", \"lot\", \"love\", \"love\", \"love\", \"love\", \"love\", \"m\", \"m\", \"m\", \"m\", \"m\", \"magazine\", \"mail\", \"mainly\", \"maneuver\", \"medium\", \"meet\", \"member\", \"member\", \"memory\", \"mini\", \"minute\", \"model\", \"model\", \"mom\", \"money\", \"money\", \"monitor\", \"mother\", \"movie\", \"music\", \"music\", \"music\", \"navigate\", \"need\", \"need\", \"need\", \"need\", \"need\", \"nephew\", \"net\", \"netflix\", \"new\", \"new\", \"new\", \"news\", \"nexus\", \"nice\", \"nice\", \"nice\", \"nice\", \"nice\", \"niece\", \"night\", \"non\", \"nook\", \"not\", \"not\", \"note\", \"number\", \"ok\", \"ok\", \"okay\", \"old\", \"one\", \"online\", \"online\", \"online\", \"operate\", \"operating\", \"option\", \"option\", \"option\", \"order\", \"os\", \"overall\", \"overall\", \"package\", \"pad\", \"page\", \"parent\", \"parental\", \"pass\", \"password\", \"past\", \"pay\", \"pay\", \"people\", \"people\", \"perfect\", \"perfect\", \"perfect\", \"perfect\", \"perfect\", \"perform\", \"performance\", \"person\", \"personal\", \"photo\", \"picture\", \"picture\", \"pink\", \"play\", \"play\", \"playing\", \"pleased\", \"plenty\", \"plenty\", \"plug\", \"pop\", \"port\", \"power\", \"powerful\", \"pre\", \"present\", \"pretty\", \"pretty\", \"pretty\", \"previous\", \"previously\", \"price\", \"price\", \"primarily\", \"prime\", \"prime\", \"prime\", \"prize\", \"probably\", \"problem\", \"problem\", \"problem\", \"problem\", \"problem\", \"processing\", \"processor\", \"product\", \"product\", \"product\", \"profile\", \"program\", \"program\", \"protect\", \"protection\", \"protective\", \"provide\", \"purchase\", \"purchase\", \"purchase\", \"purchase\", \"purchase\", \"purchase\", \"quality\", \"quality\", \"question\", \"raffle\", \"ram\", \"read\", \"read\", \"read\", \"reader\", \"reading\", \"ready\", \"real\", \"reasonable\", \"receive\", \"receive\", \"recharge\", \"recipient\", \"recommend\", \"recommend\", \"recommend\", \"recommend\", \"reliable\", \"remove\", \"replace\", \"replace\", \"resolution\", \"responsive\", \"return\", \"right\", \"rough\", \"run\", \"run\", \"s\", \"s\", \"s\", \"s\", \"s\", \"s\", \"s\", \"s\", \"s\", \"s\", \"safe\", \"sale\", \"satisfactory\", \"satisfied\", \"save\", \"savvy\", \"say\", \"say\", \"say\", \"school\", \"school\", \"screen\", \"screen\", \"screen\", \"search\", \"search\", \"selection\", \"sell\", \"send\", \"set\", \"set\", \"set\", \"set\", \"setting\", \"setup\", \"sharp\", \"shopping\", \"short\", \"show\", \"sign\", \"silk\", \"sister\", \"site\", \"size\", \"slot\", \"slow\", \"small\", \"smooth\", \"social\", \"son\", \"son\", \"son\", \"soon\", \"sound\", \"speaker\", \"special\", \"speed\", \"spend\", \"spend\", \"squad\", \"starter\", \"step\", \"stick\", \"stop\", \"storage\", \"storage\", \"store\", \"store\", \"store\", \"streaming\", \"sturdy\", \"super\", \"super\", \"super\", \"sure\", \"sure\", \"sure\", \"surf\", \"surfing\", \"surprise\", \"surprised\", \"t\", \"tab\", \"table\", \"tablet\", \"tablet\", \"tablet\", \"tablet\", \"tablet\", \"tablet\", \"take\", \"take\", \"take\", \"take\", \"take\", \"take\", \"task\", \"teach\", \"tech\", \"teenage\", \"tell\", \"text\", \"thank\", \"thing\", \"thing\", \"thing\", \"thing\", \"thing\", \"thing\", \"thing\", \"think\", \"think\", \"think\", \"think\", \"think\", \"thrill\", \"time\", \"time\", \"time\", \"time\", \"time\", \"toddler\", \"ton\", \"tool\", \"touch\", \"transfer\", \"travel\", \"travel\", \"travel\", \"travel\", \"trip\", \"trip\", \"try\", \"try\", \"turn\", \"turn\", \"tv\", \"twice\", \"type\", \"underground\", \"understand\", \"unlimited\", \"upgrade\", \"use\", \"use\", \"use\", \"use\", \"use\", \"use\", \"use\", \"user\", \"value\", \"variety\", \"ve\", \"ve\", \"ve\", \"ve\", \"version\", \"version\", \"version\", \"video\", \"visual\", \"want\", \"want\", \"want\", \"want\", \"want\", \"want\", \"want\", \"want\", \"want\", \"warranty\", \"wasn\", \"watch\", \"web\", \"web\", \"week\", \"week\", \"weight\", \"well\", \"well\", \"well\", \"well\", \"well\", \"well\", \"wi\", \"wife\", \"wife\", \"win\", \"wise\", \"wish\", \"wish\", \"wish\", \"wonderful\", \"wonderful\", \"work\", \"work\", \"work\", \"work\", \"work\", \"work\", \"work\", \"work\", \"work\", \"world\", \"worry\", \"worth\", \"worth\", \"wouldn\", \"wrong\", \"year\", \"young\", \"youtube\", \"youtube\", \"yr\"]}, \"R\": 30, \"lambda.step\": 0.01, \"plot.opts\": {\"xlab\": \"PC1\", \"ylab\": \"PC2\"}, \"topic.order\": [8, 10, 5, 11, 3, 12, 7, 4, 1, 9, 6, 2]};\n",
              "\n",
              "function LDAvis_load_lib(url, callback){\n",
              "  var s = document.createElement('script');\n",
              "  s.src = url;\n",
              "  s.async = true;\n",
              "  s.onreadystatechange = s.onload = callback;\n",
              "  s.onerror = function(){console.warn(\"failed to load library \" + url);};\n",
              "  document.getElementsByTagName(\"head\")[0].appendChild(s);\n",
              "}\n",
              "\n",
              "if(typeof(LDAvis) !== \"undefined\"){\n",
              "   // already loaded: just create the visualization\n",
              "   !function(LDAvis){\n",
              "       new LDAvis(\"#\" + \"ldavis_el3961401415187551528444218515\", ldavis_el3961401415187551528444218515_data);\n",
              "   }(LDAvis);\n",
              "}else if(typeof define === \"function\" && define.amd){\n",
              "   // require.js is available: use it to load d3/LDAvis\n",
              "   require.config({paths: {d3: \"https://d3js.org/d3.v5\"}});\n",
              "   require([\"d3\"], function(d3){\n",
              "      window.d3 = d3;\n",
              "      LDAvis_load_lib(\"https://cdn.jsdelivr.net/gh/bmabey/pyLDAvis@3.3.1/pyLDAvis/js/ldavis.v3.0.0.js\", function(){\n",
              "        new LDAvis(\"#\" + \"ldavis_el3961401415187551528444218515\", ldavis_el3961401415187551528444218515_data);\n",
              "      });\n",
              "    });\n",
              "}else{\n",
              "    // require.js not available: dynamically load d3 & LDAvis\n",
              "    LDAvis_load_lib(\"https://d3js.org/d3.v5.js\", function(){\n",
              "         LDAvis_load_lib(\"https://cdn.jsdelivr.net/gh/bmabey/pyLDAvis@3.3.1/pyLDAvis/js/ldavis.v3.0.0.js\", function(){\n",
              "                 new LDAvis(\"#\" + \"ldavis_el3961401415187551528444218515\", ldavis_el3961401415187551528444218515_data);\n",
              "            })\n",
              "         });\n",
              "}\n",
              "</script>"
            ]
          },
          "metadata": {},
          "execution_count": 35
        }
      ],
      "source": [
        "# plot your topics here -- using pyLDAvis\n",
        "pyLDAvis.enable_notebook()\n",
        "vis = pyLDAvis.gensim_models.prepare(lda_trained_model, corpus, id2word)\n",
        "vis"
      ]
    },
    {
      "cell_type": "markdown",
      "metadata": {
        "id": "9gie-6YrzGeB"
      },
      "source": [
        "## Create a Topic id/name dictionary \n",
        "\n",
        "When populating your topic id/name dictionary, use the index ordering as shown in the viz tool. \n",
        "\n",
        "We'll use a function to map the the viz tool index ordering with the train LDA model ordering. "
      ]
    },
    {
      "cell_type": "code",
      "execution_count": 44,
      "metadata": {
        "deletable": false,
        "id": "88vMiVwQzGeC",
        "nbgrader": {
          "cell_type": "code",
          "checksum": "fc10e9728e5dcf06baf0800c3cdb88ce",
          "grade": false,
          "grade_id": "cell-4905c0c1050f0d03",
          "locked": false,
          "schema_version": 3,
          "solution": true,
          "task": false
        }
      },
      "outputs": [],
      "source": [
        "# create a dictionary \n",
        "# keys - use topic ids from pyLDAvis visualization \n",
        "# values - topic names that you create \n",
        "# save dictionary to `vis_topic_name_dict`\n",
        "\n",
        "vis_topic_name_dict = {1:\"tablets\",\n",
        "                       2:\"smartphones\",\n",
        "                       3:\"amazon tablets\",\n",
        "                       4:\"tv accessories\",\n",
        "                       5:\"e-readers\",\n",
        "                       6:\"tvs\",\n",
        "                       7:\"kids\",\n",
        "                       8:\"smart watches\",\n",
        "                       9:\"phone accessories\",\n",
        "                       10:\"mobile accessories\",\n",
        "                       11:\"gifts\",\n",
        "                       12:\"pcs\"}\n"
      ]
    },
    {
      "cell_type": "code",
      "execution_count": 45,
      "metadata": {
        "id": "iWLsK27ZzGeC"
      },
      "outputs": [],
      "source": [
        "def get_topic_id_lookup_dict(vis, vis_topic_name_dict):\n",
        "    \"\"\"\n",
        "    Both the starting index and the ordering of topic ids bewteen the trained LDA model \n",
        "    and the viz tool are different. So we need to create a look up dictionary that maps \n",
        "    the correct association between topic ids from both sources. \n",
        "    \"\"\"\n",
        "    # value is order of topic ids accoridng to pyLDAvis tool \n",
        "    # key is order of topic ids according to lda model\n",
        "    model_vis_tool_topic_id_lookup = vis.topic_coordinates.topics.to_dict()\n",
        "\n",
        "    # invert dictionary so that \n",
        "    # key is order of topic ids accoridng to pyLDAvis tool \n",
        "    # value is order of topic ids according to lda model\n",
        "    topic_id_lookup =  {v:k for k, v in model_vis_tool_topic_id_lookup.items()}\n",
        "    \n",
        "    return {v:vis_topic_name_dict[k]  for k, v in topic_id_lookup.items()}"
      ]
    },
    {
      "cell_type": "markdown",
      "metadata": {
        "id": "tR8xm8IG4M0M"
      },
      "source": [
        "Create a topic id/name look up dict \n",
        "that is aligned with the index ordering of the trained LDA model"
      ]
    },
    {
      "cell_type": "code",
      "execution_count": 46,
      "metadata": {
        "deletable": false,
        "id": "dcsa0f_tzGeC",
        "nbgrader": {
          "cell_type": "code",
          "checksum": "55f23aa9324a225091037f0c5daf2192",
          "grade": false,
          "grade_id": "cell-d38acb7b250b4079",
          "locked": false,
          "schema_version": 3,
          "solution": true,
          "task": false
        }
      },
      "outputs": [],
      "source": [
        "topic_name_dict = get_topic_id_lookup_dict(vis, vis_topic_name_dict)"
      ]
    },
    {
      "cell_type": "code",
      "execution_count": 47,
      "metadata": {
        "id": "tbeEkAlC4WNi",
        "colab": {
          "base_uri": "https://localhost:8080/"
        },
        "outputId": "bc5b7ecf-39f9-432e-c148-9859b1b439f3"
      },
      "outputs": [
        {
          "output_type": "execute_result",
          "data": {
            "text/plain": [
              "{0: 'phone accessories',\n",
              " 1: 'pcs',\n",
              " 2: 'e-readers',\n",
              " 3: 'smart watches',\n",
              " 4: 'amazon tablets',\n",
              " 5: 'gifts',\n",
              " 6: 'kids',\n",
              " 7: 'tablets',\n",
              " 8: 'mobile accessories',\n",
              " 9: 'smartphones',\n",
              " 10: 'tv accessories',\n",
              " 11: 'tvs'}"
            ]
          },
          "metadata": {},
          "execution_count": 47
        }
      ],
      "source": [
        "topic_name_dict"
      ]
    },
    {
      "cell_type": "markdown",
      "metadata": {
        "id": "t4NLAlB9zGeC"
      },
      "source": [
        "## Use the LDA Model to Assign Each Document a Topic Name\n",
        "\n",
        "Now that we have a topic id/name look up dict that is aligned with the index ordering of the trained LDA model, we can move forward to giving each topic a topic name. \n",
        "\n",
        "The function below has been given to you. However, you highly encouraged to read through it and make sure that you understand what it is doing each step of the way. In fact, a good way to do this is to copy and paste the code inside of the function into a new cell, comment out all the lines of code and line by line, uncomment the code and see the output. "
      ]
    },
    {
      "cell_type": "code",
      "execution_count": 48,
      "metadata": {
        "id": "23No1SMKzGeC"
      },
      "outputs": [],
      "source": [
        "def get_topic_ids_for_docs(lda_model, corpus):\n",
        "    \n",
        "    \"\"\"\n",
        "    Passes a Bag-of-Words vector into a trained LDA model in order to get the topic id of that document. \n",
        "    \n",
        "    Parameters\n",
        "    ----------\n",
        "    lda_model: Gensim object\n",
        "        Must be a trained model \n",
        "        \n",
        "    corpus: nested lists of tuples, \n",
        "        i.e. [[(),(), ..., ()], [(),(), ..., ()], ..., [(),(), ..., ()]]\n",
        "        \n",
        "    Returns\n",
        "    -------\n",
        "    topic_id_list: list\n",
        "        Contains topic ids for all document vectors in corpus \n",
        "    \"\"\"\n",
        "    \n",
        "    # store topic ids for each document\n",
        "    doc_topic_ids = []\n",
        "\n",
        "    # iterature through the bow vectors for each doc\n",
        "    for doc_bow in corpus:\n",
        "        \n",
        "        # store the topic ids for the doc\n",
        "        topic_ids = []\n",
        "        # store the topic probabilities for the doc\n",
        "        topic_probs = []\n",
        "\n",
        "        # list of tuples\n",
        "        # each tuple has a topic id and the prob that the doc belongs to that topic \n",
        "        topic_id_prob_tuples = lda_trained_model.get_document_topics(doc_bow)\n",
        "        \n",
        "        # iterate through the topic id/prob pairs \n",
        "        for topic_id_prob in topic_id_prob_tuples:\n",
        "            \n",
        "            # index for topic id\n",
        "            topic_id = topic_id_prob[0]\n",
        "            # index for prob that doc belongs that the corresponding topic\n",
        "            topic_prob = topic_id_prob[1]\n",
        "\n",
        "            # store all topic ids for doc\n",
        "            topic_ids.append(topic_id)\n",
        "            # store all topic probs for doc\n",
        "            topic_probs.append(topic_prob)\n",
        "\n",
        "        # get the index for the topic that had the highest probability, for the current document \n",
        "        max_topic_prob_ind = np.argmax(topic_probs)\n",
        "        # get the corresponding topic id\n",
        "        max_prob_topic_id = topic_ids[max_topic_prob_ind]\n",
        "        # store the most probable topic id for the current document\n",
        "        doc_topic_ids.append(max_prob_topic_id)\n",
        "        \n",
        "    return doc_topic_ids"
      ]
    },
    {
      "cell_type": "code",
      "execution_count": 49,
      "metadata": {
        "deletable": false,
        "id": "gI94W2MvzGeD",
        "nbgrader": {
          "cell_type": "code",
          "checksum": "09f2b8ebaf696dc05187cecce8c9e251",
          "grade": false,
          "grade_id": "cell-e28e8774a79ac647",
          "locked": false,
          "schema_version": 3,
          "solution": true,
          "task": false
        }
      },
      "outputs": [],
      "source": [
        "# use get_topic_ids_for_docs to get the topic id for each doc in the corpus - save result to `doc_topic_ids`\n",
        "doc_topic_ids = get_topic_ids_for_docs(lda_trained_model, corpus)\n",
        "\n",
        "# create a new feature in df_electronics called topic_id using `doc_topic_ids`\n",
        "df_electronics['topic_id'] = doc_topic_ids\n",
        "\n",
        "# iterate through topic_id and use the lookup dict `topic_name_dict` to assign each document a topic name\n",
        "# save results to a new feature in df_electronics called `new_topic_name`\n",
        "df_electronics['new_topic_name'] = df_electronics['topic_id'].apply(lambda topic_id: topic_name_dict[topic_id])\n"
      ]
    },
    {
      "cell_type": "markdown",
      "metadata": {
        "id": "NZa4oKuIzGeD"
      },
      "source": [
        "## Congratulations! You have created new topic names for your documents. "
      ]
    },
    {
      "cell_type": "code",
      "execution_count": 50,
      "metadata": {
        "id": "kDVAZTa23xkF",
        "colab": {
          "base_uri": "https://localhost:8080/",
          "height": 520
        },
        "outputId": "0592a64d-f3e8-43b1-dadf-bb0c2456d792"
      },
      "outputs": [
        {
          "output_type": "execute_result",
          "data": {
            "text/plain": [
              "                                           reviews.text      new_topic_name  \\\n",
              "8343  Great case to keep everything in its place! My...           e-readers   \n",
              "8344  After discarding and getting rid of broken cd ...         smartphones   \n",
              "8345     A few dollars more, but I am boycotting amazon               gifts   \n",
              "8346  My initial impression of this was very good. T...         smartphones   \n",
              "8347  Pros: Standard Echo. Cons: Older generation Ec...         smartphones   \n",
              "8348  Pros: Got it for under 50, much impressive sou...  mobile accessories   \n",
              "8349  Pros: I love the Alexa series so when this one...       smart watches   \n",
              "8350  ASIDE FROM THE FACT THAT THE SCREEN IS SMALL, ...         smartphones   \n",
              "8351  I wasn't sure I even wanted this item, but cau...   phone accessories   \n",
              "8352  Pros: Works good like Alexia Cons: setting it ...             tablets   \n",
              "8353  Pros: Relatively easy to setup and works quite...             tablets   \n",
              "8354  Pros: I WOULD recommend anyone who was going t...         smartphones   \n",
              "8355  Pros: Allows you to cut your cable. With many ...      tv accessories   \n",
              "8356  Pros: I'm a subscriber to DirectTV Now! So i p...      tv accessories   \n",
              "8357  Pros: Very satisfied I am about buy online thi...      amazon tablets   \n",
              "\n",
              "      topic_id  \n",
              "8343         2  \n",
              "8344         9  \n",
              "8345         5  \n",
              "8346         9  \n",
              "8347         9  \n",
              "8348         8  \n",
              "8349         3  \n",
              "8350         9  \n",
              "8351         0  \n",
              "8352         7  \n",
              "8353         7  \n",
              "8354         9  \n",
              "8355        10  \n",
              "8356        10  \n",
              "8357         4  "
            ],
            "text/html": [
              "\n",
              "  <div id=\"df-08ecf37d-25fb-4456-a865-049cb0cce29d\">\n",
              "    <div class=\"colab-df-container\">\n",
              "      <div>\n",
              "<style scoped>\n",
              "    .dataframe tbody tr th:only-of-type {\n",
              "        vertical-align: middle;\n",
              "    }\n",
              "\n",
              "    .dataframe tbody tr th {\n",
              "        vertical-align: top;\n",
              "    }\n",
              "\n",
              "    .dataframe thead th {\n",
              "        text-align: right;\n",
              "    }\n",
              "</style>\n",
              "<table border=\"1\" class=\"dataframe\">\n",
              "  <thead>\n",
              "    <tr style=\"text-align: right;\">\n",
              "      <th></th>\n",
              "      <th>reviews.text</th>\n",
              "      <th>new_topic_name</th>\n",
              "      <th>topic_id</th>\n",
              "    </tr>\n",
              "  </thead>\n",
              "  <tbody>\n",
              "    <tr>\n",
              "      <th>8343</th>\n",
              "      <td>Great case to keep everything in its place! My...</td>\n",
              "      <td>e-readers</td>\n",
              "      <td>2</td>\n",
              "    </tr>\n",
              "    <tr>\n",
              "      <th>8344</th>\n",
              "      <td>After discarding and getting rid of broken cd ...</td>\n",
              "      <td>smartphones</td>\n",
              "      <td>9</td>\n",
              "    </tr>\n",
              "    <tr>\n",
              "      <th>8345</th>\n",
              "      <td>A few dollars more, but I am boycotting amazon</td>\n",
              "      <td>gifts</td>\n",
              "      <td>5</td>\n",
              "    </tr>\n",
              "    <tr>\n",
              "      <th>8346</th>\n",
              "      <td>My initial impression of this was very good. T...</td>\n",
              "      <td>smartphones</td>\n",
              "      <td>9</td>\n",
              "    </tr>\n",
              "    <tr>\n",
              "      <th>8347</th>\n",
              "      <td>Pros: Standard Echo. Cons: Older generation Ec...</td>\n",
              "      <td>smartphones</td>\n",
              "      <td>9</td>\n",
              "    </tr>\n",
              "    <tr>\n",
              "      <th>8348</th>\n",
              "      <td>Pros: Got it for under 50, much impressive sou...</td>\n",
              "      <td>mobile accessories</td>\n",
              "      <td>8</td>\n",
              "    </tr>\n",
              "    <tr>\n",
              "      <th>8349</th>\n",
              "      <td>Pros: I love the Alexa series so when this one...</td>\n",
              "      <td>smart watches</td>\n",
              "      <td>3</td>\n",
              "    </tr>\n",
              "    <tr>\n",
              "      <th>8350</th>\n",
              "      <td>ASIDE FROM THE FACT THAT THE SCREEN IS SMALL, ...</td>\n",
              "      <td>smartphones</td>\n",
              "      <td>9</td>\n",
              "    </tr>\n",
              "    <tr>\n",
              "      <th>8351</th>\n",
              "      <td>I wasn't sure I even wanted this item, but cau...</td>\n",
              "      <td>phone accessories</td>\n",
              "      <td>0</td>\n",
              "    </tr>\n",
              "    <tr>\n",
              "      <th>8352</th>\n",
              "      <td>Pros: Works good like Alexia Cons: setting it ...</td>\n",
              "      <td>tablets</td>\n",
              "      <td>7</td>\n",
              "    </tr>\n",
              "    <tr>\n",
              "      <th>8353</th>\n",
              "      <td>Pros: Relatively easy to setup and works quite...</td>\n",
              "      <td>tablets</td>\n",
              "      <td>7</td>\n",
              "    </tr>\n",
              "    <tr>\n",
              "      <th>8354</th>\n",
              "      <td>Pros: I WOULD recommend anyone who was going t...</td>\n",
              "      <td>smartphones</td>\n",
              "      <td>9</td>\n",
              "    </tr>\n",
              "    <tr>\n",
              "      <th>8355</th>\n",
              "      <td>Pros: Allows you to cut your cable. With many ...</td>\n",
              "      <td>tv accessories</td>\n",
              "      <td>10</td>\n",
              "    </tr>\n",
              "    <tr>\n",
              "      <th>8356</th>\n",
              "      <td>Pros: I'm a subscriber to DirectTV Now! So i p...</td>\n",
              "      <td>tv accessories</td>\n",
              "      <td>10</td>\n",
              "    </tr>\n",
              "    <tr>\n",
              "      <th>8357</th>\n",
              "      <td>Pros: Very satisfied I am about buy online thi...</td>\n",
              "      <td>amazon tablets</td>\n",
              "      <td>4</td>\n",
              "    </tr>\n",
              "  </tbody>\n",
              "</table>\n",
              "</div>\n",
              "      <button class=\"colab-df-convert\" onclick=\"convertToInteractive('df-08ecf37d-25fb-4456-a865-049cb0cce29d')\"\n",
              "              title=\"Convert this dataframe to an interactive table.\"\n",
              "              style=\"display:none;\">\n",
              "        \n",
              "  <svg xmlns=\"http://www.w3.org/2000/svg\" height=\"24px\"viewBox=\"0 0 24 24\"\n",
              "       width=\"24px\">\n",
              "    <path d=\"M0 0h24v24H0V0z\" fill=\"none\"/>\n",
              "    <path d=\"M18.56 5.44l.94 2.06.94-2.06 2.06-.94-2.06-.94-.94-2.06-.94 2.06-2.06.94zm-11 1L8.5 8.5l.94-2.06 2.06-.94-2.06-.94L8.5 2.5l-.94 2.06-2.06.94zm10 10l.94 2.06.94-2.06 2.06-.94-2.06-.94-.94-2.06-.94 2.06-2.06.94z\"/><path d=\"M17.41 7.96l-1.37-1.37c-.4-.4-.92-.59-1.43-.59-.52 0-1.04.2-1.43.59L10.3 9.45l-7.72 7.72c-.78.78-.78 2.05 0 2.83L4 21.41c.39.39.9.59 1.41.59.51 0 1.02-.2 1.41-.59l7.78-7.78 2.81-2.81c.8-.78.8-2.07 0-2.86zM5.41 20L4 18.59l7.72-7.72 1.47 1.35L5.41 20z\"/>\n",
              "  </svg>\n",
              "      </button>\n",
              "      \n",
              "  <style>\n",
              "    .colab-df-container {\n",
              "      display:flex;\n",
              "      flex-wrap:wrap;\n",
              "      gap: 12px;\n",
              "    }\n",
              "\n",
              "    .colab-df-convert {\n",
              "      background-color: #E8F0FE;\n",
              "      border: none;\n",
              "      border-radius: 50%;\n",
              "      cursor: pointer;\n",
              "      display: none;\n",
              "      fill: #1967D2;\n",
              "      height: 32px;\n",
              "      padding: 0 0 0 0;\n",
              "      width: 32px;\n",
              "    }\n",
              "\n",
              "    .colab-df-convert:hover {\n",
              "      background-color: #E2EBFA;\n",
              "      box-shadow: 0px 1px 2px rgba(60, 64, 67, 0.3), 0px 1px 3px 1px rgba(60, 64, 67, 0.15);\n",
              "      fill: #174EA6;\n",
              "    }\n",
              "\n",
              "    [theme=dark] .colab-df-convert {\n",
              "      background-color: #3B4455;\n",
              "      fill: #D2E3FC;\n",
              "    }\n",
              "\n",
              "    [theme=dark] .colab-df-convert:hover {\n",
              "      background-color: #434B5C;\n",
              "      box-shadow: 0px 1px 3px 1px rgba(0, 0, 0, 0.15);\n",
              "      filter: drop-shadow(0px 1px 2px rgba(0, 0, 0, 0.3));\n",
              "      fill: #FFFFFF;\n",
              "    }\n",
              "  </style>\n",
              "\n",
              "      <script>\n",
              "        const buttonEl =\n",
              "          document.querySelector('#df-08ecf37d-25fb-4456-a865-049cb0cce29d button.colab-df-convert');\n",
              "        buttonEl.style.display =\n",
              "          google.colab.kernel.accessAllowed ? 'block' : 'none';\n",
              "\n",
              "        async function convertToInteractive(key) {\n",
              "          const element = document.querySelector('#df-08ecf37d-25fb-4456-a865-049cb0cce29d');\n",
              "          const dataTable =\n",
              "            await google.colab.kernel.invokeFunction('convertToInteractive',\n",
              "                                                     [key], {});\n",
              "          if (!dataTable) return;\n",
              "\n",
              "          const docLinkHtml = 'Like what you see? Visit the ' +\n",
              "            '<a target=\"_blank\" href=https://colab.research.google.com/notebooks/data_table.ipynb>data table notebook</a>'\n",
              "            + ' to learn more about interactive tables.';\n",
              "          element.innerHTML = '';\n",
              "          dataTable['output_type'] = 'display_data';\n",
              "          await google.colab.output.renderOutput(dataTable, element);\n",
              "          const docLink = document.createElement('div');\n",
              "          docLink.innerHTML = docLinkHtml;\n",
              "          element.appendChild(docLink);\n",
              "        }\n",
              "      </script>\n",
              "    </div>\n",
              "  </div>\n",
              "  "
            ]
          },
          "metadata": {},
          "execution_count": 50
        }
      ],
      "source": [
        "cols = [\"reviews.text\", \"new_topic_name\", \"topic_id\"]\n",
        "df_electronics[cols].head(15)"
      ]
    },
    {
      "cell_type": "markdown",
      "metadata": {
        "id": "gkYnBihNzGeE"
      },
      "source": [
        "-----\n",
        "# Stretch Goals -- see if you can create a model to classify the reviews into the latent topics you've discovered!\n",
        "\n",
        "\n",
        "- Treat `topic_id` as the `y` (target) vector and train a supervised learning model to predict the topic of each document\n",
        "- Report your results on the Slack channel!"
      ]
    },
    {
      "cell_type": "markdown",
      "metadata": {
        "id": "eqY0KKxKQxbm"
      },
      "source": [
        "## Topic Modeling References\n"
      ]
    },
    {
      "cell_type": "markdown",
      "metadata": {
        "id": "iKhe7u4IXr0y"
      },
      "source": [
        "\n",
        "- [Topic Modeling with Gensim](https://www.tutorialspoint.com/gensim/gensim_topic_modeling.htm) -- Brief Tutorial\n",
        "\n",
        "- [Gensim documentation](https://radimrehurek.com/gensim/index.html) -- look up gensim commands\n",
        "\n",
        "- [`pyLDAvis` documentation](https://pyldavis.readthedocs.io/en/latest/readme.html) -- package for visualizing LDA models\n",
        "\n",
        "- [Visualizing Topic Models](https://speakerdeck.com/bmabey/visualizing-topic-models) -- slides from Ben Mabey\n",
        "\n",
        "- [Exploring the Space of Topic Coherence Measures](https://dl.acm.org/doi/10.1145/2684822.2685324) -- Study of Topic Coherence measures\n",
        "\n",
        "- [Exploring Topic Coherence over many models and many topics](https://www.researchgate.net/publication/232242203_Exploring_Topic_Coherence_over_many_models_and_many_topics) -- Study of automated topic coherence measures"
      ]
    }
  ],
  "metadata": {
    "accelerator": "GPU",
    "colab": {
      "collapsed_sections": [],
      "name": "DS_414_Topic_Modeling_Assignment.ipynb",
      "provenance": []
    },
    "kernelspec": {
      "display_name": "U4-S1-NLP (Python 3)",
      "language": "python",
      "name": "u4-s1-nlp"
    },
    "language_info": {
      "codemirror_mode": {
        "name": "ipython",
        "version": 3
      },
      "file_extension": ".py",
      "mimetype": "text/x-python",
      "name": "python",
      "nbconvert_exporter": "python",
      "pygments_lexer": "ipython3",
      "version": "3.7.13"
    }
  },
  "nbformat": 4,
  "nbformat_minor": 0
}